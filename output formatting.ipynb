{
 "cells": [
  {
   "cell_type": "code",
   "execution_count": 1,
   "id": "organized-technical",
   "metadata": {},
   "outputs": [
    {
     "name": "stdout",
     "output_type": "stream",
     "text": [
      "hello welcome to jupyter notebook\n"
     ]
    }
   ],
   "source": [
    "print('hello welcome to jupyter notebook')"
   ]
  },
  {
   "cell_type": "code",
   "execution_count": 1,
   "id": "south-breath",
   "metadata": {},
   "outputs": [
    {
     "name": "stdout",
     "output_type": "stream",
     "text": [
      "is working now\n"
     ]
    }
   ],
   "source": [
    "print('is working now')"
   ]
  },
  {
   "cell_type": "code",
   "execution_count": 1,
   "id": "opposed-stylus",
   "metadata": {},
   "outputs": [
    {
     "name": "stdout",
     "output_type": "stream",
     "text": [
      "again and again it is creating the problem while connecting to server and kernel\n"
     ]
    }
   ],
   "source": [
    "print('again and again it is creating the problem while connecting to server and kernel')"
   ]
  },
  {
   "cell_type": "code",
   "execution_count": null,
   "id": "hungarian-celebration",
   "metadata": {},
   "outputs": [],
   "source": []
  }
 ],
 "metadata": {
  "kernelspec": {
   "display_name": "Python 3",
   "language": "python",
   "name": "python3"
  },
  "language_info": {
   "codemirror_mode": {
    "name": "ipython",
    "version": 3
   },
   "file_extension": ".py",
   "mimetype": "text/x-python",
   "name": "python",
   "nbconvert_exporter": "python",
   "pygments_lexer": "ipython3",
   "version": "3.7.10"
  }
 },
 "nbformat": 4,
 "nbformat_minor": 5
}
