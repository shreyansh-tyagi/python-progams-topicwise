{
 "cells": [
  {
   "cell_type": "markdown",
   "metadata": {},
   "source": [
    "# dictionaries "
   ]
  },
  {
   "cell_type": "code",
   "execution_count": null,
   "metadata": {},
   "outputs": [],
   "source": [
    "# In dictionary we define any type of data\n",
    "#it takes key for indexing purpose and value to store at that key\n",
    "# it is defined within curly braces{}\n",
    "#indexing and slicing cannot be done because we can access the item using key and value"
   ]
  },
  {
   "cell_type": "code",
   "execution_count": 1,
   "metadata": {},
   "outputs": [
    {
     "name": "stdout",
     "output_type": "stream",
     "text": [
      "<class 'dict'>\n"
     ]
    }
   ],
   "source": [
    "#empty dictionay\n",
    "dict1={}\n",
    "print(type(dict1))"
   ]
  },
  {
   "cell_type": "code",
   "execution_count": 5,
   "metadata": {},
   "outputs": [
    {
     "name": "stdout",
     "output_type": "stream",
     "text": [
      "{1: 'shrey', 2: 3.04, 3: 'john'}\n"
     ]
    }
   ],
   "source": [
    "#integer key\n",
    "dict2={1:'shrey',2:3.04 , 3:'john'}  #1 is key and shrey is value\n",
    "print(dict2)   #here the key is only in integer type "
   ]
  },
  {
   "cell_type": "code",
   "execution_count": 6,
   "metadata": {},
   "outputs": [
    {
     "name": "stdout",
     "output_type": "stream",
     "text": [
      "{1: 'shreyansh', 2: 3.045, 'name': 'john', 'a': [1, 2, 3]}\n"
     ]
    }
   ],
   "source": [
    "#mixed key\n",
    "dict3={1:'shreyansh', 2:3.045, 'name':'john', 'a':[1,2,3]} \n",
    "print(dict3) #here the key in mixed type (int,float,char,string,list)"
   ]
  },
  {
   "cell_type": "code",
   "execution_count": 12,
   "metadata": {},
   "outputs": [
    {
     "name": "stdout",
     "output_type": "stream",
     "text": [
      "{1: 'apple', 2: 'ball', 'name': 'john', 3.04: 'float'}\n"
     ]
    }
   ],
   "source": [
    "#paring\n",
    "dict4=dict([(1,'apple'),(2,'ball'),('name','john'),(3.04,'float')]) #must enclosed with tuple() and then list[]\n",
    "                                         #data should be defined inside tuple nothing but paranthesis()\n",
    "                                         #must be used with dict keyword\n",
    "print(dict4)"
   ]
  },
  {
   "cell_type": "code",
   "execution_count": 16,
   "metadata": {},
   "outputs": [
    {
     "name": "stdout",
     "output_type": "stream",
     "text": [
      "{'name': 'shrey', 2: 75, 'roll number': 15}\n"
     ]
    }
   ],
   "source": [
    "a=dict({('name','shrey'),('roll number',15),(2,75)})\n",
    "print(a)"
   ]
  },
  {
   "cell_type": "code",
   "execution_count": 17,
   "metadata": {},
   "outputs": [
    {
     "name": "stdout",
     "output_type": "stream",
     "text": [
      "{1: 2, 2: 'max', 3: 30000.45}\n"
     ]
    }
   ],
   "source": [
    "b={1:2,2:'max',3:30000.45}\n",
    "print(b)"
   ]
  },
  {
   "cell_type": "code",
   "execution_count": 18,
   "metadata": {},
   "outputs": [
    {
     "name": "stdout",
     "output_type": "stream",
     "text": [
      "{1: 'shreyansh', 2: 3.045, 'name': 'john', 'a': [1, 2, 3]}\n"
     ]
    }
   ],
   "source": [
    "print(dict3)"
   ]
  },
  {
   "cell_type": "code",
   "execution_count": 19,
   "metadata": {},
   "outputs": [
    {
     "data": {
      "text/plain": [
       "'shreyansh'"
      ]
     },
     "execution_count": 19,
     "metadata": {},
     "output_type": "execute_result"
    }
   ],
   "source": [
    "#accessing dictionary items by using key not index and in return it will give the value at that particular key\n",
    "dict3[1]"
   ]
  },
  {
   "cell_type": "code",
   "execution_count": 20,
   "metadata": {},
   "outputs": [
    {
     "data": {
      "text/plain": [
       "'john'"
      ]
     },
     "execution_count": 20,
     "metadata": {},
     "output_type": "execute_result"
    }
   ],
   "source": [
    "dict3['name'] #here name is the key ,which is defined inside dictionary"
   ]
  },
  {
   "cell_type": "code",
   "execution_count": 21,
   "metadata": {},
   "outputs": [
    {
     "data": {
      "text/plain": [
       "[1, 2, 3]"
      ]
     },
     "execution_count": 21,
     "metadata": {},
     "output_type": "execute_result"
    }
   ],
   "source": [
    "dict3['a']"
   ]
  },
  {
   "cell_type": "code",
   "execution_count": 26,
   "metadata": {},
   "outputs": [
    {
     "data": {
      "text/plain": [
       "4"
      ]
     },
     "execution_count": 26,
     "metadata": {},
     "output_type": "execute_result"
    }
   ],
   "source": [
    "#length function is used to find the length of dictionary which start from 1 to n\n",
    "en(dict3)"
   ]
  },
  {
   "cell_type": "code",
   "execution_count": 28,
   "metadata": {},
   "outputs": [
    {
     "data": {
      "text/plain": [
       "3"
      ]
     },
     "execution_count": 28,
     "metadata": {},
     "output_type": "execute_result"
    }
   ],
   "source": [
    "len(b)\n",
    "len(a)"
   ]
  },
  {
   "cell_type": "code",
   "execution_count": 29,
   "metadata": {},
   "outputs": [
    {
     "data": {
      "text/plain": [
       "3"
      ]
     },
     "execution_count": 29,
     "metadata": {},
     "output_type": "execute_result"
    }
   ],
   "source": [
    "len(a)"
   ]
  },
  {
   "cell_type": "code",
   "execution_count": 37,
   "metadata": {},
   "outputs": [
    {
     "name": "stdout",
     "output_type": "stream",
     "text": [
      "{1: 'shrey', 2: 3.04, 3: 'john'}\n"
     ]
    }
   ],
   "source": [
    "print(dict2)\n"
   ]
  },
  {
   "cell_type": "code",
   "execution_count": 38,
   "metadata": {},
   "outputs": [
    {
     "data": {
      "text/plain": [
       "5"
      ]
     },
     "execution_count": 38,
     "metadata": {},
     "output_type": "execute_result"
    }
   ],
   "source": [
    "d={1:2,2:'st','name':'shrey',4:'john',3.04:'float'}\n",
    "len(d)"
   ]
  },
  {
   "cell_type": "code",
   "execution_count": 51,
   "metadata": {},
   "outputs": [
    {
     "data": {
      "text/plain": [
       "dict_keys([1, 2, 'name', 4, 3.04])"
      ]
     },
     "execution_count": 51,
     "metadata": {},
     "output_type": "execute_result"
    }
   ],
   "source": [
    "#keys function\n",
    "d.keys()  #must use s after key, it should be keys not key, otherwise it will give error"
   ]
  },
  {
   "cell_type": "code",
   "execution_count": 52,
   "metadata": {},
   "outputs": [
    {
     "data": {
      "text/plain": [
       "dict_values([2, 'st', 'shrey', 'john', 'float'])"
      ]
     },
     "execution_count": 52,
     "metadata": {},
     "output_type": "execute_result"
    }
   ],
   "source": [
    "#value function\n",
    "d.values()  #must use s after value, it should be values not value, otherwise it will give error  "
   ]
  },
  {
   "cell_type": "markdown",
   "metadata": {},
   "source": [
    "# sets"
   ]
  },
  {
   "cell_type": "code",
   "execution_count": null,
   "metadata": {},
   "outputs": [],
   "source": [
    "#it unordered collection of items\n",
    "#must define within curly braces{}\n",
    "#it doesn't include keys along with it only values.\n",
    "#all type of datatype can be stored "
   ]
  },
  {
   "cell_type": "code",
   "execution_count": 53,
   "metadata": {},
   "outputs": [
    {
     "name": "stdout",
     "output_type": "stream",
     "text": [
      "{1, 2, 3, 'john', 3.88, 'b'}\n"
     ]
    }
   ],
   "source": [
    "#creating sets\n",
    "a={1,2,3,'b','john',3.88}\n",
    "print(a)"
   ]
  },
  {
   "cell_type": "code",
   "execution_count": 54,
   "metadata": {},
   "outputs": [
    {
     "name": "stdout",
     "output_type": "stream",
     "text": [
      "<class 'set'>\n"
     ]
    }
   ],
   "source": [
    "print(type(a))"
   ]
  },
  {
   "cell_type": "code",
   "execution_count": 58,
   "metadata": {},
   "outputs": [
    {
     "data": {
      "text/plain": [
       "{1, 2, 3, 3.04, 5, 'b', 'f', 'j', 'john', 'shrey'}"
      ]
     },
     "execution_count": 58,
     "metadata": {},
     "output_type": "execute_result"
    }
   ],
   "source": [
    "#union:- it will give all the value from both set but without repetation\n",
    "s1={1,2,'b','f','shrey',3.04,5,3}\n",
    "s2={1,2,'j','john','b',3.04,5}\n",
    "s1|s2   #vertical bar(|) is used for finding union\n",
    "#it will give output in a ordered way"
   ]
  },
  {
   "cell_type": "code",
   "execution_count": 59,
   "metadata": {},
   "outputs": [
    {
     "data": {
      "text/plain": [
       "{1, 2, 3.04, 5, 'b'}"
      ]
     },
     "execution_count": 59,
     "metadata": {},
     "output_type": "execute_result"
    }
   ],
   "source": [
    "#intersection:- it will give common elements which is present in both sets\n",
    "s1={1,2,'b','f','shrey',3.04,5,3}\n",
    "s2={1,2,'j','john','b',3.04,5}\n",
    "s1&s2  #ampersand(&)is used to find intersection"
   ]
  },
  {
   "cell_type": "code",
   "execution_count": 60,
   "metadata": {},
   "outputs": [
    {
     "data": {
      "text/plain": [
       "{3, 'f', 'shrey'}"
      ]
     },
     "execution_count": 60,
     "metadata": {},
     "output_type": "execute_result"
    }
   ],
   "source": [
    "#Difference:- it will ignore or ommits the common value and give the unique value from set A only not from B\n",
    "s1={1,2,'b','f','shrey',3.04,5,3}\n",
    "s2={1,2,'j','john','b',3.04,5}\n",
    "s1-s2 #hyphen(-) is used for finding differnce\n",
    "# as from output it is clearly noticed that 1,2,b,3.04,5 is common in both sets and also j and john is unique \n",
    "#in set B but it will be ignored an only take the unique value present in set A that is f,shrey,3"
   ]
  },
  {
   "cell_type": "code",
   "execution_count": 15,
   "metadata": {},
   "outputs": [
    {
     "name": "stdout",
     "output_type": "stream",
     "text": [
      "83.0\n",
      "dict_values([78, 86, 78, 90])\n",
      "dict_keys(['maths', 'english', 'sceince', 'computer'])\n"
     ]
    }
   ],
   "source": [
    "a={'maths':78,'english':86,'sceince':78,'computer':90}\n",
    "def calculate(a):\n",
    "    sum=0\n",
    "    for i in a.values():\n",
    "        sum+=i\n",
    "    b=sum/len(a)\n",
    "    print(b)\n",
    "    print(a.values())\n",
    "    print(a.keys())\n",
    "calculate(a)    "
   ]
  },
  {
   "cell_type": "code",
   "execution_count": 24,
   "metadata": {},
   "outputs": [
    {
     "name": "stdout",
     "output_type": "stream",
     "text": [
      "shrey tyagu\n",
      "shreynahs absb\n",
      "sasj jsn\n",
      "{'shrey': 'tyagu', 'shreynahs': 'absb', 'sasj': 'jsn'}\n"
     ]
    }
   ],
   "source": [
    "n = 3\n",
    "d = dict(input().split() for _ in range(n))\n",
    "print (d)"
   ]
  },
  {
   "cell_type": "code",
   "execution_count": 33,
   "metadata": {},
   "outputs": [
    {
     "name": "stdout",
     "output_type": "stream",
     "text": [
      "enter the value: 4\n",
      "shrey tyagi\n",
      "age 21\n",
      "college kiet\n",
      "gf no\n",
      "{'shrey': 'tyagi', 'age': '21', 'college': 'kiet', 'gf': 'no'}\n"
     ]
    }
   ],
   "source": [
    "n = int(input('enter the value: '))\n",
    "d = dict(input().split() for i in range(n))\n",
    "print (d)"
   ]
  },
  {
   "cell_type": "code",
   "execution_count": 37,
   "metadata": {},
   "outputs": [
    {
     "name": "stdout",
     "output_type": "stream",
     "text": [
      "entre the value: 2\n",
      "m 10\n",
      "e 10\n",
      "10.0\n"
     ]
    }
   ],
   "source": [
    "n=int(input('entre the value: '))\n",
    "d=dict(input().split() for i in range(n))\n",
    "def calculate(a):\n",
    "    sum=0\n",
    "    for i in a.values():\n",
    "        sum+=int(i)\n",
    "    b=sum/len(d)\n",
    "    print(b)\n",
    "calculate(d)    "
   ]
  },
  {
   "cell_type": "code",
   "execution_count": 3,
   "metadata": {},
   "outputs": [
    {
     "name": "stdout",
     "output_type": "stream",
     "text": [
      "entre the value: 3\n",
      "10 maths\n",
      "20 english\n",
      "30 computer\n",
      "20.0\n"
     ]
    }
   ],
   "source": [
    "n=int(input('entre the value: '))\n",
    "d=dict(input().split() for i in range(n))\n",
    "def calculate(a):\n",
    "    sum=0\n",
    "    for i in a.keys():\n",
    "        sum+=int(i)\n",
    "    b=sum/len(d)\n",
    "    print(b)\n",
    "calculate(d)    "
   ]
  },
  {
   "cell_type": "code",
   "execution_count": 14,
   "metadata": {},
   "outputs": [
    {
     "name": "stdout",
     "output_type": "stream",
     "text": [
      "entre the value: 5\n",
      "c 95\n",
      "python 90\n",
      "sql 100\n",
      "git 100\n",
      "oops 10\n",
      "395\n",
      "79.0\n",
      "{'c': '95', 'python': '90', 'sql': '100', 'git': '100', 'oops': '10'}\n"
     ]
    }
   ],
   "source": [
    "n=int(input('entre the value: '))\n",
    "d=dict(input().split() for i in range(n))\n",
    "def calculate(a):\n",
    "    sum=0\n",
    "    for i,j in a.items():\n",
    "        sum+=int(j)\n",
    "    print(sum)    \n",
    "    b=sum/len(d)   \n",
    "    print(b)\n",
    "    print(d) \n",
    "calculate(d)    "
   ]
  },
  {
   "cell_type": "code",
   "execution_count": 2,
   "metadata": {},
   "outputs": [
    {
     "name": "stdout",
     "output_type": "stream",
     "text": [
      "{1, 4, 6, 7, 8}\n",
      "{1, 4, 6, 7, 8}\n"
     ]
    }
   ],
   "source": [
    "#x1.symmetric_difference(x2)\n",
    "a={1,2,3,4,5}\n",
    "b={2,3,5,6,7,8} #return all the values either in a or in b except commom values\n",
    "print(a^b)\n",
    "print(a.symmetric_difference(b))"
   ]
  },
  {
   "cell_type": "code",
   "execution_count": 4,
   "metadata": {},
   "outputs": [
    {
     "name": "stdout",
     "output_type": "stream",
     "text": [
      "False\n",
      "True\n"
     ]
    }
   ],
   "source": [
    "# x1.isdisjoint(x2)\n",
    "a={1,2,3,4,5}\n",
    "b={2,3,5,6,7,8}\n",
    "c={9,10,11}\n",
    "print(a.isdisjoint(b))  #if no value is common then give true otherwise false\n",
    "print(b.isdisjoint(c))"
   ]
  },
  {
   "cell_type": "code",
   "execution_count": 6,
   "metadata": {},
   "outputs": [
    {
     "name": "stdout",
     "output_type": "stream",
     "text": [
      "False\n",
      "True\n"
     ]
    }
   ],
   "source": [
    "# x1.issubset(x2)\n",
    "a={1,2,3,4,5}\n",
    "b={2,3,5,}\n",
    "print(a.issubset(b))\n",
    "print(b.issubset(a)) # subset is when all element of set a is in set b"
   ]
  },
  {
   "cell_type": "code",
   "execution_count": null,
   "metadata": {},
   "outputs": [],
   "source": [
    "# x1.issuperset(x2)\n",
    "a={1,2,3,4,5}\n",
    "b={2,3,5,6,7}"
   ]
  }
 ],
 "metadata": {
  "kernelspec": {
   "display_name": "Python 3",
   "language": "python",
   "name": "python3"
  },
  "language_info": {
   "codemirror_mode": {
    "name": "ipython",
    "version": 3
   },
   "file_extension": ".py",
   "mimetype": "text/x-python",
   "name": "python",
   "nbconvert_exporter": "python",
   "pygments_lexer": "ipython3",
   "version": "3.7.10"
  }
 },
 "nbformat": 4,
 "nbformat_minor": 4
}
