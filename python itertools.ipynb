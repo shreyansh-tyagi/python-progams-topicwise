{
 "cells": [
  {
   "cell_type": "markdown",
   "id": "555a4708",
   "metadata": {},
   "source": [
    "# Python itertools"
   ]
  },
  {
   "cell_type": "code",
   "execution_count": 13,
   "id": "09c83c1e",
   "metadata": {},
   "outputs": [
    {
     "name": "stdout",
     "output_type": "stream",
     "text": [
      "enter the size of list: 3\n",
      "enter the element into the list: 3 21 2\n",
      "enter the element into another list: 1 2 3\n",
      "result after multiply the list through map function and operator module:  3 42 6\n",
      "time taken by map function is 0.000083\n",
      "result after multiply the list through for loop\n",
      "3 42 6 \n",
      "time taken by for loop is 0.000539\n"
     ]
    }
   ],
   "source": [
    "import operator\n",
    "import time\n",
    "n=int(input('enter the size of list: '))\n",
    "a,b=list(map(int,input('enter the element into the list: ').split()))[:n],list(map(int,input('enter the element into another list: ').split()))[:n]\n",
    "t1=time.time()\n",
    "c,d,e=map(operator.mul,a,b)\n",
    "t2=time.time()\n",
    "print(\"result after multiply the list through map function and operator module: \",c,d,e)\n",
    "print(\"time taken by map function is %.6f\" %(t2-t1))\n",
    "t1=time.time()\n",
    "print(\"result after multiply the list through for loop\")\n",
    "for i in range(n):\n",
    "    print(a[i]*b[i],end=' ')\n",
    "t2=time.time() \n",
    "print(\"\\ntime taken by for loop is %.6f\" %(t2-t1))    \n",
    "\n"
   ]
  },
  {
   "cell_type": "code",
   "execution_count": null,
   "id": "b4ba79d1",
   "metadata": {},
   "outputs": [],
   "source": []
  }
 ],
 "metadata": {
  "kernelspec": {
   "display_name": "Python 3",
   "language": "python",
   "name": "python3"
  },
  "language_info": {
   "codemirror_mode": {
    "name": "ipython",
    "version": 3
   },
   "file_extension": ".py",
   "mimetype": "text/x-python",
   "name": "python",
   "nbconvert_exporter": "python",
   "pygments_lexer": "ipython3",
   "version": "3.7.10"
  }
 },
 "nbformat": 4,
 "nbformat_minor": 5
}
