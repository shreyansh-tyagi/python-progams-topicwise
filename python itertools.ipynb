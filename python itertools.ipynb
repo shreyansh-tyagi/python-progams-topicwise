{
 "cells": [
  {
   "cell_type": "markdown",
   "id": "38b32f12",
   "metadata": {},
   "source": [
    "# Python itertools"
   ]
  },
  {
   "cell_type": "code",
   "execution_count": 13,
   "id": "6d08538b",
   "metadata": {},
   "outputs": [
    {
     "name": "stdout",
     "output_type": "stream",
     "text": [
      "enter the size of list: 3\n",
      "enter the element into the list: 3 21 2\n",
      "enter the element into another list: 1 2 3\n",
      "result after multiply the list through map function and operator module:  3 42 6\n",
      "time taken by map function is 0.000083\n",
      "result after multiply the list through for loop\n",
      "3 42 6 \n",
      "time taken by for loop is 0.000539\n"
     ]
    }
   ],
   "source": [
    "import operator\n",
    "import time\n",
    "n=int(input('enter the size of list: '))\n",
    "a,b=list(map(int,input('enter the element into the list: ').split()))[:n],list(map(int,input('enter the element into another list: ').split()))[:n]\n",
    "t1=time.time()\n",
    "c,d,e=map(operator.mul,a,b)\n",
    "t2=time.time()\n",
    "print(\"result after multiply the list through map function and operator module: \",c,d,e)\n",
    "print(\"time taken by map function is: %.6f\" %(t2-t1))\n",
    "t1=time.time()\n",
    "print(\"result after multiply the list through for loop\")\n",
    "for i in range(n):\n",
    "    print(a[i]*b[i],end=' ')\n",
    "t2=time.time() \n",
    "print(\"\\ntime taken by for loop is: %.6f\" %(t2-t1))    \n",
    "\n"
   ]
  },
  {
   "cell_type": "code",
   "execution_count": null,
   "id": "c8000588",
   "metadata": {},
   "outputs": [],
   "source": [
    "# strong number\n",
    "# enter any number : 17\n",
    "# iteration will be infinte \n",
    "# array will contain items till 17=[1,2,3,4,5,6,7,8,9,10,11,12,13,14,15,16,17]\n",
    "# 1st iteration delete 2nd element=[1,3,5,7,9,11,13,15,17]\n",
    "# 2nd iteration delete 3rd element=[1,3,7,9,13,15]\n",
    "# 3rd iteration delete 4th element \n",
    "n=int(input(\"enter the number: \"))"
   ]
  }
 ],
 "metadata": {
  "kernelspec": {
   "display_name": "Python 3",
   "language": "python",
   "name": "python3"
  },
  "language_info": {
   "codemirror_mode": {
    "name": "ipython",
    "version": 3
   },
   "file_extension": ".py",
   "mimetype": "text/x-python",
   "name": "python",
   "nbconvert_exporter": "python",
   "pygments_lexer": "ipython3",
   "version": "3.7.10"
  }
 },
 "nbformat": 4,
 "nbformat_minor": 5
}
