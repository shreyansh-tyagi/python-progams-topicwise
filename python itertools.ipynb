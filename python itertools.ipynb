{
 "cells": [
  {
   "cell_type": "markdown",
   "id": "94409db6",
   "metadata": {},
   "source": [
    "# Python itertools"
   ]
  },
  {
   "cell_type": "code",
   "execution_count": null,
   "id": "2ce04bf9",
   "metadata": {},
   "outputs": [],
   "source": [
    "n=int(input('enter the size of list: '))\n",
    "a,b=list(map(int,input('enter the element into the list: ').split()))"
   ]
  }
 ],
 "metadata": {
  "kernelspec": {
   "display_name": "Python 3",
   "language": "python",
   "name": "python3"
  },
  "language_info": {
   "codemirror_mode": {
    "name": "ipython",
    "version": 3
   },
   "file_extension": ".py",
   "mimetype": "text/x-python",
   "name": "python",
   "nbconvert_exporter": "python",
   "pygments_lexer": "ipython3",
   "version": "3.7.10"
  }
 },
 "nbformat": 4,
 "nbformat_minor": 5
}
