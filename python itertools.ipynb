{
 "cells": [
  {
   "cell_type": "markdown",
   "id": "e7514d83",
   "metadata": {},
   "source": [
    "# Python itertools"
   ]
  },
  {
   "cell_type": "code",
   "execution_count": null,
   "id": "26caeba1",
   "metadata": {},
   "outputs": [],
   "source": [
    "import operator\n",
    "import time\n",
    "n=int(input('enter the size of list: '))\n",
    "a,b=list(map(int,input('enter the element into the list: ').split()))[:n]\n",
    "t1=time.time()\n",
    "c=[]\n",
    "c.append(map(operator.mul,a,b))\n",
    "print(\"result after multiply the list: \",c)\n",
    "print(\"time taked\")\n",
    "\n"
   ]
  }
 ],
 "metadata": {
  "kernelspec": {
   "display_name": "Python 3",
   "language": "python",
   "name": "python3"
  },
  "language_info": {
   "codemirror_mode": {
    "name": "ipython",
    "version": 3
   },
   "file_extension": ".py",
   "mimetype": "text/x-python",
   "name": "python",
   "nbconvert_exporter": "python",
   "pygments_lexer": "ipython3",
   "version": "3.7.10"
  }
 },
 "nbformat": 4,
 "nbformat_minor": 5
}
