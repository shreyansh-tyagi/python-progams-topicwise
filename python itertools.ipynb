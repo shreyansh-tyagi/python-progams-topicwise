{
 "cells": [
  {
   "cell_type": "markdown",
   "id": "38b32f12",
   "metadata": {},
   "source": [
    "# Python itertools"
   ]
  },
  {
   "cell_type": "code",
   "execution_count": 13,
   "id": "6d08538b",
   "metadata": {},
   "outputs": [
    {
     "name": "stdout",
     "output_type": "stream",
     "text": [
      "enter the size of list: 3\n",
      "enter the element into the list: 3 21 2\n",
      "enter the element into another list: 1 2 3\n",
      "result after multiply the list through map function and operator module:  3 42 6\n",
      "time taken by map function is 0.000083\n",
      "result after multiply the list through for loop\n",
      "3 42 6 \n",
      "time taken by for loop is 0.000539\n"
     ]
    }
   ],
   "source": [
    "import operator\n",
    "import time\n",
    "n=int(input('enter the size of list: '))\n",
    "a,b=list(map(int,input('enter the element into the list: ').split()))[:n],list(map(int,input('enter the element into another list: ').split()))[:n]\n",
    "t1=time.time()\n",
    "c,d,e=map(operator.mul,a,b)\n",
    "t2=time.time()\n",
    "print(\"result after multiply the list through map function and operator module: \",c,d,e)\n",
    "print(\"time taken by map function is: %.6f\" %(t2-t1))\n",
    "t1=time.time()\n",
    "print(\"result after multiply the list through for loop\")\n",
    "for i in range(n):\n",
    "    print(a[i]*b[i],end=' ')\n",
    "t2=time.time() \n",
    "print(\"\\ntime taken by for loop is: %.6f\" %(t2-t1))    \n",
    "\n"
   ]
  },
  {
   "cell_type": "code",
   "execution_count": 1,
   "id": "c8000588",
   "metadata": {},
   "outputs": [
    {
     "name": "stdout",
     "output_type": "stream",
     "text": [
      "enter the number: 5\n",
      "list is:\n",
      " [1, 2, 3, 4, 5]\n"
     ]
    },
    {
     "ename": "IndexError",
     "evalue": "pop index out of range",
     "output_type": "error",
     "traceback": [
      "\u001b[0;31m---------------------------------------------------------------------------\u001b[0m",
      "\u001b[0;31mIndexError\u001b[0m                                Traceback (most recent call last)",
      "\u001b[0;32m<ipython-input-1-fed955766132>\u001b[0m in \u001b[0;36m<module>\u001b[0;34m\u001b[0m\n\u001b[1;32m     19\u001b[0m     \u001b[0mi\u001b[0m\u001b[0;34m=\u001b[0m\u001b[0;36m2\u001b[0m\u001b[0;34m\u001b[0m\u001b[0;34m\u001b[0m\u001b[0m\n\u001b[1;32m     20\u001b[0m     \u001b[0;32mwhile\u001b[0m\u001b[0;34m(\u001b[0m\u001b[0;32mTrue\u001b[0m\u001b[0;34m)\u001b[0m\u001b[0;34m:\u001b[0m\u001b[0;34m\u001b[0m\u001b[0;34m\u001b[0m\u001b[0m\n\u001b[0;32m---> 21\u001b[0;31m         \u001b[0ma\u001b[0m\u001b[0;34m.\u001b[0m\u001b[0mpop\u001b[0m\u001b[0;34m(\u001b[0m\u001b[0mi\u001b[0m\u001b[0;34m)\u001b[0m\u001b[0;34m\u001b[0m\u001b[0;34m\u001b[0m\u001b[0m\n\u001b[0m\u001b[1;32m     22\u001b[0m         \u001b[0mi\u001b[0m\u001b[0;34m+=\u001b[0m\u001b[0;36m2\u001b[0m\u001b[0;34m\u001b[0m\u001b[0;34m\u001b[0m\u001b[0m\n\u001b[1;32m     23\u001b[0m \u001b[0;34m\u001b[0m\u001b[0m\n",
      "\u001b[0;31mIndexError\u001b[0m: pop index out of range"
     ]
    }
   ],
   "source": [
    "# strong number\n",
    "# enter any number : 17\n",
    "# iteration will be infinte \n",
    "# array will contain items till 17=[1,2,3,4,5,6,7,8,9,10,11,12,13,14,15,16,17]\n",
    "# 1st iteration delete 2nd element=[1,3,5,7,9,11,13,15,17]\n",
    "# 2nd iteration delete 3rd element=[1,3,7,9,13,15]\n",
    "# 3rd iteration delete 4th element=[1,3,7,13,15]\n",
    "# 4th iteration delete 5th element=[1,3,7,13]\n",
    "# 5th iteration delete 6th element=[1,3,7,13]\n",
    "# hence the strong number till 17 are 1,3,7,13\n",
    "# now find the list of strong number till 100 when number of iteration are infinte\n",
    "# if the entered number is strong number then print 'yes' otherwise 'no'\n",
    "n=int(input(\"enter the number: \"))\n",
    "a=[]\n",
    "for i in range(1,n+1):\n",
    "    a.append(i)\n",
    "print('list is:\\n',a) \n",
    "while(True):\n",
    "    i=2\n",
    "    while(True):\n",
    "        a.pop(i)\n",
    "        i+=2\n",
    "    \n",
    "print(a)\n",
    "    "
   ]
  },
  {
   "cell_type": "markdown",
   "id": "17c93026",
   "metadata": {},
   "source": [
    "## Types of itertools:\n",
    "### a) infinite iterators: There are three types of infinite iterator\n",
    "####  -- count(start,step) \n",
    "####  --cycle(iterable)\n",
    "####  --repeat(var,num)"
   ]
  },
  {
   "cell_type": "code",
   "execution_count": 3,
   "id": "ba47b3f2",
   "metadata": {},
   "outputs": [
    {
     "name": "stdout",
     "output_type": "stream",
     "text": [
      "5 10 15 20 25 30 35 40 45 "
     ]
    }
   ],
   "source": [
    "import itertools\n",
    "for i in itertools.count(5,5):\n",
    "    if i==50:\n",
    "        break\n",
    "    else:\n",
    "        print(i,end=' ')"
   ]
  },
  {
   "cell_type": "code",
   "execution_count": null,
   "id": "f23a05ea",
   "metadata": {},
   "outputs": [],
   "source": [
    "import iter"
   ]
  }
 ],
 "metadata": {
  "kernelspec": {
   "display_name": "Python 3",
   "language": "python",
   "name": "python3"
  },
  "language_info": {
   "codemirror_mode": {
    "name": "ipython",
    "version": 3
   },
   "file_extension": ".py",
   "mimetype": "text/x-python",
   "name": "python",
   "nbconvert_exporter": "python",
   "pygments_lexer": "ipython3",
   "version": "3.7.10"
  }
 },
 "nbformat": 4,
 "nbformat_minor": 5
}
