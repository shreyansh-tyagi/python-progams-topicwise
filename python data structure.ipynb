{
 "cells": [
  {
   "cell_type": "markdown",
   "id": "9c85e017",
   "metadata": {},
   "source": [
    "# linked list in python using oops by manually adding the nodes "
   ]
  },
  {
   "cell_type": "code",
   "execution_count": 11,
   "id": "968206ec",
   "metadata": {},
   "outputs": [
    {
     "name": "stdout",
     "output_type": "stream",
     "text": [
      "100\n",
      "200\n",
      "300\n",
      "500\n"
     ]
    }
   ],
   "source": [
    "class Node:\n",
    "    def __init__(self,data):\n",
    "        self.data=data\n",
    "        self.next=None \n",
    "class Linked_list:\n",
    "    def __init__(self):\n",
    "        self.head=None\n",
    "    def printlist(self):\n",
    "        temp=self.head\n",
    "        while(temp):\n",
    "            print(temp.data)\n",
    "            temp=temp.next\n",
    "obj_linked_list=Linked_list()\n",
    "obj_linked_list.head=Node(100)\n",
    "second=Node(200)\n",
    "third=Node(300)\n",
    "fourth=Node(500)\n",
    "obj_linked_list.head.next=second\n",
    "second.next=third\n",
    "third.next=fourth\n",
    "obj_linked_list.printlist()"
   ]
  },
  {
   "cell_type": "markdown",
   "id": "e6786abf",
   "metadata": {},
   "source": [
    "# creation of linked list by entering the size of linked list"
   ]
  },
  {
   "cell_type": "code",
   "execution_count": 16,
   "id": "141ff668",
   "metadata": {},
   "outputs": [
    {
     "name": "stdout",
     "output_type": "stream",
     "text": [
      "enter the size of linked list: 5\n",
      "enter the element: 34\n",
      "enter the element: 12\n",
      "enter the element: 23\n",
      "enter the element: 11\n",
      "enter the element: 32\n",
      "\n",
      "linked list is : \n",
      "\n",
      "34 12 23 11 32 "
     ]
    }
   ],
   "source": [
    "class Node1:\n",
    "    def __init__(self,data1):\n",
    "        self.d=data1\n",
    "        self.next1=None\n",
    "class Linkedlist:\n",
    "    def __init__(self):\n",
    "        self.root=None\n",
    "    def printit(self,tmp):\n",
    "        print('\\nlinked list is : \\n')\n",
    "        while(tmp):\n",
    "            print(tmp.d,end=' ')\n",
    "            tmp=tmp.next1        \n",
    "            \n",
    "obj=Linkedlist() \n",
    "a=int(input(\"enter the size of linked list: \"))\n",
    "obj.root=Node1(int(input('enter the element: ')))\n",
    "tmp=obj.root\n",
    "\n",
    "for i in range(a-1):\n",
    "    sec=Node1(int(input('enter the element: ')))\n",
    "    obj.root.next1=sec\n",
    "    obj.root=obj.root.next1\n",
    "obj.printit(tmp)        "
   ]
  },
  {
   "cell_type": "markdown",
   "id": "126a115f",
   "metadata": {},
   "source": [
    "# add the node in the beginning"
   ]
  },
  {
   "cell_type": "code",
   "execution_count": 1,
   "id": "04cf013d",
   "metadata": {},
   "outputs": [
    {
     "name": "stdout",
     "output_type": "stream",
     "text": [
      "enter the size of linked list: 5\n",
      "enter the element into linked list: 1\n",
      "enter the element into linked list: 2\n",
      "enter the element into linked list: 3\n",
      "enter the element into linked list: 4\n",
      "enter the element into linked list: 5\n",
      "\n",
      "linked list:\n",
      "\n",
      "1 2 3 4 5 \n",
      "enter the new element that you want to insert at the begining: 100\n",
      "\n",
      "after insert at begining:\n",
      "\n",
      "100 1 2 3 4 5 "
     ]
    }
   ],
   "source": [
    "class Node2:\n",
    "    def __init__(self,data):\n",
    "        self.data=data\n",
    "        self.next=None\n",
    "class Linked_at_begin:\n",
    "    def __init__(self):\n",
    "        self.root=None\n",
    "    def printl(self,temp):\n",
    "        print('\\nlinked list:\\n')\n",
    "        while(temp):\n",
    "            print(temp.data,end=' ')\n",
    "            temp=temp.next\n",
    "    def insert_at_begin(self,b):\n",
    "        print('\\nafter insert at begining:\\n')\n",
    "        while(b):\n",
    "            print(b.data,end=' ')\n",
    "            b=b.next\n",
    "    \n",
    "obj=Linked_at_begin()\n",
    "a=int(input('enter the size of linked list: '))\n",
    "obj.root=Node2(int(input('enter the element into linked list: ')))\n",
    "temp=obj.root\n",
    "for i in range(a-1):\n",
    "    sec=Node2(int(input('enter the element into linked list: ')))\n",
    "    obj.root.next=sec\n",
    "    obj.root=obj.root.next\n",
    "obj.printl(temp)    \n",
    "b=Node2(int(input('\\nenter the new element that you want to insert at the begining: ')))\n",
    "b.next=temp\n",
    "obj.insert_at_begin(b)\n",
    "        "
   ]
  },
  {
   "cell_type": "markdown",
   "id": "b7887dd7",
   "metadata": {},
   "source": [
    "# linked list insertion at the end "
   ]
  },
  {
   "cell_type": "code",
   "execution_count": 5,
   "id": "964cc5a7",
   "metadata": {},
   "outputs": [
    {
     "name": "stdout",
     "output_type": "stream",
     "text": [
      "enter the size of linked list: 5\n",
      "enter the element into the linked list: 1\n",
      "enter the element into the linked list: 2\n",
      "enter the element into the linked list: 3\n",
      "enter the element into the linked list: 4\n",
      "enter the element into the linked list: 5\n",
      "\n",
      "linked  list :\n",
      "\n",
      "1 2 3 4 5 \n",
      "enter the element that you want to insert at the end: 100\n",
      "\n",
      "linked list after insertion at end: \n",
      "1 2 3 4 5 100 "
     ]
    }
   ],
   "source": [
    "class node:\n",
    "    \n",
    "    def __init__(self,data):\n",
    "        self.data=data\n",
    "        self.next=None\n",
    "        \n",
    "class linkedlist:\n",
    "    def __init__(self):\n",
    "        self.root=None\n",
    "        \n",
    "    def printlist(self,temp):\n",
    "        print('\\nlinked  list :\\n')\n",
    "        while(temp):\n",
    "            print(temp.data,end=' ')\n",
    "            temp=temp.next\n",
    "            \n",
    "    def insert_at_end(self,temp):\n",
    "        print('\\nlinked list after insertion at end: ')\n",
    "        while(temp):\n",
    "            print(temp.data,end=' ')\n",
    "            temp=temp.next\n",
    "            \n",
    "        \n",
    "obj=linkedlist()\n",
    "a=int(input('enter the size of linked list: '))\n",
    "obj.root=node(int(input('enter the element into the linked list: ')))\n",
    "temp=obj.root\n",
    "for i in range(a-1):\n",
    "    b=node(int(input('enter the element into the linked list: ')))\n",
    "    obj.root.next=b\n",
    "    obj.root=obj.root.next\n",
    "obj.printlist(temp) \n",
    "c=node(int(input('\\nenter the element that you want to insert at the end: ')))\n",
    "obj.root.next=c\n",
    "obj.insert_at_end(temp)"
   ]
  },
  {
   "cell_type": "markdown",
   "id": "9732bd52",
   "metadata": {},
   "source": [
    "# linked list insertion at both begin and end"
   ]
  },
  {
   "cell_type": "code",
   "execution_count": 6,
   "id": "2a3188f7",
   "metadata": {},
   "outputs": [
    {
     "name": "stdout",
     "output_type": "stream",
     "text": [
      "enter the size of linked list: 5\n",
      "enter the element into the linked list: 1\n",
      "enter the element into the linked list: 2\n",
      "enter the element into the linked list: 3\n",
      "enter the element into the linked list: 4\n",
      "enter the element into the linked list: 5\n",
      "\n",
      "linked  list :\n",
      "\n",
      "1 2 3 4 5 \n",
      "enter the element that you want to insert at the begin: 112\n",
      "\n",
      "linked list after insertion at begin: \n",
      "112 1 2 3 4 5 \n",
      "enter the element that you want to insert at the end: 113\n",
      "\n",
      "linked list after insertion at end: \n",
      "1 2 3 4 5 113 \n",
      "linked list after insertion of both: \n",
      "112 1 2 3 4 5 113 "
     ]
    }
   ],
   "source": [
    "class node:\n",
    "    \n",
    "    def __init__(self,data):\n",
    "        self.data=data\n",
    "        self.next=None\n",
    "        \n",
    "class linkedlist:\n",
    "    def __init__(self):\n",
    "        self.root=None\n",
    "        \n",
    "    def printlist(self,temp):\n",
    "        print('\\nlinked  list :\\n')\n",
    "        while(temp):\n",
    "            print(temp.data,end=' ')\n",
    "            temp=temp.next\n",
    "            \n",
    "    def insert_at_begin(self,d):\n",
    "        print('\\nlinked list after insertion at begin: ')\n",
    "        while(d):\n",
    "            print(d.data,end=' ')\n",
    "            d=d.next\n",
    "            \n",
    "    def insert_at_end(self,temp):\n",
    "        print('\\nlinked list after insertion at end: ')\n",
    "        while(temp):\n",
    "            print(temp.data,end=' ')\n",
    "            temp=temp.next\n",
    "            \n",
    "    def insert_at_both(self,d):\n",
    "        print('\\nlinked list after insertion of both: ')\n",
    "        while(d):\n",
    "            print(d.data,end=' ')\n",
    "            d=d.next\n",
    "    \n",
    "obj=linkedlist()\n",
    "a=int(input('enter the size of linked list: '))\n",
    "obj.root=node(int(input('enter the element into the linked list: ')))\n",
    "temp=obj.root\n",
    "for i in range(a-1):\n",
    "    b=node(int(input('enter the element into the linked list: ')))\n",
    "    obj.root.next=b\n",
    "    obj.root=obj.root.next\n",
    "obj.printlist(temp) \n",
    "d=node(int(input('\\nenter the element that you want to insert at the begin: ')))\n",
    "d.next=temp\n",
    "obj.insert_at_begin(d) \n",
    "c=node(int(input('\\nenter the element that you want to insert at the end: ')))\n",
    "obj.root.next=c\n",
    "obj.insert_at_end(temp)\n",
    "obj.insert_at_both(d) "
   ]
  },
  {
   "cell_type": "code",
   "execution_count": null,
   "id": "1dd62236",
   "metadata": {},
   "outputs": [],
   "source": []
  }
 ],
 "metadata": {
  "kernelspec": {
   "display_name": "Python 3",
   "language": "python",
   "name": "python3"
  },
  "language_info": {
   "codemirror_mode": {
    "name": "ipython",
    "version": 3
   },
   "file_extension": ".py",
   "mimetype": "text/x-python",
   "name": "python",
   "nbconvert_exporter": "python",
   "pygments_lexer": "ipython3",
   "version": "3.7.10"
  }
 },
 "nbformat": 4,
 "nbformat_minor": 5
}
