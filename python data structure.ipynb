{
 "cells": [
  {
   "cell_type": "markdown",
   "id": "9c85e017",
   "metadata": {},
   "source": [
    "# linked list in python using oops by manually adding the nodes "
   ]
  },
  {
   "cell_type": "code",
   "execution_count": 11,
   "id": "968206ec",
   "metadata": {},
   "outputs": [
    {
     "name": "stdout",
     "output_type": "stream",
     "text": [
      "100\n",
      "200\n",
      "300\n",
      "500\n"
     ]
    }
   ],
   "source": [
    "class Node:\n",
    "    def __init__(self,data):\n",
    "        self.data=data\n",
    "        self.next=None \n",
    "class Linked_list:\n",
    "    def __init__(self):\n",
    "        self.head=None\n",
    "    def printlist(self):\n",
    "        temp=self.head\n",
    "        while(temp):\n",
    "            print(temp.data)\n",
    "            temp=temp.next\n",
    "obj_linked_list=Linked_list()\n",
    "obj_linked_list.head=Node(100)\n",
    "second=Node(200)\n",
    "third=Node(300)\n",
    "fourth=Node(500)\n",
    "obj_linked_list.head.next=second\n",
    "second.next=third\n",
    "third.next=fourth\n",
    "obj_linked_list.printlist()"
   ]
  },
  {
   "cell_type": "markdown",
   "id": "ae648d0e",
   "metadata": {},
   "source": [
    "# creation of linked list by entering the size of linked list"
   ]
  },
  {
   "cell_type": "code",
   "execution_count": 16,
   "id": "141ff668",
   "metadata": {},
   "outputs": [
    {
     "name": "stdout",
     "output_type": "stream",
     "text": [
      "enter the size of linked list: 5\n",
      "enter the element: 34\n",
      "enter the element: 12\n",
      "enter the element: 23\n",
      "enter the element: 11\n",
      "enter the element: 32\n",
      "\n",
      "linked list is : \n",
      "\n",
      "34 12 23 11 32 "
     ]
    }
   ],
   "source": [
    "class Node1:\n",
    "    def __init__(self,data1):\n",
    "        self.d=data1\n",
    "        self.next1=None\n",
    "class Linkedlist:\n",
    "    def __init__(self):\n",
    "        self.root=None\n",
    "    def printit(self,tmp):\n",
    "        print('\\nlinked list is : \\n')\n",
    "        while(tmp):\n",
    "            print(tmp.d,end=' ')\n",
    "            tmp=tmp.next1        \n",
    "            \n",
    "obj=Linkedlist() \n",
    "a=int(input(\"enter the size of linked list: \"))\n",
    "obj.root=Node1(int(input('enter the element: ')))\n",
    "tmp=obj.root\n",
    "\n",
    "for i in range(a-1):\n",
    "    sec=Node1(int(input('enter the element: ')))\n",
    "    obj.root.next1=sec\n",
    "    obj.root=obj.root.next1\n",
    "obj.printit(tmp)        "
   ]
  },
  {
   "cell_type": "markdown",
   "id": "0aff4401",
   "metadata": {},
   "source": [
    "# add the node in the beginning"
   ]
  },
  {
   "cell_type": "code",
   "execution_count": 23,
   "id": "04cf013d",
   "metadata": {},
   "outputs": [
    {
     "ename": "SyntaxError",
     "evalue": "invalid syntax (<ipython-input-23-d1e34d3bfd3e>, line 9)",
     "output_type": "error",
     "traceback": [
      "\u001b[0;36m  File \u001b[0;32m\"<ipython-input-23-d1e34d3bfd3e>\"\u001b[0;36m, line \u001b[0;32m9\u001b[0m\n\u001b[0;31m    while(temp1:)\u001b[0m\n\u001b[0m               ^\u001b[0m\n\u001b[0;31mSyntaxError\u001b[0m\u001b[0;31m:\u001b[0m invalid syntax\n"
     ]
    }
   ],
   "source": [
    "class Node2:\n",
    "    def __init__(self,data):\n",
    "        self.data2=data\n",
    "        self.next2=None\n",
    "class Linked_at_begin:\n",
    "    def __init__(self):\n",
    "        self.root2=None\n",
    "    def printl1(self,temp1):\n",
    "        while(temp1):\n",
    "            print(temp1.data2,end=' ')\n",
    "            temp1=temp1.next2\n",
    "    \n",
    "obj=Linked_at_begin()\n",
    "a=int(input('enter the size of linked list: '))\n",
    "obj.root2=Node2(int(input('enter the element into linked list: ')))\n",
    "temp1=obj.root2\n",
    "for i in range(a-1):\n",
    "    sec2=Node2(int(input('enter the element into linked list: ')))\n",
    "    obj.root2.next2=sec2\n",
    "    obj.root2=obj.root2.next2\n",
    "obj.printl1(temp1)    \n",
    "\n",
    "        "
   ]
  },
  {
   "cell_type": "code",
   "execution_count": null,
   "id": "97e7a221",
   "metadata": {},
   "outputs": [],
   "source": []
  }
 ],
 "metadata": {
  "kernelspec": {
   "display_name": "Python 3",
   "language": "python",
   "name": "python3"
  },
  "language_info": {
   "codemirror_mode": {
    "name": "ipython",
    "version": 3
   },
   "file_extension": ".py",
   "mimetype": "text/x-python",
   "name": "python",
   "nbconvert_exporter": "python",
   "pygments_lexer": "ipython3",
   "version": "3.7.10"
  }
 },
 "nbformat": 4,
 "nbformat_minor": 5
}
