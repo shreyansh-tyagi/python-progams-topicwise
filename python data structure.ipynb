{
 "cells": [
  {
   "cell_type": "markdown",
   "id": "00b7be35",
   "metadata": {},
   "source": [
    "# linked list in python using oops "
   ]
  },
  {
   "cell_type": "code",
   "execution_count": 2,
   "id": "313fd07c",
   "metadata": {},
   "outputs": [],
   "source": [
    "class Node:\n",
    "    def __init__(self,data):\n",
    "        self.data=data\n",
    "        self.next=None \n",
    "class Linked_list:\n",
    "    def __init__(self):\n",
    "        self.head=None\n",
    "    def printlist(self):\n",
    "        temp=self.head\n",
    "        while(temp):\n",
    "            temp=temp.next\n",
    "            print(temp.data)\n",
    "obj_linked_list=Linked_list()\n",
    "obj_linked_list.head=Node(100)\n",
    "second=Node(200)\n",
    "third=Node(300)\n",
    "fourth=Node(500)\n",
    "obj_linked_list.head.next=second\n",
    "second.next=third\n",
    "third.next=fourth\n"
   ]
  },
  {
   "cell_type": "code",
   "execution_count": null,
   "id": "124fd59c",
   "metadata": {},
   "outputs": [],
   "source": []
  }
 ],
 "metadata": {
  "kernelspec": {
   "display_name": "Python 3",
   "language": "python",
   "name": "python3"
  },
  "language_info": {
   "codemirror_mode": {
    "name": "ipython",
    "version": 3
   },
   "file_extension": ".py",
   "mimetype": "text/x-python",
   "name": "python",
   "nbconvert_exporter": "python",
   "pygments_lexer": "ipython3",
   "version": "3.7.10"
  }
 },
 "nbformat": 4,
 "nbformat_minor": 5
}
