{
 "cells": [
  {
   "cell_type": "markdown",
   "id": "8ff4bf0a",
   "metadata": {},
   "source": [
    "# linked list in python using oops "
   ]
  },
  {
   "cell_type": "code",
   "execution_count": null,
   "id": "977b3030",
   "metadata": {},
   "outputs": [],
   "source": [
    "class Node:\n",
    "    def __init__(self,data):\n",
    "        self.data=data\n",
    "        self.next=None \n",
    "class Linked_list:\n",
    "    def __init__(self):\n",
    "        self.head=None\n",
    "obj_linked_list=Linked_list()\n",
    "obj_linked_"
   ]
  }
 ],
 "metadata": {
  "kernelspec": {
   "display_name": "Python 3",
   "language": "python",
   "name": "python3"
  },
  "language_info": {
   "codemirror_mode": {
    "name": "ipython",
    "version": 3
   },
   "file_extension": ".py",
   "mimetype": "text/x-python",
   "name": "python",
   "nbconvert_exporter": "python",
   "pygments_lexer": "ipython3",
   "version": "3.7.10"
  }
 },
 "nbformat": 4,
 "nbformat_minor": 5
}
