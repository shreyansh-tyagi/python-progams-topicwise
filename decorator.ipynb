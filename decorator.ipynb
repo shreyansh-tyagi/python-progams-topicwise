{
 "cells": [
  {
   "cell_type": "code",
   "execution_count": null,
   "id": "occupational-evanescence",
   "metadata": {},
   "outputs": [],
   "source": [
    "def func1(func):\n",
    "    def wrapper(*args,**kwargs):\n",
    "        print('started')\n",
    "        a=func(*args,**kwargs)\n",
    "        print('ended')\n",
    "        return a\n",
    "    return wrapper\n",
    "def f(a,b):\n",
    "    if int(a)+int(b)%2==0:\n",
    "        print(f'{a+b} is even')\n",
    "    else:\n",
    "        print(f')"
   ]
  }
 ],
 "metadata": {
  "kernelspec": {
   "display_name": "Python 3",
   "language": "python",
   "name": "python3"
  },
  "language_info": {
   "codemirror_mode": {
    "name": "ipython",
    "version": 3
   },
   "file_extension": ".py",
   "mimetype": "text/x-python",
   "name": "python",
   "nbconvert_exporter": "python",
   "pygments_lexer": "ipython3",
   "version": "3.7.10"
  }
 },
 "nbformat": 4,
 "nbformat_minor": 5
}
