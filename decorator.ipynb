{
 "cells": [
  {
   "cell_type": "code",
   "execution_count": 5,
   "id": "occupational-evanescence",
   "metadata": {},
   "outputs": [
    {
     "name": "stdout",
     "output_type": "stream",
     "text": [
      "enter the number: 2 4\n",
      "started\n",
      "6 is odd\n",
      "ended\n"
     ]
    }
   ],
   "source": [
    "def func1(func):\n",
    "    def wrapper(*args,**kwargs):\n",
    "        print('started')\n",
    "        a=func(*args,**kwargs)\n",
    "        print('ended')\n",
    "        return a\n",
    "    return wrapper\n",
    "@func1  #decorator declared with the same name as the function\n",
    "def f(a,b):\n",
    "    if int(a)+int(b)%2==0:\n",
    "        print(f'{a+b} is even')\n",
    "    else:\n",
    "        print(f'{a+b} is odd')\n",
    "a,b=map(int,input('enter the number: ').split())\n",
    "f(a,b) # x= func1(f)   # decorator called \n",
    "       # x(a,b)  \n",
    "              "
   ]
  },
  {
   "cell_type": "code",
   "execution_count": null,
   "id": "classical-tissue",
   "metadata": {},
   "outputs": [],
   "source": [
    "def func1(func):\n",
    "    def wrapper(*args,**kwargs):\n",
    "        print('f1 started')\n",
    "        a=func(*args,**kwargs)\n",
    "        print('f1 ended')\n",
    "        return a\n",
    "    return wrapper\n",
    "def func2(func):\n",
    "    def wrapper(*args,**kwargs):\n",
    "        print('f2 started')\n",
    "        a=func(*args,**kwargs)\n",
    "        print('f2 ended')\n",
    "        return a\n",
    "    return wrapper\n",
    "\n",
    "@func1  #decorator declared with the same name as the function\n",
    "def f(a,b):\n",
    "    if int(a)+int(b)%2==0:\n",
    "        print(f'{a+b} is even')\n",
    "    else:\n",
    "        print(f'{a+b} is odd')\n",
    "a,b=map(int,input('enter the number: ').split())\n",
    "f(a,b)\n",
    "@func2\n",
    "def f1(a,b,c,d):\n",
    "    print(f'sum is: {a+b+c+d}')\n",
    "a,b,c,    "
   ]
  }
 ],
 "metadata": {
  "kernelspec": {
   "display_name": "Python 3",
   "language": "python",
   "name": "python3"
  },
  "language_info": {
   "codemirror_mode": {
    "name": "ipython",
    "version": 3
   },
   "file_extension": ".py",
   "mimetype": "text/x-python",
   "name": "python",
   "nbconvert_exporter": "python",
   "pygments_lexer": "ipython3",
   "version": "3.7.10"
  }
 },
 "nbformat": 4,
 "nbformat_minor": 5
}
