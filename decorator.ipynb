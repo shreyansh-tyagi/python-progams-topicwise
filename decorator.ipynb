{
 "cells": [
  {
   "cell_type": "code",
   "execution_count": 5,
   "id": "occupational-evanescence",
   "metadata": {},
   "outputs": [
    {
     "name": "stdout",
     "output_type": "stream",
     "text": [
      "enter the number: 2 4\n",
      "started\n",
      "6 is odd\n",
      "ended\n"
     ]
    }
   ],
   "source": [
    "def func1(func):\n",
    "    def wrapper(*args,**kwargs):\n",
    "        print('started')\n",
    "        a=func(*args,**kwargs)\n",
    "        print('ended')\n",
    "        return a\n",
    "    return wrapper\n",
    "@func1  #decorator declared with the same name as the function\n",
    "def f(a,b):\n",
    "    if int(a)+int(b)%2==0:\n",
    "        print(f'{a+b} is even')\n",
    "    else:\n",
    "        print(f'{a+b} is odd')\n",
    "a,b=map(int,input('enter the number: ').split())\n",
    "f(a,b) # x= func1(f)   # decorator called \n",
    "       # x(a,b)  \n",
    "              "
   ]
  },
  {
   "cell_type": "code",
   "execution_count": 3,
   "id": "ancient-working",
   "metadata": {},
   "outputs": [
    {
     "name": "stdout",
     "output_type": "stream",
     "text": [
      "enter two number: 2 3\n",
      "f started\n",
      "5 is odd\n",
      "f ended\n",
      "enter four value : 1 2 3 4\n",
      "f1 started\n",
      "sum is: 10\n",
      "f1 ended\n"
     ]
    }
   ],
   "source": [
    "def func1(func):\n",
    "    def wrapper(*args,**kwargs):\n",
    "        print('f started')\n",
    "        a=func(*args,**kwargs)\n",
    "        print('f ended')\n",
    "        return a\n",
    "    return wrapper\n",
    "def func2(func):\n",
    "    def wrapper(*args,**kwargs):\n",
    "        print('f1 started')\n",
    "        a=func(*args,**kwargs)\n",
    "        print('f1 ended')\n",
    "        return a\n",
    "    return wrapper\n",
    "\n",
    "@func1  #decorator declared with the same name as the function\n",
    "def f(a,b):\n",
    "    if int(a)+int(b)%2==0:\n",
    "        print(f'{a+b} is even')\n",
    "    else:\n",
    "        print(f'{a+b} is odd')\n",
    "a,b=map(int,input('enter two number: ').split())\n",
    "f(a,b)\n",
    "@func2  #decorator for the func2\n",
    "def f1(a,b,c,d):\n",
    "    print(f'sum is: {a+b+c+d}')\n",
    "a,b,c,d=map(int,input('enter four value : ').split())\n",
    "f1(a,b,c,d)"
   ]
  },
  {
   "cell_type": "code",
   "execution_count": 10,
   "id": "stable-calendar",
   "metadata": {},
   "outputs": [
    {
     "name": "stdout",
     "output_type": "stream",
     "text": [
      "enter two  value: 2 3\n",
      "5\n",
      "False\n"
     ]
    }
   ],
   "source": [
    "# lambda function demonstration\n",
    "a,b=map(int,input('enter two  value: ').split())\n",
    "x=lambda a,b : a%b==0\n",
    "y=lambda a,b: a+b\n",
    "print(y(a,b))    \n",
    "print(x(a,b))"
   ]
  },
  {
   "cell_type": "code",
   "execution_count": 31,
   "id": "agricultural-small",
   "metadata": {},
   "outputs": [
    {
     "name": "stdout",
     "output_type": "stream",
     "text": [
      "enter three number: 2 3 4\n",
      "sum of 2,3,4 is 9 which is odd\n"
     ]
    }
   ],
   "source": [
    "# ternary operator demonstration\n",
    "a,b,c=map(int,input('enter three number: ').split())\n",
    "print(f'sum of {a},{b},{c} is {a+b+c} which is even')if((a+b+c)%2==0) else \\\n",
    "print(f'sum of {a},{b},{c} is {a+b+c} which is odd')"
   ]
  },
  {
   "cell_type": "code",
   "execution_count": 42,
   "id": "strategic-discount",
   "metadata": {},
   "outputs": [
    {
     "name": "stdout",
     "output_type": "stream",
     "text": [
      "enter two  value: 4 3\n",
      "false\n"
     ]
    }
   ],
   "source": [
    "a,b=map(int,input('enter two  value: ').split())\n",
    "print(('false','true')[a<b])"
   ]
  },
  {
   "cell_type": "code",
   "execution_count": null,
   "id": "through-angola",
   "metadata": {},
   "outputs": [],
   "source": []
  }
 ],
 "metadata": {
  "kernelspec": {
   "display_name": "Python 3",
   "language": "python",
   "name": "python3"
  },
  "language_info": {
   "codemirror_mode": {
    "name": "ipython",
    "version": 3
   },
   "file_extension": ".py",
   "mimetype": "text/x-python",
   "name": "python",
   "nbconvert_exporter": "python",
   "pygments_lexer": "ipython3",
   "version": "3.7.10"
  }
 },
 "nbformat": 4,
 "nbformat_minor": 5
}
