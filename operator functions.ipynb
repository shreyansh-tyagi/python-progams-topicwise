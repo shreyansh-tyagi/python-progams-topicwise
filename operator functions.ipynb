{
 "cells": [
  {
   "cell_type": "code",
   "execution_count": 1,
   "id": "legislative-desert",
   "metadata": {},
   "outputs": [
    {
     "name": "stdout",
     "output_type": "stream",
     "text": [
      "enter two number: 1 2\n",
      "addition: 3\n",
      "subtraction: -1\n",
      "division: 0.5\n",
      "multiply: 2\n",
      "power: 1\n",
      "floordivision: 0\n",
      "modulus: 1\n",
      "1 less than 2 True\n",
      "1 is equal to 2 False\n",
      "1 is less equal to 2 True\n",
      "1 is greater than 2 False\n",
      "1 is greater than equal to 2 False\n",
      "1 is not equal to 2 True\n"
     ]
    }
   ],
   "source": [
    "import operator\n",
    "a,b=map(int,input('enter two number: ').split())\n",
    "print('addition:',operator.add(a,b))\n",
    "print('subtraction:',operator.sub(a,b))\n",
    "print('division:',operator.truediv(a,b))\n",
    "print('multiply:',operator.mul(a,b))\n",
    "print('power:',operator.pow(a,b))\n",
    "print('floordivision:',operator.floordiv(a,b))\n",
    "print('modulus:',operator.mod(a,b))\n",
    "print(f'{a} less than {b}',operator.lt(a,b))\n",
    "print(f'{a} is equal to {b}',operator.eq(a,b))\n",
    "print(f'{a} is less equal to {b}',operator.le(a,b))\n",
    "print(f'{a} is greater than {b}',operator.gt(a,b))\n",
    "print(f'{a} is greater than equal to {b}',operator.ge(a,b))\n",
    "print(f'{a} is not equal to {b}',operator.ne(a,b))"
   ]
  },
  {
   "cell_type": "code",
   "execution_count": 3,
   "id": "blind-wallet",
   "metadata": {},
   "outputs": [
    {
     "name": "stdout",
     "output_type": "stream",
     "text": [
      "enter the length of list: 5\n",
      "enter the value into the list: 1 2 4 4 5\n",
      "list:  [1, 2, 4, 4, 5]\n",
      "enter the new value to insert: 10\n",
      "enter the position you want to insert: 9\n",
      "9th position out of range\n",
      "after replacing value with new value 10:  [1, 2, 4, 4, 5]\n"
     ]
    }
   ],
   "source": [
    "#insertion using operator function\n",
    "# setitem(list_name,position,value)\n",
    "import operator\n",
    "length_of_list=int(input('enter the length of list: '))\n",
    "list_name=list(map(int,input('enter the value into the list: ').split()))[:length_of_list]\n",
    "print('list: ',list_name)\n",
    "value=int(input('enter the new value to insert: '))\n",
    "position=int(input('enter the position you want to insert: '))\n",
    "if(position<=length_of_list):\n",
    "    operator.setitem(list_name,position-1,value)\n",
    "else:\n",
    "    print(f'{position}th position out of range')\n",
    "print(f'after replacing value with new value {value}: ',list_name)"
   ]
  },
  {
   "cell_type": "code",
   "execution_count": 11,
   "id": "guilty-finder",
   "metadata": {},
   "outputs": [
    {
     "name": "stdout",
     "output_type": "stream",
     "text": [
      "enter the size of list: 5\n",
      "enter the element into the list: 1 2 100 3 4\n",
      "list:  [1, 2, 100, 3, 4]\n",
      "enter the position from where you want to delete the item: 3\n",
      "after deletion list:  [1, 2, 3, 4]\n"
     ]
    }
   ],
   "source": [
    "# deletion using operator function\n",
    "import operator\n",
    "n=int(input('enter the size of list: '))\n",
    "a=list(map(int,input('enter the element into the list: ').split()))[:n]\n",
    "print('list: ',a)\n",
    "b=int(input('enter the position from where you want to delete the item: '))\n",
    "if(b<=n):\n",
    "    operator.delitem(a,b-1)\n",
    "else:\n",
    "    print(f'{b}th position is out of range')\n",
    "print(f'after deletion list: ',a)       \n"
   ]
  },
  {
   "cell_type": "code",
   "execution_count": 2,
   "id": "considered-adaptation",
   "metadata": {},
   "outputs": [
    {
     "name": "stdout",
     "output_type": "stream",
     "text": [
      "enter the size of list: 5\n",
      "enter the element into the list: 1 2 3 100 4\n",
      "enter the position to select the element: 4\n",
      "selected item : 100\n"
     ]
    }
   ],
   "source": [
    "# selection of element from list\n",
    "import operator\n",
    "n=int(input('enter the size of list: '))\n",
    "a=list(map(int,input('enter the element into the list: ').split()))[:n]\n",
    "b=int(input('enter the position to select the element: '))\n",
    "if(b<=n):\n",
    "     c=operator.getitem(a,b-1)\n",
    "else:\n",
    "    print(f'{b}th position out of range')\n",
    "print(f'selected item :',c)    "
   ]
  },
  {
   "cell_type": "code",
   "execution_count": 11,
   "id": "specific-spouse",
   "metadata": {},
   "outputs": [
    {
     "name": "stdout",
     "output_type": "stream",
     "text": [
      "enter the size of list: 5\n",
      "enter the element into the list: 1 2 3 4 5\n",
      "list: [1, 2, 3, 4, 5]\n",
      "enter the size of new list: 4\n",
      "enter the position from where you want to insert the list: 3\n",
      "enter the element into the new list: 11 22 33 44\n",
      "new list: [11, 22, 33, 44]\n",
      "after insertion of [11, 22, 33, 44] list into existing list is: [1, 2, 11, 22, 33, 44]\n"
     ]
    }
   ],
   "source": [
    "#insertion of another list into existing list\n",
    "import operator\n",
    "n=int(input('enter the size of list: '))\n",
    "a=list(map(int,input('enter the element into the list: ').split()))[:n]\n",
    "print('list:',a)\n",
    "e=int(input('enter the size of new list: '))\n",
    "b=int(input('enter the position from where you want to insert the list: '))\n",
    "d=list(map(int,input('enter the element into the new list: ').split()))[:e]\n",
    "print('new list:',d)\n",
    "if(b<=n):\n",
    "    operator.setitem(a,slice(b-1,b+e),d)\n",
    "else:\n",
    "    print(f'{b}th position out of range')\n",
    "print(f'after insertion of {d} list into existing list is:',a)    "
   ]
  },
  {
   "cell_type": "code",
   "execution_count": null,
   "id": "theoretical-receiver",
   "metadata": {},
   "outputs": [],
   "source": []
  }
 ],
 "metadata": {
  "kernelspec": {
   "display_name": "Python 3",
   "language": "python",
   "name": "python3"
  },
  "language_info": {
   "codemirror_mode": {
    "name": "ipython",
    "version": 3
   },
   "file_extension": ".py",
   "mimetype": "text/x-python",
   "name": "python",
   "nbconvert_exporter": "python",
   "pygments_lexer": "ipython3",
   "version": "3.7.10"
  }
 },
 "nbformat": 4,
 "nbformat_minor": 5
}
