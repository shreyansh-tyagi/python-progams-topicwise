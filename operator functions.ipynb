{
 "cells": [
  {
   "cell_type": "code",
   "execution_count": 1,
   "id": "informative-display",
   "metadata": {},
   "outputs": [
    {
     "name": "stdout",
     "output_type": "stream",
     "text": [
      "enter two number: 1 2\n",
      "addition: 3\n",
      "subtraction: -1\n",
      "division: 0.5\n",
      "multiply: 2\n",
      "power: 1\n",
      "floordivision: 0\n",
      "modulus: 1\n",
      "1 less than 2 True\n",
      "1 is equal to 2 False\n",
      "1 is less equal to 2 True\n",
      "1 is greater than 2 False\n",
      "1 is greater than equal to 2 False\n",
      "1 is not equal to 2 True\n"
     ]
    }
   ],
   "source": [
    "import operator\n",
    "a,b=map(int,input('enter two number: ').split())\n",
    "print('addition:',operator.add(a,b))\n",
    "print('subtraction:',operator.sub(a,b))\n",
    "print('division:',operator.truediv(a,b))\n",
    "print('multiply:',operator.mul(a,b))\n",
    "print('power:',operator.pow(a,b))\n",
    "print('floordivision:',operator.floordiv(a,b))\n",
    "print('modulus:',operator.mod(a,b))\n",
    "print(f'{a} less than {b}',operator.lt(a,b))\n",
    "print(f'{a} is equal to {b}',operator.eq(a,b))\n",
    "print(f'{a} is less equal to {b}',operator.le(a,b))\n",
    "print(f'{a} is greater than {b}',operator.gt(a,b))\n",
    "print(f'{a} is greater than equal to {b}',operator.ge(a,b))\n",
    "print(f'{a} is not equal to {b}',operator.ne(a,b))"
   ]
  },
  {
   "cell_type": "code",
   "execution_count": 8,
   "id": "brutal-queue",
   "metadata": {},
   "outputs": [
    {
     "name": "stdout",
     "output_type": "stream",
     "text": [
      "enter the length of list: 4\n",
      "enter the value into the list: 1 2 3 4\n",
      "[1, 2, 3, 4]\n",
      "1 2 3 4 "
     ]
    },
    {
     "ename": "IndexError",
     "evalue": "list assignment index out of range",
     "output_type": "error",
     "traceback": [
      "\u001b[0;31m---------------------------------------------------------------------------\u001b[0m",
      "\u001b[0;31mIndexError\u001b[0m                                Traceback (most recent call last)",
      "\u001b[0;32m<ipython-input-8-e4c6e5a708b6>\u001b[0m in \u001b[0;36m<module>\u001b[0;34m\u001b[0m\n\u001b[1;32m      5\u001b[0m \u001b[0;32mfor\u001b[0m \u001b[0mi\u001b[0m \u001b[0;32min\u001b[0m \u001b[0mrange\u001b[0m\u001b[0;34m(\u001b[0m\u001b[0mlen\u001b[0m\u001b[0;34m(\u001b[0m\u001b[0ma\u001b[0m\u001b[0;34m)\u001b[0m\u001b[0;34m)\u001b[0m\u001b[0;34m:\u001b[0m\u001b[0;34m\u001b[0m\u001b[0;34m\u001b[0m\u001b[0m\n\u001b[1;32m      6\u001b[0m     \u001b[0mprint\u001b[0m\u001b[0;34m(\u001b[0m\u001b[0ma\u001b[0m\u001b[0;34m[\u001b[0m\u001b[0mi\u001b[0m\u001b[0;34m]\u001b[0m\u001b[0;34m,\u001b[0m\u001b[0mend\u001b[0m\u001b[0;34m=\u001b[0m\u001b[0;34m\" \"\u001b[0m\u001b[0;34m)\u001b[0m\u001b[0;34m\u001b[0m\u001b[0;34m\u001b[0m\u001b[0m\n\u001b[0;32m----> 7\u001b[0;31m \u001b[0moperator\u001b[0m\u001b[0;34m.\u001b[0m\u001b[0msetitem\u001b[0m\u001b[0;34m(\u001b[0m\u001b[0ma\u001b[0m\u001b[0;34m,\u001b[0m\u001b[0;36m10\u001b[0m\u001b[0;34m,\u001b[0m\u001b[0;36m1\u001b[0m\u001b[0;34m)\u001b[0m\u001b[0;34m\u001b[0m\u001b[0;34m\u001b[0m\u001b[0m\n\u001b[0m\u001b[1;32m      8\u001b[0m \u001b[0mprint\u001b[0m\u001b[0;34m(\u001b[0m\u001b[0ma\u001b[0m\u001b[0;34m)\u001b[0m\u001b[0;34m\u001b[0m\u001b[0;34m\u001b[0m\u001b[0m\n",
      "\u001b[0;31mIndexError\u001b[0m: list assignment index out of range"
     ]
    }
   ],
   "source": [
    "import operator\n",
    "n=int(input('enter the length of list: '))\n",
    "a=list(map(int,input('enter the value into the list: ').split()))[:n]\n",
    "print(a)\n",
    "#\n",
    "operator.setitem(a,10,1)\n",
    "print(a)"
   ]
  },
  {
   "cell_type": "code",
   "execution_count": null,
   "id": "effective-refund",
   "metadata": {},
   "outputs": [],
   "source": []
  }
 ],
 "metadata": {
  "kernelspec": {
   "display_name": "Python 3",
   "language": "python",
   "name": "python3"
  },
  "language_info": {
   "codemirror_mode": {
    "name": "ipython",
    "version": 3
   },
   "file_extension": ".py",
   "mimetype": "text/x-python",
   "name": "python",
   "nbconvert_exporter": "python",
   "pygments_lexer": "ipython3",
   "version": "3.7.10"
  }
 },
 "nbformat": 4,
 "nbformat_minor": 5
}
