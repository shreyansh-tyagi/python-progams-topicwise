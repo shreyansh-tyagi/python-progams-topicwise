{
 "cells": [
  {
   "cell_type": "code",
   "execution_count": 1,
   "id": "athletic-matthew",
   "metadata": {},
   "outputs": [
    {
     "name": "stdout",
     "output_type": "stream",
     "text": [
      "enter two number: 1 2\n",
      "addition: 3\n",
      "subtraction: -1\n",
      "division: 0.5\n",
      "multiply: 2\n",
      "power: 1\n",
      "floordivision: 0\n",
      "modulus: 1\n",
      "1 less than 2 True\n",
      "1 is equal to 2 False\n",
      "1 is less equal to 2 True\n",
      "1 is greater than 2 False\n",
      "1 is greater than equal to 2 False\n",
      "1 is not equal to 2 True\n"
     ]
    }
   ],
   "source": [
    "import operator\n",
    "a,b=map(int,input('enter two number: ').split())\n",
    "print('addition:',operator.add(a,b))\n",
    "print('subtraction:',operator.sub(a,b))\n",
    "print('division:',operator.truediv(a,b))\n",
    "print('multiply:',operator.mul(a,b))\n",
    "print('power:',operator.pow(a,b))\n",
    "print('floordivision:',operator.floordiv(a,b))\n",
    "print('modulus:',operator.mod(a,b))\n",
    "print(f'{a} less than {b}',operator.lt(a,b))\n",
    "print(f'{a} is equal to {b}',operator.eq(a,b))\n",
    "print(f'{a} is less equal to {b}',operator.le(a,b))\n",
    "print(f'{a} is greater than {b}',operator.gt(a,b))\n",
    "print(f'{a} is greater than equal to {b}',operator.ge(a,b))\n",
    "print(f'{a} is not equal to {b}',operator.ne(a,b))"
   ]
  },
  {
   "cell_type": "code",
   "execution_count": null,
   "id": "collected-disposition",
   "metadata": {},
   "outputs": [
    {
     "name": "stdout",
     "output_type": "stream",
     "text": [
      "enter the length of list: 5\n",
      "enter the value into the list: 1 2 3 4 5\n",
      "list:  [1, 2, 3, 4, 5]\n",
      "enter the new value to insert: 100\n"
     ]
    }
   ],
   "source": [
    "#insertion using operator function\n",
    "# setitem(list_name,position,value)\n",
    "import operator\n",
    "length_of_list=int(input('enter the length of list: '))\n",
    "list_name=list(map(int,input('enter the value into the list: ').split()))[:length_of_list]\n",
    "print('list: ',list_name)\n",
    "value=int(input('enter the new value to insert: '))\n",
    "position=int(input('enter the position you want to insert: '))\n",
    "if(position<=length_of_list):\n",
    "    operator.setitem(list_name,position-1,value)\n",
    "else:\n",
    "    print(f'{position}th position out of range')\n",
    "print(f'after replacing value with new value {value}: ',list_name)"
   ]
  },
  {
   "cell_type": "code",
   "execution_count": null,
   "id": "narrative-apple",
   "metadata": {},
   "outputs": [],
   "source": []
  },
  {
   "cell_type": "code",
   "execution_count": null,
   "id": "cubic-manitoba",
   "metadata": {},
   "outputs": [],
   "source": []
  }
 ],
 "metadata": {
  "kernelspec": {
   "display_name": "Python 3",
   "language": "python",
   "name": "python3"
  }
 },
 "nbformat": 4,
 "nbformat_minor": 5
}
