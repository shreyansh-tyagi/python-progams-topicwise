{
 "cells": [
  {
   "cell_type": "code",
   "execution_count": 1,
   "id": "legislative-desert",
   "metadata": {},
   "outputs": [
    {
     "name": "stdout",
     "output_type": "stream",
     "text": [
      "enter two number: 1 2\n",
      "addition: 3\n",
      "subtraction: -1\n",
      "division: 0.5\n",
      "multiply: 2\n",
      "power: 1\n",
      "floordivision: 0\n",
      "modulus: 1\n",
      "1 less than 2 True\n",
      "1 is equal to 2 False\n",
      "1 is less equal to 2 True\n",
      "1 is greater than 2 False\n",
      "1 is greater than equal to 2 False\n",
      "1 is not equal to 2 True\n"
     ]
    }
   ],
   "source": [
    "import operator\n",
    "a,b=map(int,input('enter two number: ').split())\n",
    "print('addition:',operator.add(a,b))\n",
    "print('subtraction:',operator.sub(a,b))\n",
    "print('division:',operator.truediv(a,b))\n",
    "print('multiply:',operator.mul(a,b))\n",
    "print('power:',operator.pow(a,b))\n",
    "print('floordivision:',operator.floordiv(a,b))\n",
    "print('modulus:',operator.mod(a,b))\n",
    "print(f'{a} less than {b}',operator.lt(a,b))\n",
    "print(f'{a} is equal to {b}',operator.eq(a,b))\n",
    "print(f'{a} is less equal to {b}',operator.le(a,b))\n",
    "print(f'{a} is greater than {b}',operator.gt(a,b))\n",
    "print(f'{a} is greater than equal to {b}',operator.ge(a,b))\n",
    "print(f'{a} is not equal to {b}',operator.ne(a,b))"
   ]
  },
  {
   "cell_type": "code",
   "execution_count": 3,
   "id": "blind-wallet",
   "metadata": {},
   "outputs": [
    {
     "name": "stdout",
     "output_type": "stream",
     "text": [
      "enter the length of list: 5\n",
      "enter the value into the list: 1 2 4 4 5\n",
      "list:  [1, 2, 4, 4, 5]\n",
      "enter the new value to insert: 10\n",
      "enter the position you want to insert: 9\n",
      "9th position out of range\n",
      "after replacing value with new value 10:  [1, 2, 4, 4, 5]\n"
     ]
    }
   ],
   "source": [
    "#insertion using operator function\n",
    "# setitem(list_name,position,value)\n",
    "import operator\n",
    "length_of_list=int(input('enter the length of list: '))\n",
    "list_name=list(map(int,input('enter the value into the list: ').split()))[:length_of_list]\n",
    "print('list: ',list_name)\n",
    "value=int(input('enter the new value to insert: '))\n",
    "position=int(input('enter the position you want to insert: '))\n",
    "if(position<=length_of_list):\n",
    "    operator.setitem(list_name,position-1,value)\n",
    "else:\n",
    "    print(f'{position}th position out of range')\n",
    "print(f'after replacing value with new value {value}: ',list_name)"
   ]
  },
  {
   "cell_type": "code",
   "execution_count": 11,
   "id": "guilty-finder",
   "metadata": {},
   "outputs": [
    {
     "name": "stdout",
     "output_type": "stream",
     "text": [
      "enter the size of list: 5\n",
      "enter the element into the list: 1 2 100 3 4\n",
      "list:  [1, 2, 100, 3, 4]\n",
      "enter the position from where you want to delete the item: 3\n",
      "after deletion list:  [1, 2, 3, 4]\n"
     ]
    }
   ],
   "source": [
    "# deletion using operator function\n",
    "import operator\n",
    "n=int(input('enter the size of list: '))\n",
    "a=list(map(int,input('enter the element into the list: ').split()))[:n]\n",
    "print('list: ',a)\n",
    "b=int(input('enter the position from where you want to delete the item: '))\n",
    "if(b<=n):\n",
    "    operator.delitem(a,b-1)\n",
    "else:\n",
    "    print(f'{b}th position is out of range')\n",
    "print(f'after deletion list: ',a)       \n"
   ]
  },
  {
   "cell_type": "code",
   "execution_count": 2,
   "id": "considered-adaptation",
   "metadata": {},
   "outputs": [
    {
     "name": "stdout",
     "output_type": "stream",
     "text": [
      "enter the size of list: 5\n",
      "enter the element into the list: 1 2 3 100 4\n",
      "enter the position to select the element: 4\n",
      "selected item : 100\n"
     ]
    }
   ],
   "source": [
    "# selection of element from list\n",
    "import operator\n",
    "n=int(input('enter the size of list: '))\n",
    "a=list(map(int,input('enter the element into the list: ').split()))[:n]\n",
    "b=int(input('enter the position to select the element: '))\n",
    "if(b<=n):\n",
    "     c=operator.getitem(a,b-1)\n",
    "else:\n",
    "    print(f'{b}th position out of range')\n",
    "print(f'selected item :',c)    "
   ]
  },
  {
   "cell_type": "code",
   "execution_count": 24,
   "id": "specific-spouse",
   "metadata": {},
   "outputs": [
    {
     "name": "stdout",
     "output_type": "stream",
     "text": [
      "enter the size of list: 5\n",
      "enter the element into the list: 1 2 3 4 5\n",
      "list: [1, 2, 3, 4, 5]\n",
      "enter the size of new list: 4\n",
      "enter the position from where you want to insert the list: 3\n",
      "enter the element into the new list: 11 22 33 44\n",
      "new list: [11, 22, 33, 44]\n",
      "after insertion of [11, 22, 33, 44] list into existing list is: [1, 2, 11, 22, 33, 44]\n"
     ]
    }
   ],
   "source": [
    "#insertion of another list into existing list\n",
    "import operator\n",
    "n=int(input('enter the size of list: '))\n",
    "a=list(map(int,input('enter the element into the list: ').split()))[:n]\n",
    "print('list:',a)\n",
    "e=int(input('enter the size of new list: '))\n",
    "b=int(input('enter the position from where you want to insert the list: '))\n",
    "d=list(map(int,input('enter the element into the new list: ').split()))[:e]\n",
    "print('new list:',d)\n",
    "if(b<=n):\n",
    "    operator.setitem(a,slice(b-1,(b-1)+e),d)\n",
    "else:\n",
    "    print(f'{b}th position out of range')\n",
    "print(f'after insertion of {d} list into existing list is:',a)    \n"
   ]
  },
  {
   "cell_type": "code",
   "execution_count": 22,
   "id": "theoretical-receiver",
   "metadata": {},
   "outputs": [
    {
     "name": "stdout",
     "output_type": "stream",
     "text": [
      "enter the size of list: 5\n",
      "enter the element into the list: 1 2 3 4 5\n",
      "list: [1, 2, 3, 4, 5]\n",
      "enter the size of new list: 4\n",
      "enter the position from where you want to insert the list: 4\n",
      "enter the element into the new list: 11 22 33 44 55\n",
      "new list: [11, 22, 33, 44]\n",
      "\n",
      "\n",
      "if we insert the new list into existing list using insert function: \n",
      "\n",
      "\n",
      "[1, 2, 3, [11, 22, 33, 44], 4, 5]\n"
     ]
    }
   ],
   "source": [
    "n=int(input('enter the size of list: '))\n",
    "a=list(map(int,input('enter the element into the list: ').split()))[:n]\n",
    "print('list:',a)\n",
    "e=int(input('enter the size of new list: '))\n",
    "b=int(input('enter the position from where you want to insert the list: '))\n",
    "d=list(map(int,input('enter the element into the new list: ').split()))[:e]\n",
    "print('new list:',d)\n",
    "print('\\n\\nif we insert the new list into existing list using insert function: \\n\\n')\n",
    "a.insert(b-1,d)\n",
    "print(a)"
   ]
  },
  {
   "cell_type": "code",
   "execution_count": 4,
   "id": "invalid-facial",
   "metadata": {},
   "outputs": [
    {
     "name": "stdout",
     "output_type": "stream",
     "text": [
      "enter the size of list: 5\n",
      "enter the element into list: 1 2 3 4 5\n",
      "list:  [1, 2, 3, 4, 5]\n",
      "enter the position from where you want to select the elements: 3\n",
      "enter how many element you want to select: 5\n",
      "selected items from list are: [[3, 4, 5]]\n",
      "enter the position from where you want to delete the elements: 6\n",
      "enter how many element you want to delete: 4\n",
      "6th position out of range\n",
      "after deletion list is: [1, 2, 3, 4, 5]\n"
     ]
    }
   ],
   "source": [
    "#delete and select the item from list\n",
    "import operator\n",
    "n=int(input('enter the size of list: '))\n",
    "a=list(map(int,input('enter the element into list: ').split()))[:n]\n",
    "print('list: ',a)\n",
    "b=int(input('enter the position from where you want to select the elements: '))\n",
    "d=int(input('enter how many element you want to select: '))\n",
    "e=[]\n",
    "if(b<=n):\n",
    "    e.append(operator.getitem(a,slice(b-1,(b-1)+d)))\n",
    "else:\n",
    "     print(f'{b}th position out of range',e)  \n",
    "print(f'selected items from list are:',e)    \n",
    "b=int(input('enter the position from where you want to delete the elements: '))\n",
    "c=int(input('enter how many element you want to delete: '))\n",
    "if(b<=n):\n",
    "    operator.delitem(a,slice(b-1,(b-1)+c))\n",
    "else:\n",
    "     print(f'{b}th position out of range')\n",
    "print(f'after deletion list is:',a)    \n"
   ]
  },
  {
   "cell_type": "code",
   "execution_count": 8,
   "id": "focal-carnival",
   "metadata": {},
   "outputs": [
    {
     "name": "stdout",
     "output_type": "stream",
     "text": [
      "enter your name: shrey\n",
      "enter your nickname: sunny\n",
      "shreysunny\n",
      "enter the number: 12 \n",
      "enter another number: 13\n",
      "12 13\n"
     ]
    }
   ],
   "source": [
    "# concatenation and contains function in operator function\n",
    "import operator\n",
    "a=input('enter your name: ')\n",
    "b=(input('enter your nickname: '))\n",
    "c=operator.concat(a, b)\n",
    "print(c)\n",
    "d=(input('enter the number: '))\n",
    "e=(input('enter another number: '))\n",
    "e=operator.concat(d,e)\n",
    "print(e)"
   ]
  },
  {
   "cell_type": "code",
   "execution_count": 13,
   "id": "subjective-denver",
   "metadata": {},
   "outputs": [
    {
     "name": "stdout",
     "output_type": "stream",
     "text": [
      "enter the size of list: 5\n",
      "enter the element into list: 1 2 3 4 5\n",
      "enter the element to search whether it present in list: 3\n",
      "3 is present in [1, 2, 3, 4, 5]\n",
      "do you want to insert new list,\n",
      "type \"yes\" or \"no\":yes\n",
      "enter the size of new list: 3\n",
      "enter the element into new list: 11 22 33\n",
      "enter the position from where you want to insert:3\n",
      "\n",
      "AFTER INSERTION:  [1, 2, 11, 22, 33]\n",
      "do you want to delete the element from list\n",
      "type \"yes\" or \"no\"yes\n",
      "enter the position from where you want to delete element: 3\n",
      "enter how many element you want to delete: 3\n",
      "AFTER DELETION:  [1, 2]\n"
     ]
    }
   ],
   "source": [
    "#'insertion,deletion,sorting,reverse,searching\n",
    "import operator\n",
    "n=int(input('enter the size of list: '))\n",
    "a=list(map(int,input('enter the element into list: ').split()))[:n]\n",
    "b=int(input('enter the element to search whether it present in list: '))\n",
    "if(operator.contains(a,b)):\n",
    "    print(f'{b} is present in {a}')\n",
    "else:\n",
    "    print(f'{b} is not present in {a}')\n",
    "c=input('do you want to insert new list,\\ntype \"yes\" or \"no\":') \n",
    "if(c=='yes'):\n",
    "    d=int(input('enter the size of new list: '))\n",
    "    e=list(map(int,input('enter the element into new list: ').split()))[:d]\n",
    "    f=int(input('enter the position from where you want to insert:'))\n",
    "    operator.setitem(a,slice(f-1,(f-1)+d),e)\n",
    "    print(f'\\nAFTER INSERTION: ',a)\n",
    "else:\n",
    "    print('okay!')\n",
    "g=input('do you want to delete the element from list\\ntype \"yes\" or \"no\"')\n",
    "if(g=='yes'):\n",
    "    d=int(input('enter the position from where you want to delete element: '))\n",
    "    f=int(input('enter how many element you want to delete: '))\n",
    "    operator.delitem(a,slice(d-1,(d-1)+f))\n",
    "    print(f'AFTER DELETION: ',a)\n",
    "else:\n",
    "    print('okay!')\n",
    "    \n",
    "    \n",
    "    "
   ]
  },
  {
   "cell_type": "code",
   "execution_count": null,
   "id": "pending-canon",
   "metadata": {},
   "outputs": [],
   "source": [
    "'insertion,deletion,sorting,reverse,searching using function\n",
    "import operator\n",
    "n=int(input('enter the size of list: '))\n",
    "a=list(map(int,input('enter the element into list: ').split()))[:n]\n",
    "def contain(a,n):\n",
    "    b=int(input('enter the element to search whether it present in list: '))\n",
    "    if(operator.contains(a,b)):\n",
    "        print(f'{b} is present in {a}')\n",
    "    else:\n",
    "        print(f'{b} is not present in {a}')\n",
    "def insertion(a,n):\n",
    "    c=input('do you want to insert new list,\\ntype \"yes\" or \"no\": ') \n",
    "    if(c=='yes'):\n",
    "        d=int(input('enter the size of new list: '))\n",
    "        e=list(map(int,input('enter the element into new list: ').split()))[:d]\n",
    "        f=int(input('enter the position from where you want to insert:'))\n",
    "        operator.setitem(a,slice(f-1,(f-1)+d),e)\n",
    "        print(f'\\nAFTER INSERTION: ',a)\n",
    "    else:\n",
    "        print('okay!')\n",
    "def deletion(a,n): \n",
    "    g=input('do you want to delete the element from list\\ntype \"yes\" or \"no\": ')\n",
    "    if(g=='yes'):\n",
    "        d=int(input('enter the position from where you want to delete element: '))\n",
    "        f=int(input('enter how many element you want to delete: '))\n",
    "        operator.delitem(a,slice(d-1,(d-1)+f))\n",
    "        print(f'AFTER DELETION: ',a)\n",
    "    else:\n",
    "        print('okay!')\n",
    "def selection(a,n):\n",
    "    b=input('do you want to select items from the list,\\ntype \"yes\" or \"no\": ')\n",
    "    if(b=='yes'):\n",
    "        c=int(input('enter the location from where to select item: '))\n",
    "        d=int(input('how many element you want to select: '))\n",
    "        e=operator.getitem(a,slice(c-1,(c-1)+d))\n",
    "        print('AFTER SELECTION: ',e)\n",
    "        else:\n",
    "            print('okay!')\n",
    "def sorting(a,n):\n",
    "    b=input('do want to sort the list,\\ntype \"yes\" or \"no\": ')\n",
    "    if(b=='yes'):\n",
    "        a.sort()\n",
    "        print('SORTING IN ASCENDING: ',a)\n",
    "        a.sort(reverse=True)\n",
    "        print('SORTING IN DESCENDING: ',a)\n",
    "    else:\n",
    "        print('okay!')\n",
    "def reverse(a,n):\n",
    "     b=input('do want to reverse the list,\\ntype \"yes\" or \"no\": ')\n",
    "        if(b=='yes'):\n",
    "            for i in reversed(range(n)):\n",
    "                print('REVERSE: ',a[i],end=' ')\n",
    "        else:\n",
    "            print('okay!')\n",
    "def even_odd(a,n):\n",
    "    b=input('do want to perform e')\n",
    "    "
   ]
  }
 ],
 "metadata": {
  "kernelspec": {
   "display_name": "Python 3",
   "language": "python",
   "name": "python3"
  },
  "language_info": {
   "codemirror_mode": {
    "name": "ipython",
    "version": 3
   },
   "file_extension": ".py",
   "mimetype": "text/x-python",
   "name": "python",
   "nbconvert_exporter": "python",
   "pygments_lexer": "ipython3",
   "version": "3.7.10"
  }
 },
 "nbformat": 4,
 "nbformat_minor": 5
}
