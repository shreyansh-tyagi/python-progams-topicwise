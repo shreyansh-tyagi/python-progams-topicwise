{
 "cells": [
  {
   "cell_type": "markdown",
   "id": "blocked-citizen",
   "metadata": {},
   "source": [
    "# object-oriented-programming(oops)"
   ]
  },
  {
   "cell_type": "markdown",
   "id": "indonesian-sudan",
   "metadata": {},
   "source": [
    "## class and object :-"
   ]
  },
  {
   "cell_type": "code",
   "execution_count": 4,
   "id": "scenic-danger",
   "metadata": {},
   "outputs": [
    {
     "name": "stdout",
     "output_type": "stream",
     "text": [
      "making a call\n",
      "playing games\n"
     ]
    }
   ],
   "source": [
    "class Phone: # a class should always start with a class keyword and the first letter of \n",
    "             #class should capital\n",
    "    def make_call(self): #functionality of class \n",
    "        print('making a call')\n",
    "    def play_games(self):\n",
    "        print('playing games')\n",
    "p=Phone() #creating object or instanciating the object \n",
    "p.make_call() #invoking the object\n",
    "p.play_games()\n"
   ]
  },
  {
   "cell_type": "code",
   "execution_count": 26,
   "id": "appreciated-addiction",
   "metadata": {},
   "outputs": [
    {
     "name": "stdout",
     "output_type": "stream",
     "text": [
      "making call\n",
      "playing games\n"
     ]
    }
   ],
   "source": [
    "class Phone:\n",
    "    def set_color(self,color):\n",
    "        self.color=color\n",
    "    def set_cost(self,cost):\n",
    "        self.cost=cost\n",
    "    def get_color(self):\n",
    "        return self.color\n",
    "    def get_cost(self):\n",
    "        return self.cost\n",
    "    def make_call(self):\n",
    "        print('making call')\n",
    "    def play_games(self):\n",
    "        print('playing games')\n",
    "p1=Phone()\n",
    "p1.set_color('blue')\n",
    "p1.set_cost(200)\n",
    "p1.get_color()\n",
    "p1.get_cost()\n",
    "p1.make_call()\n",
    "p1.play_games()"
   ]
  },
  {
   "cell_type": "code",
   "execution_count": 25,
   "id": "exceptional-technique",
   "metadata": {},
   "outputs": [
    {
     "data": {
      "text/plain": [
       "100"
      ]
     },
     "execution_count": 25,
     "metadata": {},
     "output_type": "execute_result"
    }
   ],
   "source": [
    "class Runnow:\n",
    "    def setcost(self,cost):\n",
    "        self.cost=cost\n",
    "        return self.cost\n",
    "class Next:    \n",
    "    def setcolor(self,color):\n",
    "        self.color=color\n",
    "        return self.color\n",
    "r=Runnow()\n",
    "n=Next()\n",
    "r.setcost('blue')\n",
    "n.setcolor(100)\n"
   ]
  },
  {
   "cell_type": "code",
   "execution_count": 32,
   "id": "enhanced-ghana",
   "metadata": {},
   "outputs": [
    {
     "name": "stdout",
     "output_type": "stream",
     "text": [
      "<__main__.Employee object at 0x7fae5011f710>\n",
      "<__main__.Employee object at 0x7fae5011f750>\n",
      "10000\n",
      "shrey\n",
      "tyagi\n",
      "aryan\n"
     ]
    }
   ],
   "source": [
    "class Employee:\n",
    "    pass\n",
    "emp1=Employee()\n",
    "emp2=Employee()\n",
    "print(emp1)\n",
    "print(emp2)\n",
    "emp1.name='shrey'\n",
    "emp1.lastname='tyagi'\n",
    "emp1.salary=10000\n",
    "emp2.name='aryan'\n",
    "emp2.lastname='tyagi'\n",
    "emp2.salary=10000\n",
    "print(emp1.salary)\n",
    "print(emp1.name)\n",
    "print(emp1.lastname)\n",
    "print(emp2.name)"
   ]
  },
  {
   "cell_type": "code",
   "execution_count": 40,
   "id": "dangerous-master",
   "metadata": {},
   "outputs": [
    {
     "name": "stdout",
     "output_type": "stream",
     "text": [
      "enter your first name: shrey\n",
      "enter your last name: tyagi\n",
      "enter your salary: 20000\n",
      "<__main__.Employee object at 0x7fae50138f50>\n",
      "corey.edward@gmail.com\n",
      "corey\n",
      "shrey\n",
      "tyagi\n",
      "shrey.tyagi@gmail.com\n"
     ]
    }
   ],
   "source": [
    "# class with object and constructor\n",
    "class Employee:\n",
    "    def __init__(self,first,last,pay):\n",
    "        self.fname=first\n",
    "        self.last=last\n",
    "        self.pay=pay\n",
    "        self.email=first+'.'+last+'@'+'gmail.com'\n",
    "emp1=Employee('corey','edward',20000)\n",
    "a=input('enter your first name: ')\n",
    "b=input('enter your last name: ')\n",
    "c=int(input('enter your salary: '))\n",
    "emp2=Employee(a,b,c)\n",
    "print(emp1)\n",
    "print(emp1.email)\n",
    "print(emp1.fname)\n",
    "print(emp2.fname)\n",
    "print(emp2.last)\n",
    "print(emp2.email)"
   ]
  },
  {
   "cell_type": "code",
   "execution_count": 1,
   "id": "annoying-validation",
   "metadata": {},
   "outputs": [
    {
     "name": "stdout",
     "output_type": "stream",
     "text": [
      "enter your first name: shrey\n",
      "enter your last name: tyagi\n",
      "enter your  salary: 3000\n",
      "fisrt name: corey last name: edward with salary 20000         and email corey.edward@gmail.com\n",
      "None\n",
      "fisrt name: shrey last name: tyagi with salary 3000         and email shrey.tyagi@gmail.com\n",
      "None\n",
      "fisrt name: shrey last name: tyagi with salary 3000         and email shrey.tyagi@gmail.com\n"
     ]
    }
   ],
   "source": [
    "class Employee:  #class\n",
    "    def __init__(self,first,last,pay): #constructor\n",
    "        self.fname=first\n",
    "        self.last=last\n",
    "        self.pay=pay\n",
    "        self.email=first+'.'+last+'@'+'gmail.com'\n",
    "    def fullname(self): #function inside class \n",
    "         print(f'fisrt name: {self.fname} last name: {self.last} with salary {self.pay}\\\n",
    "         and email {self.email}')\n",
    "emp1=Employee('corey','edward',20000) #instantiating object or creating object\n",
    "#and passing value to constructor which should be in same order\n",
    "a=input('enter your first name: ')\n",
    "b=input('enter your last name: ')\n",
    "c=int(input('enter your  salary: '))\n",
    "emp2=Employee(a,b,c) #another object taking input from user \n",
    "# instantiating object or creating object but with some input\n",
    "print(emp1.fullname()) #invoking object1 \n",
    "print(emp2.fullname()) #invoking object 2 , here need to pass the argument inside\n",
    "Employee.fullname(emp2) # but here while calling the member of class using the \n",
    "#class name an instance name should be passed"
   ]
  },
  {
   "cell_type": "code",
   "execution_count": null,
   "id": "raising-yield",
   "metadata": {},
   "outputs": [],
   "source": [
    "class Student:\n",
    "    def __init__(self,name,age,grade):\n",
    "        self.name=name\n",
    "        self.age=age\n",
    "        self.grade=grade\n",
    "    def deco(text):\n",
    "        print('decorator started')\n",
    "        def innerdeco(*args,**kwargs):\n",
    "            print('inner decorator started ')\n",
    "            text(*args,**kwargs)\n",
    "            "
   ]
  }
 ],
 "metadata": {
  "kernelspec": {
   "display_name": "Python 3",
   "language": "python",
   "name": "python3"
  },
  "language_info": {
   "codemirror_mode": {
    "name": "ipython",
    "version": 3
   },
   "file_extension": ".py",
   "mimetype": "text/x-python",
   "name": "python",
   "nbconvert_exporter": "python",
   "pygments_lexer": "ipython3",
   "version": "3.7.10"
  }
 },
 "nbformat": 4,
 "nbformat_minor": 5
}
