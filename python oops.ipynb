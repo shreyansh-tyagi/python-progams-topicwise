{
 "cells": [
  {
   "cell_type": "markdown",
   "id": "blocked-citizen",
   "metadata": {},
   "source": [
    "# object-oriented-programming(oops)"
   ]
  },
  {
   "cell_type": "code",
   "execution_count": 4,
   "id": "scenic-danger",
   "metadata": {},
   "outputs": [
    {
     "name": "stdout",
     "output_type": "stream",
     "text": [
      "making a call\n",
      "playing games\n"
     ]
    }
   ],
   "source": [
    "class Phone: # a class should always start with a class keyword and the first letter of \n",
    "             #class should capital\n",
    "    def make_call(self): #functionality of class \n",
    "        print('making a call')\n",
    "    def play_games(self):\n",
    "        print('playing games')\n",
    "p=Phone() #creating object or instanciating the object \n",
    "p.make_call() #invoking the object\n",
    "p.play_games()\n"
   ]
  },
  {
   "cell_type": "code",
   "execution_count": 12,
   "id": "appreciated-addiction",
   "metadata": {},
   "outputs": [
    {
     "name": "stdout",
     "output_type": "stream",
     "text": [
      "making call\n",
      "playing games\n"
     ]
    }
   ],
   "source": [
    "class Phone:\n",
    "    def __init__(self,color):\n",
    "        self.color=color\n",
    "    def set_cost(self,cost):\n",
    "        self.cost=cost\n",
    "    def get_color(self):\n",
    "        return self.color\n",
    "    def get_cost(self):\n",
    "        return self.cost\n",
    "    def make_call(self):\n",
    "        print('making call')\n",
    "    def play_games(self):\n",
    "        print('playing games')\n",
    "p1=Phone('blue')\n",
    "\n",
    "p1.set_cost(200)\n",
    "p1.get_color()\n",
    "p1.get_cost()\n",
    "p1.make_call()\n",
    "p1.play_games()"
   ]
  },
  {
   "cell_type": "code",
   "execution_count": null,
   "id": "outdoor-bearing",
   "metadata": {},
   "outputs": [],
   "source": []
  },
  {
   "cell_type": "code",
   "execution_count": null,
   "id": "promotional-driver",
   "metadata": {},
   "outputs": [],
   "source": []
  }
 ],
 "metadata": {
  "kernelspec": {
   "display_name": "Python 3",
   "language": "python",
   "name": "python3"
  },
  "language_info": {
   "codemirror_mode": {
    "name": "ipython",
    "version": 3
   },
   "file_extension": ".py",
   "mimetype": "text/x-python",
   "name": "python",
   "nbconvert_exporter": "python",
   "pygments_lexer": "ipython3",
   "version": "3.7.10"
  }
 },
 "nbformat": 4,
 "nbformat_minor": 5
}
