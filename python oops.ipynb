{
 "cells": [
  {
   "cell_type": "markdown",
   "id": "blocked-citizen",
   "metadata": {},
   "source": [
    "# object-oriented-programming(oops)"
   ]
  },
  {
   "cell_type": "code",
   "execution_count": 4,
   "id": "scenic-danger",
   "metadata": {},
   "outputs": [
    {
     "name": "stdout",
     "output_type": "stream",
     "text": [
      "making a call\n",
      "playing games\n"
     ]
    }
   ],
   "source": [
    "class Phone: # a class should always start with a class keyword and the first letter of \n",
    "             #class should capital\n",
    "    def make_call(self): #functionality of class \n",
    "        print('making a call')\n",
    "    def play_games(self):\n",
    "        print('playing games')\n",
    "p=Phone() #creating object or instanciating the object \n",
    "p.make_call() #invoking the object\n",
    "p.play_games()\n"
   ]
  },
  {
   "cell_type": "code",
   "execution_count": 1,
   "id": "appreciated-addiction",
   "metadata": {},
   "outputs": [
    {
     "ename": "NameError",
     "evalue": "name 'p' is not defined",
     "output_type": "error",
     "traceback": [
      "\u001b[0;31m---------------------------------------------------------------------------\u001b[0m",
      "\u001b[0;31mNameError\u001b[0m                                 Traceback (most recent call last)",
      "\u001b[0;32m<ipython-input-1-3f6b8579884a>\u001b[0m in \u001b[0;36m<module>\u001b[0;34m\u001b[0m\n\u001b[0;32m----> 1\u001b[0;31m \u001b[0mp\u001b[0m\u001b[0;34m.\u001b[0m\u001b[0mmake_call\u001b[0m\u001b[0;34m(\u001b[0m\u001b[0;34m)\u001b[0m\u001b[0;34m\u001b[0m\u001b[0;34m\u001b[0m\u001b[0m\n\u001b[0m",
      "\u001b[0;31mNameError\u001b[0m: name 'p' is not defined"
     ]
    }
   ],
   "source": [
    "class Phone:\n",
    "    def set_color(self,color):\n",
    "        self.color=color\n",
    "    def set_cost(self,cost):\n",
    "        self.cost=cost\n",
    "    def get_color(self):\n",
    "        re"
   ]
  },
  {
   "cell_type": "code",
   "execution_count": null,
   "id": "informative-integration",
   "metadata": {},
   "outputs": [],
   "source": []
  }
 ],
 "metadata": {
  "kernelspec": {
   "display_name": "Python 3",
   "language": "python",
   "name": "python3"
  },
  "language_info": {
   "codemirror_mode": {
    "name": "ipython",
    "version": 3
   },
   "file_extension": ".py",
   "mimetype": "text/x-python",
   "name": "python",
   "nbconvert_exporter": "python",
   "pygments_lexer": "ipython3",
   "version": "3.7.10"
  }
 },
 "nbformat": 4,
 "nbformat_minor": 5
}
