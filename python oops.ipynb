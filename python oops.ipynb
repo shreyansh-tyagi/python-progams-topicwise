{
 "cells": [
  {
   "cell_type": "markdown",
   "id": "blocked-citizen",
   "metadata": {},
   "source": [
    "# object-oriented-programming(oops)"
   ]
  },
  {
   "cell_type": "markdown",
   "id": "indonesian-sudan",
   "metadata": {},
   "source": [
    "## class and object :-"
   ]
  },
  {
   "cell_type": "code",
   "execution_count": 11,
   "id": "scenic-danger",
   "metadata": {},
   "outputs": [
    {
     "name": "stdout",
     "output_type": "stream",
     "text": [
      "making a call\n",
      "playing games\n",
      "connected to kernel\n"
     ]
    }
   ],
   "source": [
    "class phone: # a class should always start with a class keyword and the first letter of \n",
    "             #class should capital\n",
    "    def make_call(self): #functionality of class \n",
    "        print('making a call')\n",
    "    def play_games(self):\n",
    "        print('playing games')\n",
    "    def itis(self):\n",
    "        print('connected to kernel')\n",
    "p=phone() #creating object or instanciating the object \n",
    "p.make_call() #invoking the object\n",
    "p.play_games()\n",
    "p.itis()"
   ]
  },
  {
   "cell_type": "code",
   "execution_count": 14,
   "id": "appreciated-addiction",
   "metadata": {},
   "outputs": [
    {
     "name": "stdout",
     "output_type": "stream",
     "text": [
      "blue\n",
      "200\n",
      "making call\n",
      "playing games\n"
     ]
    }
   ],
   "source": [
    "class Phone:\n",
    "    def set_color(self,color):\n",
    "        self.color=color\n",
    "    def set_cost(self,cost):\n",
    "        self.cost=cost\n",
    "    def get_color(self):\n",
    "        return self.color\n",
    "    def get_cost(self):\n",
    "        return self.cost\n",
    "    def make_call(self):\n",
    "        print('making call')\n",
    "    def play_games(self):\n",
    "        print('playing games')\n",
    "p1=Phone()\n",
    "p1.set_color('blue')\n",
    "p1.set_cost(200)\n",
    "print(p1.get_color())\n",
    "print(p1.get_cost())\n",
    "p1.make_call()\n",
    "p1.play_games()"
   ]
  },
  {
   "cell_type": "code",
   "execution_count": 25,
   "id": "exceptional-technique",
   "metadata": {},
   "outputs": [
    {
     "data": {
      "text/plain": [
       "100"
      ]
     },
     "execution_count": 25,
     "metadata": {},
     "output_type": "execute_result"
    }
   ],
   "source": [
    "class Runnow:\n",
    "    def setcost(self,cost):\n",
    "        self.cost=cost\n",
    "        return self.cost\n",
    "class Next:    \n",
    "    def setcolor(self,color):\n",
    "        self.color=color\n",
    "        return self.color\n",
    "r=Runnow()\n",
    "n=Next()\n",
    "r.setcost('blue')\n",
    "n.setcolor(100)\n"
   ]
  },
  {
   "cell_type": "code",
   "execution_count": 32,
   "id": "enhanced-ghana",
   "metadata": {},
   "outputs": [
    {
     "name": "stdout",
     "output_type": "stream",
     "text": [
      "<__main__.Employee object at 0x7fae5011f710>\n",
      "<__main__.Employee object at 0x7fae5011f750>\n",
      "10000\n",
      "shrey\n",
      "tyagi\n",
      "aryan\n"
     ]
    }
   ],
   "source": [
    "class Employee:\n",
    "    pass\n",
    "emp1=Employee()\n",
    "emp2=Employee()\n",
    "print(emp1)\n",
    "print(emp2)\n",
    "emp1.name='shrey'\n",
    "emp1.lastname='tyagi'\n",
    "emp1.salary=10000\n",
    "emp2.name='aryan'\n",
    "emp2.lastname='tyagi'\n",
    "emp2.salary=10000\n",
    "print(emp1.salary)\n",
    "print(emp1.name)\n",
    "print(emp1.lastname)\n",
    "print(emp2.name)"
   ]
  },
  {
   "cell_type": "markdown",
   "id": "de46e531",
   "metadata": {},
   "source": [
    "# constructor"
   ]
  },
  {
   "cell_type": "code",
   "execution_count": 40,
   "id": "dangerous-master",
   "metadata": {},
   "outputs": [
    {
     "name": "stdout",
     "output_type": "stream",
     "text": [
      "enter your first name: shrey\n",
      "enter your last name: tyagi\n",
      "enter your salary: 20000\n",
      "<__main__.Employee object at 0x7fae50138f50>\n",
      "corey.edward@gmail.com\n",
      "corey\n",
      "shrey\n",
      "tyagi\n",
      "shrey.tyagi@gmail.com\n"
     ]
    }
   ],
   "source": [
    "# class with object and constructor\n",
    "class Employee:\n",
    "    def __init__(self,first,last,pay):\n",
    "        self.fname=first\n",
    "        self.last=last\n",
    "        self.pay=pay\n",
    "        self.email=first+'.'+last+'@'+'gmail.com'\n",
    "emp1=Employee('corey','edward',20000)\n",
    "a=input('enter your first name: ')\n",
    "b=input('enter your last name: ')\n",
    "c=int(input('enter your salary: '))\n",
    "emp2=Employee(a,b,c)\n",
    "print(emp1)\n",
    "print(emp1.email)\n",
    "print(emp1.fname)\n",
    "print(emp2.fname)\n",
    "print(emp2.last)\n",
    "print(emp2.email)"
   ]
  },
  {
   "cell_type": "code",
   "execution_count": 1,
   "id": "annoying-validation",
   "metadata": {},
   "outputs": [
    {
     "name": "stdout",
     "output_type": "stream",
     "text": [
      "enter your first name: shrey\n",
      "enter your last name: tyagi\n",
      "enter your  salary: 3000\n",
      "fisrt name: corey last name: edward with salary 20000         and email corey.edward@gmail.com\n",
      "None\n",
      "fisrt name: shrey last name: tyagi with salary 3000         and email shrey.tyagi@gmail.com\n",
      "None\n",
      "fisrt name: shrey last name: tyagi with salary 3000         and email shrey.tyagi@gmail.com\n"
     ]
    }
   ],
   "source": [
    "class Employee:  #class\n",
    "    def __init__(self,first,last,pay): #constructor\n",
    "        self.fname=first\n",
    "        self.last=last\n",
    "        self.pay=pay\n",
    "        self.email=first+'.'+last+'@'+'gmail.com'\n",
    "    def fullname(self): #function inside class \n",
    "         print(f'fisrt name: {self.fname} last name: {self.last} with salary {self.pay}\\\n",
    "         and email {self.email}')\n",
    "emp1=Employee('corey','edward',20000) #instantiating object or creating object\n",
    "#and passing value to constructor which should be in same order\n",
    "a=input('enter your first name: ')\n",
    "b=input('enter your last name: ')\n",
    "c=int(input('enter your  salary: '))\n",
    "emp2=Employee(a,b,c) #another object taking input from user \n",
    "# instantiating object or creating object but with some input\n",
    "print(emp1.fullname()) #invoking object1 \n",
    "print(emp2.fullname()) #invoking object 2 , here need to pass the argument inside\n",
    "Employee.fullname(emp2) # but here while calling the member of class using the \n",
    "#class name an instance name should be passed"
   ]
  },
  {
   "cell_type": "code",
   "execution_count": 9,
   "id": "raising-yield",
   "metadata": {},
   "outputs": [
    {
     "name": "stdout",
     "output_type": "stream",
     "text": [
      "decorator started\n",
      "enter your name: dsdf\n",
      "enter your age: 123\n",
      "enter your grade: 23\n"
     ]
    },
    {
     "ename": "TypeError",
     "evalue": "'NoneType' object is not callable",
     "output_type": "error",
     "traceback": [
      "\u001b[0;31m---------------------------------------------------------------------------\u001b[0m",
      "\u001b[0;31mTypeError\u001b[0m                                 Traceback (most recent call last)",
      "\u001b[0;32m<ipython-input-9-41914c6c88eb>\u001b[0m in \u001b[0;36m<module>\u001b[0;34m\u001b[0m\n\u001b[0;32m----> 1\u001b[0;31m \u001b[0;32mclass\u001b[0m \u001b[0mStudent\u001b[0m\u001b[0;34m:\u001b[0m\u001b[0;34m\u001b[0m\u001b[0;34m\u001b[0m\u001b[0m\n\u001b[0m\u001b[1;32m      2\u001b[0m     \u001b[0;32mdef\u001b[0m \u001b[0m__init__\u001b[0m\u001b[0;34m(\u001b[0m\u001b[0mself\u001b[0m\u001b[0;34m,\u001b[0m\u001b[0mname\u001b[0m\u001b[0;34m,\u001b[0m\u001b[0mage\u001b[0m\u001b[0;34m,\u001b[0m\u001b[0mgrade\u001b[0m\u001b[0;34m)\u001b[0m\u001b[0;34m:\u001b[0m\u001b[0;34m\u001b[0m\u001b[0;34m\u001b[0m\u001b[0m\n\u001b[1;32m      3\u001b[0m         \u001b[0mself\u001b[0m\u001b[0;34m.\u001b[0m\u001b[0mname\u001b[0m\u001b[0;34m=\u001b[0m\u001b[0mname\u001b[0m\u001b[0;34m\u001b[0m\u001b[0;34m\u001b[0m\u001b[0m\n\u001b[1;32m      4\u001b[0m         \u001b[0mself\u001b[0m\u001b[0;34m.\u001b[0m\u001b[0mage\u001b[0m\u001b[0;34m=\u001b[0m\u001b[0mage\u001b[0m\u001b[0;34m\u001b[0m\u001b[0;34m\u001b[0m\u001b[0m\n\u001b[1;32m      5\u001b[0m         \u001b[0mself\u001b[0m\u001b[0;34m.\u001b[0m\u001b[0mgrade\u001b[0m\u001b[0;34m=\u001b[0m\u001b[0mgrade\u001b[0m\u001b[0;34m\u001b[0m\u001b[0;34m\u001b[0m\u001b[0m\n",
      "\u001b[0;32m<ipython-input-9-41914c6c88eb>\u001b[0m in \u001b[0;36mStudent\u001b[0;34m()\u001b[0m\n\u001b[1;32m     16\u001b[0m     \u001b[0mage\u001b[0m\u001b[0;34m=\u001b[0m\u001b[0mint\u001b[0m\u001b[0;34m(\u001b[0m\u001b[0minput\u001b[0m\u001b[0;34m(\u001b[0m\u001b[0;34m'enter your age: '\u001b[0m\u001b[0;34m)\u001b[0m\u001b[0;34m)\u001b[0m\u001b[0;34m\u001b[0m\u001b[0;34m\u001b[0m\u001b[0m\n\u001b[1;32m     17\u001b[0m     \u001b[0mgrade\u001b[0m\u001b[0;34m=\u001b[0m\u001b[0mint\u001b[0m\u001b[0;34m(\u001b[0m\u001b[0minput\u001b[0m\u001b[0;34m(\u001b[0m\u001b[0;34m'enter your grade: '\u001b[0m\u001b[0;34m)\u001b[0m\u001b[0;34m)\u001b[0m\u001b[0;34m\u001b[0m\u001b[0;34m\u001b[0m\u001b[0m\n\u001b[0;32m---> 18\u001b[0;31m     \u001b[0mcalldeco\u001b[0m\u001b[0;34m(\u001b[0m\u001b[0mname\u001b[0m\u001b[0;34m,\u001b[0m\u001b[0mage\u001b[0m\u001b[0;34m,\u001b[0m\u001b[0mgrade\u001b[0m\u001b[0;34m)\u001b[0m\u001b[0;34m\u001b[0m\u001b[0;34m\u001b[0m\u001b[0m\n\u001b[0m\u001b[1;32m     19\u001b[0m \u001b[0;31m#obj1=Employee.calldeco(name,age,grade)\u001b[0m\u001b[0;34m\u001b[0m\u001b[0;34m\u001b[0m\u001b[0;34m\u001b[0m\u001b[0m\n\u001b[1;32m     20\u001b[0m \u001b[0;31m#obj1.deco()\u001b[0m\u001b[0;34m\u001b[0m\u001b[0;34m\u001b[0m\u001b[0;34m\u001b[0m\u001b[0m\n",
      "\u001b[0;31mTypeError\u001b[0m: 'NoneType' object is not callable"
     ]
    }
   ],
   "source": [
    "class Student:\n",
    "    def __init__(self,name,age,grade):\n",
    "        self.name=name\n",
    "        self.age=age\n",
    "        self.grade=grade\n",
    "    def deco(text):\n",
    "        print('decorator started')\n",
    "        def innerdeco(*args,**kwargs):\n",
    "            print('inner decorator started')\n",
    "            text(*args,**kwargs)\n",
    "            print('inner decorator ended')\n",
    "    @deco\n",
    "    def calldeco(name,age,grade):\n",
    "        print(name)\n",
    "    name=input('enter your name: ')\n",
    "    age=int(input('enter your age: '))\n",
    "    grade=int(input('enter your grade: '))\n",
    "    calldeco(name,age,grade)    \n",
    "obj1=Employee.calldeco(name,age,grade)\n",
    "obj1.deco()\n",
    "        \n",
    "        \n",
    "            "
   ]
  },
  {
   "cell_type": "code",
   "execution_count": 4,
   "id": "accredited-barbados",
   "metadata": {},
   "outputs": [
    {
     "name": "stdout",
     "output_type": "stream",
     "text": [
      "[<__main__.Student object at 0x7fa62c4ba390>]\n",
      "true\n",
      "false\n",
      "[<__main__.Student object at 0x7fa62c4ba390>, <__main__.Student object at 0x7fa62c4ba490>]\n",
      "true\n",
      "false\n",
      "false\n",
      "80.0\n",
      "85\n",
      "75\n"
     ]
    }
   ],
   "source": [
    "class Student:\n",
    "    def __init__(self,name,age,grade):\n",
    "        self.name=name\n",
    "        self.age=age\n",
    "        self.grade=grade\n",
    "    def get_std(self):\n",
    "        return self.grade\n",
    "class Course:\n",
    "    def __init__(self,course,max_student):\n",
    "        self.course=course\n",
    "        self.maxs=max_student\n",
    "        self.student=[]\n",
    "    def std_details(self,student):\n",
    "        if len(self.student)<self.maxs:\n",
    "            self.student.append(student)\n",
    "            print(self.student)\n",
    "            print('true')\n",
    "        print('false')\n",
    "    def avg(self):\n",
    "        value=0\n",
    "        for i in self.student:\n",
    "            value+=i.get_std()\n",
    "        return value/len(self.student)\n",
    "s1=Student('shrey',21,85)\n",
    "s2=Student('mani',22,75)\n",
    "s3=Student('manu',22,70)\n",
    "c1=Course('science',2)\n",
    "c1.std_details(s1)\n",
    "c1.std_details(s2)\n",
    "c1.std_details(s3)\n",
    "print(c1.avg())\n",
    "print(s1.get_std())\n",
    "print(s2.get_std())\n",
    "\n",
    "        \n",
    "        \n",
    "    "
   ]
  },
  {
   "cell_type": "code",
   "execution_count": 18,
   "id": "municipal-airplane",
   "metadata": {},
   "outputs": [
    {
     "name": "stdout",
     "output_type": "stream",
     "text": [
      "enter the number of student: 6\n",
      "enter the number of subject: 5\n",
      "\n",
      "\n",
      "enter student name: shreyansh tyagi\n",
      "enter student age: 21\n",
      "enter student course: science\n",
      "enter the marks of 5 subjects: 89 78 90 99 89\n",
      "\n",
      "\n",
      "total of all subject of shreyansh tyagi is 445\n",
      "average of shreyansh tyagi is 89.0\n",
      "\n",
      "\n",
      "Stundent Name: shreyansh tyagi\n",
      "Student Age: 21\n",
      "Student Course: science\n",
      "\n",
      "\n",
      "shreyansh tyagi achieved A grade\n",
      "\n",
      "\n",
      "enter student name: shrey tyagi\n",
      "enter student age: 22\n",
      "enter student course: commerce\n",
      "enter the marks of 5 subjects: 56 78 77 89 66\n",
      "\n",
      "\n",
      "total of all subject of shrey tyagi is 366\n",
      "average of shrey tyagi is 73.2\n",
      "\n",
      "\n",
      "Stundent Name: shrey tyagi\n",
      "Student Age: 22\n",
      "Student Course: commerce\n",
      "\n",
      "\n",
      "shrey tyagi achieved B grade\n",
      "\n",
      "\n",
      "enter student name: sunny tyagi\n",
      "enter student age: 22\n",
      "enter student course: commerce\n",
      "enter the marks of 5 subjects: 56 45 66 77 46\n",
      "\n",
      "\n",
      "total of all subject of sunny tyagi is 290\n",
      "average of sunny tyagi is 58.0\n",
      "\n",
      "\n",
      "Stundent Name: sunny tyagi\n",
      "Student Age: 22\n",
      "Student Course: commerce\n",
      "\n",
      "\n",
      "sunny tyagi achieved C grade\n",
      "\n",
      "\n",
      "enter student name: shreya sharma\n",
      "enter student age: 23\n",
      "enter student course: science\n",
      "enter the marks of 5 subjects: 67 78 99 66 88\n",
      "\n",
      "\n",
      "total of all subject of shreya sharma is 398\n",
      "average of shreya sharma is 79.6\n",
      "\n",
      "\n",
      "Stundent Name: shreya sharma\n",
      "Student Age: 23\n",
      "Student Course: science\n",
      "\n",
      "\n",
      "shreya sharma achieved B grade\n",
      "\n",
      "\n",
      "enter student name: ravi kuamr\n",
      "enter student age: 22\n",
      "enter student course: science\n",
      "enter the marks of 5 subjects: 55 67 89 99 67\n",
      "\n",
      "\n",
      "total of all subject of ravi kuamr is 377\n",
      "average of ravi kuamr is 75.4\n",
      "\n",
      "\n",
      "Stundent Name: ravi kuamr\n",
      "Student Age: 22\n",
      "Student Course: science\n",
      "\n",
      "\n",
      "ravi kuamr achieved B grade\n",
      "\n",
      "\n",
      "enter student name: shelva kuamri\n",
      "enter student age: 21\n",
      "enter student course: science\n",
      "enter the marks of 5 subjects: 56 67 88 99 55\n",
      "\n",
      "\n",
      "total of all subject of shelva kuamri is 365\n",
      "average of shelva kuamri is 73.0\n",
      "\n",
      "\n",
      "Stundent Name: shelva kuamri\n",
      "Student Age: 21\n",
      "Student Course: science\n",
      "\n",
      "\n",
      "shelva kuamri achieved B grade\n",
      "\n",
      "\n",
      "enter two course name \"science and commerce\": science commerce\n",
      "\n",
      "\n",
      "shreyansh tyagi of age 21 is in course: science\n",
      "\n",
      "\n",
      "shrey tyagi of age 22 is in course: commerce\n",
      "\n",
      "\n",
      "sunny tyagi of age 22 is in course: commerce\n",
      "\n",
      "\n",
      "shreya sharma of age 23 is in course: science\n",
      "\n",
      "\n",
      "ravi kuamr of age 22 is in course: science\n",
      "\n",
      "\n",
      "shelva kuamri of age 21 is in course: science\n",
      "\n",
      "sum of all science subject per student: [445, 398, 377, 365]\n",
      "sum of all commerce subject per student: [366, 290]\n",
      "\n",
      "total sum of all \"science\" department: 1585\n",
      "average of all \"science\" department: 396.25\n",
      "average percentage of all \"science\" department: 66.04166666666667%\n",
      "\n",
      "total sum of all \"commerce\" department: 656\n",
      "average of all \"commerce\" department: 328.0\n",
      "average percentage of all \"commerce\" department: 54.666666666666664%\n"
     ]
    }
   ],
   "source": [
    "class Student:\n",
    "    def __init__(self,name,age,course,grade):\n",
    "        self.name=name\n",
    "        self.age=age\n",
    "        self.course=course\n",
    "        self.grade=grade\n",
    "        self.avg_makrs=0\n",
    "    def getgrade(self):\n",
    "        sum=0\n",
    "        for i in range(len(self.grade)):\n",
    "            sum+=self.grade[i]\n",
    "        self.avg_marks=sum/len(self.grade)\n",
    "        print(f'\\n\\ntotal of all subject of {self.name} is {sum}')\n",
    "        print(f'average of {self.name} is {self.avg_marks}')\n",
    "        return self.avg_marks\n",
    "    def printdata(self):\n",
    "        print(f'\\n\\nStundent Name: {self.name}\\nStudent Age: {self.age}\\nStudent Course: {self.course}')\n",
    "    def grading(self):\n",
    "        if self.avg_marks>=80 and self.avg_marks<=100:\n",
    "            print(f'\\n\\n{self.name} achieved A grade')\n",
    "        elif self.avg_marks>=60 and self.avg_marks<80:\n",
    "            print(f'\\n\\n{self.name} achieved B grade')\n",
    "        elif self.avg_marks>=40 and self.avg_marks<60:\n",
    "            print(f'\\n\\n{self.name} achieved C grade')\n",
    "        else:\n",
    "            print(f'\\n\\n{self.name} is Fail')\n",
    "class Course:\n",
    "    def __init__(self,course_name,max_student):\n",
    "        self.course_name=course_name\n",
    "        self.max_student=max_student\n",
    "        self.student=[]\n",
    "        self.science=[]\n",
    "        self.commerce=[]\n",
    "    def studentdetails(self,student):\n",
    "        if len(self.student)<=self.max_student:\n",
    "            self.student.append(student)\n",
    "        else:\n",
    "            print(f'\\ndata out of range: {self.max_student}')    \n",
    "    def printdetails(self,a):\n",
    "        j=0\n",
    "        print(f'\\n\\n{self.student[a][j]} of age {self.student[a][j+1]} is in course: {self.student[a][j+2]}')\n",
    "    def dividecourse(self,a):\n",
    "        if self.student[a][2]=='science':\n",
    "            self.science.append(sum(self.student[a][3]))\n",
    "        else:\n",
    "            self.commerce.append(sum(self.student[a][3])) \n",
    "    def printsc(self):\n",
    "        print(f'\\nsum of all science subject per student: {self.science}')\n",
    "        print(f'sum of all commerce subject per student: {self.commerce}')\n",
    "    def getaverage(self):\n",
    "        value=0\n",
    "        balue=0\n",
    "        total=(len(self.science)+len(self.commerce)) \n",
    "        for i in range(len(self.science)):\n",
    "            value+=self.science[i]\n",
    "        print(f'\\ntotal sum of all \"science\" department: {value}')\n",
    "        v=value/len(self.science)\n",
    "        print(f'average of all \"science\" department: {v}')\n",
    "        c=v/total\n",
    "        print(f'average percentage of all \"science\" department: {c}%')\n",
    "        for i in range(len(self.commerce)):\n",
    "            balue+=self.commerce[i]\n",
    "        print(f'\\ntotal sum of all \"commerce\" department: {balue}')\n",
    "        b=balue/len(self.commerce)\n",
    "        print(f'average of all \"commerce\" department: {b}')\n",
    "        d=b/total\n",
    "        print(f'average percentage of all \"commerce\" department: {d}%')\n",
    "max_student=int(input('enter the number of student: '))\n",
    "subject=int(input('enter the number of subject: '))\n",
    "a,b=[],[]\n",
    "for i in range(max_student):\n",
    "    name=input('\\n\\nenter student name: ')\n",
    "    age=int(input('enter student age: '))\n",
    "    course=input('enter student course: ')\n",
    "    if age>=16 and age<=30:\n",
    "        if course=='science' or course=='commerce':\n",
    "            grade=list(map(int,input(f'enter the marks of {subject} subjects: ').split()))[:subject]\n",
    "            a=[name,age,course,grade]\n",
    "            b.append(a)\n",
    "            obj_of_student=Student(name,age,course,grade)   \n",
    "            obj_of_student.getgrade()\n",
    "            obj_of_student.printdata()\n",
    "            obj_of_student.grading()   \n",
    "        else: \n",
    "            print('\\nINVALID COURSE')\n",
    "    else:\n",
    "        print('\\n NOT ELIGIBLE')       \n",
    "course_name=list(map(str,input(f'\\n\\nenter two course name \"science and commerce\": ').split()))[:2]  \n",
    "if ('science' in course_name) or ('commerce' in course_name):\n",
    "    obj_of_course=Course(course_name,max_student)\n",
    "    for i in range(len(b)):\n",
    "            obj_of_course.studentdetails(b[i])\n",
    "            obj_of_course.printdetails(i)\n",
    "            obj_of_course.dividecourse(i)\n",
    "else:\n",
    "    print('\\nINVALID COURSE')\n",
    "obj_of_course.printsc()\n",
    "obj_of_course.getaverage()               \n"
   ]
  },
  {
   "cell_type": "code",
   "execution_count": 38,
   "id": "floating-lingerie",
   "metadata": {},
   "outputs": [
    {
     "name": "stdout",
     "output_type": "stream",
     "text": [
      "enter student name: st \n",
      "enter student age: 21\n",
      "enter student course: ed\n",
      "enter student name: g\n",
      "enter student age: 3\n",
      "enter student course: r\n",
      "['g', 3, 'r']\n",
      "[['st ', 21, 'ed'], ['g', 3, 'r']]\n"
     ]
    }
   ],
   "source": [
    "a=[]\n",
    "b=[]\n",
    "for i in range(2):\n",
    "    name=input('enter student name: ')\n",
    "    age=int(input('enter student age: '))\n",
    "    course=input('enter student course: ')\n",
    "    a=[name,age,course]\n",
    "    b.append(a)\n",
    "print(a)\n",
    "print(b)"
   ]
  },
  {
   "cell_type": "code",
   "execution_count": 42,
   "id": "featured-prerequisite",
   "metadata": {},
   "outputs": [
    {
     "name": "stdout",
     "output_type": "stream",
     "text": [
      "\n",
      "\n",
      "enter two course name \"science and commerce\": science commerce\n",
      "science commerce\n"
     ]
    }
   ],
   "source": [
    "\n",
    "course_name=list(map(str,input(f'\\n\\nenter two course name \"science and commerce\": ').split()))[:2]\n",
    "print(course_name[0],course_name[1])"
   ]
  },
  {
   "cell_type": "code",
   "execution_count": 45,
   "id": "crucial-alarm",
   "metadata": {},
   "outputs": [
    {
     "name": "stdout",
     "output_type": "stream",
     "text": [
      "0\n",
      "hello\n"
     ]
    }
   ],
   "source": [
    "for i in range(1):\n",
    "    print(i)\n",
    "    print('hello')"
   ]
  },
  {
   "cell_type": "code",
   "execution_count": 17,
   "id": "criminal-worship",
   "metadata": {},
   "outputs": [
    {
     "name": "stdout",
     "output_type": "stream",
     "text": [
      "8\n"
     ]
    }
   ],
   "source": [
    "a=[1,2,3,4,5]\n",
    "b=[1,2 ,2]\n",
    "c=len(a)+len(b)\n",
    "print(c)"
   ]
  },
  {
   "cell_type": "code",
   "execution_count": 14,
   "id": "fixed-happiness",
   "metadata": {},
   "outputs": [
    {
     "name": "stdout",
     "output_type": "stream",
     "text": [
      "enter the value: 4 2\n",
      "6\n",
      "2\n",
      "8\n"
     ]
    }
   ],
   "source": [
    "class Calc:\n",
    "    def __init__(self,a,b):\n",
    "        self.a=a\n",
    "        self.b=b\n",
    "    def add(self):\n",
    "        return self.a+self.b\n",
    "    def sub(self):\n",
    "        return self.a-self.b\n",
    "    def mul(self):\n",
    "        return self.a*self.b\n",
    "a,b=map(int,input('enter the value: ').split())\n",
    "c=Calc(a,b)\n",
    "print(c.add())\n",
    "print(c.sub())\n",
    "print(c.mul())\n",
    "        "
   ]
  },
  {
   "cell_type": "markdown",
   "id": "27cb1a21",
   "metadata": {},
   "source": [
    "# destructor"
   ]
  },
  {
   "cell_type": "code",
   "execution_count": 20,
   "id": "69c7ff3a",
   "metadata": {},
   "outputs": [
    {
     "name": "stdout",
     "output_type": "stream",
     "text": [
      "this is the constructor\n",
      "destructor called, constructor deleted\n"
     ]
    }
   ],
   "source": [
    "class Emp:\n",
    "    def __init__(self):\n",
    "        print('this is the constructor')\n",
    "    def __del__(self):\n",
    "        print('destructor called, constructor deleted')\n",
    "e=Emp()\n",
    "del e"
   ]
  },
  {
   "cell_type": "code",
   "execution_count": 37,
   "id": "2b5aa525",
   "metadata": {
    "scrolled": true
   },
   "outputs": [
    {
     "name": "stdout",
     "output_type": "stream",
     "text": [
      "enter the name: shreyansh tyagu\n",
      "enter the profession: engineer\n",
      "enter the salary: 120000\n",
      "object has been deleted\n",
      "this is my name shreyansh tyagu\n",
      "this is my engineer\n",
      "my salary is 120000\n",
      "object has been deleted\n"
     ]
    }
   ],
   "source": [
    "class Check:\n",
    "    def __init__(self,a,b,c):\n",
    "        self.name=a\n",
    "        self.pro=b\n",
    "        self.salary=c\n",
    "    def names(self):\n",
    "        print(f'this is my name {self.name}')\n",
    "    def profession(self):\n",
    "        print(f'this is my {self.pro}')\n",
    "    def sal(self):\n",
    "        print(f'my salary is {self.salary}')\n",
    "    def __del__(self):\n",
    "        print('object has been deleted')\n",
    "a=input('enter the name: ')\n",
    "b=input('enter the profession: ')\n",
    "c=int(input('enter the salary: '))\n",
    "d=Check(a,b,c)\n",
    "d.names()\n",
    "d.profession()\n",
    "d.sal()\n",
    "del d"
   ]
  },
  {
   "cell_type": "markdown",
   "id": "2b0669c1",
   "metadata": {},
   "source": [
    "# class variables and instance variables"
   ]
  },
  {
   "cell_type": "code",
   "execution_count": 4,
   "id": "b05e465c",
   "metadata": {
    "scrolled": true
   },
   "outputs": [
    {
     "name": "stdout",
     "output_type": "stream",
     "text": [
      "enter the age: 21\n",
      "enter the address: \n",
      "ravi\n",
      "shrey\n",
      "21\n",
      "\n",
      "ravi shrey\n"
     ]
    }
   ],
   "source": [
    "class friend:\n",
    "    attribute1='ravi'\n",
    "    attribute2='shrey'  #class variables\n",
    "    def __init__(self,age,address):\n",
    "        self.age=age     #instance variable\n",
    "        self.address=address\n",
    "        \n",
    "a,b=int(input('enter the age: ')),input('enter the address: ')        \n",
    "obj=friend(a,b)\n",
    "print(obj.attribute1) #accessing class variables\n",
    "print(obj.attribute2)\n",
    "print(obj.age)   # accessing instance variables\n",
    "print(obj.address)\n",
    "\n",
    "#now if we want to access all the element of the class then access through the class name \n",
    "# but here only the class variable can be accessed not the instance variable \n",
    "print(friend.attribute1,friend.attribute2)\n",
    "        \n",
    "        \n",
    "        \n",
    "    "
   ]
  },
  {
   "cell_type": "markdown",
   "id": "940ce3d9",
   "metadata": {},
   "source": [
    "# self is always pointing to current object"
   ]
  },
  {
   "cell_type": "code",
   "execution_count": 8,
   "id": "a3cddb5b",
   "metadata": {},
   "outputs": [
    {
     "name": "stdout",
     "output_type": "stream",
     "text": [
      "this is the address of self:  140710512716048\n",
      "this is the address of object:  140710512716048\n",
      "this is the address of self:  140710512714896\n",
      "this is the address of object2:  140710512714896\n"
     ]
    }
   ],
   "source": [
    "class check:\n",
    "    def __init__(self):\n",
    "        print('this is the address of self: ',id(self)) #this shows that self is \n",
    "        # always pointing to current object \n",
    "obj=check() # as soon as the object is created, the constructor will get executed \n",
    "print('this is the address of object: ',id(obj))\n",
    "obj1=check()\n",
    "print('this is the address of object2: ',id(obj1))"
   ]
  },
  {
   "cell_type": "markdown",
   "id": "3a4b2015",
   "metadata": {},
   "source": [
    "#  data hiding"
   ]
  },
  {
   "cell_type": "code",
   "execution_count": 27,
   "id": "a8e6128c",
   "metadata": {},
   "outputs": [
    {
     "ename": "AttributeError",
     "evalue": "'hide' object has no attribute '_hide__hiddenvarible'",
     "output_type": "error",
     "traceback": [
      "\u001b[0;31m---------------------------------------------------------------------------\u001b[0m",
      "\u001b[0;31mAttributeError\u001b[0m                            Traceback (most recent call last)",
      "\u001b[0;32m<ipython-input-27-da2e12b0fe1e>\u001b[0m in \u001b[0;36m<module>\u001b[0;34m\u001b[0m\n\u001b[1;32m      7\u001b[0m         \u001b[0mprint\u001b[0m\u001b[0;34m(\u001b[0m\u001b[0mself\u001b[0m\u001b[0;34m.\u001b[0m\u001b[0m__hiddenvariable\u001b[0m\u001b[0;34m)\u001b[0m\u001b[0;34m\u001b[0m\u001b[0;34m\u001b[0m\u001b[0m\n\u001b[1;32m      8\u001b[0m \u001b[0mobj\u001b[0m\u001b[0;34m=\u001b[0m\u001b[0mhide\u001b[0m\u001b[0;34m(\u001b[0m\u001b[0;34m)\u001b[0m\u001b[0;34m\u001b[0m\u001b[0;34m\u001b[0m\u001b[0m\n\u001b[0;32m----> 9\u001b[0;31m \u001b[0mobj\u001b[0m\u001b[0;34m.\u001b[0m\u001b[0madd\u001b[0m\u001b[0;34m(\u001b[0m\u001b[0;36m2\u001b[0m\u001b[0;34m)\u001b[0m \u001b[0;31m# it will throw an error because the variable is hidden\u001b[0m\u001b[0;34m\u001b[0m\u001b[0;34m\u001b[0m\u001b[0m\n\u001b[0m\u001b[1;32m     10\u001b[0m \u001b[0mprint\u001b[0m\u001b[0;34m(\u001b[0m\u001b[0mobj\u001b[0m\u001b[0;34m.\u001b[0m\u001b[0m__hiddenvariable\u001b[0m\u001b[0;34m)\u001b[0m\u001b[0;34m\u001b[0m\u001b[0;34m\u001b[0m\u001b[0m\n",
      "\u001b[0;32m<ipython-input-27-da2e12b0fe1e>\u001b[0m in \u001b[0;36madd\u001b[0;34m(self, a)\u001b[0m\n\u001b[1;32m      4\u001b[0m     \u001b[0m__hiddenvariable\u001b[0m\u001b[0;34m=\u001b[0m\u001b[0;36m1\u001b[0m\u001b[0;34m\u001b[0m\u001b[0;34m\u001b[0m\u001b[0m\n\u001b[1;32m      5\u001b[0m     \u001b[0;32mdef\u001b[0m \u001b[0madd\u001b[0m\u001b[0;34m(\u001b[0m\u001b[0mself\u001b[0m\u001b[0;34m,\u001b[0m\u001b[0ma\u001b[0m\u001b[0;34m)\u001b[0m\u001b[0;34m:\u001b[0m\u001b[0;34m\u001b[0m\u001b[0;34m\u001b[0m\u001b[0m\n\u001b[0;32m----> 6\u001b[0;31m         \u001b[0mself\u001b[0m\u001b[0;34m.\u001b[0m\u001b[0m__hiddenvarible\u001b[0m\u001b[0;34m+=\u001b[0m\u001b[0ma\u001b[0m\u001b[0;34m\u001b[0m\u001b[0;34m\u001b[0m\u001b[0m\n\u001b[0m\u001b[1;32m      7\u001b[0m         \u001b[0mprint\u001b[0m\u001b[0;34m(\u001b[0m\u001b[0mself\u001b[0m\u001b[0;34m.\u001b[0m\u001b[0m__hiddenvariable\u001b[0m\u001b[0;34m)\u001b[0m\u001b[0;34m\u001b[0m\u001b[0;34m\u001b[0m\u001b[0m\n\u001b[1;32m      8\u001b[0m \u001b[0mobj\u001b[0m\u001b[0;34m=\u001b[0m\u001b[0mhide\u001b[0m\u001b[0;34m(\u001b[0m\u001b[0;34m)\u001b[0m\u001b[0;34m\u001b[0m\u001b[0;34m\u001b[0m\u001b[0m\n",
      "\u001b[0;31mAttributeError\u001b[0m: 'hide' object has no attribute '_hide__hiddenvarible'"
     ]
    }
   ],
   "source": [
    "# in python we use double underscore __ for declaring data hiding variables\n",
    "class hide:\n",
    "    # hidden member of the class \n",
    "    __hiddenvariable=1\n",
    "    def add(self,a):\n",
    "        self.__hiddenvarible+=a   \n",
    "        print(self.__hiddenvariable)\n",
    "obj=hide()  \n",
    "obj.add(2) # it will throw an error because the variable is hidden \n",
    "print(obj.__hiddenvariable) # through object also it cannot be accessed"
   ]
  },
  {
   "cell_type": "code",
   "execution_count": 15,
   "id": "51ba4d38",
   "metadata": {},
   "outputs": [
    {
     "name": "stdout",
     "output_type": "stream",
     "text": [
      "10 5\n",
      "15\n"
     ]
    }
   ],
   "source": [
    "class normal:\n",
    "    a=10\n",
    "    b=a-5\n",
    "    def __init__(self): # if you want to access the class variable inside the method \n",
    "        # and constructor then use self \n",
    "        # if the method or constructor itself contain any parameter then you can normally assinf\n",
    "        # it \n",
    "        # for example:- def __int__(self,a,b):\n",
    "        #                    self.c=a+b\n",
    "        # but if class having the variable then \n",
    "        # self.c=self.a+self.b\n",
    "        self.c=self.a+self.b\n",
    "        \n",
    "obj=normal() \n",
    "print(normal.a,normal.b)\n",
    "print(obj.c)"
   ]
  },
  {
   "cell_type": "code",
   "execution_count": 31,
   "id": "d28f5463",
   "metadata": {},
   "outputs": [
    {
     "ename": "AttributeError",
     "evalue": "'hide' object has no attribute '_hide__hiddenvarible'",
     "output_type": "error",
     "traceback": [
      "\u001b[0;31m---------------------------------------------------------------------------\u001b[0m",
      "\u001b[0;31mAttributeError\u001b[0m                            Traceback (most recent call last)",
      "\u001b[0;32m<ipython-input-31-760026b779b0>\u001b[0m in \u001b[0;36m<module>\u001b[0;34m\u001b[0m\n\u001b[1;32m      6\u001b[0m         \u001b[0mprint\u001b[0m\u001b[0;34m(\u001b[0m\u001b[0mself\u001b[0m\u001b[0;34m.\u001b[0m\u001b[0m__hiddenvariable\u001b[0m\u001b[0;34m)\u001b[0m\u001b[0;34m\u001b[0m\u001b[0;34m\u001b[0m\u001b[0m\n\u001b[1;32m      7\u001b[0m \u001b[0mobj\u001b[0m\u001b[0;34m=\u001b[0m\u001b[0mhide\u001b[0m\u001b[0;34m(\u001b[0m\u001b[0;34m)\u001b[0m\u001b[0;34m\u001b[0m\u001b[0;34m\u001b[0m\u001b[0m\n\u001b[0;32m----> 8\u001b[0;31m \u001b[0mobj\u001b[0m\u001b[0;34m.\u001b[0m\u001b[0madd\u001b[0m\u001b[0;34m(\u001b[0m\u001b[0;36m2\u001b[0m\u001b[0;34m)\u001b[0m\u001b[0;34m\u001b[0m\u001b[0;34m\u001b[0m\u001b[0m\n\u001b[0m\u001b[1;32m      9\u001b[0m \u001b[0mprint\u001b[0m\u001b[0;34m(\u001b[0m\u001b[0mobj\u001b[0m\u001b[0;34m.\u001b[0m\u001b[0m_hide__hiddenvariable\u001b[0m\u001b[0;34m)\u001b[0m\u001b[0;34m\u001b[0m\u001b[0;34m\u001b[0m\u001b[0m\n",
      "\u001b[0;32m<ipython-input-31-760026b779b0>\u001b[0m in \u001b[0;36madd\u001b[0;34m(self, a)\u001b[0m\n\u001b[1;32m      3\u001b[0m     \u001b[0m__hiddenvariable\u001b[0m\u001b[0;34m=\u001b[0m\u001b[0;36m1\u001b[0m\u001b[0;34m\u001b[0m\u001b[0;34m\u001b[0m\u001b[0m\n\u001b[1;32m      4\u001b[0m     \u001b[0;32mdef\u001b[0m \u001b[0madd\u001b[0m\u001b[0;34m(\u001b[0m\u001b[0mself\u001b[0m\u001b[0;34m,\u001b[0m\u001b[0ma\u001b[0m\u001b[0;34m)\u001b[0m\u001b[0;34m:\u001b[0m\u001b[0;34m\u001b[0m\u001b[0;34m\u001b[0m\u001b[0m\n\u001b[0;32m----> 5\u001b[0;31m         \u001b[0mself\u001b[0m\u001b[0;34m.\u001b[0m\u001b[0m__hiddenvarible\u001b[0m\u001b[0;34m+=\u001b[0m\u001b[0ma\u001b[0m\u001b[0;34m\u001b[0m\u001b[0;34m\u001b[0m\u001b[0m\n\u001b[0m\u001b[1;32m      6\u001b[0m         \u001b[0mprint\u001b[0m\u001b[0;34m(\u001b[0m\u001b[0mself\u001b[0m\u001b[0;34m.\u001b[0m\u001b[0m__hiddenvariable\u001b[0m\u001b[0;34m)\u001b[0m\u001b[0;34m\u001b[0m\u001b[0;34m\u001b[0m\u001b[0m\n\u001b[1;32m      7\u001b[0m \u001b[0mobj\u001b[0m\u001b[0;34m=\u001b[0m\u001b[0mhide\u001b[0m\u001b[0;34m(\u001b[0m\u001b[0;34m)\u001b[0m\u001b[0;34m\u001b[0m\u001b[0;34m\u001b[0m\u001b[0m\n",
      "\u001b[0;31mAttributeError\u001b[0m: 'hide' object has no attribute '_hide__hiddenvarible'"
     ]
    }
   ],
   "source": [
    "class hide:\n",
    "    # hidden member of the class \n",
    "    __hiddenvariable=1\n",
    "    def add(self,a):\n",
    "        self.__hiddenvarible+=a   \n",
    "        print(self.__hiddenvariable)\n",
    "obj=hide() \n",
    "obj.add(2) # hence the value of hidden variable is accessiable to any method or constructor but only to class\n",
    "print(obj._hide__hiddenvariable) "
   ]
  },
  {
   "cell_type": "code",
   "execution_count": 33,
   "id": "902fec17",
   "metadata": {},
   "outputs": [
    {
     "name": "stdout",
     "output_type": "stream",
     "text": [
      "10\n"
     ]
    }
   ],
   "source": [
    "class hide:\n",
    "    # hidden member of the class \n",
    "    __hiddenvariable=10\n",
    "    def add(self,a):\n",
    "        self.__hiddenvarible+=a   \n",
    "        print(self.__hiddenvariable)\n",
    "obj=hide()\n",
    "print(obj._hide__hiddenvariable)"
   ]
  },
  {
   "cell_type": "code",
   "execution_count": 37,
   "id": "acf16433",
   "metadata": {},
   "outputs": [
    {
     "name": "stdout",
     "output_type": "stream",
     "text": [
      "start execution from here: \n",
      "making object\n",
      "we are in constructor \n",
      "function end\n",
      "we are in destructor \n",
      "<__main__.destructor object at 0x7ff9b8285e90>\n",
      "program end\n"
     ]
    }
   ],
   "source": [
    "class destructor: \n",
    "    def __init__(self):\n",
    "        print('we are in constructor ')\n",
    "    \n",
    "    def __del__(self):\n",
    "        print('we are in destructor ')\n",
    "def function(): \n",
    "    print('making object')\n",
    "    obj=destructor()\n",
    "    print('function end')\n",
    "    return obj\n",
    "print('start execution from here: ')\n",
    "obj=function()\n",
    "print(obj)\n",
    "print('program end')\n",
    "        "
   ]
  },
  {
   "cell_type": "markdown",
   "id": "e294325c",
   "metadata": {},
   "source": [
    "# printing object\n"
   ]
  },
  {
   "cell_type": "code",
   "execution_count": 40,
   "id": "eec14587",
   "metadata": {},
   "outputs": [
    {
     "name": "stdout",
     "output_type": "stream",
     "text": [
      "trying aur not\n"
     ]
    }
   ],
   "source": [
    "class printobject:\n",
    "    def __init__(yeah): #so we can give any name to self\n",
    "        print('trying aur not')\n",
    "obj1=printobject()\n"
   ]
  },
  {
   "cell_type": "markdown",
   "id": "f6b1a5b3",
   "metadata": {},
   "source": [
    "# printing object using repr and str"
   ]
  },
  {
   "cell_type": "code",
   "execution_count": 46,
   "id": "b09af38a",
   "metadata": {},
   "outputs": [
    {
     "name": "stdout",
     "output_type": "stream",
     "text": [
      "a: 10 and b: 20\n",
      "[a is 10 and b is 20]\n"
     ]
    }
   ],
   "source": [
    "class printobj:\n",
    "    def __init__(self,a,b):\n",
    "        self.a=a\n",
    "        self.b=b\n",
    "    def __repr__(self):\n",
    "        return f\"a is {self.a} and b is {self.b}\" # here repr and str both will \n",
    "                        #return the value which will get printed where str should passed in list\n",
    "        # while printing its element\n",
    "    def __str__(self):\n",
    "        return f\"a: {self.a} and b: {self.b}\"\n",
    "obj=printobj(10,20)\n",
    "print(obj)\n",
    "print([obj])\n",
    "\n",
    "\n",
    "        "
   ]
  },
  {
   "cell_type": "code",
   "execution_count": 50,
   "id": "4404b70d",
   "metadata": {},
   "outputs": [
    {
     "name": "stdout",
     "output_type": "stream",
     "text": [
      "a:10 b:20\n",
      "<__main__.printobj object at 0x7ff9b823ea90>\n"
     ]
    }
   ],
   "source": [
    "class printobj:\n",
    "    def __init__(self,a,b):\n",
    "        self.a=a\n",
    "        self.b=b\n",
    "        print(f'a:{self.a} b:{self.b}')\n",
    "obj=printobj(10,20)\n",
    "print(obj) # so here it will give the reference of the class constructor"
   ]
  },
  {
   "cell_type": "markdown",
   "id": "84767cd9",
   "metadata": {},
   "source": [
    "# Inheritence in python"
   ]
  },
  {
   "cell_type": "markdown",
   "id": "1f6b51aa",
   "metadata": {},
   "source": [
    "## single level inheritance"
   ]
  },
  {
   "cell_type": "code",
   "execution_count": 30,
   "id": "2a9f6aeb",
   "metadata": {},
   "outputs": [
    {
     "name": "stdout",
     "output_type": "stream",
     "text": [
      "this is the main class\n",
      "this is the child class and inheriting the parent class A\n",
      "this is the main class\n"
     ]
    }
   ],
   "source": [
    "class A:\n",
    "    def this_is_parent_class(self):\n",
    "        print('this is the main class')\n",
    "class B(A):  #this is the syntax to inherit the functionality of parent class into child class\n",
    "        # here class B is inheriting the class A ....all we need to pass the parent class into\n",
    "        # paranthesis\n",
    "        def this_is_child_class(self):\n",
    "            print('this is the child class and inheriting the parent class A')\n",
    "# now if we create the object of class A then we can access only the functionality of class A\n",
    "# but if we create the object of class B then we can access not only the functionality of class \n",
    "# but also of class A alongwith\n",
    "\n",
    "a=A()\n",
    "a.this_is_parent_class()\n",
    "b=B()\n",
    "b.this_is_child_class()\n",
    "b.this_is_parent_class()\n",
    "#a.this_is_child_class() # this statement will give the error message that \n",
    "# 'A' object has no attribute 'this_is_child_class'\n",
    "# by using the object of class B we can access both the functionlities of class A and B \n"
   ]
  },
  {
   "cell_type": "code",
   "execution_count": 25,
   "id": "229ac237",
   "metadata": {},
   "outputs": [
    {
     "name": "stdout",
     "output_type": "stream",
     "text": [
      "are we gettihng\n",
      "see the difference\n"
     ]
    }
   ],
   "source": [
    "class check:\n",
    "    def likethat():\n",
    "        print('are we gettihng')\n",
    "c=check # if we dont use paranthesis after the class name\n",
    "# then the reference of class will be passed while creating the object\n",
    "# and in that class no need to use the self otherwise it will give the error\n",
    "c.likethat() \n",
    "\n",
    "class check2:\n",
    "    def likethat2(self):\n",
    "        print('see the difference')\n",
    "          \n",
    "c2=check2()\n",
    "c2.likethat2()\n",
    "# but if we use the paranthesis after class then it is mandortory to use the\n",
    "# self to access the functionality "
   ]
  },
  {
   "cell_type": "markdown",
   "id": "124b5a13",
   "metadata": {},
   "source": [
    "## multi-level inheritence"
   ]
  },
  {
   "cell_type": "code",
   "execution_count": 37,
   "id": "9c08a4fb",
   "metadata": {},
   "outputs": [
    {
     "name": "stdout",
     "output_type": "stream",
     "text": [
      "now we are in parent class\n",
      "now we are in parent class\n",
      "now we are in subclass B\n",
      "now we are in parent class\n",
      "now we are in subclass B\n",
      "we are in child class\n"
     ]
    }
   ],
   "source": [
    "class A:\n",
    "    def this_is_parentclass(self):\n",
    "        print('now we are in parent class')\n",
    "        \n",
    "class B(A):\n",
    "    def this_is_child_class1(self):\n",
    "        print('now we are in subclass B')\n",
    "class C(B): # this is multilevel inheritance because class C will inherit all the property \n",
    "    # of class B which inherit the property from class A\n",
    "    def this_is_child_class(self):\n",
    "        print('we are in child class')\n",
    "        \n",
    "a=A() #object of parent class\n",
    "a.this_is_parentclass()\n",
    "b=B() # object of subclass B\n",
    "b.this_is_parentclass()\n",
    "b.this_is_child_class1()\n",
    "c=C() #object of subclass C which inherit \n",
    "c.this_is_parentclass()\n",
    "c.this_is_child_class1()\n",
    "c.this_is_child_class()\n"
   ]
  },
  {
   "cell_type": "code",
   "execution_count": 27,
   "id": "b1170686",
   "metadata": {
    "scrolled": true
   },
   "outputs": [
    {
     "name": "stdout",
     "output_type": "stream",
     "text": [
      "enter the name: shreyansh tyagi\n",
      "enter the age: 22\n",
      "enter the salary: 25000\n",
      "enter the address: ghaziabad\n",
      " name: shreyansh tyagi\n",
      " age of shreyansh tyagi is 22 and salary: 25000\n",
      " address of shreyansh tyagi: ghaziabad\n"
     ]
    }
   ],
   "source": [
    "class base:\n",
    "    def __init__(self,name):\n",
    "        self.name=name\n",
    "    def get_name(self):\n",
    "        return f' name: {self.name}\\n'\n",
    "    \n",
    "class child1(base):\n",
    "    def __init__(self,name,age,salary):\n",
    "        base.__init__(self,name)\n",
    "        self.age=age\n",
    "        self.salary=salary\n",
    "    def get_age_salary(self):\n",
    "        return f'age of {self.name} is {self.age} and salary: {self.salary}\\n'\n",
    "    \n",
    "class child2(child1):\n",
    "    def __init__(self,name,age,salary,address):\n",
    "        child1.__init__(self,name,age,salary)\n",
    "        self.address=address\n",
    "        \n",
    "    def get_address(self):\n",
    "        return f'address of {self.name}: {self.address}'\n",
    "    \n",
    "a,b=input('enter the name: '),int(input('enter the age: '))  \n",
    "c,d=int(input('enter the salary: ')),input('enter the address: ')\n",
    "obj=child2(a,b,c,d)   \n",
    "print(obj.get_name(),obj.get_age_salary(),obj.get_address())"
   ]
  },
  {
   "cell_type": "markdown",
   "id": "d77a914c",
   "metadata": {},
   "source": [
    "## multiple inheritence"
   ]
  },
  {
   "cell_type": "code",
   "execution_count": 5,
   "id": "9d10a115",
   "metadata": {},
   "outputs": [
    {
     "name": "stdout",
     "output_type": "stream",
     "text": [
      "we are in class A\n",
      "we are in subclass\n",
      "we are in child class\n",
      "we are in subclass\n",
      "we are in class A\n"
     ]
    }
   ],
   "source": [
    "class A:\n",
    "    def this_is_parent(self):\n",
    "        print('we are in class A')\n",
    "class B:\n",
    "    def this_is_subclass(self):\n",
    "        print('we are in subclass')\n",
    "class C(A,B):\n",
    "    def this_is_childclass(self):\n",
    "        print('we are in child class')\n",
    "        \n",
    "a=A() #object of class A\n",
    "a.this_is_parent()\n",
    "b=B()\n",
    "b.this_is_subclass()\n",
    "c=C()\n",
    "c.this_is_childclass()\n",
    "c.this_is_subclass()\n",
    "c.this_is_parent()\n",
    "\n"
   ]
  },
  {
   "cell_type": "code",
   "execution_count": 14,
   "id": "2710d848",
   "metadata": {},
   "outputs": [
    {
     "name": "stdout",
     "output_type": "stream",
     "text": [
      "enter the name: shrey\n",
      "enter the age: 22\n",
      "enter the salary23000\n",
      "enter the address: ghaziabad\n",
      "name: shrey\n",
      "age: 22\n",
      "salary: 23000\n",
      "address: ghaziabad\n",
      "shrey\n",
      "22\n"
     ]
    }
   ],
   "source": [
    "class person:\n",
    "    def __init__(self,name,age):\n",
    "        self.name=name\n",
    "        self.age=age\n",
    "    def get_parentdata(self):\n",
    "        print(self.name)\n",
    "        print(self.age)\n",
    "        \n",
    "class employee(person):\n",
    "    def __init__(self,name,age,salary,address):\n",
    "        self.salary=salary\n",
    "        self.address=address\n",
    "        person.__init__(self,name,age)\n",
    "        \n",
    "    def get_data(self):\n",
    "        print(f'name: {self.name}')\n",
    "        print(f'age: {self.age}')\n",
    "        print(f'salary: {self.salary}')\n",
    "        print(f'address: {self.address}')\n",
    "              \n",
    "a,b=input('enter the name: '),int(input('enter the age: ')) \n",
    "c,d=int(input('enter the salary')),input('enter the address: ') \n",
    "obj=employee(a,b,c,d)   \n",
    "obj.get_data()\n",
    "obj.get_parentdata()\n",
    "\n"
   ]
  },
  {
   "cell_type": "markdown",
   "id": "e93dbb56",
   "metadata": {},
   "source": [
    "## hierarchial inheritence"
   ]
  },
  {
   "cell_type": "code",
   "execution_count": 38,
   "id": "39e9c78d",
   "metadata": {},
   "outputs": [
    {
     "name": "stdout",
     "output_type": "stream",
     "text": [
      "shrey\n",
      "age of shrey is 21 and address: gzb\n",
      "ravi\n",
      "age of vishakapatnum is 22\n",
      "vishakapatnum\n",
      "vishakapatnum\n"
     ]
    }
   ],
   "source": [
    "class parent:\n",
    "    def __init__(self,name):\n",
    "        self.name=name\n",
    "        print(self.name)\n",
    "    def getname(self):\n",
    "        return self.name\n",
    "    \n",
    "class child1(parent):\n",
    "    def __init__(self,name,age):\n",
    "        parent.__init__(self,name)\n",
    "        self.name='vishakapatnum'\n",
    "        self.age=age\n",
    "    def returnname(self):\n",
    "        return self.name\n",
    "    def getage(self):\n",
    "        return f'age of {self.name} is {self.age}'\n",
    "    \n",
    "class child2(parent):\n",
    "    def __init__(self,name,age,address):\n",
    "        parent.__init__(self,name)\n",
    "        self.age=age\n",
    "        self.address=address\n",
    "        \n",
    "    def getaddress(self):\n",
    "        return f'age of {self.name} is {self.age} and address: {self.address}'\n",
    "        \n",
    "obj_of_child2=child2('shrey',21,'gzb')        \n",
    "print(obj_of_child2.getaddress())\n",
    "obj_of_child1=child1('ravi',22)\n",
    "print(obj_of_child1.getage())\n",
    "obj_of_parent=parent(obj_of_child1.returnname())\n",
    "print(obj_of_parent.getname())"
   ]
  },
  {
   "cell_type": "markdown",
   "id": "263aeeab",
   "metadata": {},
   "source": [
    "## hybrid inheritence"
   ]
  },
  {
   "cell_type": "code",
   "execution_count": 45,
   "id": "9159b25d",
   "metadata": {},
   "outputs": [
    {
     "name": "stdout",
     "output_type": "stream",
     "text": [
      "we are in std 3 function\n",
      "we are in std 1 function\n",
      "we are in parent class\n",
      "we are in parent class\n",
      "we are in std 2 function\n"
     ]
    }
   ],
   "source": [
    "class parent:  # hierarchial inheritence\n",
    "    def func1(self):\n",
    "        print('we are in parent class')\n",
    "class std1(parent): # single level inheritence\n",
    "    def func2(self):\n",
    "        print('we are in std 1 function')\n",
    "\n",
    "class std2(parent): # single level inheritence\n",
    "    def func3(self):\n",
    "        print('we are in std 2 function')\n",
    "    \n",
    "class std3(std1,parent): # multiple inheritence \n",
    "    def func4(self):\n",
    "        print('we are in std 3 function')\n",
    "        \n",
    "        # togther it is a hybrid inheritence which have multiple types of inheritence in it \n",
    "        \n",
    "obj3=std3() \n",
    "obj3.func4()\n",
    "obj3.func2()\n",
    "obj3.func1()\n",
    "obj2=std2()\n",
    "obj2.func1()\n",
    "obj2.func3()\n"
   ]
  },
  {
   "cell_type": "markdown",
   "id": "eaaffea5",
   "metadata": {},
   "source": [
    "## private member of parent class"
   ]
  },
  {
   "cell_type": "code",
   "execution_count": 55,
   "id": "94023873",
   "metadata": {},
   "outputs": [
    {
     "name": "stdout",
     "output_type": "stream",
     "text": [
      "a:10,b: 20\n",
      "10 30\n",
      "10\n",
      "30\n",
      "20\n"
     ]
    }
   ],
   "source": [
    "class parent:\n",
    "    def __init__(self):\n",
    "        self.a=10\n",
    "        self.__b=20 #private instance variable\n",
    "        print(f'a:{self.a},b: {self.__b}')\n",
    "class child(parent):\n",
    "    def __init__(self):\n",
    "        parent.__init__(self)\n",
    "        self.c=30\n",
    "        print(self.a,self.c)\n",
    "        #print(self.__b) it will give error becuase it is a private member of parent class\n",
    "obj=child()        \n",
    "print(obj.a)\n",
    "print(obj.c)\n",
    "#print(obj.b) # it will throw error\n",
    "print(obj._parent__b) #trick to access the prvate member of parent class through the object\n",
    "# of child class "
   ]
  },
  {
   "cell_type": "markdown",
   "id": "4a388d10",
   "metadata": {},
   "source": [
    "##  built-in  function in python that are related to inheritence"
   ]
  },
  {
   "cell_type": "markdown",
   "id": "9b28d7af",
   "metadata": {},
   "source": [
    "###  isinstance() :- it check whether the object belong to the specified class."
   ]
  },
  {
   "cell_type": "code",
   "execution_count": 6,
   "id": "40699ad3",
   "metadata": {},
   "outputs": [
    {
     "name": "stdout",
     "output_type": "stream",
     "text": [
      "True\n",
      "True\n",
      "False\n",
      "False\n",
      "True\n"
     ]
    }
   ],
   "source": [
    "class parent:\n",
    "    def func(self):\n",
    "        print('we are in parent class')\n",
    "class child(parent):\n",
    "    def fun(self):\n",
    "        print('we are in child class')\n",
    "class child2:\n",
    "    def fun1(self):\n",
    "        print('we are in child 2 class')\n",
    "c=child()\n",
    "d=child2()\n",
    "print(isinstance(c,child))  \n",
    "print(isinstance(c,parent)) #here the method of parent class can also be invoked through the\n",
    "# object of child class \n",
    "print(isinstance(c,child2))\n",
    "print(isinstance(d,parent))\n",
    "print(isinstance(d,child2))"
   ]
  },
  {
   "cell_type": "markdown",
   "id": "d987b7e1",
   "metadata": {},
   "source": [
    "## issubclass :- it check whether the child class is a subclass of parent class "
   ]
  },
  {
   "cell_type": "code",
   "execution_count": 7,
   "id": "d040a33b",
   "metadata": {},
   "outputs": [
    {
     "name": "stdout",
     "output_type": "stream",
     "text": [
      "True\n"
     ]
    }
   ],
   "source": [
    "class parent:\n",
    "    def func(self):\n",
    "        print('we are in parent class')\n",
    "class child(parent):\n",
    "    def fun(self):\n",
    "        print('we are in child class')\n",
    "print(issubclass(child,parent))        "
   ]
  },
  {
   "cell_type": "markdown",
   "id": "c2b70c3f",
   "metadata": {},
   "source": [
    "## overriding method"
   ]
  },
  {
   "cell_type": "code",
   "execution_count": 19,
   "id": "8cabcfc0",
   "metadata": {},
   "outputs": [
    {
     "name": "stdout",
     "output_type": "stream",
     "text": [
      "method of child class b\n",
      "method of parent class a\n"
     ]
    }
   ],
   "source": [
    "# overriding means redefining a method in the subclass when it has already been defined in \n",
    "# some other class or parent class \n",
    "class a:\n",
    "    def __init__(self):\n",
    "        abc=1\n",
    "    def method(self):\n",
    "        print('method of parent class a')\n",
    "class b(a):\n",
    "    def __init__(self):\n",
    "        abd=2\n",
    "        a.__init__(self)\n",
    "        self.calling()\n",
    "        \n",
    "    def method(self):\n",
    "        print('method of child class b')\n",
    "    def calling(self):\n",
    "        self.method()\n",
    "        a.method(self)\n",
    "\n",
    "x=b()      "
   ]
  },
  {
   "cell_type": "code",
   "execution_count": 48,
   "id": "704e244b",
   "metadata": {},
   "outputs": [
    {
     "name": "stdout",
     "output_type": "stream",
     "text": [
      "enter the value of a: 10\n",
      "enter the value of b:12\n",
      "22\n",
      "addition is 22\n"
     ]
    }
   ],
   "source": [
    "class a :\n",
    "    def __init__(self,x,y):\n",
    "        self.x=x\n",
    "        self.y=y\n",
    "    def add(self):\n",
    "        self.c=self.x+self.y\n",
    "        print(self.c)\n",
    "class b(a):\n",
    "    def __init__(self):\n",
    "        a.__init__(self,int(input('enter the value of a: ')),int(input('enter the value of b:')))\n",
    "        self.calling()\n",
    "    def add(self):\n",
    "        print(f'addition is {self.c}')\n",
    "    def calling(self):\n",
    "        a.add(self)\n",
    "        self.add()\n",
    "        \n",
    "z=b()        "
   ]
  },
  {
   "cell_type": "markdown",
   "id": "23b9eb0b",
   "metadata": {},
   "source": [
    "## super method \n",
    "### syntax: super(class_name,instance of class).overidden_method_name()\n"
   ]
  },
  {
   "cell_type": "code",
   "execution_count": 4,
   "id": "898c8ed8",
   "metadata": {},
   "outputs": [
    {
     "name": "stdout",
     "output_type": "stream",
     "text": [
      "we are in child class c\n",
      "we are child class b\n",
      "we are in parent class\n"
     ]
    }
   ],
   "source": [
    "# here the class name is the name of subclass where super function is used\n",
    "# instance of class is basically the 'self' \n",
    "# overidden function is same function with same name in the subclass \n",
    "\n",
    "class a:\n",
    "    def func(self):\n",
    "        print('we are in parent class')\n",
    "class b(a):\n",
    "    def func(self):\n",
    "        print('we are child class b')\n",
    "        super(b,self).func() #here the super class is 'a' therefore self will act as an object \n",
    "        # to access the method of class 'a' \n",
    "class c(b):\n",
    "    def func(self):\n",
    "        print('we are in child class c')\n",
    "        super(c,self).func() #here the super class is 'b' therefore self will act as an object \n",
    "        # to access the method of class 'b' \n",
    "obj=c()\n",
    "obj.func()"
   ]
  },
  {
   "cell_type": "markdown",
   "id": "732725ca",
   "metadata": {},
   "source": [
    "## inheritence in inner class "
   ]
  },
  {
   "cell_type": "markdown",
   "id": "48e29842",
   "metadata": {},
   "source": [
    "### nested inheritence"
   ]
  },
  {
   "cell_type": "code",
   "execution_count": 6,
   "id": "b7aea7b0",
   "metadata": {},
   "outputs": [
    {
     "name": "stdout",
     "output_type": "stream",
     "text": [
      "enter the value: 4\n",
      "enter the vlaue: 3\n",
      "the sum:7\n",
      "the subtraction:1\n",
      "the multiplication: 12\n"
     ]
    }
   ],
   "source": [
    "# parent class has two nested class in it \n",
    "class parent:\n",
    "    def __init__(self,a,b):\n",
    "        self.a=a\n",
    "        self.b=b\n",
    "        self.c=self.a+self.b\n",
    "    def display(self):\n",
    "        print(f'the sum:{self.c}')\n",
    "    def create_object(self):\n",
    "        self.obj=self.nested(self.a,self.b)\n",
    "        self.obj1=self.nestedd(self.a,self.b)\n",
    "        \n",
    "    class nested:\n",
    "        def __init__(self,x,y):\n",
    "            self.x=x\n",
    "            self.y=y\n",
    "            self.c=self.x-self.y   \n",
    "        def display(self):\n",
    "            print(f'the subtraction:{self.c}')\n",
    "        \n",
    "    class nestedd:\n",
    "        def __init__(self,x,y):\n",
    "            self.x=x\n",
    "            self.y=y\n",
    "            self.c=self.x*self.y\n",
    "        def display(self):\n",
    "            print(f'the multiplication: {self.c}')\n",
    "                \n",
    "objp=parent(int(input('enter the value: ')),int(input('enter the vlaue: '))) \n",
    "objp.display() \n",
    "objp.create_object()\n",
    "objp.obj.display()\n",
    "objp.obj1.display()"
   ]
  },
  {
   "cell_type": "code",
   "execution_count": 9,
   "id": "b9d0cc32",
   "metadata": {},
   "outputs": [
    {
     "name": "stdout",
     "output_type": "stream",
     "text": [
      "enter the value: 8\n",
      "enter the vlaue: 2\n",
      "the sum:10\n",
      "the subtraction:6\n",
      "the multiplication: 16\n",
      "the division: 4.0\n"
     ]
    }
   ],
   "source": [
    "# parent class has one nested class and that nested class has another nested class in it \n",
    "class parent:\n",
    "    def __init__(self,a,b):\n",
    "        self.a=a\n",
    "        self.b=b\n",
    "        self.c=self.a+self.b\n",
    "    def display(self):\n",
    "        print(f'the sum:{self.c}')\n",
    "    def create_object(self):\n",
    "        self.obj=self.nested(self.a,self.b)\n",
    "        \n",
    "    class nested:\n",
    "        def __init__(self,x,y):\n",
    "            self.x=x\n",
    "            self.y=y\n",
    "            self.c=self.x-self.y   \n",
    "        def display(self):\n",
    "            print(f'the subtraction:{self.c}')\n",
    "        def create_object(self):\n",
    "            self.obj1=self.nestedd(self.x,self.y)\n",
    "        \n",
    "        class nestedd:\n",
    "            def __init__(self,x,y):\n",
    "                self.x=x\n",
    "                self.y=y\n",
    "                self.c=self.x*self.y\n",
    "            def display(self):\n",
    "                print(f'the multiplication: {self.c}')\n",
    "                \n",
    "            def create_object(self):\n",
    "                self.obj2=self.nested2(self.x,self.y)\n",
    "            \n",
    "            class nested2:\n",
    "                def __init__(self,x,y):\n",
    "                    self.x=x\n",
    "                    self.y=y\n",
    "                    self.c=self.x/self.y\n",
    "                def display(self):\n",
    "                    print(f'the division: {self.c}')\n",
    "                    \n",
    "                \n",
    "objp=parent(int(input('enter the value: ')),int(input('enter the vlaue: '))) \n",
    "objp.display() \n",
    "objp.create_object()\n",
    "o=objp.obj\n",
    "o.display()\n",
    "o.create_object()\n",
    "p=o.obj1\n",
    "p.display()\n",
    "p.create_object()\n",
    "q=p.obj2\n",
    "q.display()\n"
   ]
  },
  {
   "cell_type": "code",
   "execution_count": 25,
   "id": "cbc66acb",
   "metadata": {},
   "outputs": [
    {
     "name": "stdout",
     "output_type": "stream",
     "text": [
      "Z Z Z Z Z Z Z Z \n",
      "          W# W# W# \n",
      "      CV-) CV-) CV-) CV-) CV-) \n",
      "      YY YY YY YY YY \n",
      "^& ^&             \n",
      "*_ *_ *_ *_         \n"
     ]
    }
   ],
   "source": [
    "'''input string1 : Z8W#3CV-)5YY5^&2*_4\n",
    "output : \n",
    "Z                ^&  *_\n",
    "Z                ^&  *_\n",
    "Z                    *_\n",
    "Z      CV-)  YY      *_\n",
    "Z      CV-)  YY \n",
    "Z  W#  CV-)  YY\n",
    "Z  W#  CV-)  YY\n",
    "Z  W#  CV-)  YY '''\n",
    "\n",
    "s='Z8W#3CV-)5YY5^&2*_4'\n",
    "a=[]\n",
    "for i in s:\n",
    "    if i.isdigit():\n",
    "        a.append(int(i))        \n",
    "c,b='',max(a)\n",
    "for i in s:\n",
    "    if i.isdigit():\n",
    "        d,e=b-int(i),int(i)\n",
    "        if int(i)%2==0:\n",
    "            for j in range(e):\n",
    "                print(c,end=' ')\n",
    "            for k in range(d):\n",
    "                print(' ',end=' ')\n",
    "        else:\n",
    "            for j in range(d):\n",
    "                print(' ',end=' ')\n",
    "            for k in range(e):\n",
    "                print(c,end=' ')     \n",
    "        print()\n",
    "        c='' \n",
    "    else:\n",
    "        c+=i"
   ]
  },
  {
   "cell_type": "code",
   "execution_count": 26,
   "id": "dde9f3c7",
   "metadata": {},
   "outputs": [
    {
     "name": "stdout",
     "output_type": "stream",
     "text": [
      "Z\n",
      "Z\n",
      "Z\n",
      "Z\n",
      "Z\n",
      "Z\n",
      "Z\n",
      "Z\n",
      " \n",
      " \n",
      " \n",
      " \n",
      " \n",
      "W#\n",
      "W#\n",
      "W#\n",
      " \n",
      " \n",
      " \n",
      "CV-)\n",
      "CV-)\n",
      "CV-)\n",
      "CV-)\n",
      "CV-)\n",
      " \n",
      " \n",
      " \n",
      "YY\n",
      "YY\n",
      "YY\n",
      "YY\n",
      "YY\n",
      "^&\n",
      "^&\n",
      " \n",
      " \n",
      " \n",
      " \n",
      " \n",
      " \n",
      "*_\n",
      "*_\n",
      "*_\n",
      "*_\n",
      " \n",
      " \n",
      " \n",
      " \n"
     ]
    }
   ],
   "source": [
    "'''input string1 : Z8W#3CV-)5YY5^&2*_4\n",
    "output : \n",
    "Z                ^&  *_\n",
    "Z                ^&  *_\n",
    "Z                    *_\n",
    "Z      CV-)  YY      *_\n",
    "Z      CV-)  YY \n",
    "Z  W#  CV-)  YY\n",
    "Z  W#  CV-)  YY\n",
    "Z  W#  CV-)  YY '''\n",
    "\n",
    "s='Z8W#3CV-)5YY5^&2*_4'\n",
    "a=[]\n",
    "for i in s:\n",
    "    if i.isdigit():\n",
    "        a.append(int(i))        \n",
    "c,b='',max(a)\n",
    "for i in s:\n",
    "    if i.isdigit():\n",
    "        d,e=b-int(i),int(i)\n",
    "        if int(i)%2==0:\n",
    "            for j in range(e):\n",
    "                print(c,)\n",
    "            for k in range(d):\n",
    "                print(' ')\n",
    "        else:\n",
    "            for j in range(d):\n",
    "                print(' ')\n",
    "            for k in range(e):\n",
    "                print(c)     \n",
    "        c='' \n",
    "    else:\n",
    "        c+=i"
   ]
  },
  {
   "cell_type": "code",
   "execution_count": null,
   "id": "20a94211",
   "metadata": {},
   "outputs": [],
   "source": [
    "'''input string1 : Z8W#3CV-)5YY5^&2*_4\n",
    "output : \n",
    "Z                ^&  *_\n",
    "Z                ^&  *_\n",
    "Z                    *_\n",
    "Z      CV-)  YY      *_\n",
    "Z      CV-)  YY \n",
    "Z  W#  CV-)  YY\n",
    "Z  W#  CV-)  YY\n",
    "Z  W#  CV-)  YY '''\n",
    "\n",
    "\n",
    "s='Z8W#3CV-)5YY5^&2*_4'\n",
    "a,x,y=[],[],[]\n",
    "for i in s:\n",
    "    if i.isdigit():\n",
    "        a.append(int(i))        \n",
    "c,b='',max(a)\n",
    "for i in s:\n",
    "    if i.isdigit():\n",
    "        d,e=b-int(i),int(i)\n",
    "        if int(i)%2==0:\n",
    "            for j in range(e):\n",
    "                x.append(c)\n",
    "            for k in range(d):\n",
    "                x.append(' ')\n",
    "        else:\n",
    "            for j in range(d):\n",
    "                x.append(' ')\n",
    "            for k in range(e):\n",
    "                x.append(c) \n",
    "        y.append(x) \n",
    "        x.clear()\n",
    "        c='' \n",
    "        \n",
    "    else:\n",
    "        c+=i\n",
    "        "
   ]
  },
  {
   "cell_type": "markdown",
   "id": "e2c8120a",
   "metadata": {},
   "source": [
    "## compostion in python"
   ]
  },
  {
   "cell_type": "code",
   "execution_count": null,
   "id": "24ae8dbd",
   "metadata": {},
   "outputs": [],
   "source": []
  }
 ],
 "metadata": {
  "kernelspec": {
   "display_name": "Python 3",
   "language": "python",
   "name": "python3"
  },
  "language_info": {
   "codemirror_mode": {
    "name": "ipython",
    "version": 3
   },
   "file_extension": ".py",
   "mimetype": "text/x-python",
   "name": "python",
   "nbconvert_exporter": "python",
   "pygments_lexer": "ipython3",
   "version": "3.7.11"
  }
 },
 "nbformat": 4,
 "nbformat_minor": 5
}
