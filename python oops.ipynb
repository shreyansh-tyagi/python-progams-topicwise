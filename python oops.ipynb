{
 "cells": [
  {
   "cell_type": "markdown",
   "id": "blocked-citizen",
   "metadata": {},
   "source": [
    "# object-oriented-programming(oops)"
   ]
  },
  {
   "cell_type": "markdown",
   "id": "indonesian-sudan",
   "metadata": {},
   "source": [
    "## class and object :-"
   ]
  },
  {
   "cell_type": "code",
   "execution_count": 4,
   "id": "scenic-danger",
   "metadata": {},
   "outputs": [
    {
     "name": "stdout",
     "output_type": "stream",
     "text": [
      "making a call\n",
      "playing games\n"
     ]
    }
   ],
   "source": [
    "class Phone: # a class should always start with a class keyword and the first letter of \n",
    "             #class should capital\n",
    "    def make_call(self): #functionality of class \n",
    "        print('making a call')\n",
    "    def play_games(self):\n",
    "        print('playing games')\n",
    "p=Phone() #creating object or instanciating the object \n",
    "p.make_call() #invoking the object\n",
    "p.play_games()\n"
   ]
  },
  {
   "cell_type": "code",
   "execution_count": 26,
   "id": "appreciated-addiction",
   "metadata": {},
   "outputs": [
    {
     "name": "stdout",
     "output_type": "stream",
     "text": [
      "making call\n",
      "playing games\n"
     ]
    }
   ],
   "source": [
    "class Phone:\n",
    "    def set_color(self,color):\n",
    "        self.color=color\n",
    "    def set_cost(self,cost):\n",
    "        self.cost=cost\n",
    "    def get_color(self):\n",
    "        return self.color\n",
    "    def get_cost(self):\n",
    "        return self.cost\n",
    "    def make_call(self):\n",
    "        print('making call')\n",
    "    def play_games(self):\n",
    "        print('playing games')\n",
    "p1=Phone()\n",
    "p1.set_color('blue')\n",
    "p1.set_cost(200)\n",
    "p1.get_color()\n",
    "p1.get_cost()\n",
    "p1.make_call()\n",
    "p1.play_games()"
   ]
  },
  {
   "cell_type": "code",
   "execution_count": 25,
   "id": "exceptional-technique",
   "metadata": {},
   "outputs": [
    {
     "data": {
      "text/plain": [
       "100"
      ]
     },
     "execution_count": 25,
     "metadata": {},
     "output_type": "execute_result"
    }
   ],
   "source": [
    "class Runnow:\n",
    "    def setcost(self,cost):\n",
    "        self.cost=cost\n",
    "        return self.cost\n",
    "class Next:    \n",
    "    def setcolor(self,color):\n",
    "        self.color=color\n",
    "        return self.color\n",
    "r=Runnow()\n",
    "n=Next()\n",
    "r.setcost('blue')\n",
    "n.setcolor(100)\n"
   ]
  },
  {
   "cell_type": "code",
   "execution_count": 32,
   "id": "enhanced-ghana",
   "metadata": {},
   "outputs": [
    {
     "name": "stdout",
     "output_type": "stream",
     "text": [
      "<__main__.Employee object at 0x7fae5011f710>\n",
      "<__main__.Employee object at 0x7fae5011f750>\n",
      "10000\n",
      "shrey\n",
      "tyagi\n",
      "aryan\n"
     ]
    }
   ],
   "source": [
    "class Employee:\n",
    "    pass\n",
    "emp1=Employee()\n",
    "emp2=Employee()\n",
    "print(emp1)\n",
    "print(emp2)\n",
    "emp1.name='shrey'\n",
    "emp1.lastname='tyagi'\n",
    "emp1.salary=10000\n",
    "emp2.name='aryan'\n",
    "emp2.lastname='tyagi'\n",
    "emp2.salary=10000\n",
    "print(emp1.salary)\n",
    "print(emp1.name)\n",
    "print(emp1.lastname)\n",
    "print(emp2.name)"
   ]
  },
  {
   "cell_type": "code",
   "execution_count": 40,
   "id": "dangerous-master",
   "metadata": {},
   "outputs": [
    {
     "name": "stdout",
     "output_type": "stream",
     "text": [
      "enter your first name: shrey\n",
      "enter your last name: tyagi\n",
      "enter your salary: 20000\n",
      "<__main__.Employee object at 0x7fae50138f50>\n",
      "corey.edward@gmail.com\n",
      "corey\n",
      "shrey\n",
      "tyagi\n",
      "shrey.tyagi@gmail.com\n"
     ]
    }
   ],
   "source": [
    "# class with object and constructor\n",
    "class Employee:\n",
    "    def __init__(self,first,last,pay):\n",
    "        self.fname=first\n",
    "        self.last=last\n",
    "        self.pay=pay\n",
    "        self.email=first+'.'+last+'@'+'gmail.com'\n",
    "emp1=Employee('corey','edward',20000)\n",
    "a=input('enter your first name: ')\n",
    "b=input('enter your last name: ')\n",
    "c=int(input('enter your salary: '))\n",
    "emp2=Employee(a,b,c)\n",
    "print(emp1)\n",
    "print(emp1.email)\n",
    "print(emp1.fname)\n",
    "print(emp2.fname)\n",
    "print(emp2.last)\n",
    "print(emp2.email)"
   ]
  },
  {
   "cell_type": "code",
   "execution_count": 1,
   "id": "annoying-validation",
   "metadata": {},
   "outputs": [
    {
     "name": "stdout",
     "output_type": "stream",
     "text": [
      "enter your first name: shrey\n",
      "enter your last name: tyagi\n",
      "enter your  salary: 3000\n",
      "fisrt name: corey last name: edward with salary 20000         and email corey.edward@gmail.com\n",
      "None\n",
      "fisrt name: shrey last name: tyagi with salary 3000         and email shrey.tyagi@gmail.com\n",
      "None\n",
      "fisrt name: shrey last name: tyagi with salary 3000         and email shrey.tyagi@gmail.com\n"
     ]
    }
   ],
   "source": [
    "class Employee:  #class\n",
    "    def __init__(self,first,last,pay): #constructor\n",
    "        self.fname=first\n",
    "        self.last=last\n",
    "        self.pay=pay\n",
    "        self.email=first+'.'+last+'@'+'gmail.com'\n",
    "    def fullname(self): #function inside class \n",
    "         print(f'fisrt name: {self.fname} last name: {self.last} with salary {self.pay}\\\n",
    "         and email {self.email}')\n",
    "emp1=Employee('corey','edward',20000) #instantiating object or creating object\n",
    "#and passing value to constructor which should be in same order\n",
    "a=input('enter your first name: ')\n",
    "b=input('enter your last name: ')\n",
    "c=int(input('enter your  salary: '))\n",
    "emp2=Employee(a,b,c) #another object taking input from user \n",
    "# instantiating object or creating object but with some input\n",
    "print(emp1.fullname()) #invoking object1 \n",
    "print(emp2.fullname()) #invoking object 2 , here need to pass the argument inside\n",
    "Employee.fullname(emp2) # but here while calling the member of class using the \n",
    "#class name an instance name should be passed"
   ]
  },
  {
   "cell_type": "code",
   "execution_count": 9,
   "id": "raising-yield",
   "metadata": {},
   "outputs": [
    {
     "name": "stdout",
     "output_type": "stream",
     "text": [
      "decorator started\n",
      "enter your name: dsdf\n",
      "enter your age: 123\n",
      "enter your grade: 23\n"
     ]
    },
    {
     "ename": "TypeError",
     "evalue": "'NoneType' object is not callable",
     "output_type": "error",
     "traceback": [
      "\u001b[0;31m---------------------------------------------------------------------------\u001b[0m",
      "\u001b[0;31mTypeError\u001b[0m                                 Traceback (most recent call last)",
      "\u001b[0;32m<ipython-input-9-41914c6c88eb>\u001b[0m in \u001b[0;36m<module>\u001b[0;34m\u001b[0m\n\u001b[0;32m----> 1\u001b[0;31m \u001b[0;32mclass\u001b[0m \u001b[0mStudent\u001b[0m\u001b[0;34m:\u001b[0m\u001b[0;34m\u001b[0m\u001b[0;34m\u001b[0m\u001b[0m\n\u001b[0m\u001b[1;32m      2\u001b[0m     \u001b[0;32mdef\u001b[0m \u001b[0m__init__\u001b[0m\u001b[0;34m(\u001b[0m\u001b[0mself\u001b[0m\u001b[0;34m,\u001b[0m\u001b[0mname\u001b[0m\u001b[0;34m,\u001b[0m\u001b[0mage\u001b[0m\u001b[0;34m,\u001b[0m\u001b[0mgrade\u001b[0m\u001b[0;34m)\u001b[0m\u001b[0;34m:\u001b[0m\u001b[0;34m\u001b[0m\u001b[0;34m\u001b[0m\u001b[0m\n\u001b[1;32m      3\u001b[0m         \u001b[0mself\u001b[0m\u001b[0;34m.\u001b[0m\u001b[0mname\u001b[0m\u001b[0;34m=\u001b[0m\u001b[0mname\u001b[0m\u001b[0;34m\u001b[0m\u001b[0;34m\u001b[0m\u001b[0m\n\u001b[1;32m      4\u001b[0m         \u001b[0mself\u001b[0m\u001b[0;34m.\u001b[0m\u001b[0mage\u001b[0m\u001b[0;34m=\u001b[0m\u001b[0mage\u001b[0m\u001b[0;34m\u001b[0m\u001b[0;34m\u001b[0m\u001b[0m\n\u001b[1;32m      5\u001b[0m         \u001b[0mself\u001b[0m\u001b[0;34m.\u001b[0m\u001b[0mgrade\u001b[0m\u001b[0;34m=\u001b[0m\u001b[0mgrade\u001b[0m\u001b[0;34m\u001b[0m\u001b[0;34m\u001b[0m\u001b[0m\n",
      "\u001b[0;32m<ipython-input-9-41914c6c88eb>\u001b[0m in \u001b[0;36mStudent\u001b[0;34m()\u001b[0m\n\u001b[1;32m     16\u001b[0m     \u001b[0mage\u001b[0m\u001b[0;34m=\u001b[0m\u001b[0mint\u001b[0m\u001b[0;34m(\u001b[0m\u001b[0minput\u001b[0m\u001b[0;34m(\u001b[0m\u001b[0;34m'enter your age: '\u001b[0m\u001b[0;34m)\u001b[0m\u001b[0;34m)\u001b[0m\u001b[0;34m\u001b[0m\u001b[0;34m\u001b[0m\u001b[0m\n\u001b[1;32m     17\u001b[0m     \u001b[0mgrade\u001b[0m\u001b[0;34m=\u001b[0m\u001b[0mint\u001b[0m\u001b[0;34m(\u001b[0m\u001b[0minput\u001b[0m\u001b[0;34m(\u001b[0m\u001b[0;34m'enter your grade: '\u001b[0m\u001b[0;34m)\u001b[0m\u001b[0;34m)\u001b[0m\u001b[0;34m\u001b[0m\u001b[0;34m\u001b[0m\u001b[0m\n\u001b[0;32m---> 18\u001b[0;31m     \u001b[0mcalldeco\u001b[0m\u001b[0;34m(\u001b[0m\u001b[0mname\u001b[0m\u001b[0;34m,\u001b[0m\u001b[0mage\u001b[0m\u001b[0;34m,\u001b[0m\u001b[0mgrade\u001b[0m\u001b[0;34m)\u001b[0m\u001b[0;34m\u001b[0m\u001b[0;34m\u001b[0m\u001b[0m\n\u001b[0m\u001b[1;32m     19\u001b[0m \u001b[0;31m#obj1=Employee.calldeco(name,age,grade)\u001b[0m\u001b[0;34m\u001b[0m\u001b[0;34m\u001b[0m\u001b[0;34m\u001b[0m\u001b[0m\n\u001b[1;32m     20\u001b[0m \u001b[0;31m#obj1.deco()\u001b[0m\u001b[0;34m\u001b[0m\u001b[0;34m\u001b[0m\u001b[0;34m\u001b[0m\u001b[0m\n",
      "\u001b[0;31mTypeError\u001b[0m: 'NoneType' object is not callable"
     ]
    }
   ],
   "source": [
    "class Student:\n",
    "    def __init__(self,name,age,grade):\n",
    "        self.name=name\n",
    "        self.age=age\n",
    "        self.grade=grade\n",
    "    def deco(text):\n",
    "        print('decorator started')\n",
    "        def innerdeco(*args,**kwargs):\n",
    "            print('inner decorator started')\n",
    "            text(*args,**kwargs)\n",
    "            print('inner decorator ended')\n",
    "    @deco\n",
    "    def calldeco(name,age,grade):\n",
    "        print(name)\n",
    "    name=input('enter your name: ')\n",
    "    age=int(input('enter your age: '))\n",
    "    grade=int(input('enter your grade: '))\n",
    "    calldeco(name,age,grade)    \n",
    "obj1=Employee.calldeco(name,age,grade)\n",
    "obj1.deco()\n",
    "        \n",
    "        \n",
    "            "
   ]
  },
  {
   "cell_type": "code",
   "execution_count": 4,
   "id": "accredited-barbados",
   "metadata": {},
   "outputs": [
    {
     "name": "stdout",
     "output_type": "stream",
     "text": [
      "[<__main__.Student object at 0x7fa62c4ba390>]\n",
      "true\n",
      "false\n",
      "[<__main__.Student object at 0x7fa62c4ba390>, <__main__.Student object at 0x7fa62c4ba490>]\n",
      "true\n",
      "false\n",
      "false\n",
      "80.0\n",
      "85\n",
      "75\n"
     ]
    }
   ],
   "source": [
    "class Student:\n",
    "    def __init__(self,name,age,grade):\n",
    "        self.name=name\n",
    "        self.age=age\n",
    "        self.grade=grade\n",
    "    def get_std(self):\n",
    "        return self.grade\n",
    "class Course:\n",
    "    def __init__(self,course,max_student):\n",
    "        self.course=course\n",
    "        self.maxs=max_student\n",
    "        self.student=[]\n",
    "    def std_details(self,student):\n",
    "        if len(self.student)<self.maxs:\n",
    "            self.student.append(student)\n",
    "            print(self.student)\n",
    "            print('true')\n",
    "        print('false')\n",
    "    def avg(self):\n",
    "        value=0\n",
    "        for i in self.student:\n",
    "            value+=i.get_std()\n",
    "        return value/len(self.student)\n",
    "s1=Student('shrey',21,85)\n",
    "s2=Student('mani',22,75)\n",
    "s3=Student('manu',22,70)\n",
    "c1=Course('science',2)\n",
    "c1.std_details(s1)\n",
    "c1.std_details(s2)\n",
    "c1.std_details(s3)\n",
    "print(c1.avg())\n",
    "print(s1.get_std())\n",
    "print(s2.get_std())\n",
    "\n",
    "        \n",
    "        \n",
    "    "
   ]
  },
  {
   "cell_type": "code",
   "execution_count": 10,
   "id": "municipal-airplane",
   "metadata": {},
   "outputs": [
    {
     "name": "stdout",
     "output_type": "stream",
     "text": [
      "enter the number of student: 3\n",
      "enter the number of subject: 3\n",
      "\n",
      "\n",
      "enter student name: e\n",
      "enter student age: 21\n",
      "enter student course: science\n",
      "enter the marks of 3 subjects: 20 30 40\n",
      "\n",
      "\n",
      "total of all subject of e is 90\n",
      "average of e is 30.0\n",
      "\n",
      "\n",
      "Stundent Name: e\n",
      "Student Age: 21\n",
      "Student Course: science\n",
      "\n",
      "\n",
      "e is Fail\n",
      "\n",
      "\n",
      "enter student name: r\n",
      "enter student age: 33\n",
      "enter student course: commerce\n",
      "enter the marks of 3 subjects: 40 50 60\n",
      "\n",
      "\n",
      "total of all subject of r is 150\n",
      "average of r is 50.0\n",
      "\n",
      "\n",
      "Stundent Name: r\n",
      "Student Age: 33\n",
      "Student Course: commerce\n",
      "\n",
      "\n",
      "r achieved C grade\n",
      "\n",
      "\n",
      "enter student name: t\n",
      "enter student age: 22\n",
      "enter student course: science\n",
      "enter the marks of 3 subjects: 40 70 80\n",
      "\n",
      "\n",
      "total of all subject of t is 190\n",
      "average of t is 63.333333333333336\n",
      "\n",
      "\n",
      "Stundent Name: t\n",
      "Student Age: 22\n",
      "Student Course: science\n",
      "\n",
      "\n",
      "t achieved B grade\n",
      "\n",
      "\n",
      "enter two course name \"science and commerce\": science commerce\n",
      "\n",
      "\n",
      "e of age 21 is in course: science\n",
      "\n",
      "\n",
      "r of age 33 is in course: commerce\n",
      "\n",
      "\n",
      "t of age 22 is in course: science\n",
      "[190, 190, 190]\n",
      "[]\n"
     ]
    }
   ],
   "source": [
    "class Student:\n",
    "    def __init__(self,name,age,course,grade):\n",
    "        self.name=name\n",
    "        self.age=age\n",
    "        self.course=course\n",
    "        self.grade=grade\n",
    "        self.avg_makrs=0\n",
    "    def getgrade(self):\n",
    "        sum=0\n",
    "        for i in range(len(self.grade)):\n",
    "            sum+=self.grade[i]\n",
    "        self.avg_marks=sum/len(self.grade)\n",
    "        print(f'\\n\\ntotal of all subject of {self.name} is {sum}')\n",
    "        print(f'average of {self.name} is {self.avg_marks}')\n",
    "        return self.avg_marks\n",
    "    def printdata(self):\n",
    "        print(f'\\n\\nStundent Name: {self.name}\\nStudent Age: {self.age}\\nStudent Course: {self.course}')\n",
    "    def grading(self):\n",
    "        if self.avg_marks>=80 and self.avg_marks<=100:\n",
    "            print(f'\\n\\n{self.name} achieved A grade')\n",
    "        elif self.avg_marks>=60 and self.avg_marks<80:\n",
    "            print(f'\\n\\n{self.name} achieved B grade')\n",
    "        elif self.avg_marks>=40 and self.avg_marks<60:\n",
    "            print(f'\\n\\n{self.name} achieved C grade')\n",
    "        else:\n",
    "            print(f'\\n\\n{self.name} is Fail')\n",
    "class Course:\n",
    "    def __init__(self,course_name,max_student):\n",
    "        self.course_name=course_name\n",
    "        self.max_student=max_student\n",
    "        self.student=[]\n",
    "        self.science=[]\n",
    "        self.commerce=[]\n",
    "    def studentdetails(self,student):\n",
    "        if len(self.student)<=self.max_student:\n",
    "            self.student.append(student)\n",
    "        else:\n",
    "            print(f'\\ndata out of range: {self.max_student}')    \n",
    "    def printdetails(self,a):\n",
    "        j=0\n",
    "        print(f'\\n\\n{self.student[a][j]} of age {self.student[a][j+1]} is in course: {self.student[a][j+2]}')\n",
    "    def dividecourse(self,a):\n",
    "        if self.student[a][2]=='science':\n",
    "            self.science.append(sum(self.student[a][3]))\n",
    "        else:\n",
    "            self.commerce.append(sum(self.student[a][3])) \n",
    "    def printsc(self):\n",
    "        print(self.science)\n",
    "        print(self.commerce)\n",
    "    def getaverage(self):\n",
    "        value=0\n",
    "        for i in range(len(self.science)):\n",
    "            value+=self.science[i]\n",
    "        print(f'\\ntotal sum of all {self.course_name[0]} students {value}')\n",
    "        v=value/len(self.science)\n",
    "        print(f'average of all {self.course_name[0]}: {v}')\n",
    "        for i in range(len(self.commerce)):\n",
    "            value+=self.commerce[i]\n",
    "        print(f'\\ntotal sum of all {self.course_name[1]} students {value}')\n",
    "        v=value/len(self.commerce)\n",
    "        print(f'average of all {self.course_name[1]}: {v}')\n",
    "max_student=int(input('enter the number of student: '))\n",
    "subject=int(input('enter the number of subject: '))\n",
    "a,b=[],[]\n",
    "for i in range(max_student):\n",
    "    name=input('\\n\\nenter student name: ')\n",
    "    age=int(input('enter student age: '))\n",
    "    course=input('enter student course: ')\n",
    "    if course=='science' or course=='commerce':\n",
    "        grade=list(map(int,input(f'enter the marks of {subject} subjects: ').split()))[:subject]\n",
    "        a=[name,age,course,grade]\n",
    "        b.append(a)\n",
    "        obj_of_student=Student(name,age,course,grade)   \n",
    "        obj_of_student.getgrade()\n",
    "        obj_of_student.printdata()\n",
    "        obj_of_student.grading()   \n",
    "    else:\n",
    "        print('\\nINVALID COURSE')\n",
    "course_name=list(map(str,input(f'\\n\\nenter two course name \"science and commerce\": ').split()))[:2]  \n",
    "if ('science' in course_name) or ('commerce' in course_name):\n",
    "    obj_of_course=Course(course_name,max_student)\n",
    "    for i in range(len(b)):\n",
    "            obj_of_course.studentdetails(b[i])\n",
    "            obj_of_course.printdetails(i)\n",
    "            obj_of_course.dividecourse(i)\n",
    "else:\n",
    "    print('\\nINVALID COURSE')\n",
    "obj_of_course.printsc()\n"
   ]
  },
  {
   "cell_type": "code",
   "execution_count": 38,
   "id": "floating-lingerie",
   "metadata": {},
   "outputs": [
    {
     "name": "stdout",
     "output_type": "stream",
     "text": [
      "enter student name: st \n",
      "enter student age: 21\n",
      "enter student course: ed\n",
      "enter student name: g\n",
      "enter student age: 3\n",
      "enter student course: r\n",
      "['g', 3, 'r']\n",
      "[['st ', 21, 'ed'], ['g', 3, 'r']]\n"
     ]
    }
   ],
   "source": [
    "a=[]\n",
    "b=[]\n",
    "for i in range(2):\n",
    "    name=input('enter student name: ')\n",
    "    age=int(input('enter student age: '))\n",
    "    course=input('enter student course: ')\n",
    "    a=[name,age,course]\n",
    "    b.append(a)\n",
    "print(a)\n",
    "print(b)"
   ]
  },
  {
   "cell_type": "code",
   "execution_count": 42,
   "id": "featured-prerequisite",
   "metadata": {},
   "outputs": [
    {
     "name": "stdout",
     "output_type": "stream",
     "text": [
      "\n",
      "\n",
      "enter two course name \"science and commerce\": science commerce\n",
      "science commerce\n"
     ]
    }
   ],
   "source": [
    "\n",
    "course_name=list(map(str,input(f'\\n\\nenter two course name \"science and commerce\": ').split()))[:2]\n",
    "print(course_name[0],course_name[1])"
   ]
  },
  {
   "cell_type": "code",
   "execution_count": 45,
   "id": "crucial-alarm",
   "metadata": {},
   "outputs": [
    {
     "name": "stdout",
     "output_type": "stream",
     "text": [
      "0\n",
      "hello\n"
     ]
    }
   ],
   "source": [
    "for i in range(1):\n",
    "    print(i)\n",
    "    print('hello')"
   ]
  },
  {
   "cell_type": "code",
   "execution_count": 6,
   "id": "criminal-worship",
   "metadata": {},
   "outputs": [
    {
     "name": "stdout",
     "output_type": "stream",
     "text": [
      "15\n"
     ]
    }
   ],
   "source": [
    "a=[1,2,3,4,5]\n",
    "print(sum(a))"
   ]
  },
  {
   "cell_type": "code",
   "execution_count": null,
   "id": "delayed-academy",
   "metadata": {},
   "outputs": [],
   "source": []
  }
 ],
 "metadata": {
  "kernelspec": {
   "display_name": "Python 3",
   "language": "python",
   "name": "python3"
  },
  "language_info": {
   "codemirror_mode": {
    "name": "ipython",
    "version": 3
   },
   "file_extension": ".py",
   "mimetype": "text/x-python",
   "name": "python",
   "nbconvert_exporter": "python",
   "pygments_lexer": "ipython3",
   "version": "3.7.10"
  }
 },
 "nbformat": 4,
 "nbformat_minor": 5
}
