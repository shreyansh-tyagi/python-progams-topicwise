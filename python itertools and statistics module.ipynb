{
 "cells": [
  {
   "cell_type": "markdown",
   "id": "38b32f12",
   "metadata": {},
   "source": [
    "# Python itertools"
   ]
  },
  {
   "cell_type": "code",
   "execution_count": 13,
   "id": "6d08538b",
   "metadata": {},
   "outputs": [
    {
     "name": "stdout",
     "output_type": "stream",
     "text": [
      "enter the size of list: 3\n",
      "enter the element into the list: 3 21 2\n",
      "enter the element into another list: 1 2 3\n",
      "result after multiply the list through map function and operator module:  3 42 6\n",
      "time taken by map function is 0.000083\n",
      "result after multiply the list through for loop\n",
      "3 42 6 \n",
      "time taken by for loop is 0.000539\n"
     ]
    }
   ],
   "source": [
    "import operator\n",
    "import time\n",
    "n=int(input('enter the size of list: '))\n",
    "a,b=list(map(int,input('enter the element into the list: ').split()))[:n],list(map(int,input('enter the element into another list: ').split()))[:n]\n",
    "t1=time.time()\n",
    "c,d,e=map(operator.mul,a,b)\n",
    "t2=time.time()\n",
    "print(\"result after multiply the list through map function and operator module: \",c,d,e)\n",
    "print(\"time taken by map function is: %.6f\" %(t2-t1))\n",
    "t1=time.time()\n",
    "print(\"result after multiply the list through for loop\")\n",
    "for i in range(n):\n",
    "    print(a[i]*b[i],end=' ')\n",
    "t2=time.time() \n",
    "print(\"\\ntime taken by for loop is: %.6f\" %(t2-t1))    \n",
    "\n"
   ]
  },
  {
   "cell_type": "code",
   "execution_count": 1,
   "id": "c8000588",
   "metadata": {},
   "outputs": [
    {
     "name": "stdout",
     "output_type": "stream",
     "text": [
      "enter the number: 5\n",
      "list is:\n",
      " [1, 2, 3, 4, 5]\n"
     ]
    },
    {
     "ename": "IndexError",
     "evalue": "pop index out of range",
     "output_type": "error",
     "traceback": [
      "\u001b[0;31m---------------------------------------------------------------------------\u001b[0m",
      "\u001b[0;31mIndexError\u001b[0m                                Traceback (most recent call last)",
      "\u001b[0;32m<ipython-input-1-fed955766132>\u001b[0m in \u001b[0;36m<module>\u001b[0;34m\u001b[0m\n\u001b[1;32m     19\u001b[0m     \u001b[0mi\u001b[0m\u001b[0;34m=\u001b[0m\u001b[0;36m2\u001b[0m\u001b[0;34m\u001b[0m\u001b[0;34m\u001b[0m\u001b[0m\n\u001b[1;32m     20\u001b[0m     \u001b[0;32mwhile\u001b[0m\u001b[0;34m(\u001b[0m\u001b[0;32mTrue\u001b[0m\u001b[0;34m)\u001b[0m\u001b[0;34m:\u001b[0m\u001b[0;34m\u001b[0m\u001b[0;34m\u001b[0m\u001b[0m\n\u001b[0;32m---> 21\u001b[0;31m         \u001b[0ma\u001b[0m\u001b[0;34m.\u001b[0m\u001b[0mpop\u001b[0m\u001b[0;34m(\u001b[0m\u001b[0mi\u001b[0m\u001b[0;34m)\u001b[0m\u001b[0;34m\u001b[0m\u001b[0;34m\u001b[0m\u001b[0m\n\u001b[0m\u001b[1;32m     22\u001b[0m         \u001b[0mi\u001b[0m\u001b[0;34m+=\u001b[0m\u001b[0;36m2\u001b[0m\u001b[0;34m\u001b[0m\u001b[0;34m\u001b[0m\u001b[0m\n\u001b[1;32m     23\u001b[0m \u001b[0;34m\u001b[0m\u001b[0m\n",
      "\u001b[0;31mIndexError\u001b[0m: pop index out of range"
     ]
    }
   ],
   "source": [
    "# strong number\n",
    "# enter any number : 17\n",
    "# iteration will be infinte \n",
    "# array will contain items till 17=[1,2,3,4,5,6,7,8,9,10,11,12,13,14,15,16,17]\n",
    "# 1st iteration delete 2nd element=[1,3,5,7,9,11,13,15,17]\n",
    "# 2nd iteration delete 3rd element=[1,3,7,9,13,15]\n",
    "# 3rd iteration delete 4th element=[1,3,7,13,15]\n",
    "# 4th iteration delete 5th element=[1,3,7,13]\n",
    "# 5th iteration delete 6th element=[1,3,7,13]\n",
    "# hence the strong number till 17 are 1,3,7,13\n",
    "# now find the list of strong number till 100 when number of iteration are infinte\n",
    "# if the entered number is strong number then print 'yes' otherwise 'no'\n",
    "n=int(input(\"enter the number: \"))\n",
    "a=[]\n",
    "for i in range(1,n+1):\n",
    "    a.append(i)\n",
    "print('list is:\\n',a) \n",
    "while(True):\n",
    "    i=2\n",
    "    while(True):\n",
    "        a.pop(i)\n",
    "        i+=2\n",
    "    \n",
    "print(a)\n",
    "    "
   ]
  },
  {
   "cell_type": "markdown",
   "id": "29f9768b",
   "metadata": {},
   "source": [
    "## Types of itertools:\n",
    "### a) infinite iterators: There are three types of infinite iterator\n",
    "####  -- count(start,step) \n",
    "####  --cycle(iterable)\n",
    "####  --repeat(var,num)"
   ]
  },
  {
   "cell_type": "code",
   "execution_count": 3,
   "id": "e64c707a",
   "metadata": {},
   "outputs": [
    {
     "name": "stdout",
     "output_type": "stream",
     "text": [
      "5 10 15 20 25 30 35 40 45 "
     ]
    }
   ],
   "source": [
    "import itertools\n",
    "for i in itertools.count(5,5):\n",
    "    if i==50:\n",
    "        break\n",
    "    else:\n",
    "        print(i,end=' ')"
   ]
  },
  {
   "cell_type": "code",
   "execution_count": 8,
   "id": "76ad97e5",
   "metadata": {},
   "outputs": [
    {
     "name": "stdout",
     "output_type": "stream",
     "text": [
      "A\n"
     ]
    }
   ],
   "source": [
    "import itertools\n",
    "a=itertools.cycle('Abcde')\n",
    "print(next(a))"
   ]
  },
  {
   "cell_type": "code",
   "execution_count": 1,
   "id": "5b7c9e38",
   "metadata": {},
   "outputs": [
    {
     "name": "stdout",
     "output_type": "stream",
     "text": [
      "A b c d e "
     ]
    }
   ],
   "source": [
    "import itertools\n",
    "a=itertools.cycle('Abcde')\n",
    "for i in range(5):\n",
    "    print(next(a),end=' ')"
   ]
  },
  {
   "cell_type": "code",
   "execution_count": 2,
   "id": "47198e6e",
   "metadata": {},
   "outputs": [
    {
     "name": "stdout",
     "output_type": "stream",
     "text": [
      "A b A b A b A b "
     ]
    }
   ],
   "source": [
    "import itertools\n",
    "count=0\n",
    "for i in itertools.cycle('Ab'):\n",
    "    if count>7:\n",
    "        break  #if no break is used than iteration will be infinte \n",
    "    else:\n",
    "        print(i,end=' ')\n",
    "        count+=1"
   ]
  },
  {
   "cell_type": "code",
   "execution_count": 3,
   "id": "8f40add4",
   "metadata": {},
   "outputs": [
    {
     "name": "stdout",
     "output_type": "stream",
     "text": [
      "[5, 5, 5, 5, 5]\n"
     ]
    }
   ],
   "source": [
    "import itertools\n",
    "print(list(itertools.repeat(5,5))) # repeat(var,num)\n",
    "# if 'num' is not used then iteration will be infinte "
   ]
  },
  {
   "cell_type": "code",
   "execution_count": 6,
   "id": "f7e1b0bd",
   "metadata": {},
   "outputs": [
    {
     "name": "stdout",
     "output_type": "stream",
     "text": [
      "enter the string: abcdef\n",
      "720\n",
      "{('b', 'a', 'e', 'c', 'f', 'd'), ('e', 'd', 'b', 'f', 'c', 'a'), ('f', 'a', 'e', 'c', 'b', 'd'), ('f', 'a', 'c', 'd', 'b', 'e'), ('a', 'f', 'd', 'e', 'c', 'b'), ('e', 'f', 'c', 'a', 'b', 'd'), ('a', 'f', 'e', 'c', 'b', 'd'), ('a', 'c', 'b', 'e', 'd', 'f'), ('f', 'a', 'd', 'e', 'c', 'b'), ('c', 'f', 'd', 'e', 'b', 'a'), ('c', 'e', 'a', 'b', 'd', 'f'), ('e', 'b', 'c', 'a', 'f', 'd'), ('a', 'd', 'c', 'e', 'b', 'f'), ('b', 'c', 'f', 'a', 'e', 'd'), ('a', 'f', 'c', 'e', 'd', 'b'), ('b', 'f', 'c', 'e', 'd', 'a'), ('d', 'e', 'f', 'c', 'a', 'b'), ('e', 'c', 'd', 'a', 'f', 'b'), ('a', 'b', 'c', 'd', 'f', 'e'), ('b', 'f', 'e', 'a', 'd', 'c'), ('c', 'b', 'e', 'f', 'd', 'a'), ('a', 'd', 'f', 'c', 'b', 'e'), ('a', 'd', 'f', 'c', 'e', 'b'), ('f', 'b', 'e', 'a', 'd', 'c'), ('e', 'a', 'd', 'f', 'b', 'c'), ('c', 'f', 'e', 'd', 'b', 'a'), ('f', 'c', 'b', 'a', 'e', 'd'), ('f', 'c', 'd', 'a', 'b', 'e'), ('f', 'c', 'd', 'a', 'e', 'b'), ('f', 'd', 'c', 'b', 'a', 'e'), ('c', 'b', 'd', 'f', 'a', 'e'), ('c', 'd', 'e', 'b', 'a', 'f'), ('b', 'c', 'd', 'f', 'a', 'e'), ('d', 'a', 'f', 'b', 'c', 'e'), ('d', 'f', 'b', 'a', 'e', 'c'), ('e', 'b', 'a', 'c', 'd', 'f'), ('b', 'e', 'c', 'd', 'a', 'f'), ('d', 'b', 'c', 'f', 'a', 'e'), ('c', 'e', 'f', 'd', 'b', 'a'), ('d', 'f', 'c', 'a', 'b', 'e'), ('b', 'd', 'e', 'c', 'a', 'f'), ('d', 'f', 'c', 'a', 'e', 'b'), ('f', 'a', 'b', 'c', 'e', 'd'), ('f', 'a', 'b', 'd', 'e', 'c'), ('b', 'e', 'a', 'f', 'c', 'd'), ('d', 'a', 'e', 'b', 'c', 'f'), ('d', 'b', 'e', 'f', 'c', 'a'), ('e', 'c', 'b', 'a', 'f', 'd'), ('a', 'e', 'f', 'c', 'd', 'b'), ('b', 'f', 'a', 'e', 'd', 'c'), ('b', 'e', 'a', 'c', 'f', 'd'), ('f', 'd', 'c', 'a', 'b', 'e'), ('c', 'b', 'e', 'a', 'd', 'f'), ('b', 'e', 'd', 'a', 'c', 'f'), ('b', 'f', 'd', 'a', 'c', 'e'), ('f', 'a', 'b', 'e', 'c', 'd'), ('a', 'f', 'c', 'b', 'd', 'e'), ('d', 'e', 'c', 'a', 'b', 'f'), ('d', 'f', 'c', 'e', 'a', 'b'), ('a', 'd', 'b', 'e', 'f', 'c'), ('d', 'f', 'e', 'b', 'c', 'a'), ('f', 'e', 'c', 'b', 'd', 'a'), ('d', 'f', 'a', 'b', 'e', 'c'), ('d', 'a', 'b', 'f', 'c', 'e'), ('c', 'f', 'd', 'a', 'b', 'e'), ('c', 'f', 'd', 'a', 'e', 'b'), ('d', 'b', 'c', 'e', 'f', 'a'), ('b', 'd', 'e', 'f', 'c', 'a'), ('a', 'b', 'c', 'f', 'e', 'd'), ('b', 'a', 'c', 'e', 'd', 'f'), ('c', 'd', 'f', 'e', 'a', 'b'), ('d', 'e', 'b', 'c', 'a', 'f'), ('a', 'e', 'b', 'd', 'f', 'c'), ('e', 'b', 'f', 'a', 'c', 'd'), ('e', 'b', 'd', 'c', 'a', 'f'), ('e', 'd', 'c', 'f', 'b', 'a'), ('e', 'c', 'a', 'f', 'd', 'b'), ('f', 'b', 'd', 'c', 'e', 'a'), ('a', 'd', 'e', 'c', 'b', 'f'), ('f', 'd', 'e', 'c', 'a', 'b'), ('b', 'f', 'c', 'a', 'd', 'e'), ('e', 'd', 'a', 'f', 'b', 'c'), ('f', 'e', 'b', 'c', 'a', 'd'), ('f', 'e', 'd', 'c', 'a', 'b'), ('d', 'e', 'c', 'b', 'a', 'f'), ('c', 'd', 'e', 'f', 'b', 'a'), ('c', 'd', 'f', 'b', 'e', 'a'), ('b', 'a', 'c', 'd', 'e', 'f'), ('f', 'a', 'e', 'c', 'd', 'b'), ('f', 'e', 'b', 'd', 'a', 'c'), ('d', 'f', 'e', 'a', 'c', 'b'), ('e', 'b', 'c', 'a', 'd', 'f'), ('c', 'd', 'e', 'a', 'b', 'f'), ('e', 'a', 'd', 'c', 'b', 'f'), ('a', 'c', 'e', 'f', 'd', 'b'), ('b', 'e', 'c', 'f', 'a', 'd'), ('e', 'a', 'c', 'f', 'd', 'b'), ('c', 'e', 'a', 'b', 'f', 'd'), ('d', 'e', 'a', 'c', 'b', 'f'), ('c', 'f', 'd', 'e', 'a', 'b'), ('e', 'c', 'f', 'a', 'd', 'b'), ('b', 'd', 'e', 'c', 'f', 'a'), ('f', 'e', 'a', 'c', 'b', 'd'), ('c', 'd', 'a', 'f', 'e', 'b'), ('a', 'd', 'b', 'c', 'e', 'f'), ('a', 'c', 'd', 'e', 'f', 'b'), ('d', 'a', 'f', 'c', 'b', 'e'), ('d', 'a', 'f', 'c', 'e', 'b'), ('d', 'b', 'f', 'c', 'a', 'e'), ('a', 'f', 'c', 'e', 'b', 'd'), ('d', 'c', 'f', 'a', 'b', 'e'), ('d', 'c', 'f', 'a', 'e', 'b'), ('b', 'e', 'f', 'a', 'c', 'd'), ('e', 'f', 'a', 'c', 'd', 'b'), ('f', 'e', 'd', 'a', 'b', 'c'), ('c', 'd', 'b', 'a', 'f', 'e'), ('e', 'd', 'b', 'c', 'f', 'a'), ('b', 'e', 'd', 'f', 'a', 'c'), ('f', 'b', 'e', 'c', 'a', 'd'), ('f', 'c', 'b', 'a', 'd', 'e'), ('b', 'c', 'a', 'd', 'e', 'f'), ('d', 'b', 'f', 'e', 'a', 'c'), ('a', 'd', 'c', 'e', 'f', 'b'), ('e', 'f', 'a', 'b', 'c', 'd'), ('f', 'b', 'e', 'd', 'a', 'c'), ('d', 'a', 'f', 'e', 'c', 'b'), ('f', 'a', 'b', 'c', 'd', 'e'), ('c', 'b', 'e', 'a', 'f', 'd'), ('d', 'e', 'b', 'c', 'f', 'a'), ('a', 'e', 'f', 'c', 'b', 'd'), ('d', 'f', 'b', 'c', 'e', 'a'), ('e', 'b', 'f', 'c', 'a', 'd'), ('e', 'c', 'f', 'd', 'a', 'b'), ('d', 'b', 'c', 'e', 'a', 'f'), ('a', 'c', 'f', 'e', 'd', 'b'), ('d', 'c', 'a', 'f', 'b', 'e'), ('d', 'c', 'a', 'f', 'e', 'b'), ('d', 'c', 'e', 'a', 'b', 'f'), ('e', 'c', 'f', 'b', 'a', 'd'), ('a', 'd', 'b', 'f', 'e', 'c'), ('b', 'f', 'a', 'c', 'e', 'd'), ('a', 'f', 'c', 'b', 'e', 'd'), ('b', 'a', 'c', 'f', 'd', 'e'), ('f', 'b', 'a', 'c', 'd', 'e'), ('f', 'd', 'a', 'b', 'e', 'c'), ('d', 'c', 'a', 'e', 'b', 'f'), ('d', 'f', 'a', 'c', 'b', 'e'), ('d', 'f', 'a', 'c', 'e', 'b'), ('d', 'f', 'c', 'e', 'b', 'a'), ('a', 'd', 'c', 'b', 'f', 'e'), ('b', 'd', 'c', 'a', 'f', 'e'), ('e', 'c', 'd', 'a', 'b', 'f'), ('f', 'd', 'b', 'c', 'e', 'a'), ('d', 'c', 'a', 'b', 'f', 'e'), ('c', 'e', 'a', 'f', 'd', 'b'), ('c', 'e', 'd', 'f', 'a', 'b'), ('e', 'c', 'a', 'b', 'f', 'd'), ('a', 'd', 'f', 'e', 'b', 'c'), ('a', 'e', 'd', 'c', 'f', 'b'), ('d', 'a', 'b', 'e', 'c', 'f'), ('e', 'b', 'd', 'f', 'c', 'a'), ('c', 'b', 'a', 'f', 'e', 'd'), ('c', 'e', 'd', 'a', 'f', 'b'), ('a', 'b', 'd', 'f', 'c', 'e'), ('c', 'f', 'b', 'd', 'a', 'e'), ('c', 'd', 'f', 'a', 'b', 'e'), ('c', 'e', 'd', 'a', 'b', 'f'), ('e', 'd', 'f', 'a', 'c', 'b'), ('b', 'd', 'c', 'f', 'e', 'a'), ('a', 'c', 'd', 'f', 'e', 'b'), ('a', 'e', 'd', 'f', 'b', 'c'), ('c', 'd', 'f', 'b', 'a', 'e'), ('d', 'b', 'e', 'a', 'f', 'c'), ('b', 'd', 'f', 'e', 'a', 'c'), ('e', 'b', 'a', 'f', 'c', 'd'), ('e', 'f', 'd', 'c', 'b', 'a'), ('b', 'e', 'f', 'c', 'a', 'd'), ('f', 'a', 'c', 'd', 'e', 'b'), ('c', 'a', 'e', 'b', 'd', 'f'), ('f', 'd', 'c', 'e', 'a', 'b'), ('e', 'b', 'd', 'a', 'c', 'f'), ('a', 'b', 'f', 'd', 'e', 'c'), ('a', 'c', 'e', 'f', 'b', 'd'), ('e', 'a', 'c', 'f', 'b', 'd'), ('f', 'c', 'd', 'e', 'a', 'b'), ('c', 'f', 'a', 'd', 'e', 'b'), ('a', 'b', 'e', 'd', 'f', 'c'), ('b', 'd', 'c', 'e', 'a', 'f'), ('b', 'a', 'd', 'c', 'e', 'f'), ('b', 'c', 'e', 'a', 'd', 'f'), ('e', 'a', 'b', 'd', 'f', 'c'), ('e', 'c', 'f', 'a', 'b', 'd'), ('b', 'd', 'a', 'c', 'f', 'e'), ('f', 'e', 'a', 'c', 'd', 'b'), ('e', 'b', 'f', 'd', 'a', 'c'), ('c', 'e', 'b', 'd', 'a', 'f'), ('a', 'c', 'e', 'd', 'f', 'b'), ('b', 'd', 'e', 'a', 'f', 'c'), ('b', 'f', 'e', 'a', 'c', 'd'), ('a', 'b', 'd', 'c', 'e', 'f'), ('a', 'c', 'b', 'd', 'e', 'f'), ('e', 'b', 'a', 'd', 'c', 'f'), ('d', 'c', 'e', 'f', 'b', 'a'), ('c', 'b', 'd', 'e', 'a', 'f'), ('f', 'c', 'b', 'd', 'a', 'e'), ('f', 'e', 'a', 'b', 'd', 'c'), ('a', 'd', 'e', 'b', 'f', 'c'), ('d', 'b', 'f', 'e', 'c', 'a'), ('e', 'd', 'a', 'c', 'b', 'f'), ('f', 'd', 'b', 'e', 'a', 'c'), ('e', 'a', 'f', 'c', 'd', 'b'), ('c', 'a', 'b', 'd', 'e', 'f'), ('c', 'a', 'd', 'e', 'b', 'f'), ('a', 'c', 'b', 'f', 'e', 'd'), ('d', 'c', 'b', 'f', 'a', 'e'), ('f', 'e', 'c', 'a', 'b', 'd'), ('b', 'f', 'a', 'e', 'c', 'd'), ('b', 'a', 'f', 'e', 'c', 'd'), ('e', 'd', 'b', 'a', 'c', 'f'), ('f', 'c', 'a', 'b', 'e', 'd'), ('a', 'f', 'b', 'e', 'd', 'c'), ('d', 'e', 'a', 'f', 'c', 'b'), ('f', 'd', 'c', 'a', 'e', 'b'), ('a', 'e', 'f', 'b', 'c', 'd'), ('a', 'c', 'd', 'b', 'f', 'e'), ('f', 'a', 'c', 'b', 'd', 'e'), ('e', 'd', 'f', 'b', 'a', 'c'), ('c', 'a', 'b', 'f', 'd', 'e'), ('a', 'f', 'd', 'c', 'e', 'b'), ('b', 'f', 'a', 'c', 'd', 'e'), ('b', 'a', 'c', 'f', 'e', 'd'), ('d', 'b', 'f', 'a', 'e', 'c'), ('c', 'b', 'd', 'a', 'e', 'f'), ('d', 'e', 'f', 'b', 'a', 'c'), ('b', 'f', 'd', 'a', 'e', 'c'), ('d', 'f', 'e', 'c', 'b', 'a'), ('f', 'd', 'e', 'b', 'c', 'a'), ('b', 'e', 'c', 'a', 'f', 'd'), ('b', 'f', 'd', 'c', 'a', 'e'), ('f', 'b', 'd', 'a', 'c', 'e'), ('f', 'c', 'e', 'b', 'a', 'd'), ('b', 'c', 'f', 'e', 'd', 'a'), ('b', 'f', 'a', 'd', 'e', 'c'), ('f', 'a', 'e', 'b', 'c', 'd'), ('b', 'a', 'd', 'e', 'c', 'f'), ('c', 'b', 'f', 'a', 'd', 'e'), ('f', 'e', 'b', 'a', 'c', 'd'), ('e', 'a', 'b', 'f', 'c', 'd'), ('b', 'e', 'd', 'c', 'f', 'a'), ('e', 'f', 'd', 'a', 'c', 'b'), ('a', 'e', 'c', 'b', 'd', 'f'), ('e', 'c', 'd', 'f', 'a', 'b'), ('c', 'f', 'e', 'a', 'd', 'b'), ('c', 'f', 'b', 'a', 'e', 'd'), ('c', 'f', 'd', 'b', 'a', 'e'), ('a', 'f', 'e', 'd', 'b', 'c'), ('f', 'e', 'b', 'd', 'c', 'a'), ('e', 'a', 'f', 'b', 'd', 'c'), ('c', 'd', 'e', 'a', 'f', 'b'), ('e', 'f', 'd', 'c', 'a', 'b'), ('d', 'f', 'b', 'e', 'a', 'c'), ('e', 'b', 'a', 'f', 'd', 'c'), ('d', 'f', 'c', 'b', 'a', 'e'), ('b', 'c', 'd', 'a', 'e', 'f'), ('d', 'a', 'e', 'c', 'b', 'f'), ('a', 'b', 'e', 'c', 'f', 'd'), ('f', 'c', 'd', 'b', 'a', 'e'), ('f', 'e', 'd', 'b', 'c', 'a'), ('d', 'a', 'c', 'b', 'e', 'f'), ('b', 'a', 'c', 'd', 'f', 'e'), ('f', 'a', 'd', 'e', 'b', 'c'), ('e', 'f', 'c', 'd', 'a', 'b'), ('c', 'b', 'f', 'd', 'e', 'a'), ('c', 'd', 'a', 'f', 'b', 'e'), ('b', 'c', 'a', 'e', 'd', 'f'), ('f', 'e', 'a', 'd', 'b', 'c'), ('b', 'a', 'e', 'c', 'd', 'f'), ('f', 'b', 'e', 'a', 'c', 'd'), ('a', 'e', 'd', 'b', 'c', 'f'), ('e', 'a', 'd', 'f', 'c', 'b'), ('b', 'c', 'e', 'f', 'd', 'a'), ('c', 'f', 'a', 'b', 'e', 'd'), ('d', 'b', 'c', 'a', 'f', 'e'), ('c', 'b', 'e', 'f', 'a', 'd'), ('c', 'a', 'd', 'e', 'f', 'b'), ('f', 'a', 'd', 'b', 'c', 'e'), ('e', 'a', 'f', 'c', 'b', 'd'), ('f', 'b', 'e', 'd', 'c', 'a'), ('f', 'e', 'c', 'a', 'd', 'b'), ('a', 'c', 'b', 'f', 'd', 'e'), ('d', 'b', 'c', 'f', 'e', 'a'), ('d', 'e', 'c', 'f', 'b', 'a'), ('b', 'd', 'f', 'c', 'e', 'a'), ('d', 'a', 'e', 'b', 'f', 'c'), ('f', 'c', 'a', 'b', 'd', 'e'), ('d', 'c', 'e', 'b', 'f', 'a'), ('d', 'a', 'f', 'e', 'b', 'c'), ('b', 'e', 'a', 'f', 'd', 'c'), ('e', 'c', 'f', 'b', 'd', 'a'), ('d', 'b', 'a', 'e', 'c', 'f'), ('f', 'a', 'c', 'b', 'e', 'd'), ('c', 'd', 'b', 'f', 'a', 'e'), ('a', 'f', 'b', 'c', 'e', 'd'), ('d', 'e', 'a', 'f', 'b', 'c'), ('b', 'a', 'e', 'f', 'c', 'd'), ('d', 'e', 'b', 'f', 'a', 'c'), ('b', 'e', 'c', 'd', 'f', 'a'), ('c', 'a', 'd', 'b', 'e', 'f'), ('a', 'd', 'b', 'e', 'c', 'f'), ('e', 'a', 'd', 'c', 'f', 'b'), ('b', 'f', 'c', 'd', 'a', 'e'), ('d', 'a', 'e', 'f', 'b', 'c'), ('b', 'c', 'f', 'd', 'e', 'a'), ('d', 'f', 'e', 'b', 'a', 'c'), ('f', 'b', 'a', 'e', 'c', 'd'), ('c', 'e', 'b', 'f', 'd', 'a'), ('d', 'a', 'b', 'f', 'e', 'c'), ('d', 'c', 'f', 'e', 'b', 'a'), ('b', 'f', 'a', 'd', 'c', 'e'), ('c', 'f', 'b', 'e', 'd', 'a'), ('e', 'd', 'a', 'b', 'c', 'f'), ('e', 'd', 'b', 'c', 'a', 'f'), ('b', 'e', 'a', 'd', 'f', 'c'), ('f', 'b', 'c', 'd', 'a', 'e'), ('e', 'a', 'c', 'b', 'd', 'f'), ('c', 'a', 'f', 'd', 'b', 'e'), ('b', 'd', 'a', 'f', 'e', 'c'), ('b', 'a', 'd', 'e', 'f', 'c'), ('b', 'c', 'a', 'e', 'f', 'd'), ('c', 'b', 'f', 'a', 'e', 'd'), ('d', 'b', 'a', 'c', 'f', 'e'), ('d', 'b', 'e', 'c', 'f', 'a'), ('f', 'e', 'c', 'd', 'b', 'a'), ('c', 'd', 'f', 'a', 'e', 'b'), ('d', 'f', 'a', 'e', 'c', 'b'), ('b', 'a', 'c', 'e', 'f', 'd'), ('b', 'a', 'f', 'd', 'c', 'e'), ('e', 'f', 'b', 'c', 'a', 'd'), ('a', 'c', 'd', 'f', 'b', 'e'), ('a', 'e', 'b', 'c', 'd', 'f'), ('d', 'f', 'a', 'e', 'b', 'c'), ('e', 'a', 'b', 'f', 'd', 'c'), ('b', 'a', 'f', 'd', 'e', 'c'), ('e', 'd', 'f', 'a', 'b', 'c'), ('c', 'f', 'b', 'a', 'd', 'e'), ('f', 'c', 'a', 'e', 'b', 'd'), ('e', 'f', 'd', 'a', 'b', 'c'), ('f', 'e', 'd', 'c', 'b', 'a'), ('a', 'b', 'd', 'e', 'f', 'c'), ('e', 'd', 'a', 'c', 'f', 'b'), ('e', 'd', 'c', 'b', 'f', 'a'), ('a', 'c', 'e', 'b', 'f', 'd'), ('b', 'a', 'e', 'd', 'f', 'c'), ('c', 'd', 'e', 'f', 'a', 'b'), ('d', 'f', 'b', 'e', 'c', 'a'), ('c', 'b', 'f', 'e', 'a', 'd'), ('b', 'c', 'd', 'e', 'a', 'f'), ('e', 'b', 'a', 'c', 'f', 'd'), ('b', 'a', 'f', 'c', 'd', 'e'), ('c', 'a', 'd', 'f', 'b', 'e'), ('c', 'a', 'd', 'f', 'e', 'b'), ('f', 'c', 'a', 'd', 'b', 'e'), ('f', 'c', 'a', 'd', 'e', 'b'), ('f', 'c', 'e', 'd', 'b', 'a'), ('b', 'e', 'c', 'f', 'd', 'a'), ('c', 'f', 'a', 'd', 'b', 'e'), ('a', 'f', 'd', 'e', 'b', 'c'), ('b', 'c', 'a', 'd', 'f', 'e'), ('c', 'e', 'f', 'a', 'b', 'd'), ('d', 'c', 'e', 'a', 'f', 'b'), ('e', 'c', 'd', 'b', 'f', 'a'), ('a', 'b', 'f', 'c', 'd', 'e'), ('a', 'f', 'c', 'd', 'b', 'e'), ('e', 'a', 'f', 'd', 'b', 'c'), ('e', 'd', 'c', 'a', 'b', 'f'), ('f', 'e', 'a', 'd', 'c', 'b'), ('d', 'b', 'a', 'c', 'e', 'f'), ('d', 'e', 'b', 'a', 'c', 'f'), ('a', 'e', 'd', 'b', 'f', 'c'), ('b', 'e', 'd', 'f', 'c', 'a'), ('c', 'f', 'a', 'b', 'd', 'e'), ('e', 'f', 'c', 'b', 'a', 'd'), ('f', 'd', 'b', 'e', 'c', 'a'), ('e', 'c', 'b', 'd', 'f', 'a'), ('d', 'e', 'f', 'a', 'b', 'c'), ('d', 'f', 'b', 'a', 'c', 'e'), ('f', 'c', 'e', 'a', 'd', 'b'), ('f', 'd', 'a', 'e', 'b', 'c'), ('c', 'b', 'd', 'f', 'e', 'a'), ('c', 'e', 'b', 'a', 'd', 'f'), ('f', 'd', 'a', 'c', 'b', 'e'), ('f', 'd', 'a', 'c', 'e', 'b'), ('a', 'd', 'f', 'e', 'c', 'b'), ('c', 'e', 'f', 'd', 'a', 'b'), ('a', 'f', 'b', 'e', 'c', 'd'), ('e', 'd', 'f', 'c', 'a', 'b'), ('c', 'a', 'e', 'd', 'f', 'b'), ('a', 'c', 'd', 'e', 'b', 'f'), ('a', 'd', 'e', 'f', 'b', 'c'), ('e', 'b', 'f', 'c', 'd', 'a'), ('d', 'c', 'f', 'b', 'e', 'a'), ('c', 'b', 'd', 'a', 'f', 'e'), ('a', 'c', 'f', 'e', 'b', 'd'), ('a', 'e', 'b', 'f', 'd', 'c'), ('a', 'f', 'e', 'b', 'd', 'c'), ('d', 'b', 'a', 'e', 'f', 'c'), ('e', 'a', 'c', 'd', 'b', 'f'), ('a', 'f', 'b', 'c', 'd', 'e'), ('a', 'f', 'd', 'c', 'b', 'e'), ('c', 'e', 'd', 'b', 'f', 'a'), ('e', 'b', 'c', 'f', 'a', 'd'), ('a', 'b', 'f', 'e', 'c', 'd'), ('f', 'b', 'a', 'c', 'e', 'd'), ('f', 'b', 'a', 'd', 'e', 'c'), ('c', 'a', 'b', 'e', 'f', 'd'), ('f', 'd', 'b', 'c', 'a', 'e'), ('e', 'a', 'd', 'b', 'c', 'f'), ('a', 'c', 'f', 'd', 'b', 'e'), ('a', 'c', 'f', 'd', 'e', 'b'), ('a', 'e', 'c', 'd', 'b', 'f'), ('c', 'e', 'a', 'd', 'b', 'f'), ('b', 'a', 'd', 'f', 'c', 'e'), ('c', 'e', 'd', 'f', 'b', 'a'), ('f', 'd', 'e', 'b', 'a', 'c'), ('e', 'f', 'b', 'a', 'd', 'c'), ('b', 'c', 'd', 'e', 'f', 'a'), ('c', 'f', 'a', 'e', 'b', 'd'), ('e', 'd', 'a', 'b', 'f', 'c'), ('c', 'd', 'a', 'b', 'e', 'f'), ('c', 'e', 'f', 'b', 'a', 'd'), ('a', 'b', 'e', 'f', 'd', 'c'), ('b', 'a', 'd', 'f', 'e', 'c'), ('b', 'f', 'e', 'd', 'c', 'a'), ('a', 'f', 'b', 'd', 'e', 'c'), ('e', 'd', 'c', 'f', 'a', 'b'), ('d', 'a', 'b', 'e', 'f', 'c'), ('f', 'd', 'e', 'a', 'c', 'b'), ('f', 'd', 'e', 'c', 'b', 'a'), ('e', 'b', 'f', 'a', 'd', 'c'), ('e', 'd', 'a', 'f', 'c', 'b'), ('a', 'b', 'd', 'f', 'e', 'c'), ('b', 'd', 'a', 'e', 'f', 'c'), ('d', 'e', 'a', 'b', 'c', 'f'), ('d', 'c', 'e', 'b', 'a', 'f'), ('e', 'c', 'b', 'f', 'd', 'a'), ('c', 'b', 'a', 'e', 'd', 'f'), ('f', 'd', 'b', 'a', 'c', 'e'), ('d', 'b', 'e', 'a', 'c', 'f'), ('c', 'b', 'f', 'e', 'd', 'a'), ('f', 'd', 'b', 'a', 'e', 'c'), ('b', 'e', 'f', 'c', 'd', 'a'), ('f', 'a', 'e', 'd', 'c', 'b'), ('e', 'f', 'd', 'b', 'c', 'a'), ('b', 'a', 'f', 'c', 'e', 'd'), ('c', 'f', 'e', 'b', 'd', 'a'), ('e', 'b', 'd', 'a', 'f', 'c'), ('f', 'c', 'e', 'd', 'a', 'b'), ('d', 'c', 'b', 'a', 'e', 'f'), ('c', 'a', 'e', 'f', 'b', 'd'), ('e', 'b', 'c', 'd', 'f', 'a'), ('c', 'e', 'f', 'a', 'd', 'b'), ('e', 'a', 'f', 'd', 'c', 'b'), ('c', 'e', 'b', 'd', 'f', 'a'), ('a', 'b', 'f', 'c', 'e', 'd'), ('c', 'b', 'f', 'd', 'a', 'e'), ('b', 'd', 'e', 'a', 'c', 'f'), ('f', 'e', 'a', 'b', 'c', 'd'), ('d', 'b', 'f', 'c', 'e', 'a'), ('c', 'b', 'e', 'd', 'f', 'a'), ('e', 'b', 'a', 'd', 'f', 'c'), ('d', 'e', 'f', 'a', 'c', 'b'), ('b', 'e', 'd', 'c', 'a', 'f'), ('b', 'c', 'e', 'f', 'a', 'd'), ('d', 'a', 'c', 'f', 'b', 'e'), ('d', 'a', 'c', 'f', 'e', 'b'), ('f', 'd', 'a', 'e', 'c', 'b'), ('b', 'e', 'f', 'a', 'd', 'c'), ('e', 'd', 'c', 'a', 'f', 'b'), ('f', 'a', 'c', 'e', 'b', 'd'), ('c', 'a', 'b', 'd', 'f', 'e'), ('c', 'd', 'e', 'b', 'f', 'a'), ('c', 'f', 'e', 'd', 'a', 'b'), ('f', 'c', 'e', 'a', 'b', 'd'), ('a', 'c', 'f', 'b', 'd', 'e'), ('b', 'c', 'd', 'f', 'e', 'a'), ('f', 'a', 'b', 'd', 'c', 'e'), ('d', 'b', 'a', 'f', 'c', 'e'), ('f', 'b', 'c', 'e', 'a', 'd'), ('a', 'e', 'b', 'f', 'c', 'd'), ('a', 'f', 'e', 'b', 'c', 'd'), ('a', 'd', 'c', 'b', 'e', 'f'), ('b', 'd', 'c', 'a', 'e', 'f'), ('e', 'd', 'b', 'a', 'f', 'c'), ('e', 'c', 'f', 'd', 'b', 'a'), ('a', 'e', 'b', 'c', 'f', 'd'), ('b', 'a', 'f', 'e', 'd', 'c'), ('b', 'e', 'c', 'a', 'd', 'f'), ('d', 'c', 'f', 'b', 'a', 'e'), ('f', 'c', 'b', 'e', 'a', 'd'), ('b', 'c', 'a', 'f', 'e', 'd'), ('c', 'a', 'd', 'b', 'f', 'e'), ('b', 'e', 'd', 'a', 'f', 'c'), ('d', 'b', 'e', 'f', 'a', 'c'), ('f', 'b', 'a', 'd', 'c', 'e'), ('c', 'a', 'b', 'f', 'e', 'd'), ('c', 'a', 'e', 'd', 'b', 'f'), ('f', 'd', 'a', 'b', 'c', 'e'), ('d', 'f', 'a', 'b', 'c', 'e'), ('f', 'a', 'b', 'e', 'd', 'c'), ('c', 'b', 'a', 'd', 'e', 'f'), ('a', 'e', 'c', 'f', 'd', 'b'), ('a', 'b', 'e', 'f', 'c', 'd'), ('c', 'e', 'b', 'f', 'a', 'd'), ('d', 'a', 'e', 'c', 'f', 'b'), ('e', 'f', 'b', 'd', 'c', 'a'), ('e', 'a', 'c', 'd', 'f', 'b'), ('a', 'f', 'b', 'd', 'c', 'e'), ('c', 'f', 'a', 'e', 'd', 'b'), ('a', 'e', 'f', 'd', 'c', 'b'), ('f', 'b', 'a', 'e', 'd', 'c'), ('b', 'd', 'e', 'f', 'a', 'c'), ('e', 'c', 'b', 'a', 'd', 'f'), ('b', 'd', 'a', 'f', 'c', 'e'), ('b', 'c', 'd', 'a', 'f', 'e'), ('c', 'a', 'f', 'd', 'e', 'b'), ('b', 'f', 'c', 'a', 'e', 'd'), ('a', 'e', 'c', 'd', 'f', 'b'), ('c', 'f', 'b', 'd', 'e', 'a'), ('b', 'a', 'd', 'c', 'f', 'e'), ('a', 'f', 'e', 'd', 'c', 'b'), ('b', 'd', 'a', 'e', 'c', 'f'), ('b', 'd', 'c', 'f', 'a', 'e'), ('d', 'a', 'c', 'e', 'b', 'f'), ('b', 'f', 'd', 'e', 'c', 'a'), ('a', 'e', 'd', 'f', 'c', 'b'), ('f', 'c', 'b', 'e', 'd', 'a'), ('b', 'f', 'e', 'c', 'd', 'a'), ('a', 'b', 'd', 'c', 'f', 'e'), ('a', 'c', 'b', 'd', 'f', 'e'), ('d', 'c', 'b', 'e', 'a', 'f'), ('e', 'c', 'a', 'b', 'd', 'f'), ('d', 'f', 'e', 'a', 'b', 'c'), ('e', 'f', 'd', 'b', 'a', 'c'), ('c', 'a', 'e', 'f', 'd', 'b'), ('e', 'f', 'a', 'd', 'c', 'b'), ('d', 'e', 'c', 'b', 'f', 'a'), ('e', 'f', 'a', 'd', 'b', 'c'), ('a', 'f', 'c', 'd', 'e', 'b'), ('b', 'c', 'e', 'd', 'f', 'a'), ('d', 'b', 'e', 'c', 'a', 'f'), ('b', 'f', 'c', 'e', 'a', 'd'), ('f', 'e', 'd', 'a', 'c', 'b'), ('d', 'c', 'e', 'f', 'a', 'b'), ('e', 'f', 'a', 'c', 'b', 'd'), ('f', 'c', 'b', 'd', 'e', 'a'), ('e', 'a', 'b', 'c', 'd', 'f'), ('c', 'b', 'e', 'd', 'a', 'f'), ('e', 'f', 'c', 'b', 'd', 'a'), ('c', 'a', 'f', 'b', 'd', 'e'), ('f', 'a', 'c', 'e', 'd', 'b'), ('a', 'f', 'd', 'b', 'e', 'c'), ('c', 'e', 'b', 'a', 'f', 'd'), ('e', 'c', 'a', 'd', 'b', 'f'), ('a', 'c', 'f', 'b', 'e', 'd'), ('c', 'd', 'b', 'e', 'f', 'a'), ('e', 'b', 'd', 'c', 'f', 'a'), ('f', 'd', 'c', 'b', 'e', 'a'), ('f', 'b', 'c', 'a', 'd', 'e'), ('d', 'a', 'b', 'c', 'e', 'f'), ('e', 'f', 'a', 'b', 'd', 'c'), ('c', 'd', 'a', 'e', 'f', 'b'), ('a', 'd', 'b', 'f', 'c', 'e'), ('d', 'e', 'b', 'f', 'c', 'a'), ('d', 'b', 'f', 'a', 'c', 'e'), ('b', 'c', 'a', 'f', 'd', 'e'), ('e', 'c', 'd', 'b', 'a', 'f'), ('a', 'd', 'e', 'c', 'f', 'b'), ('b', 'c', 'e', 'd', 'a', 'f'), ('f', 'b', 'd', 'e', 'c', 'a'), ('d', 'a', 'e', 'f', 'c', 'b'), ('d', 'f', 'e', 'c', 'a', 'b'), ('b', 'a', 'e', 'f', 'd', 'c'), ('c', 'e', 'a', 'd', 'f', 'b'), ('b', 'f', 'c', 'd', 'e', 'a'), ('f', 'b', 'd', 'e', 'a', 'c'), ('f', 'e', 'c', 'b', 'a', 'd'), ('e', 'f', 'b', 'a', 'c', 'd'), ('b', 'e', 'f', 'd', 'a', 'c'), ('b', 'd', 'f', 'e', 'c', 'a'), ('a', 'e', 'c', 'f', 'b', 'd'), ('c', 'd', 'a', 'b', 'f', 'e'), ('c', 'e', 'a', 'f', 'b', 'd'), ('e', 'c', 'b', 'd', 'a', 'f'), ('c', 'f', 'b', 'e', 'a', 'd'), ('d', 'c', 'b', 'e', 'f', 'a'), ('b', 'd', 'f', 'a', 'c', 'e'), ('c', 'e', 'f', 'b', 'd', 'a'), ('d', 'e', 'c', 'a', 'f', 'b'), ('e', 'f', 'b', 'd', 'a', 'c'), ('b', 'e', 'a', 'd', 'c', 'f'), ('f', 'b', 'c', 'd', 'e', 'a'), ('f', 'b', 'd', 'a', 'e', 'c'), ('b', 'd', 'f', 'a', 'e', 'c'), ('e', 'd', 'c', 'b', 'a', 'f'), ('c', 'b', 'a', 'f', 'd', 'e'), ('a', 'c', 'd', 'b', 'e', 'f'), ('a', 'b', 'c', 'e', 'd', 'f'), ('f', 'd', 'e', 'a', 'b', 'c'), ('e', 'b', 'd', 'f', 'a', 'c'), ('b', 'c', 'e', 'a', 'f', 'd'), ('d', 'e', 'a', 'c', 'f', 'b'), ('a', 'd', 'f', 'b', 'c', 'e'), ('c', 'a', 'f', 'e', 'd', 'b'), ('c', 'b', 'a', 'e', 'f', 'd'), ('e', 'a', 'b', 'c', 'f', 'd'), ('e', 'c', 'd', 'f', 'b', 'a'), ('e', 'f', 'b', 'c', 'd', 'a'), ('e', 'a', 'f', 'b', 'c', 'd'), ('b', 'e', 'a', 'c', 'd', 'f'), ('a', 'd', 'b', 'c', 'f', 'e'), ('f', 'c', 'a', 'e', 'd', 'b'), ('a', 'd', 'f', 'b', 'e', 'c'), ('e', 'c', 'b', 'f', 'a', 'd'), ('c', 'f', 'd', 'b', 'e', 'a'), ('f', 'e', 'b', 'c', 'd', 'a'), ('d', 'c', 'a', 'b', 'e', 'f'), ('a', 'b', 'd', 'e', 'c', 'f'), ('b', 'f', 'e', 'c', 'a', 'd'), ('b', 'f', 'd', 'e', 'a', 'c'), ('c', 'a', 'e', 'b', 'f', 'd'), ('b', 'a', 'e', 'd', 'c', 'f'), ('a', 'b', 'c', 'e', 'f', 'd'), ('a', 'b', 'f', 'd', 'c', 'e'), ('f', 'd', 'c', 'e', 'b', 'a'), ('e', 'd', 'b', 'f', 'a', 'c'), ('c', 'f', 'e', 'b', 'a', 'd'), ('d', 'f', 'c', 'b', 'e', 'a'), ('a', 'e', 'c', 'b', 'f', 'd'), ('d', 'a', 'c', 'e', 'f', 'b'), ('e', 'f', 'c', 'a', 'd', 'b'), ('f', 'a', 'e', 'd', 'b', 'c'), ('d', 'a', 'b', 'c', 'f', 'e'), ('f', 'c', 'd', 'e', 'b', 'a'), ('a', 'f', 'e', 'c', 'd', 'b'), ('a', 'b', 'e', 'd', 'c', 'f'), ('a', 'b', 'c', 'd', 'e', 'f'), ('e', 'b', 'f', 'd', 'c', 'a'), ('f', 'c', 'd', 'b', 'e', 'a'), ('e', 'a', 'b', 'd', 'c', 'f'), ('d', 'b', 'c', 'a', 'e', 'f'), ('a', 'e', 'd', 'c', 'b', 'f'), ('e', 'f', 'c', 'd', 'b', 'a'), ('f', 'e', 'd', 'b', 'a', 'c'), ('c', 'b', 'd', 'e', 'f', 'a'), ('b', 'c', 'f', 'a', 'd', 'e'), ('a', 'c', 'e', 'b', 'd', 'f'), ('d', 'e', 'f', 'c', 'b', 'a'), ('d', 'e', 'b', 'a', 'f', 'c'), ('b', 'd', 'c', 'e', 'f', 'a'), ('a', 'f', 'd', 'b', 'c', 'e'), ('d', 'a', 'c', 'b', 'f', 'e'), ('a', 'd', 'e', 'b', 'c', 'f'), ('c', 'a', 'f', 'b', 'e', 'd'), ('d', 'c', 'a', 'e', 'f', 'b'), ('f', 'b', 'e', 'c', 'd', 'a'), ('c', 'd', 'b', 'a', 'e', 'f'), ('a', 'b', 'e', 'c', 'd', 'f'), ('f', 'a', 'd', 'b', 'e', 'c'), ('d', 'c', 'b', 'f', 'e', 'a'), ('f', 'b', 'c', 'a', 'e', 'd'), ('c', 'd', 'b', 'e', 'a', 'f'), ('b', 'd', 'a', 'c', 'e', 'f'), ('d', 'e', 'c', 'f', 'a', 'b'), ('a', 'd', 'e', 'f', 'c', 'b'), ('b', 'd', 'f', 'c', 'a', 'e'), ('d', 'a', 'f', 'b', 'e', 'c'), ('f', 'b', 'c', 'e', 'd', 'a'), ('d', 'b', 'a', 'f', 'e', 'c'), ('e', 'd', 'f', 'c', 'b', 'a'), ('e', 'd', 'f', 'b', 'c', 'a'), ('d', 'f', 'b', 'c', 'a', 'e'), ('d', 'e', 'f', 'b', 'c', 'a'), ('c', 'd', 'a', 'e', 'b', 'f'), ('c', 'd', 'b', 'f', 'e', 'a'), ('e', 'b', 'c', 'f', 'd', 'a'), ('a', 'e', 'f', 'b', 'd', 'c'), ('a', 'c', 'e', 'd', 'b', 'f'), ('c', 'b', 'a', 'd', 'f', 'e'), ('b', 'e', 'f', 'd', 'c', 'a'), ('c', 'e', 'd', 'b', 'a', 'f'), ('a', 'b', 'f', 'e', 'd', 'c'), ('a', 'd', 'c', 'f', 'b', 'e'), ('a', 'd', 'c', 'f', 'e', 'b'), ('e', 'a', 'd', 'b', 'f', 'c'), ('b', 'c', 'f', 'd', 'a', 'e'), ('c', 'a', 'b', 'e', 'd', 'f'), ('f', 'a', 'd', 'c', 'b', 'e'), ('b', 'f', 'd', 'c', 'e', 'a'), ('f', 'a', 'd', 'c', 'e', 'b'), ('a', 'c', 'b', 'e', 'f', 'd'), ('a', 'b', 'c', 'f', 'd', 'e'), ('d', 'c', 'f', 'e', 'a', 'b'), ('f', 'c', 'e', 'b', 'd', 'a'), ('c', 'd', 'f', 'e', 'b', 'a'), ('a', 'e', 'b', 'd', 'c', 'f'), ('b', 'c', 'f', 'e', 'a', 'd'), ('d', 'c', 'b', 'a', 'f', 'e'), ('a', 'e', 'f', 'd', 'b', 'c'), ('e', 'c', 'a', 'f', 'b', 'd'), ('f', 'b', 'd', 'c', 'a', 'e'), ('b', 'f', 'e', 'd', 'a', 'c'), ('f', 'a', 'e', 'b', 'd', 'c'), ('f', 'e', 'c', 'd', 'a', 'b'), ('c', 'a', 'f', 'e', 'b', 'd'), ('d', 'e', 'a', 'b', 'f', 'c'), ('f', 'e', 'b', 'a', 'd', 'c'), ('c', 'f', 'e', 'a', 'b', 'd'), ('e', 'b', 'c', 'd', 'a', 'f'), ('e', 'a', 'c', 'b', 'f', 'd'), ('e', 'c', 'a', 'd', 'f', 'b')}\n"
     ]
    }
   ],
   "source": [
    "'''We are given a string having only lowercase alphabets. The task is to find out total number of distinct permutation can be generated by that string.\n",
    "Examples: \n",
    " \n",
    "\n",
    "Input : aab\n",
    "Output : 3\n",
    "Different permutations are \"aab\",\n",
    "\"aba\" and \"baa\".\n",
    "\n",
    "Input : ybghjhbuytb\n",
    "Output : 1663200\n",
    "'''\n",
    "#this is the program in which a string can be rearranged in which duplicate is not included\n",
    "from itertools import permutations\n",
    "n=input('enter the string: ')\n",
    "a=list(permutations(n))\n",
    "print(len(set(a)))\n",
    "print(set(a))\n",
    "\n"
   ]
  },
  {
   "cell_type": "markdown",
   "id": "cda0752c",
   "metadata": {},
   "source": [
    "# b) combinatoric iterators:-\n",
    "##   --product\n",
    "##   --permutations\n",
    "##   --combinations\n",
    "##   --combinations_with_replacement"
   ]
  },
  {
   "cell_type": "code",
   "execution_count": 3,
   "id": "d439204c",
   "metadata": {},
   "outputs": [
    {
     "name": "stdout",
     "output_type": "stream",
     "text": [
      "enter two number: 3 4\n",
      "[(3, 3, 3), (3, 3, 4), (3, 4, 3), (3, 4, 4), (4, 3, 3), (4, 3, 4), (4, 4, 3), (4, 4, 4)]\n",
      "[('a', 3), ('a', 4), ('b', 3), ('b', 4)]\n",
      "8\n"
     ]
    }
   ],
   "source": [
    "# product function\n",
    "from itertools import product\n",
    "a,b=map(int,input('enter two number: ').split())\n",
    "print(list(product([a,b],repeat=3)))\n",
    "c=len(list(product([a,b],repeat=3)))#product function gives the cartesian product\n",
    "print(list(product('ab',[a,b])))\n",
    "print(c)"
   ]
  },
  {
   "cell_type": "code",
   "execution_count": 9,
   "id": "17e77367",
   "metadata": {},
   "outputs": [
    {
     "name": "stdout",
     "output_type": "stream",
     "text": [
      "enter two value: 4 3\n",
      "[(4, 3), (3, 4)]\n",
      "[('a', 'b', 'c', 'd'), ('a', 'b', 'd', 'c'), ('a', 'c', 'b', 'd'), ('a', 'c', 'd', 'b'), ('a', 'd', 'b', 'c'), ('a', 'd', 'c', 'b'), ('b', 'a', 'c', 'd'), ('b', 'a', 'd', 'c'), ('b', 'c', 'a', 'd'), ('b', 'c', 'd', 'a'), ('b', 'd', 'a', 'c'), ('b', 'd', 'c', 'a'), ('c', 'a', 'b', 'd'), ('c', 'a', 'd', 'b'), ('c', 'b', 'a', 'd'), ('c', 'b', 'd', 'a'), ('c', 'd', 'a', 'b'), ('c', 'd', 'b', 'a'), ('d', 'a', 'b', 'c'), ('d', 'a', 'c', 'b'), ('d', 'b', 'a', 'c'), ('d', 'b', 'c', 'a'), ('d', 'c', 'a', 'b'), ('d', 'c', 'b', 'a')]\n",
      "[('a', 'b'), ('a', 'c'), ('a', 'd'), ('b', 'a'), ('b', 'c'), ('b', 'd'), ('c', 'a'), ('c', 'b'), ('c', 'd'), ('d', 'a'), ('d', 'b'), ('d', 'c')]\n"
     ]
    }
   ],
   "source": [
    "# permutation\n",
    "from itertools import permutations\n",
    "a,b=map(int,input('enter two value: ').split())\n",
    "print(list(permutations([a,b]))) #if group_size is not given than it will consider the length of list or string\n",
    "print(list(permutations('abcd')))\n",
    "print(list(permutations('abcd',2)))"
   ]
  },
  {
   "cell_type": "code",
   "execution_count": 11,
   "id": "8d967853",
   "metadata": {},
   "outputs": [
    {
     "name": "stdout",
     "output_type": "stream",
     "text": [
      "enter the number: 5\n",
      "[(0, 1), (0, 2), (0, 3), (0, 4), (1, 0), (1, 2), (1, 3), (1, 4), (2, 0), (2, 1), (2, 3), (2, 4), (3, 0), (3, 1), (3, 2), (3, 4), (4, 0), (4, 1), (4, 2), (4, 3)]\n"
     ]
    }
   ],
   "source": [
    "from itertools import permutations\n",
    "a=int(input('enter the number: '))\n",
    "print(list(permutations(range(a),2)))"
   ]
  },
  {
   "cell_type": "code",
   "execution_count": 18,
   "id": "ff3e9320",
   "metadata": {},
   "outputs": [
    {
     "name": "stdout",
     "output_type": "stream",
     "text": [
      "enter any two number: 4 3\n",
      "[(4, 3)]\n",
      "[('a', 'b'), ('a', 'c'), ('a', 'd'), ('b', 'c'), ('b', 'd'), ('c', 'd')]\n",
      "[(0, 1, 2), (0, 1, 3), (0, 2, 3), (1, 2, 3)]\n"
     ]
    }
   ],
   "source": [
    "#combinations\n",
    "from itertools import combinations\n",
    "a,b=map(int,input('enter any two number: ').split())\n",
    "print(list(combinations([a,b],2)))\n",
    "print(list(combinations('abcd',2)))\n",
    "print(list(combinations(range(a),b)))"
   ]
  },
  {
   "cell_type": "code",
   "execution_count": 20,
   "id": "d15cb613",
   "metadata": {},
   "outputs": [
    {
     "name": "stdout",
     "output_type": "stream",
     "text": [
      "enter the number: 4 3\n",
      "[(4, 4), (4, 3), (3, 3)]\n",
      "[(0, 0, 0), (0, 0, 1), (0, 0, 2), (0, 0, 3), (0, 1, 1), (0, 1, 2), (0, 1, 3), (0, 2, 2), (0, 2, 3), (0, 3, 3), (1, 1, 1), (1, 1, 2), (1, 1, 3), (1, 2, 2), (1, 2, 3), (1, 3, 3), (2, 2, 2), (2, 2, 3), (2, 3, 3), (3, 3, 3)]\n",
      "[('a', 'a'), ('a', 'b'), ('a', 'c'), ('a', 'd'), ('b', 'b'), ('b', 'c'), ('b', 'd'), ('c', 'c'), ('c', 'd'), ('d', 'd')]\n"
     ]
    }
   ],
   "source": [
    "from itertools import combinations_with_replacement\n",
    "a,b=map(int,input('enter the number: ').split())\n",
    "print(list(combinations_with_replacement([a,b],2)))\n",
    "print(list(combinations_with_replacement(range(a),b)))\n",
    "print(list(combinations_with_replacement('abcd',2)))"
   ]
  },
  {
   "cell_type": "markdown",
   "id": "8543041e",
   "metadata": {},
   "source": [
    "# c) terminating iterator\n",
    "##  --accumulate(iter,func)\n",
    "##  --chain(iter1,iter2....)\n",
    "##  --chain.from_iterable()\n",
    "##  --compress(iter,selector)\n",
    "##  --dropwhile(func,seq)\n",
    "##  --filterfalse(func,seq)\n",
    "##  --islice(iterable,start,stop,step)\n",
    "##  --starmap(func,tuple list)\n",
    "##  --takewhile(func,iterable)\n",
    "##  --tee(iterable,count)\n",
    "##  --zip_longest(iterable1,iterable2,fillval)\n"
   ]
  },
  {
   "cell_type": "code",
   "execution_count": 22,
   "id": "76bd0d00",
   "metadata": {},
   "outputs": [
    {
     "name": "stdout",
     "output_type": "stream",
     "text": [
      "enter the size of list: 5\n",
      "enter the element into the list: 2 3 1 4 5 \n",
      "[2, 5, 6, 10, 15]\n",
      "[2, 6, 6, 24, 120]\n"
     ]
    }
   ],
   "source": [
    "# accumulate \n",
    "# In accumulate iterator if no function is given and only iterable is given than by default sum operation will be done \n",
    "import itertools\n",
    "import operator\n",
    "n=int(input('enter the size of list: '))\n",
    "a=list(map(int,input('enter the element into the list: ').split()))[:n]\n",
    "print(list(itertools.accumulate(a))) #[1,2,3,4,5]\n",
    "#[1,1+2,1+2+3,1+2+3+4,1+2+3+4+5]=[1,3,6,10,15]\n",
    "print(list(itertools.accumulate(a,operator.mul)))\n"
   ]
  },
  {
   "cell_type": "code",
   "execution_count": 26,
   "id": "18de3ad5",
   "metadata": {},
   "outputs": [
    {
     "name": "stdout",
     "output_type": "stream",
     "text": [
      "[1, 3, 2, 4, 5, 6, 7, 2, 4, 5, 7, 8, 9, 2]\n",
      "[4, 5, 7, 8, 9, 2, 1, 3, 2, 4, 5, 6, 7, 2]\n"
     ]
    }
   ],
   "source": [
    "#chain\n",
    "import itertools\n",
    "a=[1,3,2,4,5]\n",
    "b=[6,7,2]\n",
    "c=[4,5,7,8,9,2]\n",
    "print(list(itertools.chain(a,b,c)))\n",
    "print(list(itertools.chain(c,a,b)))"
   ]
  },
  {
   "cell_type": "code",
   "execution_count": 27,
   "id": "96a535be",
   "metadata": {},
   "outputs": [
    {
     "name": "stdout",
     "output_type": "stream",
     "text": [
      "[1, 2, 3, 4, 5, 6, 7, 8, 9, 10, 11, 12]\n"
     ]
    }
   ],
   "source": [
    "#chain.from_iterable\n",
    "import itertools\n",
    "a=[1,2,3,4]\n",
    "b=[5,6,7]\n",
    "c=[8,9,10,11,12]\n",
    "d=[a,b,c]\n",
    "print(list(itertools.chain.from_iterable(d)))"
   ]
  },
  {
   "cell_type": "code",
   "execution_count": 29,
   "id": "4854d9df",
   "metadata": {},
   "outputs": [
    {
     "name": "stdout",
     "output_type": "stream",
     "text": [
      "enter your name or any string: shreyansh tyagi\n",
      "['s', 'y', 'n']\n",
      "['s', 'u', 'n']\n"
     ]
    }
   ],
   "source": [
    "#compress\n",
    "# print the value from the container according to the boolean list value\n",
    "#if the container contain less value than the length of string than by default it is zero\n",
    "import itertools\n",
    "a=[1,0,0,0,1,0,1,0,0]\n",
    "b=input('enter your name or any string: ')\n",
    "print(list(itertools.compress(b,a)))\n",
    "print(list(itertools.compress('sunny tyagi',[1,1,1])))"
   ]
  },
  {
   "cell_type": "code",
   "execution_count": 30,
   "id": "d176fe70",
   "metadata": {},
   "outputs": [
    {
     "name": "stdout",
     "output_type": "stream",
     "text": [
      "enter the value into the list: 2 4 5 6 7\n",
      "[5, 6, 7]\n"
     ]
    }
   ],
   "source": [
    "#dropwhile\n",
    "#when thw false value found after that it will consider all the value\n",
    "import itertools\n",
    "a=list(map(int,input('enter the value into the list: ').split()))[:5]\n",
    "print(list(itertools.dropwhile(lambda x:x%2==0,a)))\n",
    "# at a[2] where 5%2==0 condition gets failed therefore it will consider all the values left in the container\n"
   ]
  },
  {
   "cell_type": "code",
   "execution_count": 31,
   "id": "3ae23121",
   "metadata": {},
   "outputs": [
    {
     "name": "stdout",
     "output_type": "stream",
     "text": [
      "enter the value into list: 1 2 3 4 5 6 7 8\n",
      "[1, 3, 5, 7]\n"
     ]
    }
   ],
   "source": [
    "#filterfalse(func,seq)\n",
    "#it takes only that value where the condition get failed\n",
    "import itertools\n",
    "a=list(map(int,input('enter the value into list: ').split()))\n",
    "print(list(itertools.filterfalse(lambda x:x%2==0,a)))"
   ]
  },
  {
   "cell_type": "code",
   "execution_count": 32,
   "id": "31be1810",
   "metadata": {},
   "outputs": [
    {
     "name": "stdout",
     "output_type": "stream",
     "text": [
      "enter the value into list: 3 4 2 5 1 6 7 8 9\n",
      "[5, 6, 8]\n"
     ]
    }
   ],
   "source": [
    "# islice(iterable,start,stop,step)\n",
    "# simply slicing of list\n",
    "import itertools\n",
    "a=list(map(int,input('enter the value into list: ').split()))\n",
    "print(list(itertools.islice(a,3,len(a),2)))\n"
   ]
  },
  {
   "cell_type": "code",
   "execution_count": 11,
   "id": "007bb4db",
   "metadata": {},
   "outputs": [
    {
     "name": "stdout",
     "output_type": "stream",
     "text": [
      "[1, 2, 3]\n",
      "[4, 7, 5]\n",
      "[1]\n"
     ]
    }
   ],
   "source": [
    "# starmap(func,tuple list)\n",
    "#it will take a list of tuples and will perform a function on each tuple of list\n",
    "import itertools\n",
    "a=[(1,4,2),(3,7,2),(3,4,5)]\n",
    "b=[(2,1)]\n",
    "print(list(itertools.starmap(min,a)))\n",
    "print(list(itertools.starmap(max,a)))\n",
    "print(list(itertools.starmap(min,b)))"
   ]
  },
  {
   "cell_type": "code",
   "execution_count": 13,
   "id": "b028408a",
   "metadata": {},
   "outputs": [
    {
     "name": "stdout",
     "output_type": "stream",
     "text": [
      "enter the value into the list: 1 3 5 6 7 9 11\n",
      "[1, 3, 5]\n"
     ]
    }
   ],
   "source": [
    "#takewhile \n",
    "# when the false value found till then it will consider all the value\n",
    "# as soon as the false value found it will not conisder all other value\n",
    "import itertools\n",
    "a=list(map(int,input('enter the value into the list: ').split()))\n",
    "print(list(itertools.takewhile(lambda x:x%2!=0,a)))"
   ]
  },
  {
   "cell_type": "code",
   "execution_count": 15,
   "id": "dcdc2c73",
   "metadata": {},
   "outputs": [
    {
     "name": "stdout",
     "output_type": "stream",
     "text": [
      "enter the value into the list: 2 6 9 4 10\n",
      "[2, 6, 9, 4, 10]\n",
      "[2, 6, 9, 4, 10]\n",
      "[2, 6, 9, 4, 10]\n"
     ]
    }
   ],
   "source": [
    "# tee(iterator,count)\n",
    "import itertools\n",
    "a=list(map(int,input('enter the value into the list: ').split()))\n",
    "b=iter(a)\n",
    "c=itertools.tee(b,3)\n",
    "for i in range(len(c)):\n",
    "    print(list(c[i]))"
   ]
  },
  {
   "cell_type": "markdown",
   "id": "50b136f8",
   "metadata": {},
   "source": [
    "# statistics module\n",
    "## methods and operation of statistics"
   ]
  },
  {
   "cell_type": "code",
   "execution_count": 5,
   "id": "d58c5183",
   "metadata": {},
   "outputs": [
    {
     "name": "stdout",
     "output_type": "stream",
     "text": [
      "3\n"
     ]
    }
   ],
   "source": [
    "import statistics \n",
    "a=[5,3,4,1,2]\n",
    "print(statistics.mean(a))"
   ]
  },
  {
   "cell_type": "code",
   "execution_count": 13,
   "id": "5e8b2f3b",
   "metadata": {},
   "outputs": [
    {
     "name": "stdout",
     "output_type": "stream",
     "text": [
      "2.7057910800725327\n"
     ]
    }
   ],
   "source": [
    "import statistics \n",
    "a=[5.11,3.34,4.325,1.55,2.099]\n",
    "print(statistics.harmonic_mean(a))"
   ]
  },
  {
   "cell_type": "code",
   "execution_count": 15,
   "id": "76520fdc",
   "metadata": {},
   "outputs": [
    {
     "name": "stdout",
     "output_type": "stream",
     "text": [
      "2\n",
      "1.6363636363636365\n"
     ]
    }
   ],
   "source": [
    "import statistics \n",
    "a=[1,2,3]\n",
    "print(statistics.mean(a))\n",
    "print(statistics.harmonic_mean(a))"
   ]
  },
  {
   "cell_type": "code",
   "execution_count": 17,
   "id": "d8f1be77",
   "metadata": {},
   "outputs": [
    {
     "name": "stdout",
     "output_type": "stream",
     "text": [
      "5.5 \n",
      " 7\n"
     ]
    }
   ],
   "source": [
    "import statistics \n",
    "a,b=[1,4,7,9],[1,4,7,9,10]\n",
    "print(statistics.median(a),'\\n',statistics.median(b))\n"
   ]
  },
  {
   "cell_type": "code",
   "execution_count": 22,
   "id": "d5f16e61",
   "metadata": {},
   "outputs": [
    {
     "name": "stdout",
     "output_type": "stream",
     "text": [
      "enter the element into list: 1 4 7 9\n",
      "enter the element into another list: 1 4 7 9 10\n",
      "median of list a and b is: 5.5 and 7\n",
      "lower median of list a and b is : 4 and 7\n",
      "high medain of list a and b is : 7 and 7\n"
     ]
    }
   ],
   "source": [
    "import statistics \n",
    "a=list(map(int,input('enter the element into list: ').split()))\n",
    "b=list(map(int,input('enter the element into another list: ').split()))\n",
    "print(f'median of list a and b is: {statistics.median(a)} and {statistics.median(b)}')\n",
    "print(f'lower median of list a and b is : {statistics.median_low(a)} and {statistics.median_low(b)}')\n",
    "print(f'high medain of list a and b is : {statistics.median_high(a)} and {statistics.median_high(b)}')"
   ]
  },
  {
   "cell_type": "code",
   "execution_count": 23,
   "id": "6483800f",
   "metadata": {},
   "outputs": [
    {
     "name": "stdout",
     "output_type": "stream",
     "text": [
      "3.7\n"
     ]
    }
   ],
   "source": [
    "import statistics as s\n",
    "print(s.median_grouped([1, 2, 2, 3, 4, 4, 4, 4, 4, 5]))"
   ]
  },
  {
   "cell_type": "code",
   "execution_count": 26,
   "id": "50c51abf",
   "metadata": {},
   "outputs": [
    {
     "name": "stdout",
     "output_type": "stream",
     "text": [
      "d\n"
     ]
    }
   ],
   "source": [
    "import statistics as s \n",
    "a='aabbbbcccddddddeeffffgh'\n",
    "print(s.mode(a))\n",
    "#print(s.multimode(a))"
   ]
  },
  {
   "cell_type": "code",
   "execution_count": 32,
   "id": "750bac39",
   "metadata": {},
   "outputs": [
    {
     "name": "stdout",
     "output_type": "stream",
     "text": [
      "1.25\n",
      "1.25\n"
     ]
    }
   ],
   "source": [
    "import statistics as s \n",
    "data = [0.0, 0.25, 0.25, 1.25, 1.5, 1.75, 2.75, 3.25]\n",
    "a=s.mean(data)\n",
    "print(s.pvariance(data))  #syntax:- statistics.pvariance(data,mu) where mu is optional \n",
    "# if you have already calculated mean then pass 'mu' as a argument  \n",
    "print(s.pvariance(data,a))"
   ]
  },
  {
   "cell_type": "code",
   "execution_count": 37,
   "id": "b4838ca0",
   "metadata": {},
   "outputs": [
    {
     "name": "stdout",
     "output_type": "stream",
     "text": [
      "1.1952286093343936\n",
      "1.1952286093343936\n",
      "1.118033988749895\n",
      "1.118033988749895\n"
     ]
    }
   ],
   "source": [
    "import statistics as s \n",
    "data = [0.0, 0.25, 0.25, 1.25, 1.5, 1.75, 2.75, 3.25]\n",
    "a=s.mean(data)\n",
    "print(s.stdev(data))\n",
    "print(s.stdev(data,a))\n",
    "print(s.pstdev(data))\n",
    "print(s.pstdev(data,a))"
   ]
  },
  {
   "cell_type": "code",
   "execution_count": 38,
   "id": "8f898d89",
   "metadata": {},
   "outputs": [
    {
     "name": "stdout",
     "output_type": "stream",
     "text": [
      "4\n"
     ]
    }
   ],
   "source": [
    "import math\n",
    "print(math.trunc(4.123))"
   ]
  },
  {
   "cell_type": "code",
   "execution_count": null,
   "id": "9612fa12",
   "metadata": {},
   "outputs": [],
   "source": []
  }
 ],
 "metadata": {
  "kernelspec": {
   "display_name": "Python 3",
   "language": "python",
   "name": "python3"
  },
  "language_info": {
   "codemirror_mode": {
    "name": "ipython",
    "version": 3
   },
   "file_extension": ".py",
   "mimetype": "text/x-python",
   "name": "python",
   "nbconvert_exporter": "python",
   "pygments_lexer": "ipython3",
   "version": "3.7.10"
  }
 },
 "nbformat": 4,
 "nbformat_minor": 5
}
