{
 "cells": [
  {
   "cell_type": "markdown",
   "id": "dfd2a7f6",
   "metadata": {},
   "source": [
    "# random module"
   ]
  },
  {
   "cell_type": "markdown",
   "id": "81d7b67a",
   "metadata": {},
   "source": [
    "###  choice random"
   ]
  },
  {
   "cell_type": "code",
   "execution_count": 9,
   "id": "46872b2b",
   "metadata": {},
   "outputs": [
    {
     "name": "stdout",
     "output_type": "stream",
     "text": [
      "3\n"
     ]
    }
   ],
   "source": [
    "import random \n",
    "a=[1,2,3,4,5] \n",
    "print(random.choice(a)) #it will choose the random value from the list"
   ]
  },
  {
   "cell_type": "markdown",
   "id": "a7f9d308",
   "metadata": {},
   "source": [
    "### choices random"
   ]
  },
  {
   "cell_type": "code",
   "execution_count": 16,
   "id": "30da3dd4",
   "metadata": {},
   "outputs": [
    {
     "name": "stdout",
     "output_type": "stream",
     "text": [
      "[4]\n"
     ]
    }
   ],
   "source": [
    "import random\n",
    "a=[1,2,34,4,5] #it will return the list of random number\n",
    "print(random.choices(a))"
   ]
  },
  {
   "cell_type": "markdown",
   "id": "7cfc23ed",
   "metadata": {},
   "source": [
    "### seed function"
   ]
  },
  {
   "cell_type": "code",
   "execution_count": 22,
   "id": "f1a9c43c",
   "metadata": {},
   "outputs": [
    {
     "name": "stdout",
     "output_type": "stream",
     "text": [
      "0.6229016948897019\n",
      "0.7417869892607294\n"
     ]
    }
   ],
   "source": [
    "import random\n",
    "random.seed(5)\n",
    "print(random.random())\n",
    "print(random.random()) #it will give the random value but no matter\n",
    "#how many times we run the program the output will always be same"
   ]
  },
  {
   "cell_type": "code",
   "execution_count": null,
   "id": "1489f924",
   "metadata": {},
   "outputs": [],
   "source": []
  },
  {
   "cell_type": "code",
   "execution_count": null,
   "id": "5edc532b",
   "metadata": {},
   "outputs": [],
   "source": []
  }
 ],
 "metadata": {
  "kernelspec": {
   "display_name": "Python 3 (ipykernel)",
   "language": "python",
   "name": "python3"
  },
  "language_info": {
   "codemirror_mode": {
    "name": "ipython",
    "version": 3
   },
   "file_extension": ".py",
   "mimetype": "text/x-python",
   "name": "python",
   "nbconvert_exporter": "python",
   "pygments_lexer": "ipython3",
   "version": "3.7.11"
  }
 },
 "nbformat": 4,
 "nbformat_minor": 5
}
