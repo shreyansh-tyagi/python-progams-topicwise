{
 "cells": [
  {
   "cell_type": "markdown",
   "id": "dfc022b1",
   "metadata": {},
   "source": [
    "# random module"
   ]
  },
  {
   "cell_type": "markdown",
   "id": "79bba69f",
   "metadata": {},
   "source": [
    "###  choice random"
   ]
  },
  {
   "cell_type": "code",
   "execution_count": 9,
   "id": "e583d7c6",
   "metadata": {},
   "outputs": [
    {
     "name": "stdout",
     "output_type": "stream",
     "text": [
      "3\n"
     ]
    }
   ],
   "source": [
    "import random \n",
    "a=[1,2,3,4,5] \n",
    "print(random.choice(a)) #it will choose the random value from the list"
   ]
  },
  {
   "cell_type": "markdown",
   "id": "d2f4349b",
   "metadata": {},
   "source": [
    "### choices random"
   ]
  },
  {
   "cell_type": "code",
   "execution_count": 16,
   "id": "a0c2b1d0",
   "metadata": {},
   "outputs": [
    {
     "name": "stdout",
     "output_type": "stream",
     "text": [
      "[4]\n"
     ]
    }
   ],
   "source": [
    "import random\n",
    "a=[1,2,34,4,5] #it will return the list of random number\n",
    "print(random.choices(a))"
   ]
  },
  {
   "cell_type": "markdown",
   "id": "aa3d4c53",
   "metadata": {},
   "source": [
    "### seed function"
   ]
  },
  {
   "cell_type": "code",
   "execution_count": null,
   "id": "0714ccdf",
   "metadata": {},
   "outputs": [],
   "source": [
    "import random\n",
    "random.seed(5)\n",
    "print()"
   ]
  }
 ],
 "metadata": {
  "kernelspec": {
   "display_name": "Python 3 (ipykernel)",
   "language": "python",
   "name": "python3"
  },
  "language_info": {
   "codemirror_mode": {
    "name": "ipython",
    "version": 3
   },
   "file_extension": ".py",
   "mimetype": "text/x-python",
   "name": "python",
   "nbconvert_exporter": "python",
   "pygments_lexer": "ipython3",
   "version": "3.7.11"
  }
 },
 "nbformat": 4,
 "nbformat_minor": 5
}
