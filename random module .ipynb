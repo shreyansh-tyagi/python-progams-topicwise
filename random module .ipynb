{
 "cells": [
  {
   "cell_type": "markdown",
   "id": "ae845a98",
   "metadata": {},
   "source": [
    "# random module"
   ]
  },
  {
   "cell_type": "markdown",
   "id": "63b4b26e",
   "metadata": {},
   "source": [
    "###  choice random"
   ]
  },
  {
   "cell_type": "code",
   "execution_count": 9,
   "id": "1c2f3264",
   "metadata": {},
   "outputs": [
    {
     "name": "stdout",
     "output_type": "stream",
     "text": [
      "3\n"
     ]
    }
   ],
   "source": [
    "import random \n",
    "a=[1,2,3,4,5] \n",
    "print(random.choice(a)) #it will choose the random value from the list"
   ]
  },
  {
   "cell_type": "markdown",
   "id": "63e13f19",
   "metadata": {},
   "source": [
    "### choices random"
   ]
  },
  {
   "cell_type": "code",
   "execution_count": 16,
   "id": "d8081fd2",
   "metadata": {},
   "outputs": [
    {
     "name": "stdout",
     "output_type": "stream",
     "text": [
      "[4]\n"
     ]
    }
   ],
   "source": [
    "import random\n",
    "a=[1,2,34,4,5] #it will return the list of random number\n",
    "print(random.choices(a))"
   ]
  },
  {
   "cell_type": "markdown",
   "id": "a24e1467",
   "metadata": {},
   "source": [
    "### seed function"
   ]
  },
  {
   "cell_type": "code",
   "execution_count": 22,
   "id": "82904e54",
   "metadata": {},
   "outputs": [
    {
     "name": "stdout",
     "output_type": "stream",
     "text": [
      "0.6229016948897019\n",
      "0.7417869892607294\n"
     ]
    }
   ],
   "source": [
    "import random\n",
    "random.seed(5)\n",
    "print(random.random())\n",
    "print(random.random()) #it will give the random value but no matter\n",
    "#how many times we run the program the output will always be same"
   ]
  },
  {
   "cell_type": "markdown",
   "id": "67533f4d",
   "metadata": {},
   "source": [
    "### random integer"
   ]
  },
  {
   "cell_type": "code",
   "execution_count": 32,
   "id": "bdb6508e",
   "metadata": {},
   "outputs": [
    {
     "name": "stdout",
     "output_type": "stream",
     "text": [
      "5\n",
      "-14\n"
     ]
    }
   ],
   "source": [
    "import random\n",
    "a=random.randint(4,9) # in this we have to give the range for random interge\n",
    "# and it will give the random integer within that range \n",
    "print(a)\n",
    "b=random.randint(-14,-10) # the starting value should be less than ending vlaue \n",
    "print(b)"
   ]
  },
  {
   "cell_type": "code",
   "execution_count": null,
   "id": "259d4e0c",
   "metadata": {},
   "outputs": [],
   "source": []
  },
  {
   "cell_type": "code",
   "execution_count": null,
   "id": "caa0ad5e",
   "metadata": {},
   "outputs": [],
   "source": []
  }
 ],
 "metadata": {
  "kernelspec": {
   "display_name": "Python 3 (ipykernel)",
   "language": "python",
   "name": "python3"
  },
  "language_info": {
   "codemirror_mode": {
    "name": "ipython",
    "version": 3
   },
   "file_extension": ".py",
   "mimetype": "text/x-python",
   "name": "python",
   "nbconvert_exporter": "python",
   "pygments_lexer": "ipython3",
   "version": "3.7.11"
  }
 },
 "nbformat": 4,
 "nbformat_minor": 5
}
