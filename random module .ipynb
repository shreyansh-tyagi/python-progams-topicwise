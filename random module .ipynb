{
 "cells": [
  {
   "cell_type": "markdown",
   "id": "0f776bef",
   "metadata": {},
   "source": [
    "import random\n",
    "a=[1,2,3,4,5]\n",
    "print(random.choice(a))"
   ]
  },
  {
   "cell_type": "code",
   "execution_count": null,
   "id": "a0835b0e",
   "metadata": {},
   "outputs": [],
   "source": [
    "import random a=[1,2,3,4,5] print(random.choice(a))"
   ]
  },
  {
   "cell_type": "code",
   "execution_count": null,
   "id": "0615d31a",
   "metadata": {},
   "outputs": [],
   "source": []
  }
 ],
 "metadata": {
  "kernelspec": {
   "display_name": "Python 3 (ipykernel)",
   "language": "python",
   "name": "python3"
  },
  "language_info": {
   "codemirror_mode": {
    "name": "ipython",
    "version": 3
   },
   "file_extension": ".py",
   "mimetype": "text/x-python",
   "name": "python",
   "nbconvert_exporter": "python",
   "pygments_lexer": "ipython3",
   "version": "3.7.11"
  }
 },
 "nbformat": 4,
 "nbformat_minor": 5
}
