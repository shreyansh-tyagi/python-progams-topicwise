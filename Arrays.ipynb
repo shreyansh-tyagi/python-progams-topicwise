{
 "cells": [
  {
   "cell_type": "markdown",
   "id": "downtown-administrator",
   "metadata": {},
   "source": [
    "# Arrays :-"
   ]
  },
  {
   "cell_type": "code",
   "execution_count": 12,
   "id": "needed-banner",
   "metadata": {},
   "outputs": [
    {
     "name": "stdout",
     "output_type": "stream",
     "text": [
      "enter the size of list: 5\n",
      "enter the element into the list: 1 2 3 4 211\n",
      "211\n"
     ]
    }
   ],
   "source": [
    "#creating array:-\n",
    "import array as arr\n",
    "n=int(input('enter the size of list: '))\n",
    "a=list(map(int,input('enter the element into the list: ').split()))[:n]\n",
    "b=arr.array('i',a)\n"
   ]
  },
  {
   "cell_type": "code",
   "execution_count": 13,
   "id": "equipped-quest",
   "metadata": {},
   "outputs": [
    {
     "name": "stdout",
     "output_type": "stream",
     "text": [
      "The new created array is :  1 2 3 \n"
     ]
    }
   ],
   "source": [
    "\n",
    "# Python program to demonstrate \n",
    "# Creation of Array \n",
    "  \n",
    "# importing \"array\" for array creations\n",
    "import array as arr\n",
    "  \n",
    "# creating an array with integer type\n",
    "a = arr.array('i', [1, 2, 3])\n",
    "  \n",
    "# printing original array\n",
    "print (\"The new created array is : \", end =\" \")\n",
    "for i in range (0, 3):\n",
    "    print (a[i], end =\" \")\n",
    "print()"
   ]
  },
  {
   "cell_type": "code",
   "execution_count": 21,
   "id": "ranging-cannon",
   "metadata": {},
   "outputs": [
    {
     "name": "stdout",
     "output_type": "stream",
     "text": [
      "enter the size of array: 5\n",
      "enter 5 integer element into array: 1 2 3 4 5\n",
      "enter 5 float element into array: 1.222 3.44 55.4424 54.55 5.0\n",
      " Integer Array: \n",
      "1 2 3 4 5 \n",
      "float array:\n",
      "1.22 3.44 55.44 54.55 5.0 "
     ]
    }
   ],
   "source": [
    "import array as arr\n",
    "n=int(input('enter the size of array: '))\n",
    "d=list(map(int,input(f'enter {n} integer element into array: ').split()))[:n]\n",
    "a=list(map(float,input(f'enter {n} float element into array: ').split()))[:n]\n",
    "b=arr.array('i',d)\n",
    "c=arr.array('f',a)\n",
    "print('Integer Array: ')\n",
    "for i in range(len(b)):\n",
    "    print(b[i],end=' ')\n",
    "print('\\nfloat array:')\n",
    "for i in range(len(b)):\n",
    "    print(round(c[i],2),end=' ')"
   ]
  },
  {
   "cell_type": "code",
   "execution_count": null,
   "id": "north-elite",
   "metadata": {},
   "outputs": [
    {
     "name": "stdout",
     "output_type": "stream",
     "text": [
      "enter the size of array: 5\n"
     ]
    }
   ],
   "source": [
    "#insertion into array\n",
    "import operator\n",
    "import array as arr\n",
    "n=int(input('enter the size of array: '))\n",
    "a=list(map(int,input(f'enter {n} element into array').split()))[:n]\n",
    "b=arr.array('i',a)\n",
    "print('Array: ')\n",
    "for i in range(len(a)):\n",
    "    print(b[i],end=' ')\n",
    "c=input('do you want to insert element into arry,\\ntype \"yes\" or \"no\"')\n",
    "if c=='yes':\n",
    "    d=int(input('enter the position to insert the element: '))\n",
    "    e=int(input('enter the element to insert: '))\n",
    "    b.insert(d-1,e)\n",
    "    print('AFTER INSERTION: ',b)\n",
    "else:\n",
    "    print('okay!')\n",
    "    \n",
    "    \n",
    "    "
   ]
  },
  {
   "cell_type": "code",
   "execution_count": null,
   "id": "breeding-writer",
   "metadata": {},
   "outputs": [],
   "source": []
  }
 ],
 "metadata": {
  "kernelspec": {
   "display_name": "Python 3",
   "language": "python",
   "name": "python3"
  },
  "language_info": {
   "codemirror_mode": {
    "name": "ipython",
    "version": 3
   },
   "file_extension": ".py",
   "mimetype": "text/x-python",
   "name": "python",
   "nbconvert_exporter": "python",
   "pygments_lexer": "ipython3",
   "version": "3.7.10"
  }
 },
 "nbformat": 4,
 "nbformat_minor": 5
}
