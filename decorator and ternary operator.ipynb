{
 "cells": [
  {
   "cell_type": "markdown",
   "id": "functional-scheme",
   "metadata": {},
   "source": [
    "# Decorator:-"
   ]
  },
  {
   "cell_type": "code",
   "execution_count": 5,
   "id": "occupational-evanescence",
   "metadata": {},
   "outputs": [
    {
     "name": "stdout",
     "output_type": "stream",
     "text": [
      "enter the number: 2 4\n",
      "started\n",
      "6 is odd\n",
      "ended\n"
     ]
    }
   ],
   "source": [
    "def func1(func):\n",
    "    def wrapper(*args,**kwargs):\n",
    "        print('started')\n",
    "        a=func(*args,**kwargs)\n",
    "        print('ended')\n",
    "        return a\n",
    "    return wrapper\n",
    "@func1  #decorator declared with the same name as the function\n",
    "def f(a,b):\n",
    "    if int(a)+int(b)%2==0:\n",
    "        print(f'{a+b} is even')\n",
    "    else:\n",
    "        print(f'{a+b} is odd')\n",
    "a,b=map(int,input('enter the number: ').split())\n",
    "f(a,b) # x= func1(f)   # decorator called \n",
    "       # x(a,b)  \n",
    "              "
   ]
  },
  {
   "cell_type": "code",
   "execution_count": 5,
   "id": "ancient-working",
   "metadata": {},
   "outputs": [
    {
     "name": "stdout",
     "output_type": "stream",
     "text": [
      "\n",
      "we are in func1\n",
      "\n",
      "enter two number: 3 4\n",
      "f started\n",
      "7 is odd\n",
      "f ended\n",
      "\n",
      "we are func2\n",
      "\n",
      "enter four value : 1 2 3 4\n",
      "f1 started\n",
      "sum is: 10\n",
      "f1 ended\n"
     ]
    },
    {
     "data": {
      "text/plain": [
       "'bye! from func2'"
      ]
     },
     "execution_count": 5,
     "metadata": {},
     "output_type": "execute_result"
    }
   ],
   "source": [
    "def func1(func):\n",
    "    print('\\nwe are in func1\\n')\n",
    "    def wrapper(*args,**kwargs):\n",
    "        print('f started')\n",
    "        func(*args,**kwargs)\n",
    "        print('f ended')\n",
    "        return 'bye! from func1'\n",
    "    return wrapper\n",
    "@func1  #decorator declared with the same name as the function\n",
    "def f(a,b):\n",
    "    if int(a)+int(b)%2==0:\n",
    "        print(f'{a+b} is even')\n",
    "    else:\n",
    "        print(f'{a+b} is odd')\n",
    "a,b=map(int,input('enter two number: ').split())\n",
    "f(a,b) #x=func1(f) \n",
    "      #x(a,b)\n",
    "def func2(func):\n",
    "    print('\\nwe are func2\\n')\n",
    "    def wrapper(*args,**kwargs):\n",
    "        print('f1 started')\n",
    "        func(*args,**kwargs)\n",
    "        print('f1 ended')\n",
    "        return 'bye! from func2'\n",
    "    return wrapper    \n",
    "@func2  #decorator for the func2\n",
    "def f1(a,b,c,d):\n",
    "    print(f'sum is: {a+b+c+d}')\n",
    "a,b,c,d=map(int,input('enter four value : ').split())\n",
    "f1(a,b,c,d)"
   ]
  },
  {
   "cell_type": "code",
   "execution_count": 3,
   "id": "legendary-globe",
   "metadata": {},
   "outputs": [
    {
     "name": "stdout",
     "output_type": "stream",
     "text": [
      "enter two  value: 2 4\n",
      "6\n",
      "False\n"
     ]
    }
   ],
   "source": [
    "# lambda function demonstration\n",
    "a,b=map(int,input('enter two  value: ').split())\n",
    "x=lambda a,b : a%b==0\n",
    "y=lambda a,b: a+b\n",
    "print(y(a,b))    \n",
    "print(x(a,b))"
   ]
  },
  {
   "cell_type": "markdown",
   "id": "missing-houston",
   "metadata": {},
   "source": [
    "# Ternary operator: -"
   ]
  },
  {
   "cell_type": "code",
   "execution_count": 31,
   "id": "cathedral-glasgow",
   "metadata": {},
   "outputs": [
    {
     "name": "stdout",
     "output_type": "stream",
     "text": [
      "enter three number: 2 3 4\n",
      "sum of 2,3,4 is 9 which is odd\n"
     ]
    }
   ],
   "source": [
    "# ternary operator demonstration\n",
    "a,b,c=map(int,input('enter three number: ').split())\n",
    "print(f'sum of {a},{b},{c} is {a+b+c} which is even')if((a+b+c)%2==0) else \\\n",
    "print(f'sum of {a},{b},{c} is {a+b+c} which is odd')"
   ]
  },
  {
   "cell_type": "code",
   "execution_count": 49,
   "id": "higher-caribbean",
   "metadata": {},
   "outputs": [
    {
     "name": "stdout",
     "output_type": "stream",
     "text": [
      "enter two  value: 2 1\n",
      "false\n",
      "(1, 2) [False]\n"
     ]
    }
   ],
   "source": [
    "# ternary operator demonstration using tuple\n",
    "a,b=map(int,input('enter two  value: ').split())\n",
    "print(('false','true')[a<b])\n",
    "print((b,a),[a<b])"
   ]
  },
  {
   "cell_type": "code",
   "execution_count": 57,
   "id": "acknowledged-threshold",
   "metadata": {},
   "outputs": [
    {
     "name": "stdout",
     "output_type": "stream",
     "text": [
      "enter two  value: 1 2\n",
      "1\n",
      "true\n",
      "1\n"
     ]
    }
   ],
   "source": [
    "#ternary operator demonstration using dictionary\n",
    "a,b=map(int,input('enter two  value: ').split())\n",
    "print({True:a,False:b}[a<b])\n",
    "print({True:'true',False:'false'}[a<b])\n",
    "print({False:b,True:a}[a<b])"
   ]
  },
  {
   "cell_type": "code",
   "execution_count": 60,
   "id": "bronze-teens",
   "metadata": {},
   "outputs": [
    {
     "name": "stdout",
     "output_type": "stream",
     "text": [
      "enter the value : 41\n",
      "41 is odd\n"
     ]
    }
   ],
   "source": [
    "a=int(input('enter the value : '))\n",
    "print({True:f'{a} is even',False:f'{a} is odd'}[a%2==0])"
   ]
  },
  {
   "cell_type": "code",
   "execution_count": 5,
   "id": "documentary-owner",
   "metadata": {},
   "outputs": [
    {
     "name": "stdout",
     "output_type": "stream",
     "text": [
      "enter two  value: 2 1\n",
      "false\n"
     ]
    }
   ],
   "source": [
    "# ternary operator using the lambda function\n",
    "a,b=map(int,input('enter two  value: ').split())\n",
    "print((lambda:'false',lambda:'true')[a<b]())"
   ]
  },
  {
   "cell_type": "code",
   "execution_count": 9,
   "id": "posted-punch",
   "metadata": {},
   "outputs": [
    {
     "name": "stdout",
     "output_type": "stream",
     "text": [
      "enter the value : 20\n",
      "20 is even\n"
     ]
    }
   ],
   "source": [
    "a=int(input('enter the value : '))\n",
    "print((lambda:f'{a} is odd',lambda:f'{a} is even')[a%2==0]())"
   ]
  },
  {
   "cell_type": "code",
   "execution_count": 13,
   "id": "mature-sheffield",
   "metadata": {},
   "outputs": [
    {
     "name": "stdout",
     "output_type": "stream",
     "text": [
      "enter two value: 2 3\n",
      "2 is less than 3\n"
     ]
    }
   ],
   "source": [
    "#ternary operator as the nested if else condition\n",
    "a,b=map(int,input('enter two value: ').split())\n",
    "print(f'{a} is equal to {b}' if(a==b) else f'{a} is greater than {b}' if (a>b) \\\n",
    "      else f'{a} is less than {b}')"
   ]
  },
  {
   "cell_type": "code",
   "execution_count": 35,
   "id": "yellow-regard",
   "metadata": {},
   "outputs": [
    {
     "name": "stdout",
     "output_type": "stream",
     "text": [
      "enter three value: 1 11 3\n",
      "11 is greater than 1 and 3\n"
     ]
    }
   ],
   "source": [
    "# program to find the greater among three number \n",
    "a,b,c=map(int,input('enter three value: ').split())\n",
    "if (a!=b) and (b!=c):\n",
    "    \n",
    "    print(f'{a} is greater than {b} and {c}'if a>b and a>c else f'{b} is \\\n",
    "greater than {a} and {c}' if b>a and b>c else f'{c} is greater than {a} and {b}')\n",
    "else:\n",
    "    \n",
    "    print({True:f'{a},{b},{c} are equal to each other',False:f'{a} {b} {c} are not \\\n",
    "    equal to each other'}[a==b==c])"
   ]
  },
  {
   "cell_type": "code",
   "execution_count": 34,
   "id": "painful-channel",
   "metadata": {},
   "outputs": [
    {
     "name": "stdout",
     "output_type": "stream",
     "text": [
      "enter three value: 1 2 3\n",
      "c is greater than a and b\n"
     ]
    }
   ],
   "source": [
    "a,b,c=map(int,input('enter three value: ').split())\n",
    "if a!=b and b!=c:\n",
    "    print('a is greater than b and c'if a>b and a>c else 'b is \\\n",
    "greater than a and c' if b>a and b>c else 'c is greater than a and b')\n",
    "else:\n",
    "    print({True:f'{a},{b},{c} are equal to each other',False:f'{a} {b} {c} are not \\\n",
    "    equal to each other'}[a==b==c])"
   ]
  },
  {
   "cell_type": "code",
   "execution_count": 48,
   "id": "gross-clark",
   "metadata": {},
   "outputs": [
    {
     "name": "stdout",
     "output_type": "stream",
     "text": [
      "enter two number: 2 5\n",
      "addition: 7\n",
      "subtraction: -3\n",
      "division: 0.4\n",
      "multiply: 10\n",
      "power: 32\n",
      "floordivision: 0\n",
      "modulus: 2\n",
      "2 less than 5 True\n",
      "2 is equal to 5 False\n",
      "2 is less equal to 5 True\n",
      "2 is greater than 5 False\n",
      "2 is greater than equal to 5 False\n",
      "2 is not equal to 5 True\n"
     ]
    }
   ],
   "source": [
    "import operator\n",
    "a,b=map(int,input('enter two number: ').split())\n",
    "print('addition:',operator.add(a,b))\n",
    "print('subtraction:',operator.sub(a,b))\n",
    "print('division:',operator.truediv(a,b))\n",
    "print('multiply:',operator.mul(a,b))\n",
    "print('power:',operator.pow(a,b))\n",
    "print('floordivision:',operator.floordiv(a,b))\n",
    "print('modulus:',operator.mod(a,b))\n",
    "print(f'{a} less than {b}',operator.lt(a,b))\n",
    "print(f'{a} is equal to {b}',operator.eq(a,b))\n",
    "print(f'{a} is less equal to {b}',operator.le(a,b))\n",
    "print(f'{a} is greater than {b}',operator.gt(a,b))\n",
    "print(f'{a} is greater than equal to {b}',operator.ge(a,b))\n",
    "print(f'{a} is not equal to {b}',operator.ne(a,b))"
   ]
  },
  {
   "cell_type": "code",
   "execution_count": null,
   "id": "featured-ministry",
   "metadata": {},
   "outputs": [],
   "source": []
  }
 ],
 "metadata": {
  "kernelspec": {
   "display_name": "Python 3",
   "language": "python",
   "name": "python3"
  },
  "language_info": {
   "codemirror_mode": {
    "name": "ipython",
    "version": 3
   },
   "file_extension": ".py",
   "mimetype": "text/x-python",
   "name": "python",
   "nbconvert_exporter": "python",
   "pygments_lexer": "ipython3",
   "version": "3.7.10"
  }
 },
 "nbformat": 4,
 "nbformat_minor": 5
}
