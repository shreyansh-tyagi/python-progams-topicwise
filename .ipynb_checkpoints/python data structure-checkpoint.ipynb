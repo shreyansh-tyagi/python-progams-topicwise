{
 "cells": [
  {
   "cell_type": "markdown",
   "id": "9c85e017",
   "metadata": {},
   "source": [
    "# linked list in python using oops by manually adding the nodes "
   ]
  },
  {
   "cell_type": "code",
   "execution_count": 11,
   "id": "968206ec",
   "metadata": {},
   "outputs": [
    {
     "name": "stdout",
     "output_type": "stream",
     "text": [
      "100\n",
      "200\n",
      "300\n",
      "500\n"
     ]
    }
   ],
   "source": [
    "class Node:\n",
    "    def __init__(self,data):\n",
    "        self.data=data\n",
    "        self.next=None \n",
    "class Linked_list:\n",
    "    def __init__(self):\n",
    "        self.head=None\n",
    "    def printlist(self):\n",
    "        temp=self.head\n",
    "        while(temp):\n",
    "            print(temp.data)\n",
    "            temp=temp.next\n",
    "obj_linked_list=Linked_list()\n",
    "obj_linked_list.head=Node(100)\n",
    "second=Node(200)\n",
    "third=Node(300)\n",
    "fourth=Node(500)\n",
    "obj_linked_list.head.next=second\n",
    "second.next=third\n",
    "third.next=fourth\n",
    "obj_linked_list.printlist()"
   ]
  },
  {
   "cell_type": "markdown",
   "id": "a6c8aa45",
   "metadata": {},
   "source": [
    "# creation of linked list by entering the size of linked list"
   ]
  },
  {
   "cell_type": "code",
   "execution_count": 16,
   "id": "141ff668",
   "metadata": {},
   "outputs": [
    {
     "name": "stdout",
     "output_type": "stream",
     "text": [
      "enter the size of linked list: 5\n",
      "enter the element: 34\n",
      "enter the element: 12\n",
      "enter the element: 23\n",
      "enter the element: 11\n",
      "enter the element: 32\n",
      "\n",
      "linked list is : \n",
      "\n",
      "34 12 23 11 32 "
     ]
    }
   ],
   "source": [
    "class Node1:\n",
    "    def __init__(self,data1):\n",
    "        self.d=data1\n",
    "        self.next1=None\n",
    "class Linkedlist:\n",
    "    def __init__(self):\n",
    "        self.root=None\n",
    "    def printit(self,tmp):\n",
    "        print('\\nlinked list is : \\n')\n",
    "        while(tmp):\n",
    "            print(tmp.d,end=' ')\n",
    "            tmp=tmp.next1        \n",
    "            \n",
    "obj=Linkedlist() \n",
    "a=int(input(\"enter the size of linked list: \"))\n",
    "obj.root=Node1(int(input('enter the element: ')))\n",
    "tmp=obj.root\n",
    "\n",
    "for i in range(a-1):\n",
    "    sec=Node1(int(input('enter the element: ')))\n",
    "    obj.root.next1=sec\n",
    "    obj.root=obj.root.next1\n",
    "obj.printit(tmp)        "
   ]
  },
  {
   "cell_type": "markdown",
   "id": "1ce8d8fe",
   "metadata": {},
   "source": [
    "# add the node in the beginning"
   ]
  },
  {
   "cell_type": "code",
   "execution_count": 17,
   "id": "04cf013d",
   "metadata": {},
   "outputs": [
    {
     "name": "stdout",
     "output_type": "stream",
     "text": [
      "\n",
      "linked list is : \n",
      "\n",
      "34 12 23 11 32 "
     ]
    }
   ],
   "source": [
    "class Node2:\n",
    "    def __init__(self,data):\n",
    "        self.data=data\n",
    "        self.next=None\n",
    "class Linked_at_begin:\n",
    "    def __init__(self):\n",
    "        self.root=None\n",
    "        \n",
    "        "
   ]
  },
  {
   "cell_type": "code",
   "execution_count": null,
   "id": "44ec8edc",
   "metadata": {},
   "outputs": [],
   "source": []
  }
 ],
 "metadata": {
  "kernelspec": {
   "display_name": "Python 3",
   "language": "python",
   "name": "python3"
  },
  "language_info": {
   "codemirror_mode": {
    "name": "ipython",
    "version": 3
   },
   "file_extension": ".py",
   "mimetype": "text/x-python",
   "name": "python",
   "nbconvert_exporter": "python",
   "pygments_lexer": "ipython3",
   "version": "3.7.10"
  }
 },
 "nbformat": 4,
 "nbformat_minor": 5
}
