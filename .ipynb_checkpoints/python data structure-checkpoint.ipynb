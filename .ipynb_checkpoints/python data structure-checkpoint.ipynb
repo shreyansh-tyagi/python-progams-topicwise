{
 "cells": [
  {
   "cell_type": "markdown",
   "id": "bc9d4d2b",
   "metadata": {},
   "source": [
    "# linked list in python using oops "
   ]
  },
  {
   "cell_type": "code",
   "execution_count": null,
   "id": "eb2d99c8",
   "metadata": {},
   "outputs": [],
   "source": [
    "class Node:\n",
    "    def __init__(self,data):\n",
    "        self.data=data\n",
    "        self.next=None \n",
    "class Linked_list:\n",
    "    def __init__(self):\n",
    "        self.head=None\n",
    "obj_linked_list=Linked_list()\n",
    "obj_linked_list.head=Node(100)\n",
    "obj_linked_list.second=Node(200)\n",
    "obj_linked_list.third=Node(300)\n",
    "obj_linked_list.fourth=Node(500)"
   ]
  }
 ],
 "metadata": {
  "kernelspec": {
   "display_name": "Python 3",
   "language": "python",
   "name": "python3"
  },
  "language_info": {
   "codemirror_mode": {
    "name": "ipython",
    "version": 3
   },
   "file_extension": ".py",
   "mimetype": "text/x-python",
   "name": "python",
   "nbconvert_exporter": "python",
   "pygments_lexer": "ipython3",
   "version": "3.7.10"
  }
 },
 "nbformat": 4,
 "nbformat_minor": 5
}
