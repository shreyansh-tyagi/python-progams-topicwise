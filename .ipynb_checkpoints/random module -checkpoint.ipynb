{
 "cells": [
  {
   "cell_type": "markdown",
   "id": "a907368c",
   "metadata": {},
   "source": [
    "# random module"
   ]
  },
  {
   "cell_type": "markdown",
   "id": "7cacb986",
   "metadata": {},
   "source": [
    "###  choice random"
   ]
  },
  {
   "cell_type": "code",
   "execution_count": 38,
   "id": "c693f124",
   "metadata": {},
   "outputs": [
    {
     "name": "stdout",
     "output_type": "stream",
     "text": [
      "2\n",
      "s\n"
     ]
    }
   ],
   "source": [
    "import random \n",
    "a=[1,2,3,4,5] \n",
    "b='shreyansh tyagi'\n",
    "print(random.choice(a)) #it will choose the random value from the list\n",
    "print(random.choice(b))"
   ]
  },
  {
   "cell_type": "markdown",
   "id": "922d92d9",
   "metadata": {},
   "source": [
    "### choices random"
   ]
  },
  {
   "cell_type": "code",
   "execution_count": 16,
   "id": "00227418",
   "metadata": {},
   "outputs": [
    {
     "name": "stdout",
     "output_type": "stream",
     "text": [
      "[4]\n"
     ]
    }
   ],
   "source": [
    "import random\n",
    "a=[1,2,34,4,5] #it will return the list of random number\n",
    "print(random.choices(a))"
   ]
  },
  {
   "cell_type": "markdown",
   "id": "d35e555c",
   "metadata": {},
   "source": [
    "### seed function"
   ]
  },
  {
   "cell_type": "code",
   "execution_count": 22,
   "id": "a5cc39a2",
   "metadata": {},
   "outputs": [
    {
     "name": "stdout",
     "output_type": "stream",
     "text": [
      "0.6229016948897019\n",
      "0.7417869892607294\n"
     ]
    }
   ],
   "source": [
    "import random\n",
    "random.seed(5)\n",
    "print(random.random())\n",
    "print(random.random()) #it will give the random value but no matter\n",
    "#how many times we run the program the output will always be same"
   ]
  },
  {
   "cell_type": "markdown",
   "id": "89fb2dcc",
   "metadata": {},
   "source": [
    "### random integer"
   ]
  },
  {
   "cell_type": "code",
   "execution_count": 32,
   "id": "bc3c2bc1",
   "metadata": {},
   "outputs": [
    {
     "name": "stdout",
     "output_type": "stream",
     "text": [
      "5\n",
      "-14\n"
     ]
    }
   ],
   "source": [
    "import random\n",
    "a=random.randint(4,9) # in this we have to give the range for random interge\n",
    "# and it will give the random integer within that range \n",
    "print(a)\n",
    "b=random.randint(-14,-10) # the starting value should be less than ending vlaue \n",
    "print(b)"
   ]
  },
  {
   "cell_type": "markdown",
   "id": "df334765",
   "metadata": {},
   "source": [
    "### creating random float"
   ]
  },
  {
   "cell_type": "code",
   "execution_count": 35,
   "id": "f9ca163f",
   "metadata": {},
   "outputs": [
    {
     "name": "stdout",
     "output_type": "stream",
     "text": [
      "0.8684454578650953\n"
     ]
    }
   ],
   "source": [
    "from random import random \n",
    "print(random()) # this is the random function inside random module which will give the \n",
    "# random floating vlaue as a result"
   ]
  },
  {
   "cell_type": "code",
   "execution_count": null,
   "id": "d06e2a4a",
   "metadata": {},
   "outputs": [],
   "source": []
  }
 ],
 "metadata": {
  "kernelspec": {
   "display_name": "Python 3 (ipykernel)",
   "language": "python",
   "name": "python3"
  },
  "language_info": {
   "codemirror_mode": {
    "name": "ipython",
    "version": 3
   },
   "file_extension": ".py",
   "mimetype": "text/x-python",
   "name": "python",
   "nbconvert_exporter": "python",
   "pygments_lexer": "ipython3",
   "version": "3.7.11"
  }
 },
 "nbformat": 4,
 "nbformat_minor": 5
}
