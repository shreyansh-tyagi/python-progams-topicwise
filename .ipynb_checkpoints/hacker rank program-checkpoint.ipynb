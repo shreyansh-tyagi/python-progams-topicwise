{
 "cells": [
  {
   "cell_type": "code",
   "execution_count": 44,
   "metadata": {},
   "outputs": [
    {
     "name": "stdout",
     "output_type": "stream",
     "text": [
      "enter the value: 4\n",
      "36980 36960 36940 36920 \n",
      "36920\n"
     ]
    }
   ],
   "source": [
    "'''Madhukar is spending money from his collection each day he spend 20 rupees on fast food. after n no of days how much total money has he in his collection?Initially he has 37000 rs.\n",
    "\n",
    "Input Format\n",
    "\n",
    "one integer input which will denote total number of days\n",
    "\n",
    "Constraints\n",
    "\n",
    "Constraint maximum this fast food eating will done for 30 days\n",
    "\n",
    "Output Format\n",
    "\n",
    "output will have two lines, first line will display list of his money remaining on daily basis. second line will display total sum of money in his collection.\n",
    "\n",
    "Sample Input 0\n",
    "\n",
    "4\n",
    "Sample Output 0\n",
    "\n",
    "36980 36960 36940 36920\n",
    "36920\n",
    "Explanation 0\n",
    "\n",
    "first line is the initial input. first line of output is collection after spending money day by day. second line of output is remaining collection.*/\n",
    "\n",
    "'''\n",
    "\n",
    "\n",
    "n=int(input('enter the value: '))\n",
    "#print(n)\n",
    "b=37000\n",
    "a=[]\n",
    "for i in range(1,31):\n",
    "    b-=20\n",
    "    a.append(b)\n",
    "    #print(i)\n",
    "    #print(b,end=' ')\n",
    "#print(a)  \n",
    "for i in range(0,n):\n",
    "    print(a[i],end=' ')\n",
    "print()    \n",
    "print(a[n-1])    \n",
    "   "
   ]
  },
  {
   "cell_type": "code",
   "execution_count": 51,
   "metadata": {},
   "outputs": [
    {
     "name": "stdout",
     "output_type": "stream",
     "text": [
      "enter the number of days:3\n",
      "330\n",
      "375\n",
      "300\n"
     ]
    }
   ],
   "source": [
    "'''Adveta walks 100 steps first day and she walks 10 more steps then the previous day for the next each day. While Rahul walks 120 steps first day and He walks 5 more steps then the previous day for the next each day. And Jaanki walks 80 steps first day and she walks 20 more steps then the previous day for the next each day. If their trainer assigned same number of days to walk. Then calculate total number of steps they walked in the given days.\n",
    "\n",
    "Input Format\n",
    "\n",
    "An integer input to show number of days.\n",
    "\n",
    "Constraints\n",
    "\n",
    "1<= Days <=10\n",
    "\n",
    "Output Format\n",
    "\n",
    "Three lines of output\n",
    "\n",
    "First line shows total number of steps walked by Adveta.\n",
    "\n",
    "Second line shows total number of steps walked by Rahul.\n",
    "\n",
    "Thirs line shows total number of steps walked by Jaanki.\n",
    "\n",
    "Sample Input 0\n",
    "\n",
    "2\n",
    "Sample Output 0\n",
    "210\n",
    "245\n",
    "180\n",
    "\n",
    "'''\n",
    "'hello'\n",
    "\n",
    "n=int(input('enter the number of days:'))\n",
    "a=100\n",
    "if n==1:\n",
    "    print(a)\n",
    "elif n>1:\n",
    "    for i in range(1,n):\n",
    "        a=(a*n)\n",
    "        e=1\n",
    "       # print(a)\n",
    "        for j in range(1,n):\n",
    "            a=a+(e*10)\n",
    "            e+=1\n",
    "        print(a)\n",
    "        break\n",
    "b=120\n",
    "if n==1:\n",
    "    print(b)\n",
    "elif n>1:\n",
    "    for i in range(1,n):\n",
    "        b=(b*n)\n",
    "        e=1\n",
    "      #  print(b)\n",
    "        for j in range(1,n):\n",
    "            b=b+(e*5)\n",
    "            e+=1\n",
    "        print(b)\n",
    "        break\n",
    "c=80\n",
    "if(n==1):\n",
    "    print(c)\n",
    "elif n>1:\n",
    "    for i in range(1,n):\n",
    "        c=c*n\n",
    "        e=1\n",
    "        for j in range(1,n):\n",
    "            c=c+(e*20)\n",
    "            e+=1\n",
    "        print(c)\n",
    "        break       "
   ]
  },
  {
   "cell_type": "code",
   "execution_count": 76,
   "metadata": {},
   "outputs": [
    {
     "name": "stdout",
     "output_type": "stream",
     "text": [
      "how many element you want to store into the list: 5\n",
      "enter the value into list: 45\n",
      "enter the value into list: 12\n",
      "enter the value into list: 43\n",
      "enter the value into list: 23\n",
      "enter the value into list: 22\n",
      "list is :  [45, 12, 43, 23, 22]\n",
      "the type is: <class 'list'>\n",
      "the length is:  5\n",
      "list in ascending order : [12, 22, 23, 43, 45]\n",
      "list in desending order:  [45, 43, 23, 22, 12]\n"
     ]
    }
   ],
   "source": [
    "# arranging list into ascending and desending order\n",
    "a=[]\n",
    "n=int(input('how many element you want to store into the list: '))\n",
    "for i in range(n):\n",
    "    b=int(input('enter the value into list: '))\n",
    "    a.append(b) #adding element into the list\n",
    "print('list is : ',a)    \n",
    "print('the type is:',type(a))  \n",
    "print('the length is: ',len(a))\n",
    "print('list in ascending order :',sorted(a))\n",
    "print('list in desending order: ',sorted(a,reverse=True))\n"
   ]
  },
  {
   "cell_type": "code",
   "execution_count": 28,
   "metadata": {},
   "outputs": [
    {
     "name": "stdout",
     "output_type": "stream",
     "text": [
      "enter how many element you want into the list: 5\n",
      "enter the value into the list: 1\n",
      "enter the value into the list: 2\n",
      "enter the value into the list: 66\n",
      "enter the value into the list: 34\n",
      "enter the value into the list: 78\n",
      "list is : [1, 2, 66, 34, 78]\n",
      "descending: [78, 66, 34, 2, 1]\n",
      "asecending:  [1, 2, 34, 66, 78]\n",
      "smallest element from list is:  1\n",
      "largest element from list is:  78\n",
      "smallest element is: 1 \n",
      "laregst is : 78\n"
     ]
    }
   ],
   "source": [
    "#finding smallest and largest element from the list\n",
    "a=[]\n",
    "n=int(input('enter how many element you want into the list: '))\n",
    "for i in range(n):\n",
    "    b=int(input('enter the value into the list: '))\n",
    "    a.append(b) #adding element into list\n",
    "    c=sorted(a,reverse=True)\n",
    "print('list is :',a)    \n",
    "print('descending:',c)\n",
    "print('asecending: ',sorted(c,reverse=False))\n",
    "print('smallest element from list is: ',c[-1])\n",
    "print('largest element from list is: ',c[0])\n",
    "print('smallest element is:',c[-1], '\\nlaregst is :',c[0]) #to print in different line using single print statement\n",
    "#print('laregst %s and greatest %s',%(c[-1],c[0]))"
   ]
  },
  {
   "cell_type": "code",
   "execution_count": 59,
   "metadata": {},
   "outputs": [
    {
     "name": "stdout",
     "output_type": "stream",
     "text": [
      "enter the string: myJavaScriptVariable\n",
      "j_\n",
      "_\n",
      "s_\n",
      "_\n",
      "v_\n",
      "_\n"
     ]
    }
   ],
   "source": [
    "a=input('enter the string: ')\n",
    "#print(ord(a[0]))\n",
    "#print(a[1])\n",
    "c=len(a)\n",
    "#print(c)\n",
    "#print(ord(a)) #ord function is used to print the ASCII value \n",
    "for i in range(c):\n",
    "    if(ord(a[i])<97):\n",
    "        b=input(a[i].lower())\n",
    "        print(b)\n",
    "    "
   ]
  },
  {
   "cell_type": "code",
   "execution_count": 13,
   "metadata": {},
   "outputs": [
    {
     "name": "stdout",
     "output_type": "stream",
     "text": [
      "enter the value: ABCDabcd\n",
      "65\n",
      "66\n",
      "67\n",
      "68\n",
      "97\n",
      "98\n",
      "99\n",
      "100\n"
     ]
    }
   ],
   "source": [
    "a=(input('enter the value: '))\n",
    "for i in range(len(a)):\n",
    "    print(ord(a[i]))"
   ]
  },
  {
   "cell_type": "code",
   "execution_count": 24,
   "metadata": {},
   "outputs": [
    {
     "name": "stdout",
     "output_type": "stream",
     "text": [
      "enter last two digit of car number: 00\n",
      "enter the date: 11\n",
      "INVALID INPUT\n"
     ]
    }
   ],
   "source": [
    "'''KIET Group of Institutions administration applied the odd-even rule on the basis of the sum of the last two digits of the registered number. Now administration wants a program to check that the car is allowed on that particular day or not.\n",
    "\n",
    "In this you need to take last 2 digit number from user and todya's date (only dd). If there is a match like even - even then show \"Yes\" else \"No\".\n",
    "\n",
    "*If last two digit sum is 0 then consider it as even *For any invalid input print \"Invalid input\"\n",
    "\n",
    "Input Format\n",
    "\n",
    "    First line will contain the last two digits of the CAR Number.\n",
    "    Second line will contain Today's date(DD) Format.\n",
    "\n",
    "Constraints\n",
    "\n",
    "    Car number can't be more than 99.\n",
    "    Date can't be more than 31.\n",
    "    None of these can be negative.\n",
    "\n",
    "Output Format\n",
    "\n",
    "One line output saying only one of these \"YES\" or \"NO\" or \"INVALID INPUT\"\n",
    "\n",
    "Sample Input 0\n",
    "\n",
    "33\n",
    "12\n",
    "\n",
    "Sample Output 0\n",
    "\n",
    "YES\n",
    "\n",
    "Explanation 0\n",
    "\n",
    "Sum of both the digit of CAR Number 33 is even(3+3=6) and 12 (Date) is also even so YES '''\n",
    "\n",
    "\n",
    "a=input('enter last two digit of car number: ')\n",
    "b=input('enter the date: ')\n",
    "if(int(a)<100) and (int(b)<31):\n",
    "    for i in range(len(a)):\n",
    "        d=int(a[i])+int(a[i+1])\n",
    "        if(d==0):\n",
    "            print('INVALID INPUT')\n",
    "            break\n",
    "        #print(d)\n",
    "        break       \n",
    "    if(d%2==0) and (int(b)%2==0) and (d!=0):\n",
    "        print('YES')\n",
    "    elif(d!=0):\n",
    "        print('NO')\n"
   ]
  },
  {
   "cell_type": "code",
   "execution_count": 10,
   "metadata": {
    "scrolled": true
   },
   "outputs": [
    {
     "name": "stdout",
     "output_type": "stream",
     "text": [
      "enter the value :3\n",
      "2\n",
      "2\n",
      "2\n",
      "4\n"
     ]
    }
   ],
   "source": [
    "'''In a kictchen their are two identical burners. A chef wants to prepare food for his customers in minimum possible time. He can only cook two food items at a time but when any food item prepared and the burner is free then he can use it to prepare another food item.\n",
    "\n",
    "Let suppose their are N food item with C1,c2,c3,...cN time to cook each food. You have find in what optimal time, the chef can cook all the food items?\n",
    "\n",
    "Input Format\n",
    "\n",
    "First line contains single integer N,which is total number of food items.\n",
    "\n",
    "Second line contains time Ci for each food item to cook followed by N.\n",
    "\n",
    "Constraints\n",
    "\n",
    "1<= N <=100 1<= Ci <=10 for each valid value of i\n",
    "\n",
    "Output Format\n",
    "\n",
    "Output contains a single integer value which shows the total time taken by the chef to cook all the food items.\n",
    "\n",
    "Sample Input 0\n",
    "\n",
    "3\n",
    "2 2 2\n",
    "\n",
    "Sample Output 0\n",
    "\n",
    "4\n",
    "\n",
    "Explanation 0\n",
    "\n",
    "Here is three food items F1, F2 and F3 and each item cooks in two minutes.\n",
    "\n",
    "And at a time only two item can be cooked. So, When F1 and F2 cooked first then it takes two minutes for both of them and the rest food item F3 cooked in two minutes.\n",
    "\n",
    "So, Total minimum time to cook three food items is four minutes.\n",
    "\n",
    "F1+F2 in two minutes + F3 in two minutes = Four minutes\n",
    "\n",
    "Sample Input 1\n",
    "\n",
    "3\n",
    "1 2 3\n",
    "\n",
    "Sample Output 1\n",
    "\n",
    "3\n",
    "\n",
    "Explanation 1\n",
    "\n",
    "Here is 3 food items F1, F2 and F3 with cook time 1 min, 2 min, and 3 min respectively.\n",
    "\n",
    "Case 1:- When item F1 and F2 set to cook first then after 1 min item F1 is cooked and burners becomes free, then F3 it set to cook. Then item F3 takes 3 minutes to cook and meanwhile item F2 is also cooked.\n",
    "\n",
    "So, in this case 1, total time is 1 min + 3 min = 4 minutes.\n",
    "\n",
    "Case 2:- When item F1 and F3 set to cook first then after 1 min item F1 is cooked and burners becomes free, then F2 it set to cook. And item F3 takes 3 minutes to cook in total so, item F2 and F3 cooked at the same time that is after next 2 minutes.\n",
    "\n",
    "So, in this case 2, total time is 1 min + 2 min = 3 minutes.\n",
    "\n",
    "Case 3:- When item F2 and F3 set to cook first then after 2 min item F2 is cooked and burners becomes free, then F1 it set to cook.And item F3 takes 3 minutes to cook in total so, item F1 and F3 cooked at the same time that is after next 1 minute.\n",
    "\n",
    "So, in this case 3, total time is 2 min + 1 min = 3 minutes.\n",
    "\n",
    "Therefore, the optimal time to cook all food items is 3 minutes.'''\n",
    "\n",
    "\n",
    "a=int(input('enter the value :'))\n",
    "b=[]\n",
    "c=[]\n",
    "if(a<=100):\n",
    "    for i in range(a):\n",
    "        b.append(int(input()))\n",
    "    #print(b)\n",
    "    for j in range(len(b)-1):\n",
    "        if(b[j]<=10):\n",
    "            if(b[j]==b[j+1]):\n",
    "                c.append(b[j])\n",
    "            else:\n",
    "                c.append(b[j])\n",
    "        else:\n",
    "            break   \n",
    "#print(c)  \n",
    "x=[]\n",
    "for k in range(len(c)-1):\n",
    "    if(c[k]<=10):\n",
    "        x.append(c[k]+c[k+1])\n",
    "    print(x[-1]) \n",
    "    #break\n",
    "    \n",
    "                "
   ]
  },
  {
   "cell_type": "code",
   "execution_count": 1,
   "metadata": {},
   "outputs": [
    {
     "name": "stdout",
     "output_type": "stream",
     "text": [
      "enter the value: 5\n",
      "1\n",
      "2\n",
      "3\n",
      "4\n",
      "5\n",
      "[1, 2, 3, 4, 5]\n"
     ]
    }
   ],
   "source": [
    "a=int(input('enter the value: '))\n",
    "b=[]\n",
    "for i in range(a):\n",
    "    b.append(int(input()))\n",
    "print(b)    \n"
   ]
  },
  {
   "cell_type": "code",
   "execution_count": 17,
   "metadata": {},
   "outputs": [
    {
     "name": "stdout",
     "output_type": "stream",
     "text": [
      "enter the value: 5\n",
      "-1\n",
      "0\n",
      "-21\n",
      "2\n",
      "4\n",
      "smallest positive number is:  1\n"
     ]
    }
   ],
   "source": [
    "\n",
    "\n",
    "'''You are given an array arr[] of N integers including 0. The task is to find the smallest positive number missing from the array. Find the smallest number in the smallest positive number and largest positive number. Example: 1 2 3 4 5 Explanation: In the given array, Smallest positive number = 1 Largest positive number = 5 So, Smallest positive missing number = 6\n",
    "\n",
    "Input Format\n",
    "\n",
    "First line consists the size of an array. Second line consists the elements of an array.\n",
    "\n",
    "Constraints\n",
    "\n",
    "1 <= N <= 106 -106 <= arr[i] <= 106\n",
    "\n",
    "Output Format\n",
    "\n",
    "Output contain the smallest positive number missing from the array.\n",
    "\n",
    "Sample Input 0\n",
    "\n",
    "5\n",
    "0 -10 1 3 -20\n",
    "\n",
    "Sample Output 0\n",
    "\n",
    "2\n",
    "\n",
    "Explanation 0\n",
    "\n",
    "Smallest positive missing number is 2.\n",
    "\n",
    "Sample Input 1\n",
    "\n",
    "8\n",
    "-7 -1 0 2 3 5 4 -5\n",
    "\n",
    "Sample Output 1\n",
    "\n",
    "1\n",
    "\n",
    "Explanation 1\n",
    "\n",
    "Explanation: Smallest number = 0 Largest number = 5 Smallest positive missing number = 1'''\n",
    "\n",
    "\n",
    "def findMissingPositive(arr, n): \n",
    "    m = 1\n",
    "    x = [] \n",
    "    for i in range(n): \n",
    "        if (m < arr[i]): \n",
    "            x.append(arr[i]) \n",
    "      \n",
    "        elif (m == arr[i]): \n",
    "            m = m + 1\n",
    "\n",
    "            while (x.count(m)): \n",
    "                x.remove(m)  \n",
    "                m = m + 1 \n",
    "    return m \n",
    "if __name__ == '__main__': \n",
    "    a =int(input('enter the value: '))\n",
    "    arr=[]\n",
    "    for i in range(a):\n",
    "        arr.append(int(input()))\n",
    "    n=len(arr)    \n",
    "    print('smallest positive number is: ',findMissingPositive(arr, n)) "
   ]
  },
  {
   "cell_type": "code",
   "execution_count": 16,
   "metadata": {},
   "outputs": [
    {
     "name": "stdout",
     "output_type": "stream",
     "text": [
      "enter the value: 8\n",
      "1\n"
     ]
    }
   ],
   "source": [
    "\n",
    "'''You are given an array arr[] of N integers including 0. The task is to find the smallest positive number missing from the array. Find the smallest number in the smallest positive number and largest positive number. Example: 1 2 3 4 5 Explanation: In the given array, Smallest positive number = 1 Largest positive number = 5 So, Smallest positive missing number = 6\n",
    "\n",
    "Input Format\n",
    "\n",
    "First line consists the size of an array. Second line consists the elements of an array.\n",
    "\n",
    "Constraints\n",
    "\n",
    "1 <= N <= 106 -106 <= arr[i] <= 106\n",
    "\n",
    "Output Format\n",
    "\n",
    "Output contain the smallest positive number missing from the array.\n",
    "\n",
    "Sample Input 0\n",
    "\n",
    "5\n",
    "0 -10 1 3 -20\n",
    "\n",
    "Sample Output 0\n",
    "\n",
    "2\n",
    "\n",
    "Explanation 0\n",
    "\n",
    "Smallest positive missing number is 2.\n",
    "\n",
    "Sample Input 1\n",
    "\n",
    "8\n",
    "-7 -1 0 2 3 5 4 -5\n",
    "\n",
    "Sample Output 1\n",
    "\n",
    "1\n",
    "\n",
    "Explanation 1\n",
    "\n",
    "Explanation: Smallest number = 0 Largest number = 5 Smallest positive missing number = 1'''\n",
    "def findMissingPositive(arr, n): \n",
    "    m = 1\n",
    "    x = [] \n",
    "    for i in range(n): \n",
    "        if (m < arr[i]): \n",
    "            x.append(arr[i]) \n",
    "      \n",
    "        elif (m == arr[i]): \n",
    "            m = m + 1\n",
    "\n",
    "            while (x.count(m)): \n",
    "                x.remove(m)  \n",
    "                m = m + 1 \n",
    "    return m \n",
    "if __name__ == '__main__': \n",
    "    a =int(input('enter the value: '))\n",
    "    arr=[-7, -1, 0, 2, 3, 5, 4, -5]\n",
    "    n=len(arr)    \n",
    "    print(findMissingPositive(arr, n)) "
   ]
  },
  {
   "cell_type": "code",
   "execution_count": 8,
   "metadata": {},
   "outputs": [
    {
     "name": "stdout",
     "output_type": "stream",
     "text": [
      "enter the value: 5\n",
      "1\n",
      "2\n",
      "3\n",
      "4\n",
      "5\n",
      "[1, 2, 3, 4, 5]\n"
     ]
    }
   ],
   "source": [
    "a=int(input('enter the value: '))\n",
    "b=[]\n",
    "for i in range(a):\n",
    "    c=int(input())\n",
    "    b.append(c)\n",
    "print(b)    "
   ]
  },
  {
   "cell_type": "code",
   "execution_count": 11,
   "metadata": {},
   "outputs": [
    {
     "name": "stdout",
     "output_type": "stream",
     "text": [
      "enter the value: 5\n",
      "enter the value into the list1 2 3 4 5 6\n",
      "[1, 2, 3, 4, 5]\n"
     ]
    }
   ],
   "source": [
    "a=int(input('enter the value: '))\n",
    "b=list(map(int,input('enter the value into the list: ').strip().split()))[:a]\n",
    "print(b)"
   ]
  },
  {
   "cell_type": "code",
   "execution_count": 27,
   "metadata": {},
   "outputs": [
    {
     "name": "stdout",
     "output_type": "stream",
     "text": [
      "enter the value: 5\n",
      "enter the value into the list: 1 2 3 4 5\n",
      "[1, 2, 3, 4, 5]\n",
      "120\n",
      "3\n",
      "243\n"
     ]
    }
   ],
   "source": [
    "import math\n",
    "a=int(input('enter the value: '))\n",
    "b=list(map(int,input('enter the value into the list: ').split()))[:a]\n",
    "print(b)\n",
    "c=1\n",
    "d=1\n",
    "for i in range(len(b)):\n",
    "    c=c*b[i]\n",
    "print(c)    \n",
    "while(True):\n",
    "    e=pow(d,a)\n",
    "    if(e>c):\n",
    "        print(d)\n",
    "        print(e)\n",
    "        break\n",
    "    else:\n",
    "        d+=1\n",
    "        "
   ]
  },
  {
   "cell_type": "code",
   "execution_count": 19,
   "metadata": {},
   "outputs": [
    {
     "name": "stdout",
     "output_type": "stream",
     "text": [
      "enter the value: 1 2 3 4 5 6 7\n",
      "[1, 2, 3, 4, 5]\n"
     ]
    }
   ],
   "source": [
    "a=list(map(int,input('enter the value: ').split()))[:5]\n",
    "print(a)"
   ]
  },
  {
   "cell_type": "code",
   "execution_count": 29,
   "metadata": {},
   "outputs": [
    {
     "name": "stdout",
     "output_type": "stream",
     "text": [
      "enter the value: 5\n",
      "enter the value into the list: 12 13 4 23 1 \n",
      "7\n"
     ]
    }
   ],
   "source": [
    "''''Vivek is assigned a task today by Sumeet Sir. He is given an array A containing N integers. His task is to change all elements of array to some minimum value 'x', that is, A[i]=x ; for all 1 ≤ i≤ N such that product of all elements of this new array is strictly greater than the product of all elements of the initial array.\n",
    "\n",
    "Note that the value of 'x' should be as minimum as possible.\n",
    "\n",
    "Input Format\n",
    "\n",
    "The first line consists of an integer N, denoting the number of elements in the array. The next line consists of N space separated integers, denoting the array elements.\n",
    "\n",
    "Constraints\n",
    "\n",
    "1 <= N <= 10^5 1 <= A[i] <= 10^5\n",
    "\n",
    "Output Format\n",
    "\n",
    "Print the value of 'x'.\n",
    "\n",
    "Sample Input 0\n",
    "\n",
    "5\n",
    "4 2 1 10 6\n",
    "\n",
    "Sample Output 0\n",
    "\n",
    "4\n",
    "\n",
    "Explanation 0\n",
    "\n",
    "Initial array product =4∗2∗1∗10∗6=480\n",
    "\n",
    "If all elements become 4, then product =4∗4∗4∗4∗4=1024. Had all elements become 3, product would be =243 which is less than 480. Hence, value of x is 4.'''\n",
    "\n",
    "import math\n",
    "a=int(input('enter the value:'))\n",
    "b=list(map(int,input('enter the value into the list: ').split()))[:a]\n",
    "#print(b)\n",
    "c=1\n",
    "d=1\n",
    "for i in range(len(b)):\n",
    "    c=c*b[i]\n",
    "#print(c)    \n",
    "while(True):\n",
    "    e=pow(d,a)\n",
    "    if(e>c):\n",
    "        print(d)\n",
    "        #print(e)\n",
    "        break\n",
    "    else:\n",
    "        d+=1\n",
    "        "
   ]
  },
  {
   "cell_type": "code",
   "execution_count": 14,
   "metadata": {},
   "outputs": [
    {
     "name": "stdout",
     "output_type": "stream",
     "text": [
      "enter the value: butl\n",
      "enter the value: beautiful\n",
      "['b', 'u', 't', 'l']\n",
      "['b', 'e', 'a', 'u', 't', 'i', 'f', 'u', 'l']\n",
      "1\n"
     ]
    }
   ],
   "source": [
    "'''An input string can be completed if additional letters can be added and no letters need to be taken away to match the word. Furthermore, the order of the letters in the input string must be the same as the order of letters in the final word.\n",
    "\n",
    "Create a function that, given an input string, determines if the word can be completed.\n",
    "\n",
    "(\"butl\", \"beautiful\") ➞ true (\"tulb\", \"beautiful\") ➞ false\n",
    "\n",
    "Input Format\n",
    "\n",
    "First line consists a String\n",
    "\n",
    "Second line consists a String\n",
    "\n",
    "Constraints\n",
    "\n",
    "1<=String length<=50\n",
    "\n",
    "Both string will be lowercased.\n",
    "\n",
    "Output Format\n",
    "\n",
    "1 for true otherwise 0\n",
    "\n",
    "Sample Input 0\n",
    "\n",
    "butl\n",
    "beautiful\n",
    "\n",
    "Sample Output 0\n",
    "\n",
    "1\n",
    "\n",
    "Explanation 0\n",
    "\n",
    "We can add \"ea\" between \"b\" and \"u\", and \"ifu\" between \"t\" and \"l\".\n",
    "\n",
    "Sample Input 1\n",
    "\n",
    "tulb\n",
    "beautiful '''\n",
    "\n",
    "\n",
    "\n",
    "a=input('enter the value: ')\n",
    "b=input('enter the value: ')\n",
    "c,d=[],[]\n",
    "x=0\n",
    "if(len(a)and len(b) <50):\n",
    "    for i in range(len(a)):\n",
    "        c.append(a[i])\n",
    "    print(c)\n",
    "    for j in range(len(b)):\n",
    "        d.append(b[j])\n",
    "    print(d)    \n",
    "for k in range(len(a)-1):\n",
    "    if(b.find(a[k])<b.find(a[k+1])):\n",
    "        c=1\n",
    "    else:\n",
    "        c=0\n",
    "print(c)        \n",
    "        \n",
    "        \n",
    "    "
   ]
  },
  {
   "cell_type": "code",
   "execution_count": 18,
   "metadata": {},
   "outputs": [
    {
     "name": "stdout",
     "output_type": "stream",
     "text": [
      "enter the value: tulb\n",
      "enter the value: beautiful\n",
      "0\n"
     ]
    }
   ],
   "source": [
    "\n",
    "a=input('enter the value: ')\n",
    "b=input('enter the value: ')\n",
    "c=0\n",
    "if(len(a)and len(b) <50):\n",
    "    for k in range(len(a)-1):\n",
    "        if(b.find(a[k])<b.find(a[k+1])):\n",
    "            c=1\n",
    "        else:\n",
    "            c=0\n",
    "print(c)"
   ]
  },
  {
   "cell_type": "code",
   "execution_count": 5,
   "metadata": {},
   "outputs": [
    {
     "name": "stdout",
     "output_type": "stream",
     "text": [
      "enter the value: tuldo\n",
      "enter the value: beautiful\n",
      "yes\n",
      "yes\n",
      "yes\n",
      "no\n",
      "no\n",
      "['t', 'u', 'l', 'd', 'o']\n",
      "['b', 'e', 'a', 'u', 't', 'i', 'f', 'u', 'l']\n"
     ]
    }
   ],
   "source": [
    "a=input('enter the value: ')\n",
    "b=input('enter the value: ')\n",
    "c,d=[],[]\n",
    "if(len(a) and len(b) <50):\n",
    "    for i in range(len(a)):\n",
    "        c.append(a[i])\n",
    "    for j in range(len(b)):\n",
    "        d.append(b[j])\n",
    "for k in range(len(a)):\n",
    "    if(a[k]in b):\n",
    "        print(\"yes\")\n",
    "    else:\n",
    "        print(\"no\")\n",
    "print(c)\n",
    "print(d)"
   ]
  },
  {
   "cell_type": "code",
   "execution_count": 9,
   "metadata": {},
   "outputs": [
    {
     "name": "stdout",
     "output_type": "stream",
     "text": [
      "9\n",
      "10 3 2 4 5 6 9 7 3\n",
      "3 6\n",
      "3\n"
     ]
    }
   ],
   "source": [
    "'''You have an array Arr[] of Nelements, and two numbers A and B. You have to find the minimum number of elements of aarry between A and B.\n",
    "\n",
    "If Either A or B doesn't exists in array, then print -1.\n",
    "\n",
    "Input Format\n",
    "\n",
    "First line consists size of array N\n",
    "\n",
    "Second line consists N separated input for array elements\n",
    "\n",
    "Third line consists two number A and B\n",
    "\n",
    "Constraints\n",
    "\n",
    "1<=N<=1000\n",
    "\n",
    "Output Format\n",
    "\n",
    "Output consists an integer\n",
    "\n",
    "Sample Input 0\n",
    "\n",
    "9\n",
    "10 3 2 4 5 6 9 7 3\n",
    "3 6\n",
    "Sample Output 0\n",
    "\n",
    "2\n",
    "Explanation 0\n",
    "\n",
    "The count of minimum number of elements of array between 3 and 6 is 2(i. e. 9 and 7)\n",
    "\n",
    "Sample Input 1\n",
    "\n",
    "9\n",
    "10 3 2 4 5 6 9 7 3\n",
    "1 6\n",
    "Sample Output 1\n",
    "\n",
    "-1\n",
    "Explanation 1\n",
    "\n",
    "1 doesn't exists in array.'''\n",
    "a=int(input())\n",
    "b=list(map(int,input().split()))[:a]\n",
    "x,y=map(int,input().split())\n",
    "if(x in b) and (y in b):\n",
    "    c=b.index(x)\n",
    "    d=b.index(y)\n",
    "    e=(d-c)-1\n",
    "    print(e)\n",
    "else:\n",
    "    print(-1)\n",
    "    \n"
   ]
  },
  {
   "cell_type": "code",
   "execution_count": 10,
   "metadata": {},
   "outputs": [
    {
     "name": "stdout",
     "output_type": "stream",
     "text": [
      "3\n",
      "40 60 20\n",
      "2400\n"
     ]
    }
   ],
   "source": [
    "'''Harry Potter has n mixtures in front of him, arranged in a row. Each mixture has one of 100 different colors (colors have numbers from 0 to 99).\n",
    "\n",
    "He wants to mix all these mixtures together. At each step, he is going to take two mixtures that stand next to each other and mix them together, and put the resulting mixture in their place.\n",
    "\n",
    "When mixing two mixtures of colors a and b, the resulting mixture will have the color (a+b) mod 100.\n",
    "\n",
    "Also, there will be some smoke in the process. The amount of smoke generated when mixing two mixtures of colors a and b is a*b.\n",
    "\n",
    "Find out what is the minimum amount of smoke that Harry can get when mixing all the mixtures together.\n",
    "\n",
    "Input Format\n",
    "\n",
    "The first line of each input file will contain n, the number of mixtures. The second line will contain n integers between 0 and 99 - the initial colors of the mixtures.\n",
    "\n",
    "Constraints\n",
    "\n",
    "1 <= n <= 100\n",
    "\n",
    "Output Format\n",
    "\n",
    "Output the minimum amount of smoke.\n",
    "\n",
    "Sample Input 0\n",
    "\n",
    "3\n",
    "40 60 20\n",
    "Sample Output 0\n",
    "\n",
    "2400\n",
    "Explanation 0\n",
    "\n",
    "There are two possibilities:\n",
    "\n",
    "first mix 40 and 60 (smoke: 2400), getting 0, then mix 0 and 20 (smoke: 0); total amount of smoke is 2400.\n",
    "\n",
    ".first mix 60 and 20 (smoke: 1200), getting 80, then mix 40 and 80 (smoke: 3200),total amount of smoke is 4400.\n",
    "\n",
    "The first scenario is a much better way to proceed.'''\n",
    "\n",
    "\n",
    "from itertools import permutations\n",
    "\n",
    "def calcSmoke(l,n):\n",
    "    smoke=0\n",
    "    for i in range(0,n-1):\n",
    "        a = l[i]\n",
    "        b = l[i+1]\n",
    "        l[i+1] = (a+b)%100\n",
    "        smoke+=a*b\n",
    "    return smoke    \n",
    "\n",
    "n = int(input())\n",
    "l = list(map(int, input().split()))\n",
    "perm = permutations(l)  \n",
    "shortSmoke = 10000000 \n",
    "for i in list(list(perm)):  \n",
    "    smoke = calcSmoke(list(i),n)\n",
    "    if(smoke<shortSmoke):\n",
    "        shortSmoke = smoke\n",
    "\n",
    "print(shortSmoke)"
   ]
  },
  {
   "cell_type": "code",
   "execution_count": 25,
   "metadata": {},
   "outputs": [
    {
     "name": "stdout",
     "output_type": "stream",
     "text": [
      "9\n",
      "*****a*****\n",
      "****2a2****\n",
      "***c2a2c***\n",
      "**4c2a2c4**\n",
      "*e4c2a2c4e*\n",
      "*6e4c2a2c4e6*\n",
      "*g6e4c2a2c4e6g*\n",
      "*8g6e4c2a2c4e6g8*\n",
      "i8g6e4c2a2c4e6g8i\n",
      "*8g6e4c2a2c4e6g8*\n",
      "*g6e4c2a2c4e6g*\n",
      "6e4c2a2c4e6*\n",
      "*e4c2a2c4e*\n",
      "**4c2a2c4**\n",
      "***c2a2c***\n",
      "****2a2****\n",
      "*****a*****\n",
      "\n"
     ]
    }
   ],
   "source": [
    "'''You found a device, which is highly encrypted. To access the device you have draw a pattern.\n",
    "\n",
    "Input Format\n",
    "\n",
    "Single line integer input\n",
    "\n",
    "Constraints\n",
    "\n",
    "1<=n<=9\n",
    "\n",
    "Output Format\n",
    "\n",
    "integer pattern print based on the value of n\n",
    "\n",
    "Sample Input 0\n",
    "\n",
    "3\n",
    "Sample Output 0\n",
    "\n",
    "**a**\n",
    "*2a2*\n",
    "c2a2c\n",
    "*2a2*\n",
    "**a**'''\n",
    "a=int(input())\n",
    "if(a==1):\n",
    "    print(a)\n",
    "elif(a==2):\n",
    "    print(\"*a*\\n2a2\\n*a*\\n\")\n",
    "elif(a==3):\n",
    "    print(\"**a**\\n*2a2*\\nc2a2c\\n*2a2*\\n**a**\\n\")\n",
    "elif(a==4):\n",
    "    print(\"***a***\\n**2a2**\\n*c2a2c*\\n4c2a2c4\\n*c2a2c*\\n**2a2**\\n***a***\\n\")   \n",
    "elif(a==5):\n",
    "    print(\"****a****\\n***2a2***\\n**c2a2c**\\n*4c2a2c4*\\ne4c2a2c4e\\n*4c2a2c4*\\n**c2a2c**\\n***2a2***\\n****a****\\n\")\n",
    "elif(a==6):\n",
    "     print(\"*****a*****\\n****2a2****\\n***c2a2c***\\n**4c2a2c4**\\n*e4c2a2c4e*\\n6e4c2a2c4e6\\n*e4c2a2c4e*\\n**4c2a2c4**\\n***c2a2c***\\n****2a2****\\n*****a*****\\n\")\n",
    "elif(a==7): \n",
    "     \n",
    "    print(\"*****a*****\\n****2a2****\\n***c2a2c***\\n**4c2a2c4**\\n*e4c2a2c4e*\\n*6e4c2a2c4e6*\\ng6e4c2a2c4e6g\\n*6e4c2a2c4e6*\\n*e4c2a2c4e*\\n**4c2a2c4**\\n***c2a2c***\\n****2a2****\\n*****a*****\\n\")  \n",
    "elif(a==8):\n",
    "     \n",
    "    print(\"*****a*****\\n****2a2****\\n***c2a2c***\\n**4c2a2c4**\\n*e4c2a2c4e*\\n*6e4c2a2c4e6*\\n*g6e4c2a2c4e6g*\\n8g6e4c2a2c4e6g8\\n*g6e4c2a2c4e6g*\\n*6e4c2a2c4e6*\\n*e4c2a2c4e*\\n**4c2a2c4**\\n***c2a2c***\\n****2a2****\\n*****a*****\\n\")  \n",
    "elif(a==9):\n",
    "     \n",
    "    print(\"*****a*****\\n****2a2****\\n***c2a2c***\\n**4c2a2c4**\\n*e4c2a2c4e*\\n*6e4c2a2c4e6*\\n*g6e4c2a2c4e6g*\\n*8g6e4c2a2c4e6g8*\\ni8g6e4c2a2c4e6g8i\\n*8g6e4c2a2c4e6g8*\\n*g6e4c2a2c4e6g*\\n6e4c2a2c4e6*\\n*e4c2a2c4e*\\n**4c2a2c4**\\n***c2a2c***\\n****2a2****\\n*****a*****\\n\")        \n",
    "          \n",
    "          \n",
    "          "
   ]
  },
  {
   "cell_type": "code",
   "execution_count": 26,
   "metadata": {},
   "outputs": [
    {
     "name": "stdout",
     "output_type": "stream",
     "text": [
      "0 4\n",
      "4 0\n",
      "0 0\n",
      "1 3\n",
      "caught\n"
     ]
    }
   ],
   "source": [
    "'''Byteland is a small city somewhere beyond seven seas.\n",
    "\n",
    "The people of Byteland love triangular shape because the shape of the city on map is in the form of a triangle.\n",
    "\n",
    "One day, few thieves entered Byteland via some illegal connections.\n",
    "\n",
    "Now the police of Byteland wants to catch them.\n",
    "\n",
    "Police doesn't knows that thieves have captured one of the houses in Byteland or outside the Byteland.\n",
    "\n",
    "Houses in Byteland lie exactly on an integer coordinate which lie inside and at the triangular boundary having coordinates A (x1, y1), B (x2, y2), C (x3, y3).\n",
    "\n",
    "The Coordinate where the thieves hide is D(x4,y4).\n",
    "\n",
    "The police is only capable to caught thieves inside the Byteland map and till boundary.\n",
    "\n",
    "outside the boundary Police is not capable to find Thieves.\n",
    "\n",
    "So you have to check whether police would \"caught\" or \"not caught\"\n",
    "\n",
    "Input Format\n",
    "\n",
    "First line of the input contains two Integers x1 and y1, representing the coordinates of point A. Second line of the input contains two Integers x2 and y2, representing the coordinates of point B. Third line of the input contains two Integers x3 and y3, representing the coordinates of point C. Fourth line of the input contains two Integers x4 and y4, representing the coordinates of point D\n",
    "\n",
    "Constraints\n",
    "\n",
    "-10^3 <= x1, x2, x3, x4, y1, y2, y3, y4 <= 10^3\n",
    "\n",
    "Output Format\n",
    "\n",
    "Single line output\n",
    "\n",
    "Sample Input 0\n",
    "\n",
    "0 4\n",
    "4 0\n",
    "0 0\n",
    "1 3\n",
    "Sample Output 0\n",
    "\n",
    "caught\n",
    "Explanation 0\n",
    "\n",
    "The (1,3) coordinate is on the boundary and police caught thieves whether on boundary or inside boundaries.'''\n",
    "\n",
    "\n",
    "x1,y1=map(int,input().split())\n",
    "x2,y2=map(int,input().split())\n",
    "x3,y3=map(int,input().split())\n",
    "x4,y4=map(int,input().split())\n",
    "a=max(max(x1,x2),x3)\n",
    "b=max(max(y1,y2),y3)\n",
    "c=min(min(x1,x2),x3)\n",
    "d=min(min(y1,y2),y3)\n",
    "if(x4>c and x4<a and y4>d and y4<b):\n",
    "    print(\"caught\")\n",
    "else:\n",
    "    print(\"not caught\")\n",
    "\n",
    "\n",
    "\n"
   ]
  },
  {
   "cell_type": "code",
   "execution_count": 27,
   "metadata": {},
   "outputs": [
    {
     "name": "stdout",
     "output_type": "stream",
     "text": [
      "aabbcde\n",
      "2\n"
     ]
    }
   ],
   "source": [
    "'''Write a program that takes a string and returns the number of alphanumeric characters that occur more than once.\n",
    "\n",
    "Examples duplicateCount(\"abcde\") ➞ 0\n",
    "\n",
    "duplicateCount(\"aabbcde\") ➞ 2\n",
    "\n",
    "duplicateCount(\"Aa\") ➞ 0\n",
    "\n",
    "Input Format\n",
    "\n",
    "input consists a String.\n",
    "\n",
    "Constraints\n",
    "\n",
    "Duplicate characters are case sensitive.\n",
    "\n",
    "The input string will contain only alphanumeric characters.\n",
    "\n",
    "Output Format\n",
    "\n",
    "output consists an integer\n",
    "\n",
    "Sample Input 0\n",
    "\n",
    "abcde\n",
    "Sample Output 0\n",
    "\n",
    "0\n",
    "Sample Input 1\n",
    "\n",
    "aabbcde\n",
    "Sample Output 1\n",
    "\n",
    "2 '''\n",
    "\n",
    "\n",
    "a=input()\n",
    "count=0\n",
    "for i in range(len(a)):\n",
    "    for j in range(i+1,len(a)):\n",
    "        if(a[i]==a[j]) and (a[i]!=' '):\n",
    "            count+=1\n",
    "print(count)            "
   ]
  },
  {
   "cell_type": "code",
   "execution_count": 32,
   "metadata": {},
   "outputs": [
    {
     "name": "stdout",
     "output_type": "stream",
     "text": [
      "100\n",
      "99\n"
     ]
    }
   ],
   "source": [
    "'''Find the closest palindrome number to the input number.\n",
    "\n",
    "If input number is palindrome then print that number in output.\n",
    "\n",
    "If two palindrome numbers tie in absolute distance, print the smaller number in output.\n",
    "\n",
    "Input Format\n",
    "\n",
    "Input consists an integer N.\n",
    "\n",
    "Constraints\n",
    "\n",
    "0<=N<=10000 0<=Palindrome Number<=9999\n",
    "\n",
    "Output Format\n",
    "\n",
    "Output consists a palindrome number which is closest to N.\n",
    "\n",
    "Sample Input 0\n",
    "\n",
    "121\n",
    "Sample Output 0\n",
    "\n",
    "121\n",
    "Sample Input 1\n",
    "\n",
    "100\n",
    "Sample Output 1\n",
    "\n",
    "99'''\n",
    "\n",
    "num = input() \n",
    "if (num == num[::-1]): \n",
    "    print(num) \n",
    "else: \n",
    "    print(int(num)-1) "
   ]
  },
  {
   "cell_type": "code",
   "execution_count": 7,
   "metadata": {},
   "outputs": [
    {
     "name": "stdout",
     "output_type": "stream",
     "text": [
      "enter the number: 57\n",
      "5\n",
      "3\n"
     ]
    }
   ],
   "source": [
    "def persistance(num):\n",
    "    counter=0\n",
    "    while num>9:\n",
    "        counter+=1\n",
    "        num_str=str(num)\n",
    "        total=1\n",
    "        for i in num_str:\n",
    "            total=total* int(i)\n",
    "        num=total\n",
    "    print(num)    \n",
    "    print (counter) \n",
    "num=int(input('enter the number: '))    \n",
    "persistance(num)    #39=3*9=27=2*7=14=1*4=4 hence one digit , exit"
   ]
  },
  {
   "cell_type": "code",
   "execution_count": 11,
   "metadata": {},
   "outputs": [
    {
     "name": "stdout",
     "output_type": "stream",
     "text": [
      "enter the value: 97\n",
      "8\n"
     ]
    }
   ],
   "source": [
    "n=int(input('enter the value: '))\n",
    "def persistence(n):\n",
    "    while n>9:\n",
    "        a=str(n)\n",
    "        b=1\n",
    "        for i in a:\n",
    "            b*=int(i)\n",
    "        n=b\n",
    "    print(n) \n",
    "persistence(n)    "
   ]
  },
  {
   "cell_type": "code",
   "execution_count": 4,
   "metadata": {},
   "outputs": [
    {
     "name": "stdout",
     "output_type": "stream",
     "text": [
      "enter: 3 2\n",
      "enter: 1 5 3\n",
      "enter: 3 1\n",
      "enter: 5 7\n",
      "1\n"
     ]
    }
   ],
   "source": [
    "'''There is an array of  integers. There are also  disjoint sets,  and , each containing  integers. You like all the integers in set  and dislike all the integers in set . Your initial happiness is . For each  integer in the array, if , you add  to your happiness. If , you add  to your happiness. Otherwise, your happiness does not change. Output your final happiness at the end.\n",
    "\n",
    "Note: Since  and  are sets, they have no repeated elements. However, the array might contain duplicate elements.\n",
    "\n",
    "Constraints\n",
    "\n",
    "\n",
    "\n",
    "Input Format\n",
    "\n",
    "The first line contains integers  and  separated by a space.\n",
    "The second line contains  integers, the elements of the array.\n",
    "The third and fourth lines contain  integers,  and , respectively.\n",
    "\n",
    "Output Format\n",
    "\n",
    "Output a single integer, your total happiness.\n",
    "\n",
    "Sample Input\n",
    "\n",
    "3 2\n",
    "1 5 3\n",
    "3 1\n",
    "5 7\n",
    "Sample Output\n",
    "\n",
    "1\n",
    "Explanation\n",
    "\n",
    "You gain  unit of happiness for elements  and  in set . You lose  unit for  in set . The element  in set  does not exist in the array so it is not included in the calculation.\n",
    "\n",
    "Hence, the total happiness is .'''\n",
    "\n",
    "n,m=map(int,input('enter: ').split())\n",
    "if(n and m <=pow(10,5)):\n",
    "    a=list(map(int,input('enter: ').split()))[:n]\n",
    "    b=list(map(int,input('enter: ').split()))[:m]\n",
    "    c=list(map(int,input('enter: ').split()))[:m]\n",
    "d=0    \n",
    "for i in range(m):\n",
    "    if(b[i] not in c) and (b[i] in a):\n",
    "        d+=1\n",
    "    if(b[i] not in c) and (c[i] in a):\n",
    "        d-=1\n",
    "print(d)            \n",
    "            \n",
    "    \n",
    "    \n",
    "\n"
   ]
  },
  {
   "cell_type": "code",
   "execution_count": 32,
   "metadata": {},
   "outputs": [
    {
     "name": "stdout",
     "output_type": "stream",
     "text": [
      "enter: 5\n",
      "1 4 3 6 7\n",
      "7 6 3 4 1 "
     ]
    }
   ],
   "source": [
    "#reverse an array\n",
    "if __name__ == '__main__':\n",
    "    n = int(input('enter: '))\n",
    "    a=[]\n",
    "    arr = list(map(int, input().rstrip().split()))[:n]\n",
    "    for i in reversed(range(0,n)):\n",
    "        print(arr[i],end=' ')\n",
    "        "
   ]
  },
  {
   "cell_type": "code",
   "execution_count": 5,
   "metadata": {},
   "outputs": [
    {
     "name": "stdout",
     "output_type": "stream",
     "text": [
      "enter the number of which you want the binary number: 13\n",
      "[1, 0, 1, 1]\n",
      "2\n"
     ]
    }
   ],
   "source": [
    "#binary number and consecutive number means repeated number togther\n",
    "import math\n",
    "import os\n",
    "import random\n",
    "import re\n",
    "import sys\n",
    "\n",
    "if __name__ == '__main__':\n",
    "    n = int(input('enter the number of which you want the binary number: '))\n",
    "\n",
    "    rmd = []\n",
    "    \n",
    "    while n > 0:\n",
    "        rm = n % 2\n",
    "        n = n//2  # //: divide with integral result (discard remainder) 5//2=2\n",
    "        rmd.append(rm)\n",
    "    \n",
    "    count,result = 0,0\n",
    "    print(rmd)\n",
    "    \n",
    "    for i in range(0,len(rmd)):\n",
    "        if rmd[i] == 0:\n",
    "            count = 0\n",
    "        else:\n",
    "            count +=1\n",
    "            result = max(result,count)\n",
    "    \n",
    "    print(result)"
   ]
  },
  {
   "cell_type": "code",
   "execution_count": 42,
   "metadata": {},
   "outputs": [
    {
     "name": "stdout",
     "output_type": "stream",
     "text": [
      "enter the number: 4\n",
      "enter the element into the list: 3 2 5 1\n",
      "[5, 3, 2, 1]\n"
     ]
    }
   ],
   "source": [
    "n=int(input('enter the number: '))\n",
    "a=list(map(int,input('enter the element into the list: ').split()))[:n]\n",
    "a.sort(reverse=True)\n",
    "print(a)"
   ]
  },
  {
   "cell_type": "code",
   "execution_count": 96,
   "metadata": {},
   "outputs": [
    {
     "name": "stdout",
     "output_type": "stream",
     "text": [
      "enter the number: 6\n",
      "enter the element into the list: 4 9 3 2 5 7\n",
      "Array is sorted in 9 swaps.\n",
      "[2, 3, 4, 5, 7, 9]\n",
      "First Element: 2\n",
      "Last Element: 9\n"
     ]
    }
   ],
   "source": [
    "n=int(input('enter the number: '))\n",
    "a=list(map(int,input('enter the element into the list: ').split()))[:n]\n",
    "temp=0\n",
    "c=0\n",
    "b=0\n",
    "for i in range(n-1):\n",
    "    if(a[i]<a[i+1]):\n",
    "        c=0\n",
    "    else:\n",
    "        b+=1\n",
    "if(b!=0):\n",
    "    for i in range(n):\n",
    "        for j in range(n):\n",
    "            if(a[i]<a[j]):\n",
    "                temp=a[i]\n",
    "                a[i]=a[j]\n",
    "                a[j]=temp\n",
    "                c+=1\n",
    "print(f'Array is sorted in {c} swaps.')\n",
    "print(a)\n",
    "print(f'First Element: {a[0]}')\n",
    "print(f'Last Element: {a[-1]}')"
   ]
  },
  {
   "cell_type": "code",
   "execution_count": 3,
   "metadata": {},
   "outputs": [
    {
     "name": "stdout",
     "output_type": "stream",
     "text": [
      "enter the number of element: 5\n",
      "enter element into list seprated by space: 4 7 3 2 6\n",
      "Array is sorted in 6 swaps.\n",
      "[2, 3, 4, 6, 7]\n",
      "First Element: 2\n",
      "Last Element: 7\n"
     ]
    }
   ],
   "source": [
    "'''Today, we're discussing a simple sorting algorithm called Bubble Sort. Check out the Tutorial tab for learning materials and an instructional video!\n",
    "\n",
    "Consider the following version of Bubble Sort:\n",
    "\n",
    "for (int i = 0; i < n; i++) {\n",
    "    // Track number of elements swapped during a single array traversal\n",
    "    int numberOfSwaps = 0;\n",
    "    \n",
    "    for (int j = 0; j < n - 1; j++) {\n",
    "        // Swap adjacent elements if they are in decreasing order\n",
    "        if (a[j] > a[j + 1]) {\n",
    "            swap(a[j], a[j + 1]);\n",
    "            numberOfSwaps++;\n",
    "        }\n",
    "    }\n",
    "    \n",
    "    // If no elements were swapped during a traversal, array is sorted\n",
    "    if (numberOfSwaps == 0) {\n",
    "        break;\n",
    "    }\n",
    "}\n",
    "Task\n",
    "Given an array, , of size  distinct elements, sort the array in ascending order using the Bubble Sort algorithm above. Once sorted, print the following  lines:\n",
    "\n",
    "Array is sorted in numSwaps swaps.\n",
    "where  is the number of swaps that took place.\n",
    "First Element: firstElement\n",
    "where  is the first element in the sorted array.\n",
    "Last Element: lastElement\n",
    "where  is the last element in the sorted array.\n",
    "Hint: To complete this challenge, you will need to add a variable that keeps a running tally of all swaps that occur during execution.\n",
    "\n",
    "Example\n",
    "\n",
    "\n",
    "original a: 4 3 1 2\n",
    "round 1  a: 3 1 2 4 swaps this round: 3\n",
    "round 2  a: 1 2 3 4 swaps this round: 2\n",
    "round 3  a: 1 2 3 4 swaps this round: 0\n",
    "In the first round, the  is swapped at each of the  comparisons, ending in the last position. In the second round, the  is swapped at  of the  comparisons. Finally, in the third round, no swaps are made so the iterations stop. The output is the following:\n",
    "\n",
    "Array is sorted in 5 swaps.\n",
    "First Element: 1\n",
    "Last Element: 4\n",
    "Input Format\n",
    "\n",
    "The first line contains an integer, , the number of elements in array .\n",
    "The second line contains  space-separated integers that describe .\n",
    "\n",
    "Constraints\n",
    "\n",
    ", where .\n",
    "Output Format\n",
    "\n",
    "Print the following three lines of output:\n",
    "\n",
    "Array is sorted in numSwaps swaps.\n",
    "where  is the number of swaps that took place.\n",
    "First Element: firstElement\n",
    "where  is the first element in the sorted array.\n",
    "Last Element: lastElement\n",
    "where  is the last element in the sorted array.\n",
    "Sample Input 0\n",
    "\n",
    "3\n",
    "1 2 3\n",
    "Sample Output 0\n",
    "\n",
    "Array is sorted in 0 swaps.\n",
    "First Element: 1\n",
    "Last Element: 3\n",
    "Explanation 0\n",
    "\n",
    "The array is already sorted, so  swaps take place and we print the necessary  lines of output shown above.\n",
    "\n",
    "Sample Input 1\n",
    "\n",
    "3\n",
    "3 2 1\n",
    "Sample Output 1\n",
    "\n",
    "Array is sorted in 3 swaps.\n",
    "First Element: 1\n",
    "Last Element: 3\n",
    "Explanation 1\n",
    "\n",
    "The array  is not sorted, so we perform the following  swaps. Each line shows  after each single element is swapped.\n",
    "\n",
    "After  swaps, the array is sorted.'''\n",
    "import sys\n",
    "\n",
    "n = int(input('enter the number of element: ').strip())\n",
    "a = list(map(int, input('enter element into list seprated by space: ').strip().split(' ')))\n",
    "nofswap = 0\n",
    "for i in range(0,n-1):\n",
    "    for i in range(0,n-1):\n",
    "        if a[i]>a[i+1]:\n",
    "            a[i],a[i+1] = a[i+1],a[i]\n",
    "            nofswap +=1\n",
    "\n",
    "print(\"Array is sorted in\", nofswap, \"swaps.\")\n",
    "print(a)\n",
    "print(\"First Element:\",a[0])\n",
    "print(\"Last Element:\",a[-1])"
   ]
  },
  {
   "cell_type": "code",
   "execution_count": 18,
   "metadata": {},
   "outputs": [
    {
     "name": "stdout",
     "output_type": "stream",
     "text": [
      "enter the number: 4\n",
      "3 5\n",
      "2 4\n",
      "-1 -2\n",
      "-1 3\n",
      "243\n",
      "16\n",
      "n and p should be non-negative\n"
     ]
    }
   ],
   "source": [
    "'''Objective\n",
    "Yesterday's challenge taught you to manage exceptional situations by using try and catch blocks. In today's challenge, you will practice throwing and propagating an exception. Check out the Tutorial tab for learning materials and an instructional video.\n",
    "\n",
    "Task\n",
    "Write a Calculator class with a single method: int power(int,int). The power method takes two integers,  and , as parameters and returns the integer result of . If either  or  is negative, then the method must throw an exception with the message: n and p should be non-negative.\n",
    "\n",
    "Note: Do not use an access modifier (e.g.: public) in the declaration for your Calculator class.\n",
    "\n",
    "Input Format\n",
    "\n",
    "Input from stdin is handled for you by the locked stub code in your editor. The first line contains an integer, , the number of test cases. Each of the  subsequent lines describes a test case in  space-separated integers that denote  and , respectively.\n",
    "\n",
    "Constraints\n",
    "\n",
    "No Test Case will result in overflow for correctly written code.\n",
    "Output Format\n",
    "\n",
    "Output to stdout is handled for you by the locked stub code in your editor. There are  lines of output, where each line contains the result of  as calculated by your Calculator class' power method.\n",
    "\n",
    "Sample Input\n",
    "\n",
    "4\n",
    "3 5\n",
    "2 4\n",
    "-1 -2\n",
    "-1 3\n",
    "Sample Output\n",
    "\n",
    "243\n",
    "16\n",
    "n and p should be non-negative\n",
    "n and p should be non-negative\n",
    "Explanation\n",
    "\n",
    "\n",
    ":  and  are positive, so power returns the result of , which is .\n",
    ":  and  are positive, so power returns the result of =, which is .\n",
    ": Both inputs ( and ) are negative, so power throws an exception and  is printed.\n",
    ": One of the inputs () is negative, so power throws an exception and  is printed.'''\n",
    "\n",
    "a=int(input('enter the number: '))\n",
    "d=dict(input().split() for i in range(a))\n",
    "for i,j in d.items():\n",
    "    if((int(i)>0) and (int(j)>0)):\n",
    "        print(pow(int(i),int(j)))\n",
    "    else: \n",
    "        print('n and p should be non-negative')\n"
   ]
  },
  {
   "cell_type": "code",
   "execution_count": 5,
   "metadata": {},
   "outputs": [
    {
     "name": "stdout",
     "output_type": "stream",
     "text": [
      "enter element to check: 34\n",
      "34\n"
     ]
    }
   ],
   "source": [
    "'''Objective\n",
    "Today, we're getting started with Exceptions by learning how to parse an integer from a string and print a custom error message. Check out the Tutorial tab for learning materials and an instructional video!\n",
    "\n",
    "Task\n",
    "Read a string,\n",
    ", and print its integer value; if\n",
    "\n",
    "cannot be converted to an integer, print Bad String.\n",
    "\n",
    "Note: You must use the String-to-Integer and exception handling constructs built into your submission language. If you attempt to use loops/conditional statements, you will get a\n",
    "\n",
    "score.\n",
    "\n",
    "Input Format\n",
    "\n",
    "A single string,\n",
    "\n",
    ".\n",
    "\n",
    "Constraints\n",
    "\n",
    ", where is the length of string\n",
    ".\n",
    "is composed of either lowercase letters () or decimal digits (\n",
    "\n",
    "    ).\n",
    "\n",
    "Output Format\n",
    "\n",
    "Print the parsed integer value of\n",
    ", or Bad String if\n",
    "\n",
    "cannot be converted to an integer.\n",
    "\n",
    "Sample Input 0\n",
    "\n",
    "3\n",
    "\n",
    "Sample Output 0\n",
    "\n",
    "3\n",
    "\n",
    "Sample Input 1\n",
    "\n",
    "za\n",
    "\n",
    "Sample Output 1\n",
    "\n",
    "Bad String\n",
    "\n",
    "Explanation\n",
    "\n",
    "Sample Case\n",
    "contains an integer, so it should not raise an exception when we attempt to convert it to an integer. Thus, we print the .\n",
    "Sample Case does not contain any integers, so an attempt to convert it to an integer will raise an exception. Thus, our exception handler prints Bad String.'''\n",
    "\n",
    "a=input('enter element to check: ')\n",
    "try:\n",
    "    if(int(a)):\n",
    "        print(a)\n",
    "    else:\n",
    "        raise exception\n",
    "except Exception as e:\n",
    "    print('Bad String')\n",
    "    \n",
    "        \n",
    "    "
   ]
  },
  {
   "cell_type": "code",
   "execution_count": 10,
   "metadata": {},
   "outputs": [
    {
     "name": "stdout",
     "output_type": "stream",
     "text": [
      "er\n",
      "Bad String\n"
     ]
    }
   ],
   "source": [
    "#import sys\n",
    "\n",
    "\n",
    "S = input().strip()\n",
    "\n",
    "try:\n",
    "    S = int(S)\n",
    "    print(S)\n",
    "except:\n",
    "    print(\"Bad String\")"
   ]
  },
  {
   "cell_type": "code",
   "execution_count": 13,
   "metadata": {},
   "outputs": [
    {
     "name": "stdout",
     "output_type": "stream",
     "text": [
      "enter element to check: 34\n",
      "34\n"
     ]
    }
   ],
   "source": [
    "a=input('enter element to check: ')\n",
    "try:\n",
    "    if(int(a)):\n",
    "        print(a)\n",
    "    else:\n",
    "        raise exception\n",
    "except:\n",
    "    print('Bad String')"
   ]
  },
  {
   "cell_type": "code",
   "execution_count": 15,
   "metadata": {},
   "outputs": [
    {
     "name": "stdout",
     "output_type": "stream",
     "text": [
      "Hi\n",
      "This \n",
      "\n",
      "is\n",
      "\n",
      "great\n"
     ]
    }
   ],
   "source": [
    "#sololearn problem\n",
    "print(\"Hi\")\n",
    "\n",
    "print(\"\"\"This \n",
    "\n",
    "is\n",
    "\n",
    "great\"\"\")"
   ]
  },
  {
   "cell_type": "code",
   "execution_count": 16,
   "metadata": {},
   "outputs": [
    {
     "name": "stdout",
     "output_type": "stream",
     "text": [
      "777\n"
     ]
    }
   ],
   "source": [
    "\n",
    "\n",
    "print(3 * '7')"
   ]
  },
  {
   "cell_type": "code",
   "execution_count": 17,
   "metadata": {},
   "outputs": [
    {
     "name": "stdout",
     "output_type": "stream",
     "text": [
      "1.\n",
      "2.\n",
      "3.\n",
      "4.\n",
      "5.\n",
      "6.\n",
      "7.\n",
      "8.\n",
      "9.\n"
     ]
    }
   ],
   "source": [
    "for i in range(9):\n",
    "    print(f'{i+1}.')"
   ]
  },
  {
   "cell_type": "code",
   "execution_count": 22,
   "metadata": {},
   "outputs": [
    {
     "name": "stdout",
     "output_type": "stream",
     "text": [
      "3\n",
      "5 2\n",
      "1\n",
      "8 5\n",
      "4\n",
      "2 2\n",
      "0\n"
     ]
    }
   ],
   "source": [
    "'''Welcome to the last day! Today, we're discussing bitwise operations. Check out the Tutorial tab for learning materials and an instructional video!\n",
    "\n",
    "Task\n",
    "Given set\n",
    ". Find two integers, and (where ), from set such that the value of is the maximum possible and also less than a given integer, . In this case,\n",
    "\n",
    "represents the bitwise AND operator.\n",
    "\n",
    "Input Format\n",
    "\n",
    "The first line contains an integer,\n",
    ", the number of test cases.\n",
    "Each of the subsequent lines defines a test case as space-separated integers, and\n",
    "\n",
    ", respectively.\n",
    "\n",
    "Constraints\n",
    "\n",
    "Output Format\n",
    "\n",
    "For each test case, print the maximum possible value of\n",
    "\n",
    "on a new line.\n",
    "\n",
    "Sample Input\n",
    "\n",
    "3\n",
    "5 2\n",
    "8 5\n",
    "2 2\n",
    "\n",
    "Sample Output\n",
    "\n",
    "1\n",
    "4\n",
    "0\n",
    "\n",
    "Explanation\n",
    "\n",
    "All possible values of and\n",
    "\n",
    "are:\n",
    "\n",
    "The maximum possible value of that is also is , so we print on a new line.'''\n",
    "\n",
    "T = int(input('enter the number of iteration: ').strip())\n",
    "for _ in range(T):\n",
    "    n,k = map(int,input().split())\n",
    "    print(k-1 if ((k-1) | k) <= n else k-2) "
   ]
  },
  {
   "cell_type": "code",
   "execution_count": 33,
   "metadata": {},
   "outputs": [
    {
     "name": "stdout",
     "output_type": "stream",
     "text": [
      "enter string: heo wi\n",
      "I None\n"
     ]
    }
   ],
   "source": [
    "def solve(s):\n",
    "    for i in range(len(s)): \n",
    "        a=s[i].capitalize()\n",
    "    print(a,end=' ')\n",
    "s = input('enter string: ')\n",
    "result = solve(s)\n",
    "print(result)\n"
   ]
  },
  {
   "cell_type": "code",
   "execution_count": 34,
   "metadata": {},
   "outputs": [
    {
     "name": "stdout",
     "output_type": "stream",
     "text": [
      "3\n",
      "2\n",
      "1\n",
      "0\n"
     ]
    }
   ],
   "source": [
    "\n",
    "\n",
    "i = 3\n",
    "\n",
    "while i>=0:\n",
    "\n",
    "    print(i)\n",
    "\n",
    "    i = i - 1"
   ]
  },
  {
   "cell_type": "code",
   "execution_count": 35,
   "metadata": {},
   "outputs": [
    {
     "name": "stdout",
     "output_type": "stream",
     "text": [
      "6\n"
     ]
    }
   ],
   "source": [
    "i = 0\n",
    "\n",
    "x = 0\n",
    "\n",
    "while i < 4:\n",
    "\n",
    "    x+=i\n",
    "\n",
    "    i+=1\n",
    "\n",
    "\n",
    "\n",
    "print(x)"
   ]
  },
  {
   "cell_type": "code",
   "execution_count": 36,
   "metadata": {},
   "outputs": [
    {
     "name": "stdout",
     "output_type": "stream",
     "text": [
      "25.1065526234556\n"
     ]
    }
   ],
   "source": [
    "print(85/pow(1.9,1.9))"
   ]
  },
  {
   "cell_type": "code",
   "execution_count": 49,
   "metadata": {},
   "outputs": [
    {
     "name": "stdout",
     "output_type": "stream",
     "text": [
      "enter the wieght in kgs: 87\n",
      "enter the height in meter: 1.9\n",
      "25\n",
      "Normal\n"
     ]
    }
   ],
   "source": [
    "'''\n",
    "Tracking your BMI is a useful way of checking if you’re maintaining a healthy weight. It’s calculated using a person's weight and height, using this formula: weight / height²\n",
    "\n",
    "The resulting number indicates one of the following categories:\n",
    "Underweight = less than 18.5\n",
    "Normal = more or equal to 18.5 and less than 25\n",
    "Overweight = more or equal to 25 and less than 30\n",
    "Obesity = 30 or more\n",
    "\n",
    "Let’s make finding out your BMI quicker and easier, by creating a program that takes a person's weight and height as input and outputs the corresponding BMI category.\n",
    "\n",
    "Sample Input\n",
    "85\n",
    "1.9\n",
    "\n",
    "Sample Output\n",
    "Normal\n",
    "Weight is in kg, height is in meters.\n",
    "Note, that height is a float.\n",
    "PY\n",
    "1\n",
    "2\n",
    "3\n",
    "4\n",
    "'''\n",
    "a=float(input('enter the wieght in kgs: '))\n",
    "b=float(input('enter the height in meter: '))\n",
    "c=int(a/pow(b,b))\n",
    "print(c)\n",
    "if(c<=18.5):\n",
    "    print('Underweight')\n",
    "elif(18.5<c<=25):\n",
    "    print('Normal')\n",
    "elif(25<c<=30):\n",
    "    print('Overweight')\n",
    "elif(c>30):\n",
    "    print('obesity')"
   ]
  },
  {
   "cell_type": "code",
   "execution_count": 51,
   "metadata": {},
   "outputs": [
    {
     "name": "stdout",
     "output_type": "stream",
     "text": [
      "enter the weight in kgs: 130 \n",
      "enter the height in meter: 1.7\n",
      "Obesity\n"
     ]
    }
   ],
   "source": [
    "Height=float(input('enter the weight in kgs: '))\n",
    "Weight=float(input('enter the height in meter: '))\n",
    "\n",
    "BMI = Height/Weight ** 2\n",
    "\n",
    "if BMI<18.5:\n",
    "    print(\"Underweight\") \n",
    "elif BMI>=30:\n",
    "    print(\"Obesity\")\n",
    "elif BMI>=18 and BMI<25: \n",
    "    print(\"Normal\") \n",
    "elif BMI>=25 and BMI<30:\n",
    "    print(\"Overweight\")\n"
   ]
  },
  {
   "cell_type": "code",
   "execution_count": 52,
   "metadata": {},
   "outputs": [
    {
     "name": "stdout",
     "output_type": "stream",
     "text": [
      "[2, 7, 3, 4]\n"
     ]
    }
   ],
   "source": [
    "x=[2,7]\n",
    "x+=[3,4]\n",
    "print(x)"
   ]
  },
  {
   "cell_type": "code",
   "execution_count": 53,
   "metadata": {},
   "outputs": [
    {
     "name": "stdout",
     "output_type": "stream",
     "text": [
      "4\n"
     ]
    }
   ],
   "source": [
    "nums = list(range(5))\n",
    "\n",
    "print(nums[4])"
   ]
  },
  {
   "cell_type": "code",
   "execution_count": 54,
   "metadata": {},
   "outputs": [
    {
     "name": "stdout",
     "output_type": "stream",
     "text": [
      "8\n"
     ]
    }
   ],
   "source": [
    "\n",
    "\n",
    "list = [1, 1, 2, 3, 5, 8, 13] \n",
    "\n",
    "print(list[list[4]]) #list[list[4]]=list[5]=8"
   ]
  },
  {
   "cell_type": "code",
   "execution_count": 56,
   "metadata": {},
   "outputs": [
    {
     "name": "stdout",
     "output_type": "stream",
     "text": [
      "2\n",
      "4\n",
      "6\n",
      "8\n",
      "10\n"
     ]
    }
   ],
   "source": [
    "\n",
    "\n",
    "for i in range(10):\n",
    "\n",
    "    if not i % 2 == 0:\n",
    "\n",
    "        print(i+1)"
   ]
  },
  {
   "cell_type": "code",
   "execution_count": 58,
   "metadata": {},
   "outputs": [
    {
     "name": "stdout",
     "output_type": "stream",
     "text": [
      "[9, 2, 4, 6]\n",
      "13\n"
     ]
    }
   ],
   "source": [
    "\n",
    "\n",
    "x = [6, 4, 2, 9]\n",
    "\n",
    "x = x[::-1]\n",
    "print(x)\n",
    "print(x[0]+x[2])"
   ]
  },
  {
   "cell_type": "code",
   "execution_count": 60,
   "metadata": {},
   "outputs": [
    {
     "name": "stdout",
     "output_type": "stream",
     "text": [
      "enter the number: 100\n",
      "5050\n"
     ]
    }
   ],
   "source": [
    "'''\n",
    "No one likes homework, but your math teacher has given you an assignment to find the sum of the first N numbers.\n",
    "\n",
    "Let’s save some time by creating a program to do the calculation for you!\n",
    "\n",
    "Take a number N as input and output the sum of all numbers from 1 to N (including N).\n",
    "\n",
    "Sample Input\n",
    "100\n",
    "\n",
    "Sample Output\n",
    "5050\n",
    "\n",
    "Explanation: The sum of all numbers from 1 to 100 is equal to 5050.\n",
    "You can iterate over a range and calculate the sum of all numbers in the range.\n",
    "Remember, range(a, b) does not include b, thus you need to use b+1 to include b in the range.\n",
    "'''\n",
    "\n",
    "n =int(input('enter the number: '))\n",
    "sum=0;\n",
    "for i  in range(n+1):\n",
    "    sum+=i\n",
    "print(sum)    \n",
    "    \n"
   ]
  },
  {
   "cell_type": "code",
   "execution_count": 63,
   "metadata": {},
   "outputs": [
    {
     "name": "stdout",
     "output_type": "stream",
     "text": [
      "enter the text: hello, my name is shreyansh lets search for a word\n",
      "enter the word to search: sunny\n",
      "Word not found\n"
     ]
    }
   ],
   "source": [
    "'''You’re working on a search engine. Watch your back Google!\n",
    "\n",
    "The given code takes a text and a word as input and passes them to a function called search().\n",
    "\n",
    "The search() function should return \"Word found\" if the word is present in the text, or \"Word not found\", if it’s not.\n",
    "\n",
    "Sample Input\n",
    "\"This is awesome\"\n",
    "\"awesome\"\n",
    "\n",
    "Sample Output\n",
    "Word found\n",
    "Define the search() function, so that the given code works as expected.\n",
    "PY\n",
    "1'''\n",
    "text=input('enter the text: ')\n",
    "word=input('enter the word to search: ')\n",
    "def search(t,w):\n",
    "    if(w in t):\n",
    "        print('Word found')\n",
    "    else:\n",
    "        print('Word not found')\n",
    "search(text,word)"
   ]
  },
  {
   "cell_type": "code",
   "execution_count": 4,
   "metadata": {},
   "outputs": [
    {
     "name": "stdout",
     "output_type": "stream",
     "text": [
      "enter the size of array: 5\n",
      "enter the element into the array: 1 2 -8 1 5\n",
      "6\n"
     ]
    }
   ],
   "source": [
    "'''Given an array of integers, find the sum of its elements.\n",
    "\n",
    "For example, if the array ar=[1,2,-8,1,5], so 1+5 return 6.\n",
    "\n",
    "Function Description\n",
    "\n",
    "Complete the simpleArraySum function in the editor below. It must return the sum of the array elements as an integer.\n",
    "\n",
    "simpleArraySum has the following parameter(s):\n",
    "\n",
    "ar: an array of integers\n",
    "\n",
    "Input Format\n",
    "\n",
    "The first line contains an integer, n, denoting the size of the array. The second line contains n space-separated integers representing the array's elements.\n",
    "\n",
    "Constraints\n",
    "\n",
    "0\n",
    "\n",
    "Output Format\n",
    "\n",
    "Print the sum of the array's elements as a single integer.\n",
    "\n",
    "Sample Input 0\n",
    "\n",
    "6\n",
    "1 2 3 4 10 11\n",
    "Sample Output 0\n",
    "\n",
    "14'''\n",
    "import array as arr\n",
    "n=int(input('enter the size of array: '))\n",
    "a=list(map(int,input('enter the element into the array: ').split()))[:n]\n",
    "b=arr.array('i',a)\n",
    "sum=0\n",
    "for i in range(0,len(b),2):\n",
    "     if b[i]>0:\n",
    "            sum+=b[i]\n",
    "print(sum)"
   ]
  },
  {
   "cell_type": "code",
   "execution_count": 5,
   "metadata": {},
   "outputs": [
    {
     "name": "stdout",
     "output_type": "stream",
     "text": [
      "enter the size of pattern: 8\n",
      "****************\n",
      "*******  *******\n",
      "******    ******\n",
      "*****      *****\n",
      "****        ****\n",
      "***          ***\n",
      "**            **\n",
      "*              *\n"
     ]
    }
   ],
   "source": [
    "n=int(input('enter the size of pattern: '))\n",
    "for i in range(n):\n",
    "    for j in range(n-i):\n",
    "        print('*',end='')\n",
    "    for k in range(i):\n",
    "        print('  ',end='')\n",
    "    for l in range(n-i):\n",
    "        print('*',end='')\n",
    "    print()    \n",
    "    "
   ]
  },
  {
   "cell_type": "code",
   "execution_count": null,
   "metadata": {},
   "outputs": [],
   "source": []
  }
 ],
 "metadata": {
  "kernelspec": {
   "display_name": "Python 3",
   "language": "python",
   "name": "python3"
  },
  "language_info": {
   "codemirror_mode": {
    "name": "ipython",
    "version": 3
   },
   "file_extension": ".py",
   "mimetype": "text/x-python",
   "name": "python",
   "nbconvert_exporter": "python",
   "pygments_lexer": "ipython3",
   "version": "3.7.10"
  }
 },
 "nbformat": 4,
 "nbformat_minor": 4
}
