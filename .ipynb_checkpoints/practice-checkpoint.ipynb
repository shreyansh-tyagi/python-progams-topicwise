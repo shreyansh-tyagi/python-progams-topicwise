{
 "cells": [
  {
   "cell_type": "code",
   "execution_count": 3,
   "id": "bcacdfeb",
   "metadata": {},
   "outputs": [
    {
     "name": "stdout",
     "output_type": "stream",
     "text": [
      "enter the value of size of pattern: 5\n",
      "\n",
      "* \n",
      "* * \n",
      "* * * \n",
      "* * * * \n"
     ]
    }
   ],
   "source": [
    "n=int(input('enter the value of size of pattern: '))\n",
    "for i in range(n):\n",
    "    for j in range(i):\n",
    "        print('*', end=' ')\n",
    "    print()    "
   ]
  },
  {
   "cell_type": "code",
   "execution_count": 11,
   "id": "8091a0e1",
   "metadata": {},
   "outputs": [
    {
     "name": "stdout",
     "output_type": "stream",
     "text": [
      "enter the value of n: 5\n",
      "        * \n",
      "      * * \n",
      "    * * * \n",
      "  * * * * \n",
      "* * * * * \n"
     ]
    }
   ],
   "source": [
    "n =int(input('enter the value of n: '))\n",
    "a=n\n",
    "for i in reversed(range(n)):\n",
    "    for j in range(i):\n",
    "        print(' ',end=' ')\n",
    "    for k in range(a-i):\n",
    "        print('*',end=' ')\n",
    "    print()        \n",
    "        "
   ]
  },
  {
   "cell_type": "code",
   "execution_count": 20,
   "id": "77125436",
   "metadata": {},
   "outputs": [
    {
     "name": "stdout",
     "output_type": "stream",
     "text": [
      "enter the number: 132\n",
      "3\n"
     ]
    }
   ],
   "source": [
    "n=int(input('enter the number: '))\n",
    "a=str(n)\n",
    "if a[-1::]=a:\n",
    "    print('it is palindrome')\n",
    "else:\n",
    "    print('it is not palindrome')\n",
    "    "
   ]
  },
  {
   "cell_type": "code",
   "execution_count": null,
   "id": "03d1b30a",
   "metadata": {},
   "outputs": [],
   "source": []
  }
 ],
 "metadata": {
  "kernelspec": {
   "display_name": "Python 3 (ipykernel)",
   "language": "python",
   "name": "python3"
  },
  "language_info": {
   "codemirror_mode": {
    "name": "ipython",
    "version": 3
   },
   "file_extension": ".py",
   "mimetype": "text/x-python",
   "name": "python",
   "nbconvert_exporter": "python",
   "pygments_lexer": "ipython3",
   "version": "3.7.11"
  }
 },
 "nbformat": 4,
 "nbformat_minor": 5
}
