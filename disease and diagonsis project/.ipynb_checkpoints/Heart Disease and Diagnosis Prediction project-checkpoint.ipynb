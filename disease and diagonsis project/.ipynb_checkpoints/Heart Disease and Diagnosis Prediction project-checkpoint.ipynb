{
 "cells": [
  {
   "cell_type": "markdown",
   "id": "d2011c82",
   "metadata": {},
   "source": [
    "# HEART DISEASE PREDICTION BY SHREYANSH TYAGI"
   ]
  },
  {
   "cell_type": "markdown",
   "id": "2fe507a9",
   "metadata": {},
   "source": [
    "## Importing libraries and modules for prediction to be done"
   ]
  },
  {
   "cell_type": "code",
   "execution_count": 1,
   "id": "bac42a76",
   "metadata": {},
   "outputs": [
    {
     "name": "stdout",
     "output_type": "stream",
     "text": [
      "['.ipynb_checkpoints', 'README.md', 'heart.csv', 'Heart Disease and Diagnosis Prediction project.ipynb']\n"
     ]
    }
   ],
   "source": [
    "import numpy as npy\n",
    "import pandas as pda\n",
    "import matplotlib.pyplot as pltp\n",
    "from matplotlib import rcParams\n",
    "import seaborn as sea\n",
    "\n",
    "%matplotlib inline\n",
    "\n",
    "import os\n",
    "print(os.listdir())\n",
    "\n",
    "import warnings\n",
    "warnings.filterwarnings('ignore') "
   ]
  },
  {
   "cell_type": "markdown",
   "id": "6e16051d",
   "metadata": {},
   "source": [
    "## Importing and Understanding the dataset in CSV format"
   ]
  },
  {
   "cell_type": "code",
   "execution_count": 2,
   "id": "0a9efe28",
   "metadata": {},
   "outputs": [],
   "source": [
    "data = pda.read_csv(\"heart.csv\")"
   ]
  },
  {
   "cell_type": "markdown",
   "id": "a782315b",
   "metadata": {},
   "source": [
    "### verifying it as dataframe object in pandas"
   ]
  },
  {
   "cell_type": "code",
   "execution_count": 3,
   "id": "31847aad",
   "metadata": {},
   "outputs": [
    {
     "data": {
      "text/plain": [
       "pandas.core.frame.DataFrame"
      ]
     },
     "execution_count": 3,
     "metadata": {},
     "output_type": "execute_result"
    }
   ],
   "source": [
    "type(data)"
   ]
  },
  {
   "cell_type": "markdown",
   "id": "88d7a031",
   "metadata": {},
   "source": [
    "### shape of data"
   ]
  },
  {
   "cell_type": "code",
   "execution_count": 5,
   "id": "d560a15e",
   "metadata": {},
   "outputs": [
    {
     "data": {
      "text/plain": [
       "(303, 14)"
      ]
     },
     "execution_count": 5,
     "metadata": {},
     "output_type": "execute_result"
    }
   ],
   "source": [
    "data.shape"
   ]
  },
  {
   "cell_type": "markdown",
   "id": "eab06229",
   "metadata": {},
   "source": [
    "### Printing out few columns of top "
   ]
  },
  {
   "cell_type": "code",
   "execution_count": 6,
   "id": "0d65836e",
   "metadata": {},
   "outputs": [
    {
     "data": {
      "text/html": [
       "<div>\n",
       "<style scoped>\n",
       "    .dataframe tbody tr th:only-of-type {\n",
       "        vertical-align: middle;\n",
       "    }\n",
       "\n",
       "    .dataframe tbody tr th {\n",
       "        vertical-align: top;\n",
       "    }\n",
       "\n",
       "    .dataframe thead th {\n",
       "        text-align: right;\n",
       "    }\n",
       "</style>\n",
       "<table border=\"1\" class=\"dataframe\">\n",
       "  <thead>\n",
       "    <tr style=\"text-align: right;\">\n",
       "      <th></th>\n",
       "      <th>age</th>\n",
       "      <th>sex</th>\n",
       "      <th>cp</th>\n",
       "      <th>trestbps</th>\n",
       "      <th>chol</th>\n",
       "      <th>fbs</th>\n",
       "      <th>restecg</th>\n",
       "      <th>thalach</th>\n",
       "      <th>exang</th>\n",
       "      <th>oldpeak</th>\n",
       "      <th>slope</th>\n",
       "      <th>ca</th>\n",
       "      <th>thal</th>\n",
       "      <th>target</th>\n",
       "    </tr>\n",
       "  </thead>\n",
       "  <tbody>\n",
       "    <tr>\n",
       "      <th>0</th>\n",
       "      <td>63</td>\n",
       "      <td>1</td>\n",
       "      <td>3</td>\n",
       "      <td>145</td>\n",
       "      <td>233</td>\n",
       "      <td>1</td>\n",
       "      <td>0</td>\n",
       "      <td>150</td>\n",
       "      <td>0</td>\n",
       "      <td>2.3</td>\n",
       "      <td>0</td>\n",
       "      <td>0</td>\n",
       "      <td>1</td>\n",
       "      <td>1</td>\n",
       "    </tr>\n",
       "    <tr>\n",
       "      <th>1</th>\n",
       "      <td>37</td>\n",
       "      <td>1</td>\n",
       "      <td>2</td>\n",
       "      <td>130</td>\n",
       "      <td>250</td>\n",
       "      <td>0</td>\n",
       "      <td>1</td>\n",
       "      <td>187</td>\n",
       "      <td>0</td>\n",
       "      <td>3.5</td>\n",
       "      <td>0</td>\n",
       "      <td>0</td>\n",
       "      <td>2</td>\n",
       "      <td>1</td>\n",
       "    </tr>\n",
       "    <tr>\n",
       "      <th>2</th>\n",
       "      <td>41</td>\n",
       "      <td>0</td>\n",
       "      <td>1</td>\n",
       "      <td>130</td>\n",
       "      <td>204</td>\n",
       "      <td>0</td>\n",
       "      <td>0</td>\n",
       "      <td>172</td>\n",
       "      <td>0</td>\n",
       "      <td>1.4</td>\n",
       "      <td>2</td>\n",
       "      <td>0</td>\n",
       "      <td>2</td>\n",
       "      <td>1</td>\n",
       "    </tr>\n",
       "    <tr>\n",
       "      <th>3</th>\n",
       "      <td>56</td>\n",
       "      <td>1</td>\n",
       "      <td>1</td>\n",
       "      <td>120</td>\n",
       "      <td>236</td>\n",
       "      <td>0</td>\n",
       "      <td>1</td>\n",
       "      <td>178</td>\n",
       "      <td>0</td>\n",
       "      <td>0.8</td>\n",
       "      <td>2</td>\n",
       "      <td>0</td>\n",
       "      <td>2</td>\n",
       "      <td>1</td>\n",
       "    </tr>\n",
       "    <tr>\n",
       "      <th>4</th>\n",
       "      <td>57</td>\n",
       "      <td>0</td>\n",
       "      <td>0</td>\n",
       "      <td>120</td>\n",
       "      <td>354</td>\n",
       "      <td>0</td>\n",
       "      <td>1</td>\n",
       "      <td>163</td>\n",
       "      <td>1</td>\n",
       "      <td>0.6</td>\n",
       "      <td>2</td>\n",
       "      <td>0</td>\n",
       "      <td>2</td>\n",
       "      <td>1</td>\n",
       "    </tr>\n",
       "    <tr>\n",
       "      <th>5</th>\n",
       "      <td>57</td>\n",
       "      <td>1</td>\n",
       "      <td>0</td>\n",
       "      <td>140</td>\n",
       "      <td>192</td>\n",
       "      <td>0</td>\n",
       "      <td>1</td>\n",
       "      <td>148</td>\n",
       "      <td>0</td>\n",
       "      <td>0.4</td>\n",
       "      <td>1</td>\n",
       "      <td>0</td>\n",
       "      <td>1</td>\n",
       "      <td>1</td>\n",
       "    </tr>\n",
       "  </tbody>\n",
       "</table>\n",
       "</div>"
      ],
      "text/plain": [
       "   age  sex  cp  trestbps  chol  fbs  restecg  thalach  exang  oldpeak  slope  \\\n",
       "0   63    1   3       145   233    1        0      150      0      2.3      0   \n",
       "1   37    1   2       130   250    0        1      187      0      3.5      0   \n",
       "2   41    0   1       130   204    0        0      172      0      1.4      2   \n",
       "3   56    1   1       120   236    0        1      178      0      0.8      2   \n",
       "4   57    0   0       120   354    0        1      163      1      0.6      2   \n",
       "5   57    1   0       140   192    0        1      148      0      0.4      1   \n",
       "\n",
       "   ca  thal  target  \n",
       "0   0     1       1  \n",
       "1   0     2       1  \n",
       "2   0     2       1  \n",
       "3   0     2       1  \n",
       "4   0     2       1  \n",
       "5   0     1       1  "
      ]
     },
     "execution_count": 6,
     "metadata": {},
     "output_type": "execute_result"
    }
   ],
   "source": [
    "data.head(6)"
   ]
  },
  {
   "cell_type": "code",
   "execution_count": 8,
   "id": "fcb18958",
   "metadata": {},
   "outputs": [
    {
     "data": {
      "text/html": [
       "<div>\n",
       "<style scoped>\n",
       "    .dataframe tbody tr th:only-of-type {\n",
       "        vertical-align: middle;\n",
       "    }\n",
       "\n",
       "    .dataframe tbody tr th {\n",
       "        vertical-align: top;\n",
       "    }\n",
       "\n",
       "    .dataframe thead th {\n",
       "        text-align: right;\n",
       "    }\n",
       "</style>\n",
       "<table border=\"1\" class=\"dataframe\">\n",
       "  <thead>\n",
       "    <tr style=\"text-align: right;\">\n",
       "      <th></th>\n",
       "      <th>age</th>\n",
       "      <th>sex</th>\n",
       "      <th>cp</th>\n",
       "      <th>trestbps</th>\n",
       "      <th>chol</th>\n",
       "      <th>fbs</th>\n",
       "      <th>restecg</th>\n",
       "      <th>thalach</th>\n",
       "      <th>exang</th>\n",
       "      <th>oldpeak</th>\n",
       "      <th>slope</th>\n",
       "      <th>ca</th>\n",
       "      <th>thal</th>\n",
       "      <th>target</th>\n",
       "    </tr>\n",
       "  </thead>\n",
       "  <tbody>\n",
       "    <tr>\n",
       "      <th>4</th>\n",
       "      <td>57</td>\n",
       "      <td>0</td>\n",
       "      <td>0</td>\n",
       "      <td>120</td>\n",
       "      <td>354</td>\n",
       "      <td>0</td>\n",
       "      <td>1</td>\n",
       "      <td>163</td>\n",
       "      <td>1</td>\n",
       "      <td>0.6</td>\n",
       "      <td>2</td>\n",
       "      <td>0</td>\n",
       "      <td>2</td>\n",
       "      <td>1</td>\n",
       "    </tr>\n",
       "    <tr>\n",
       "      <th>189</th>\n",
       "      <td>41</td>\n",
       "      <td>1</td>\n",
       "      <td>0</td>\n",
       "      <td>110</td>\n",
       "      <td>172</td>\n",
       "      <td>0</td>\n",
       "      <td>0</td>\n",
       "      <td>158</td>\n",
       "      <td>0</td>\n",
       "      <td>0.0</td>\n",
       "      <td>2</td>\n",
       "      <td>0</td>\n",
       "      <td>3</td>\n",
       "      <td>0</td>\n",
       "    </tr>\n",
       "    <tr>\n",
       "      <th>255</th>\n",
       "      <td>45</td>\n",
       "      <td>1</td>\n",
       "      <td>0</td>\n",
       "      <td>142</td>\n",
       "      <td>309</td>\n",
       "      <td>0</td>\n",
       "      <td>0</td>\n",
       "      <td>147</td>\n",
       "      <td>1</td>\n",
       "      <td>0.0</td>\n",
       "      <td>1</td>\n",
       "      <td>3</td>\n",
       "      <td>3</td>\n",
       "      <td>0</td>\n",
       "    </tr>\n",
       "    <tr>\n",
       "      <th>116</th>\n",
       "      <td>41</td>\n",
       "      <td>1</td>\n",
       "      <td>2</td>\n",
       "      <td>130</td>\n",
       "      <td>214</td>\n",
       "      <td>0</td>\n",
       "      <td>0</td>\n",
       "      <td>168</td>\n",
       "      <td>0</td>\n",
       "      <td>2.0</td>\n",
       "      <td>1</td>\n",
       "      <td>0</td>\n",
       "      <td>2</td>\n",
       "      <td>1</td>\n",
       "    </tr>\n",
       "    <tr>\n",
       "      <th>72</th>\n",
       "      <td>29</td>\n",
       "      <td>1</td>\n",
       "      <td>1</td>\n",
       "      <td>130</td>\n",
       "      <td>204</td>\n",
       "      <td>0</td>\n",
       "      <td>0</td>\n",
       "      <td>202</td>\n",
       "      <td>0</td>\n",
       "      <td>0.0</td>\n",
       "      <td>2</td>\n",
       "      <td>0</td>\n",
       "      <td>2</td>\n",
       "      <td>1</td>\n",
       "    </tr>\n",
       "    <tr>\n",
       "      <th>52</th>\n",
       "      <td>62</td>\n",
       "      <td>1</td>\n",
       "      <td>2</td>\n",
       "      <td>130</td>\n",
       "      <td>231</td>\n",
       "      <td>0</td>\n",
       "      <td>1</td>\n",
       "      <td>146</td>\n",
       "      <td>0</td>\n",
       "      <td>1.8</td>\n",
       "      <td>1</td>\n",
       "      <td>3</td>\n",
       "      <td>3</td>\n",
       "      <td>1</td>\n",
       "    </tr>\n",
       "  </tbody>\n",
       "</table>\n",
       "</div>"
      ],
      "text/plain": [
       "     age  sex  cp  trestbps  chol  fbs  restecg  thalach  exang  oldpeak  \\\n",
       "4     57    0   0       120   354    0        1      163      1      0.6   \n",
       "189   41    1   0       110   172    0        0      158      0      0.0   \n",
       "255   45    1   0       142   309    0        0      147      1      0.0   \n",
       "116   41    1   2       130   214    0        0      168      0      2.0   \n",
       "72    29    1   1       130   204    0        0      202      0      0.0   \n",
       "52    62    1   2       130   231    0        1      146      0      1.8   \n",
       "\n",
       "     slope  ca  thal  target  \n",
       "4        2   0     2       1  \n",
       "189      2   0     3       0  \n",
       "255      1   3     3       0  \n",
       "116      1   0     2       1  \n",
       "72       2   0     2       1  \n",
       "52       1   3     3       1  "
      ]
     },
     "execution_count": 8,
     "metadata": {},
     "output_type": "execute_result"
    }
   ],
   "source": [
    "data.sample(6)"
   ]
  },
  {
   "cell_type": "markdown",
   "id": "3f86e4b4",
   "metadata": {},
   "source": [
    "### Description of data"
   ]
  },
  {
   "cell_type": "code",
   "execution_count": 7,
   "id": "413822dd",
   "metadata": {},
   "outputs": [
    {
     "data": {
      "text/html": [
       "<div>\n",
       "<style scoped>\n",
       "    .dataframe tbody tr th:only-of-type {\n",
       "        vertical-align: middle;\n",
       "    }\n",
       "\n",
       "    .dataframe tbody tr th {\n",
       "        vertical-align: top;\n",
       "    }\n",
       "\n",
       "    .dataframe thead th {\n",
       "        text-align: right;\n",
       "    }\n",
       "</style>\n",
       "<table border=\"1\" class=\"dataframe\">\n",
       "  <thead>\n",
       "    <tr style=\"text-align: right;\">\n",
       "      <th></th>\n",
       "      <th>age</th>\n",
       "      <th>sex</th>\n",
       "      <th>cp</th>\n",
       "      <th>trestbps</th>\n",
       "      <th>chol</th>\n",
       "      <th>fbs</th>\n",
       "      <th>restecg</th>\n",
       "      <th>thalach</th>\n",
       "      <th>exang</th>\n",
       "      <th>oldpeak</th>\n",
       "      <th>slope</th>\n",
       "      <th>ca</th>\n",
       "      <th>thal</th>\n",
       "      <th>target</th>\n",
       "    </tr>\n",
       "  </thead>\n",
       "  <tbody>\n",
       "    <tr>\n",
       "      <th>count</th>\n",
       "      <td>303.000000</td>\n",
       "      <td>303.000000</td>\n",
       "      <td>303.000000</td>\n",
       "      <td>303.000000</td>\n",
       "      <td>303.000000</td>\n",
       "      <td>303.000000</td>\n",
       "      <td>303.000000</td>\n",
       "      <td>303.000000</td>\n",
       "      <td>303.000000</td>\n",
       "      <td>303.000000</td>\n",
       "      <td>303.000000</td>\n",
       "      <td>303.000000</td>\n",
       "      <td>303.000000</td>\n",
       "      <td>303.000000</td>\n",
       "    </tr>\n",
       "    <tr>\n",
       "      <th>mean</th>\n",
       "      <td>54.366337</td>\n",
       "      <td>0.683168</td>\n",
       "      <td>0.966997</td>\n",
       "      <td>131.623762</td>\n",
       "      <td>246.264026</td>\n",
       "      <td>0.148515</td>\n",
       "      <td>0.528053</td>\n",
       "      <td>149.646865</td>\n",
       "      <td>0.326733</td>\n",
       "      <td>1.039604</td>\n",
       "      <td>1.399340</td>\n",
       "      <td>0.729373</td>\n",
       "      <td>2.313531</td>\n",
       "      <td>0.544554</td>\n",
       "    </tr>\n",
       "    <tr>\n",
       "      <th>std</th>\n",
       "      <td>9.082101</td>\n",
       "      <td>0.466011</td>\n",
       "      <td>1.032052</td>\n",
       "      <td>17.538143</td>\n",
       "      <td>51.830751</td>\n",
       "      <td>0.356198</td>\n",
       "      <td>0.525860</td>\n",
       "      <td>22.905161</td>\n",
       "      <td>0.469794</td>\n",
       "      <td>1.161075</td>\n",
       "      <td>0.616226</td>\n",
       "      <td>1.022606</td>\n",
       "      <td>0.612277</td>\n",
       "      <td>0.498835</td>\n",
       "    </tr>\n",
       "    <tr>\n",
       "      <th>min</th>\n",
       "      <td>29.000000</td>\n",
       "      <td>0.000000</td>\n",
       "      <td>0.000000</td>\n",
       "      <td>94.000000</td>\n",
       "      <td>126.000000</td>\n",
       "      <td>0.000000</td>\n",
       "      <td>0.000000</td>\n",
       "      <td>71.000000</td>\n",
       "      <td>0.000000</td>\n",
       "      <td>0.000000</td>\n",
       "      <td>0.000000</td>\n",
       "      <td>0.000000</td>\n",
       "      <td>0.000000</td>\n",
       "      <td>0.000000</td>\n",
       "    </tr>\n",
       "    <tr>\n",
       "      <th>25%</th>\n",
       "      <td>47.500000</td>\n",
       "      <td>0.000000</td>\n",
       "      <td>0.000000</td>\n",
       "      <td>120.000000</td>\n",
       "      <td>211.000000</td>\n",
       "      <td>0.000000</td>\n",
       "      <td>0.000000</td>\n",
       "      <td>133.500000</td>\n",
       "      <td>0.000000</td>\n",
       "      <td>0.000000</td>\n",
       "      <td>1.000000</td>\n",
       "      <td>0.000000</td>\n",
       "      <td>2.000000</td>\n",
       "      <td>0.000000</td>\n",
       "    </tr>\n",
       "    <tr>\n",
       "      <th>50%</th>\n",
       "      <td>55.000000</td>\n",
       "      <td>1.000000</td>\n",
       "      <td>1.000000</td>\n",
       "      <td>130.000000</td>\n",
       "      <td>240.000000</td>\n",
       "      <td>0.000000</td>\n",
       "      <td>1.000000</td>\n",
       "      <td>153.000000</td>\n",
       "      <td>0.000000</td>\n",
       "      <td>0.800000</td>\n",
       "      <td>1.000000</td>\n",
       "      <td>0.000000</td>\n",
       "      <td>2.000000</td>\n",
       "      <td>1.000000</td>\n",
       "    </tr>\n",
       "    <tr>\n",
       "      <th>75%</th>\n",
       "      <td>61.000000</td>\n",
       "      <td>1.000000</td>\n",
       "      <td>2.000000</td>\n",
       "      <td>140.000000</td>\n",
       "      <td>274.500000</td>\n",
       "      <td>0.000000</td>\n",
       "      <td>1.000000</td>\n",
       "      <td>166.000000</td>\n",
       "      <td>1.000000</td>\n",
       "      <td>1.600000</td>\n",
       "      <td>2.000000</td>\n",
       "      <td>1.000000</td>\n",
       "      <td>3.000000</td>\n",
       "      <td>1.000000</td>\n",
       "    </tr>\n",
       "    <tr>\n",
       "      <th>max</th>\n",
       "      <td>77.000000</td>\n",
       "      <td>1.000000</td>\n",
       "      <td>3.000000</td>\n",
       "      <td>200.000000</td>\n",
       "      <td>564.000000</td>\n",
       "      <td>1.000000</td>\n",
       "      <td>2.000000</td>\n",
       "      <td>202.000000</td>\n",
       "      <td>1.000000</td>\n",
       "      <td>6.200000</td>\n",
       "      <td>2.000000</td>\n",
       "      <td>4.000000</td>\n",
       "      <td>3.000000</td>\n",
       "      <td>1.000000</td>\n",
       "    </tr>\n",
       "  </tbody>\n",
       "</table>\n",
       "</div>"
      ],
      "text/plain": [
       "              age         sex          cp    trestbps        chol         fbs  \\\n",
       "count  303.000000  303.000000  303.000000  303.000000  303.000000  303.000000   \n",
       "mean    54.366337    0.683168    0.966997  131.623762  246.264026    0.148515   \n",
       "std      9.082101    0.466011    1.032052   17.538143   51.830751    0.356198   \n",
       "min     29.000000    0.000000    0.000000   94.000000  126.000000    0.000000   \n",
       "25%     47.500000    0.000000    0.000000  120.000000  211.000000    0.000000   \n",
       "50%     55.000000    1.000000    1.000000  130.000000  240.000000    0.000000   \n",
       "75%     61.000000    1.000000    2.000000  140.000000  274.500000    0.000000   \n",
       "max     77.000000    1.000000    3.000000  200.000000  564.000000    1.000000   \n",
       "\n",
       "          restecg     thalach       exang     oldpeak       slope          ca  \\\n",
       "count  303.000000  303.000000  303.000000  303.000000  303.000000  303.000000   \n",
       "mean     0.528053  149.646865    0.326733    1.039604    1.399340    0.729373   \n",
       "std      0.525860   22.905161    0.469794    1.161075    0.616226    1.022606   \n",
       "min      0.000000   71.000000    0.000000    0.000000    0.000000    0.000000   \n",
       "25%      0.000000  133.500000    0.000000    0.000000    1.000000    0.000000   \n",
       "50%      1.000000  153.000000    0.000000    0.800000    1.000000    0.000000   \n",
       "75%      1.000000  166.000000    1.000000    1.600000    2.000000    1.000000   \n",
       "max      2.000000  202.000000    1.000000    6.200000    2.000000    4.000000   \n",
       "\n",
       "             thal      target  \n",
       "count  303.000000  303.000000  \n",
       "mean     2.313531    0.544554  \n",
       "std      0.612277    0.498835  \n",
       "min      0.000000    0.000000  \n",
       "25%      2.000000    0.000000  \n",
       "50%      2.000000    1.000000  \n",
       "75%      3.000000    1.000000  \n",
       "max      3.000000    1.000000  "
      ]
     },
     "execution_count": 7,
     "metadata": {},
     "output_type": "execute_result"
    }
   ],
   "source": [
    "data.describe()"
   ]
  },
  {
   "cell_type": "code",
   "execution_count": 9,
   "id": "92e79f8e",
   "metadata": {},
   "outputs": [
    {
     "name": "stdout",
     "output_type": "stream",
     "text": [
      "<class 'pandas.core.frame.DataFrame'>\n",
      "RangeIndex: 303 entries, 0 to 302\n",
      "Data columns (total 14 columns):\n",
      " #   Column    Non-Null Count  Dtype  \n",
      "---  ------    --------------  -----  \n",
      " 0   age       303 non-null    int64  \n",
      " 1   sex       303 non-null    int64  \n",
      " 2   cp        303 non-null    int64  \n",
      " 3   trestbps  303 non-null    int64  \n",
      " 4   chol      303 non-null    int64  \n",
      " 5   fbs       303 non-null    int64  \n",
      " 6   restecg   303 non-null    int64  \n",
      " 7   thalach   303 non-null    int64  \n",
      " 8   exang     303 non-null    int64  \n",
      " 9   oldpeak   303 non-null    float64\n",
      " 10  slope     303 non-null    int64  \n",
      " 11  ca        303 non-null    int64  \n",
      " 12  thal      303 non-null    int64  \n",
      " 13  target    303 non-null    int64  \n",
      "dtypes: float64(1), int64(13)\n",
      "memory usage: 33.3 KB\n"
     ]
    }
   ],
   "source": [
    "data.info()"
   ]
  },
  {
   "cell_type": "markdown",
   "id": "6b9d95b9",
   "metadata": {},
   "source": [
    "#### there is no missing values in data"
   ]
  },
  {
   "cell_type": "markdown",
   "id": "32c90a91",
   "metadata": {},
   "source": [
    "### Understanding the dataset"
   ]
  },
  {
   "cell_type": "code",
   "execution_count": 4,
   "id": "220b7120",
   "metadata": {
    "scrolled": true
   },
   "outputs": [
    {
     "data": {
      "text/plain": [
       "<matplotlib.colorbar.Colorbar at 0x7f1c30f627d0>"
      ]
     },
     "execution_count": 4,
     "metadata": {},
     "output_type": "execute_result"
    },
    {
     "data": {
      "image/png": "[encoded data removed]",
      "text/plain": [
       "<Figure size 1152x1152 with 2 Axes>"
      ]
     },
     "metadata": {
      "needs_background": "light"
     },
     "output_type": "display_data"
    }
   ],
   "source": [
    "rcParams['figure.figsize'] = 22, 16\n",
    "pltp.matshow(data.corr())\n",
    "pltp.yticks(npy.arange(data.shape[1]), data.columns)\n",
    "pltp.xticks(npy.arange(data.shape[1]), data.columns)\n",
    "pltp.colorbar()"
   ]
  },
  {
   "cell_type": "code",
   "execution_count": 11,
   "id": "ac092e33",
   "metadata": {},
   "outputs": [
    {
     "data": {
      "text/plain": [
       "array([[<AxesSubplot:title={'center':'age'}>,\n",
       "        <AxesSubplot:title={'center':'sex'}>,\n",
       "        <AxesSubplot:title={'center':'cp'}>,\n",
       "        <AxesSubplot:title={'center':'trestbps'}>],\n",
       "       [<AxesSubplot:title={'center':'chol'}>,\n",
       "        <AxesSubplot:title={'center':'fbs'}>,\n",
       "        <AxesSubplot:title={'center':'restecg'}>,\n",
       "        <AxesSubplot:title={'center':'thalach'}>],\n",
       "       [<AxesSubplot:title={'center':'exang'}>,\n",
       "        <AxesSubplot:title={'center':'oldpeak'}>,\n",
       "        <AxesSubplot:title={'center':'slope'}>,\n",
       "        <AxesSubplot:title={'center':'ca'}>],\n",
       "       [<AxesSubplot:title={'center':'thal'}>,\n",
       "        <AxesSubplot:title={'center':'target'}>, <AxesSubplot:>,\n",
       "        <AxesSubplot:>]], dtype=object)"
      ]
     },
     "execution_count": 11,
     "metadata": {},
     "output_type": "execute_result"
    },
    {
     "data": {
      "image/png": "[encoded data removed]",
      "text/plain": [
       "<Figure size 1584x1152 with 16 Axes>"
      ]
     },
     "metadata": {
      "needs_background": "light"
     },
     "output_type": "display_data"
    }
   ],
   "source": [
    "data.hist()"
   ]
  },
  {
   "cell_type": "markdown",
   "id": "b08140e2",
   "metadata": {},
   "source": [
    "### Printing the data of each coloumn separately"
   ]
  },
  {
   "cell_type": "code",
   "execution_count": 5,
   "id": "c94c012d",
   "metadata": {},
   "outputs": [
    {
     "data": {
      "text/plain": [
       "Text(0.5, 1.0, 'Count of each Target Class')"
      ]
     },
     "execution_count": 5,
     "metadata": {},
     "output_type": "execute_result"
    },
    {
     "data": {
      "image/png": "[encoded data removed]",
      "text/plain": [
       "<Figure size 576x432 with 1 Axes>"
      ]
     },
     "metadata": {
      "needs_background": "light"
     },
     "output_type": "display_data"
    }
   ],
   "source": [
    "rcParams['figure.figsize'] = 8,6\n",
    "pltp.bar(data['target'].unique(), data['target'].value_counts(), color = ['red', 'green'])\n",
    "pltp.xticks([0, 1])\n",
    "pltp.xlabel('Target Classes')\n",
    "pltp.ylabel('Count')\n",
    "pltp.title('Count of each Target Class')"
   ]
  },
  {
   "cell_type": "code",
   "execution_count": 15,
   "id": "0cf834b9",
   "metadata": {},
   "outputs": [
    {
     "name": "stdout",
     "output_type": "stream",
     "text": [
      "age:\t\t\tage\n",
      "sex:\t\t\t1: male, 0: female\n",
      "cp:\t\t\tchest pain type, 1: typical angina, 2: atypical angina, 3: non-anginal pain, 4: asymptomatic\n",
      "trestbps:\t\t\tresting blood pressure\n",
      "chol:\t\t\t serum cholestoral in mg/dl\n",
      "fbs:\t\t\tfasting blood sugar > 120 mg/dl\n",
      "restecg:\t\t\tresting electrocardiographic results (values 0,1,2)\n",
      "thalach:\t\t\t maximum heart rate achieved\n",
      "exang:\t\t\texercise induced angina\n",
      "oldpeak:\t\t\toldpeak = ST depression induced by exercise relative to rest\n",
      "slope:\t\t\tthe slope of the peak exercise ST segment\n",
      "ca:\t\t\tnumber of major vessels (0-3) colored by flourosopy\n",
      "thal:\t\t\tthal: 3 = normal; 6 = fixed defect; 7 = reversable defect\n"
     ]
    }
   ],
   "source": [
    "information = [\"age\",\"1: male, 0: female\",\"chest pain type, 1: typical angina, 2: atypical angina, 3: non-anginal pain, 4: asymptomatic\",\"resting blood pressure\",\" serum cholestoral in mg/dl\",\"fasting blood sugar > 120 mg/dl\",\"resting electrocardiographic results (values 0,1,2)\",\" maximum heart rate achieved\",\"exercise induced angina\",\"oldpeak = ST depression induced by exercise relative to rest\",\"the slope of the peak exercise ST segment\",\"number of major vessels (0-3) colored by flourosopy\",\"thal: 3 = normal; 6 = fixed defect; 7 = reversable defect\"]\n",
    "\n",
    "\n",
    "\n",
    "for i in range(len(information)):\n",
    "    print(data.columns[i]+\":\\t\\t\\t\"+information[i])"
   ]
  },
  {
   "cell_type": "markdown",
   "id": "2579d5d5",
   "metadata": {},
   "source": [
    "### Analysing the 'target' value present in the dataset"
   ]
  },
  {
   "cell_type": "code",
   "execution_count": 16,
   "id": "9ac7d423",
   "metadata": {},
   "outputs": [
    {
     "data": {
      "text/plain": [
       "count    303.000000\n",
       "mean       0.544554\n",
       "std        0.498835\n",
       "min        0.000000\n",
       "25%        0.000000\n",
       "50%        1.000000\n",
       "75%        1.000000\n",
       "max        1.000000\n",
       "Name: target, dtype: float64"
      ]
     },
     "execution_count": 16,
     "metadata": {},
     "output_type": "execute_result"
    }
   ],
   "source": [
    "data['target'].describe()"
   ]
  },
  {
   "cell_type": "code",
   "execution_count": 17,
   "id": "95c4b512",
   "metadata": {},
   "outputs": [
    {
     "data": {
      "text/plain": [
       "array([1, 0])"
      ]
     },
     "execution_count": 17,
     "metadata": {},
     "output_type": "execute_result"
    }
   ],
   "source": [
    "data['target'].unique()"
   ]
  },
  {
   "cell_type": "markdown",
   "id": "62d43af4",
   "metadata": {},
   "source": [
    "### Checking the correlation between the columns in the dataset"
   ]
  },
  {
   "cell_type": "code",
   "execution_count": 18,
   "id": "91b9fda4",
   "metadata": {},
   "outputs": [
    {
     "name": "stdout",
     "output_type": "stream",
     "text": [
      "target      1.000000\n",
      "exang       0.436757\n",
      "cp          0.433798\n",
      "oldpeak     0.430696\n",
      "thalach     0.421741\n",
      "ca          0.391724\n",
      "slope       0.345877\n",
      "thal        0.344029\n",
      "sex         0.280937\n",
      "age         0.225439\n",
      "trestbps    0.144931\n",
      "restecg     0.137230\n",
      "chol        0.085239\n",
      "fbs         0.028046\n",
      "Name: target, dtype: float64\n"
     ]
    }
   ],
   "source": [
    "print(data.corr()['target'].abs().sort_values(ascending=False))"
   ]
  },
  {
   "cell_type": "markdown",
   "id": "105892b3",
   "metadata": {},
   "source": [
    "### this show that most columns are closely correlated with 'target' but fbs is weakly correlated present in the data"
   ]
  },
  {
   "cell_type": "markdown",
   "id": "0e76896b",
   "metadata": {},
   "source": [
    "## Exploratory data analysis on the dataset for prediction purpose "
   ]
  },
  {
   "cell_type": "markdown",
   "id": "395d4c1d",
   "metadata": {},
   "source": [
    "### First, analysing the target value in data"
   ]
  },
  {
   "cell_type": "code",
   "execution_count": 6,
   "id": "c2da82f0",
   "metadata": {},
   "outputs": [
    {
     "name": "stdout",
     "output_type": "stream",
     "text": [
      "1    165\n",
      "0    138\n",
      "Name: target, dtype: int64\n"
     ]
    },
    {
     "data": {
      "image/png": "[encoded data removed]",
      "text/plain": [
       "<Figure size 576x432 with 1 Axes>"
      ]
     },
     "metadata": {
      "needs_background": "light"
     },
     "output_type": "display_data"
    }
   ],
   "source": [
    "a = data[\"target\"]\n",
    "\n",
    "sea.countplot(a)\n",
    "\n",
    "\n",
    "target_temporary = data.target.value_counts()\n",
    "\n",
    "print(target_temporary)"
   ]
  },
  {
   "cell_type": "code",
   "execution_count": 23,
   "id": "d327c4b6",
   "metadata": {},
   "outputs": [
    {
     "name": "stdout",
     "output_type": "stream",
     "text": [
      "Percentage of patience without heart problems: 45.54\n",
      "Percentage of patience with heart problems: 54.46\n",
      "Percentage of patience with heart problems: 54.45544554455446\n",
      "Percentage of patience with heart problems: 45.54455445544554\n"
     ]
    }
   ],
   "source": [
    "print(\"Percentage of patience without heart problems: \"+str(round(target_temporary[0]*100/303,2)))\n",
    "print(\"Percentage of patience with heart problems: \"+str(round(target_temporary[1]*100/303,2)))\n",
    "\n",
    "#Alternatively,\n",
    "print(\"Percentage of patience with heart problems: \"+str(a.where(y==1).count()*100/303))\n",
    "print(\"Percentage of patience with heart problems: \"+str(a.where(y==0).count()*100/303))\n",
    "\n",
    "# #Or,\n",
    "#countNoDisease = len(df[df.target == 0])\n",
    "#countHaveDisease = len(df[df.target == 1])"
   ]
  },
  {
   "cell_type": "markdown",
   "id": "bdd631fd",
   "metadata": {},
   "source": [
    "### Analysing 'sex', 'cp', 'fbs', 'restecg', 'exang', 'slope', 'ca' and 'thal' features one by one "
   ]
  },
  {
   "cell_type": "markdown",
   "id": "a7b2ba63",
   "metadata": {},
   "source": [
    "### Analysing the 'Sex' feature present in the dataset"
   ]
  },
  {
   "cell_type": "code",
   "execution_count": 24,
   "id": "82268462",
   "metadata": {},
   "outputs": [
    {
     "data": {
      "text/plain": [
       "<bound method Series.unique of 0      1\n",
       "1      1\n",
       "2      0\n",
       "3      1\n",
       "4      0\n",
       "      ..\n",
       "298    0\n",
       "299    1\n",
       "300    1\n",
       "301    1\n",
       "302    0\n",
       "Name: sex, Length: 303, dtype: int64>"
      ]
     },
     "execution_count": 24,
     "metadata": {},
     "output_type": "execute_result"
    }
   ],
   "source": [
    "data['sex'].unique"
   ]
  },
  {
   "cell_type": "markdown",
   "id": "0f0872a7",
   "metadata": {},
   "source": [
    "##### (We notice, that as expected, the 'sex' feature has 2 unique features)"
   ]
  },
  {
   "cell_type": "code",
   "execution_count": 25,
   "id": "4840563d",
   "metadata": {},
   "outputs": [
    {
     "data": {
      "text/plain": [
       "<AxesSubplot:xlabel='sex', ylabel='target'>"
      ]
     },
     "execution_count": 25,
     "metadata": {},
     "output_type": "execute_result"
    },
    {
     "data": {
      "image/png": "[encoded data removed]",
      "text/plain": [
       "<Figure size 576x432 with 1 Axes>"
      ]
     },
     "metadata": {
      "needs_background": "light"
     },
     "output_type": "display_data"
    }
   ],
   "source": [
    "sea.barplot(data[\"sex\"],a)"
   ]
  },
  {
   "cell_type": "markdown",
   "id": "c54df9c5",
   "metadata": {},
   "source": [
    "##### We notice, that females are more likely to have heart problems than males as noticed from the graph"
   ]
  },
  {
   "cell_type": "markdown",
   "id": "5097c9e5",
   "metadata": {},
   "source": [
    "### Analysing the  'Chest pain type'  feature present in the dataset"
   ]
  },
  {
   "cell_type": "code",
   "execution_count": 27,
   "id": "f386270d",
   "metadata": {},
   "outputs": [
    {
     "data": {
      "text/plain": [
       "array([3, 2, 1, 0])"
      ]
     },
     "execution_count": 27,
     "metadata": {},
     "output_type": "execute_result"
    }
   ],
   "source": [
    "data['cp'].unique()"
   ]
  },
  {
   "cell_type": "code",
   "execution_count": 28,
   "id": "71e6dd53",
   "metadata": {},
   "outputs": [
    {
     "data": {
      "text/plain": [
       "<AxesSubplot:xlabel='cp', ylabel='target'>"
      ]
     },
     "execution_count": 28,
     "metadata": {},
     "output_type": "execute_result"
    },
    {
     "data": {
      "image/png": "[encoded data removed]",
      "text/plain": [
       "<Figure size 576x432 with 1 Axes>"
      ]
     },
     "metadata": {
      "needs_background": "light"
     },
     "output_type": "display_data"
    }
   ],
   "source": [
    "sea.barplot(data['cp'],a)"
   ]
  },
  {
   "cell_type": "markdown",
   "id": "000dd531",
   "metadata": {},
   "source": [
    "##### We notice, that chest pain of '0', i.e. the ones with typical angina are much less likely to have heart problems"
   ]
  },
  {
   "cell_type": "markdown",
   "id": "2b6709c8",
   "metadata": {},
   "source": [
    "### Analysing the FBS feature in the dataset"
   ]
  },
  {
   "cell_type": "code",
   "execution_count": 29,
   "id": "3c236c83",
   "metadata": {},
   "outputs": [
    {
     "data": {
      "text/plain": [
       "count    303.000000\n",
       "mean       0.148515\n",
       "std        0.356198\n",
       "min        0.000000\n",
       "25%        0.000000\n",
       "50%        0.000000\n",
       "75%        0.000000\n",
       "max        1.000000\n",
       "Name: fbs, dtype: float64"
      ]
     },
     "execution_count": 29,
     "metadata": {},
     "output_type": "execute_result"
    }
   ],
   "source": [
    "\n",
    "data[\"fbs\"].describe()\n"
   ]
  },
  {
   "cell_type": "code",
   "execution_count": 30,
   "id": "b5033257",
   "metadata": {},
   "outputs": [
    {
     "data": {
      "text/plain": [
       "array([1, 0])"
      ]
     },
     "execution_count": 30,
     "metadata": {},
     "output_type": "execute_result"
    }
   ],
   "source": [
    "data[\"fbs\"].unique()\n"
   ]
  },
  {
   "cell_type": "code",
   "execution_count": 31,
   "id": "206bbd47",
   "metadata": {},
   "outputs": [
    {
     "data": {
      "text/plain": [
       "<AxesSubplot:xlabel='fbs', ylabel='target'>"
      ]
     },
     "execution_count": 31,
     "metadata": {},
     "output_type": "execute_result"
    },
    {
     "data": {
      "image/png": "[encoded data removed]",
      "text/plain": [
       "<Figure size 576x432 with 1 Axes>"
      ]
     },
     "metadata": {
      "needs_background": "light"
     },
     "output_type": "display_data"
    }
   ],
   "source": [
    "sea.barplot(data[\"fbs\"],a)"
   ]
  },
  {
   "cell_type": "markdown",
   "id": "37c4be15",
   "metadata": {},
   "source": [
    "##### Nothing extraordinary here"
   ]
  },
  {
   "cell_type": "markdown",
   "id": "cdc895dd",
   "metadata": {},
   "source": [
    "### Analysing the restecg feature in dataset"
   ]
  },
  {
   "cell_type": "code",
   "execution_count": 34,
   "id": "573de128",
   "metadata": {},
   "outputs": [
    {
     "data": {
      "text/plain": [
       "array([0, 1, 2])"
      ]
     },
     "execution_count": 34,
     "metadata": {},
     "output_type": "execute_result"
    }
   ],
   "source": [
    "\n",
    "data[\"restecg\"].unique()\n"
   ]
  },
  {
   "cell_type": "code",
   "execution_count": 35,
   "id": "87529b0c",
   "metadata": {},
   "outputs": [
    {
     "data": {
      "text/plain": [
       "<AxesSubplot:xlabel='restecg', ylabel='target'>"
      ]
     },
     "execution_count": 35,
     "metadata": {},
     "output_type": "execute_result"
    },
    {
     "data": {
      "image/png": "[encoded data removed]",
      "text/plain": [
       "<Figure size 576x432 with 1 Axes>"
      ]
     },
     "metadata": {
      "needs_background": "light"
     },
     "output_type": "display_data"
    }
   ],
   "source": [
    "sea.barplot(data[\"restecg\"],a)"
   ]
  },
  {
   "cell_type": "markdown",
   "id": "ec90dcbb",
   "metadata": {},
   "source": [
    "##### We realize that people with restecg '1' and '0' are much more likely to have a heart disease than with restecg '2'"
   ]
  },
  {
   "cell_type": "markdown",
   "id": "2571b8bb",
   "metadata": {},
   "source": [
    "### Analysing the 'exang' feature"
   ]
  },
  {
   "cell_type": "code",
   "execution_count": 36,
   "id": "a5856781",
   "metadata": {},
   "outputs": [
    {
     "data": {
      "text/plain": [
       "array([0, 1])"
      ]
     },
     "execution_count": 36,
     "metadata": {},
     "output_type": "execute_result"
    }
   ],
   "source": [
    "data[\"exang\"].unique()\n"
   ]
  },
  {
   "cell_type": "code",
   "execution_count": 37,
   "id": "fd669396",
   "metadata": {},
   "outputs": [
    {
     "data": {
      "text/plain": [
       "<AxesSubplot:xlabel='exang', ylabel='target'>"
      ]
     },
     "execution_count": 37,
     "metadata": {},
     "output_type": "execute_result"
    },
    {
     "data": {
      "image/png": "[encoded data removed]",
      "text/plain": [
       "<Figure size 576x432 with 1 Axes>"
      ]
     },
     "metadata": {
      "needs_background": "light"
     },
     "output_type": "display_data"
    }
   ],
   "source": [
    "sea.barplot(data[\"exang\"],a)"
   ]
  },
  {
   "cell_type": "markdown",
   "id": "59ff4566",
   "metadata": {},
   "source": [
    "##### People with exang=1 i.e. Exercise induced angina are much less likely to have heart problems"
   ]
  },
  {
   "cell_type": "markdown",
   "id": "3ea8e99c",
   "metadata": {},
   "source": [
    "### Analysing the Slope feature based on the dataset"
   ]
  },
  {
   "cell_type": "code",
   "execution_count": 38,
   "id": "e71fce60",
   "metadata": {},
   "outputs": [
    {
     "data": {
      "text/plain": [
       "array([0, 2, 1])"
      ]
     },
     "execution_count": 38,
     "metadata": {},
     "output_type": "execute_result"
    }
   ],
   "source": [
    "\n",
    "data[\"slope\"].unique()\n"
   ]
  },
  {
   "cell_type": "code",
   "execution_count": 39,
   "id": "3c471f06",
   "metadata": {},
   "outputs": [
    {
     "data": {
      "text/plain": [
       "<AxesSubplot:xlabel='slope', ylabel='target'>"
      ]
     },
     "execution_count": 39,
     "metadata": {},
     "output_type": "execute_result"
    },
    {
     "data": {
      "image/png": "[encoded data removed]",
      "text/plain": [
       "<Figure size 576x432 with 1 Axes>"
      ]
     },
     "metadata": {
      "needs_background": "light"
     },
     "output_type": "display_data"
    }
   ],
   "source": [
    "sea.barplot(data[\"slope\"],a)"
   ]
  },
  {
   "cell_type": "markdown",
   "id": "72ed0a36",
   "metadata": {},
   "source": [
    "##### We observe, that Slope '2' causes heart pain much more than Slope '0' and '1'"
   ]
  },
  {
   "cell_type": "markdown",
   "id": "a6531d27",
   "metadata": {},
   "source": [
    "### Analysing the 'ca' feature from the dataset"
   ]
  },
  {
   "cell_type": "code",
   "execution_count": 41,
   "id": "42cf028c",
   "metadata": {},
   "outputs": [
    {
     "data": {
      "text/plain": [
       "array([0, 2, 1, 3, 4])"
      ]
     },
     "execution_count": 41,
     "metadata": {},
     "output_type": "execute_result"
    }
   ],
   "source": [
    "\n",
    "#number of major vessels (0-3) colored by flourosopy\n",
    "data[\"ca\"].unique()\n"
   ]
  },
  {
   "cell_type": "code",
   "execution_count": 40,
   "id": "6cb86858",
   "metadata": {},
   "outputs": [
    {
     "data": {
      "text/plain": [
       "<AxesSubplot:xlabel='ca', ylabel='count'>"
      ]
     },
     "execution_count": 40,
     "metadata": {},
     "output_type": "execute_result"
    },
    {
     "data": {
      "image/png": "[encoded data removed]",
      "text/plain": [
       "<Figure size 576x432 with 1 Axes>"
      ]
     },
     "metadata": {
      "needs_background": "light"
     },
     "output_type": "display_data"
    }
   ],
   "source": [
    "sea.countplot(data[\"ca\"])"
   ]
  },
  {
   "cell_type": "code",
   "execution_count": 42,
   "id": "8cf42b9d",
   "metadata": {},
   "outputs": [
    {
     "data": {
      "text/plain": [
       "<AxesSubplot:xlabel='ca', ylabel='target'>"
      ]
     },
     "execution_count": 42,
     "metadata": {},
     "output_type": "execute_result"
    },
    {
     "data": {
      "image/png": "[encoded data removed]",
      "text/plain": [
       "<Figure size 576x432 with 1 Axes>"
      ]
     },
     "metadata": {
      "needs_background": "light"
     },
     "output_type": "display_data"
    }
   ],
   "source": [
    "sea.barplot(data[\"ca\"],a)"
   ]
  },
  {
   "cell_type": "markdown",
   "id": "479f460d",
   "metadata": {},
   "source": [
    "##### ca=4 has astonishingly large number of heart patients"
   ]
  },
  {
   "cell_type": "markdown",
   "id": "8e919faa",
   "metadata": {},
   "source": [
    "### Analysing the 'thal' feature from the dataset"
   ]
  },
  {
   "cell_type": "code",
   "execution_count": 43,
   "id": "c6cd67cd",
   "metadata": {},
   "outputs": [
    {
     "data": {
      "text/plain": [
       "array([1, 2, 3, 0])"
      ]
     },
     "execution_count": 43,
     "metadata": {},
     "output_type": "execute_result"
    }
   ],
   "source": [
    "\n",
    "data[\"thal\"].unique()\n"
   ]
  },
  {
   "cell_type": "code",
   "execution_count": 44,
   "id": "fa1da8c1",
   "metadata": {},
   "outputs": [
    {
     "data": {
      "text/plain": [
       "<AxesSubplot:xlabel='thal', ylabel='target'>"
      ]
     },
     "execution_count": 44,
     "metadata": {},
     "output_type": "execute_result"
    },
    {
     "data": {
      "image/png": "[encoded data removed]",
      "text/plain": [
       "<Figure size 576x432 with 1 Axes>"
      ]
     },
     "metadata": {
      "needs_background": "light"
     },
     "output_type": "display_data"
    }
   ],
   "source": [
    "sea.barplot(data[\"thal\"],a)"
   ]
  },
  {
   "cell_type": "code",
   "execution_count": 45,
   "id": "840c2661",
   "metadata": {},
   "outputs": [
    {
     "data": {
      "text/plain": [
       "<AxesSubplot:xlabel='thal', ylabel='Density'>"
      ]
     },
     "execution_count": 45,
     "metadata": {},
     "output_type": "execute_result"
    },
    {
     "data": {
      "image/png": "[encoded data removed]",
      "text/plain": [
       "<Figure size 576x432 with 1 Axes>"
      ]
     },
     "metadata": {
      "needs_background": "light"
     },
     "output_type": "display_data"
    }
   ],
   "source": [
    "sea.distplot(data[\"thal\"])"
   ]
  },
  {
   "cell_type": "markdown",
   "id": "18b29fe9",
   "metadata": {},
   "source": [
    "## IV. Train Test split of the dataset"
   ]
  },
  {
   "cell_type": "code",
   "execution_count": 7,
   "id": "5eaea461",
   "metadata": {},
   "outputs": [],
   "source": [
    "from sklearn.model_selection import train_test_split\n",
    "\n",
    "predictors = data.drop(\"target\",axis=1)\n",
    "target_data = data[\"target\"]\n",
    "\n",
    "X_train,X_test,Y_train,Y_test = train_test_split(predictors,target_data,test_size=0.20,random_state=0)"
   ]
  },
  {
   "cell_type": "code",
   "execution_count": 8,
   "id": "8d0790d4",
   "metadata": {},
   "outputs": [
    {
     "data": {
      "text/plain": [
       "(242, 13)"
      ]
     },
     "execution_count": 8,
     "metadata": {},
     "output_type": "execute_result"
    }
   ],
   "source": [
    "X_train.shape"
   ]
  },
  {
   "cell_type": "code",
   "execution_count": 49,
   "id": "d7cf6179",
   "metadata": {},
   "outputs": [
    {
     "data": {
      "text/plain": [
       "(242,)"
      ]
     },
     "execution_count": 49,
     "metadata": {},
     "output_type": "execute_result"
    }
   ],
   "source": [
    "Y_train.shape"
   ]
  },
  {
   "cell_type": "code",
   "execution_count": 50,
   "id": "2c818f07",
   "metadata": {},
   "outputs": [
    {
     "data": {
      "text/plain": [
       "(61, 13)"
      ]
     },
     "execution_count": 50,
     "metadata": {},
     "output_type": "execute_result"
    }
   ],
   "source": [
    "X_test.shape"
   ]
  },
  {
   "cell_type": "code",
   "execution_count": 51,
   "id": "158d3b2a",
   "metadata": {},
   "outputs": [
    {
     "data": {
      "text/plain": [
       "(61,)"
      ]
     },
     "execution_count": 51,
     "metadata": {},
     "output_type": "execute_result"
    }
   ],
   "source": [
    "Y_test.shape"
   ]
  },
  {
   "cell_type": "markdown",
   "id": "f2241811",
   "metadata": {},
   "source": [
    "### Model fitting into the algorithms"
   ]
  },
  {
   "cell_type": "code",
   "execution_count": 9,
   "id": "13ba3dd9",
   "metadata": {},
   "outputs": [],
   "source": [
    "from sklearn.metrics import accuracy_score"
   ]
  },
  {
   "cell_type": "markdown",
   "id": "51dc987d",
   "metadata": {},
   "source": [
    "### Logistic Regression"
   ]
  },
  {
   "cell_type": "code",
   "execution_count": 10,
   "id": "83830828",
   "metadata": {},
   "outputs": [],
   "source": [
    "from sklearn.linear_model import LogisticRegression\n",
    "\n",
    "logis = LogisticRegression()\n",
    "\n",
    "logis.fit(X_train,Y_train)\n",
    "\n",
    "Y_prediction_logis = logis.predict(X_test)"
   ]
  },
  {
   "cell_type": "code",
   "execution_count": 11,
   "id": "2b3fa340",
   "metadata": {},
   "outputs": [
    {
     "data": {
      "text/plain": [
       "(61,)"
      ]
     },
     "execution_count": 11,
     "metadata": {},
     "output_type": "execute_result"
    }
   ],
   "source": [
    "Y_prediction_logis.shape"
   ]
  },
  {
   "cell_type": "code",
   "execution_count": 12,
   "id": "7c9e3a81",
   "metadata": {},
   "outputs": [
    {
     "name": "stdout",
     "output_type": "stream",
     "text": [
      "The accuracy score achieved using Logistic Regression is: 85.25 %\n"
     ]
    }
   ],
   "source": [
    "score_of_logis = round(accuracy_score(Y_prediction_logis,Y_test)*100,2)\n",
    "\n",
    "print(\"The accuracy score achieved using Logistic Regression is: \"+str(score_of_logis)+\" %\")"
   ]
  },
  {
   "cell_type": "markdown",
   "id": "b6572712",
   "metadata": {},
   "source": [
    "### Naive Bayes"
   ]
  },
  {
   "cell_type": "code",
   "execution_count": 15,
   "id": "e1cb9c95",
   "metadata": {},
   "outputs": [],
   "source": [
    "from sklearn.naive_bayes import GaussianNB\n",
    "\n",
    "gaussianb = GaussianNB()\n",
    "\n",
    "gaussianb.fit(X_train,Y_train)\n",
    "\n",
    "Y_prediction_gaussianb = gaussianb.predict(X_test)"
   ]
  },
  {
   "cell_type": "code",
   "execution_count": 16,
   "id": "72492f92",
   "metadata": {},
   "outputs": [
    {
     "name": "stdout",
     "output_type": "stream",
     "text": [
      "The accuracy score achieved using Naive Bayes is: 85.25 %\n"
     ]
    }
   ],
   "source": [
    "score_of_gaussianb = round(accuracy_score(Y_prediction_gaussianb,Y_test)*100,2)\n",
    "\n",
    "print(\"The accuracy score achieved using Naive Bayes is: \"+str(score_of_gaussianb)+\" %\")"
   ]
  },
  {
   "cell_type": "markdown",
   "id": "fdc0bb9b",
   "metadata": {},
   "source": [
    "## SVM"
   ]
  },
  {
   "cell_type": "code",
   "execution_count": 17,
   "id": "d3b89d11",
   "metadata": {},
   "outputs": [],
   "source": [
    "from sklearn import svm\n",
    "\n",
    "sv = svm.SVC(kernel='linear')\n",
    "\n",
    "sv.fit(X_train, Y_train)\n",
    "\n",
    "Y_prediction_svm = sv.predict(X_test) "
   ]
  },
  {
   "cell_type": "code",
   "execution_count": 18,
   "id": "8c11cfaa",
   "metadata": {},
   "outputs": [
    {
     "data": {
      "text/plain": [
       "(61,)"
      ]
     },
     "execution_count": 18,
     "metadata": {},
     "output_type": "execute_result"
    }
   ],
   "source": [
    "Y_prediction_svm.shape"
   ]
  },
  {
   "cell_type": "code",
   "execution_count": 19,
   "id": "7de346c2",
   "metadata": {},
   "outputs": [
    {
     "name": "stdout",
     "output_type": "stream",
     "text": [
      "The accuracy score achieved using Linear SVM is: 81.97 %\n"
     ]
    }
   ],
   "source": [
    "score_of_svm = round(accuracy_score(Y_prediction_svm,Y_test)*100,2)\n",
    "\n",
    "print(\"The accuracy score achieved using Linear SVM is: \"+str(score_of_svm)+\" %\")"
   ]
  },
  {
   "cell_type": "markdown",
   "id": "8a59578d",
   "metadata": {},
   "source": [
    "## K Nearest Neighbors "
   ]
  },
  {
   "cell_type": "code",
   "execution_count": 20,
   "id": "2c6d36e9",
   "metadata": {},
   "outputs": [],
   "source": [
    "from sklearn.neighbors import KNeighborsClassifier\n",
    "\n",
    "kneighborsclassifier = KNeighborsClassifier(n_neighbors=7)\n",
    "kneighborsclassifier.fit(X_train,Y_train)\n",
    "Y_prediction_kneighborsclassifier=kneighborsclassifier.predict(X_test)"
   ]
  },
  {
   "cell_type": "code",
   "execution_count": 21,
   "id": "e4aeee0f",
   "metadata": {},
   "outputs": [
    {
     "data": {
      "text/plain": [
       "(61,)"
      ]
     },
     "execution_count": 21,
     "metadata": {},
     "output_type": "execute_result"
    }
   ],
   "source": [
    "Y_prediction_kneighborsclassifier.shape"
   ]
  },
  {
   "cell_type": "code",
   "execution_count": 22,
   "id": "ab8fa95f",
   "metadata": {},
   "outputs": [
    {
     "name": "stdout",
     "output_type": "stream",
     "text": [
      "The accuracy score achieved using KNN is: 67.21 %\n"
     ]
    }
   ],
   "source": [
    "score_of_kneighborsclassifier = round(accuracy_score(Y_prediction_kneighborsclassifier,Y_test)*100,2)\n",
    "\n",
    "print(\"The accuracy score achieved using KNN is: \"+str(score_of_kneighborsclassifier)+\" %\")"
   ]
  },
  {
   "cell_type": "markdown",
   "id": "9293b138",
   "metadata": {},
   "source": [
    "## Decision Tree"
   ]
  },
  {
   "cell_type": "code",
   "execution_count": 25,
   "id": "ee3eede8",
   "metadata": {},
   "outputs": [],
   "source": [
    "from sklearn.tree import DecisionTreeClassifier\n",
    "\n",
    "maximum_accuracy = 0\n",
    "\n",
    "\n",
    "for x in range(200):\n",
    "    decisiontree = DecisionTreeClassifier(random_state=x)\n",
    "    decisiontree.fit(X_train,Y_train)\n",
    "    Y_prediction_decisiontree = decisiontree.predict(X_test)\n",
    "    current_accuracy = round(accuracy_score(Y_prediction_decisiontree,Y_test)*100,2)\n",
    "    if(current_accuracy>maximum_accuracy):\n",
    "        maximum_accuracy = current_accuracy\n",
    "        best_x = x\n",
    "        \n",
    "#print(max_accuracy)\n",
    "#print(best_x)\n",
    "\n",
    "\n",
    "decisiontree = DecisionTreeClassifier(random_state=best_x)\n",
    "decisiontree.fit(X_train,Y_train)\n",
    "Y_prediction_decisiontree = decisiontree.predict(X_test)"
   ]
  },
  {
   "cell_type": "code",
   "execution_count": 26,
   "id": "f0f658a7",
   "metadata": {},
   "outputs": [
    {
     "name": "stdout",
     "output_type": "stream",
     "text": [
      "(61,)\n"
     ]
    }
   ],
   "source": [
    "print(Y_prediction_decisiontree.shape)"
   ]
  },
  {
   "cell_type": "code",
   "execution_count": 28,
   "id": "ff08e677",
   "metadata": {},
   "outputs": [
    {
     "name": "stdout",
     "output_type": "stream",
     "text": [
      "The accuracy score achieved using Decision Tree is: 81.97 %\n"
     ]
    }
   ],
   "source": [
    "score_of_decisiontree = round(accuracy_score(Y_prediction_decisiontree,Y_test)*100,2)\n",
    "\n",
    "print(\"The accuracy score achieved using Decision Tree is: \"+str(score_of_decisiontree)+\" %\")"
   ]
  },
  {
   "cell_type": "markdown",
   "id": "872050d9",
   "metadata": {},
   "source": [
    "## Random Forest"
   ]
  },
  {
   "cell_type": "code",
   "execution_count": 31,
   "id": "f24f1fa8",
   "metadata": {},
   "outputs": [],
   "source": [
    "from sklearn.ensemble import RandomForestClassifier\n",
    "\n",
    "maximum_accuracy = 0\n",
    "\n",
    "\n",
    "for x in range(2000):\n",
    "    random_forest = RandomForestClassifier(random_state=x)\n",
    "    random_forest.fit(X_train,Y_train)\n",
    "    Y_prediction_random_forest = random_forest.predict(X_test)\n",
    "    current_accuracy = round(accuracy_score(Y_prediction_random_forest,Y_test)*100,2)\n",
    "    if(current_accuracy>maximum_accuracy):\n",
    "        maximum_accuracy = current_accuracy\n",
    "        best_x = x\n",
    "        \n",
    "#print(max_accuracy)\n",
    "#print(best_x)\n",
    "\n",
    "random_forest = RandomForestClassifier(random_state=best_x)\n",
    "random_forest.fit(X_train,Y_train)\n",
    "Y_prediction_random_forest = random_forest.predict(X_test)"
   ]
  },
  {
   "cell_type": "code",
   "execution_count": 32,
   "id": "9d86c754",
   "metadata": {},
   "outputs": [
    {
     "data": {
      "text/plain": [
       "(61,)"
      ]
     },
     "execution_count": 32,
     "metadata": {},
     "output_type": "execute_result"
    }
   ],
   "source": [
    "Y_prediction_random_forest.shape"
   ]
  },
  {
   "cell_type": "code",
   "execution_count": 33,
   "id": "54cb1880",
   "metadata": {},
   "outputs": [
    {
     "name": "stdout",
     "output_type": "stream",
     "text": [
      "The accuracy score achieved using Decision Tree is: 90.16 %\n"
     ]
    }
   ],
   "source": [
    "score_of_random_forest = round(accuracy_score(Y_prediction_random_forest,Y_test)*100,2)\n",
    "\n",
    "print(\"The accuracy score achieved using Decision Tree is: \"+str(score_of_random_forest)+\" %\")"
   ]
  },
  {
   "cell_type": "markdown",
   "id": "f70f2f46",
   "metadata": {},
   "source": [
    "## XGBoost"
   ]
  },
  {
   "cell_type": "code",
   "execution_count": 34,
   "id": "94edf984",
   "metadata": {},
   "outputs": [],
   "source": [
    "import xgboost as xgbmodel\n",
    "\n",
    "xgb = xgbmodel.XGBClassifier(objective=\"binary:logistic\", random_state=42)\n",
    "xgb.fit(X_train, Y_train)\n",
    "\n",
    "Y_prediction_xgbmodel = xgb.predict(X_test)"
   ]
  },
  {
   "cell_type": "code",
   "execution_count": 35,
   "id": "9a2b13c8",
   "metadata": {},
   "outputs": [
    {
     "data": {
      "text/plain": [
       "(61,)"
      ]
     },
     "execution_count": 35,
     "metadata": {},
     "output_type": "execute_result"
    }
   ],
   "source": [
    "Y_prediction_xgbmodel.shape"
   ]
  },
  {
   "cell_type": "code",
   "execution_count": 36,
   "id": "8e582ece",
   "metadata": {},
   "outputs": [
    {
     "name": "stdout",
     "output_type": "stream",
     "text": [
      "The accuracy score achieved using XGBoost is: 85.25 %\n"
     ]
    }
   ],
   "source": [
    "score_of_xgb = round(accuracy_score(Y_prediction_xgbmodel,Y_test)*100,2)\n",
    "\n",
    "print(\"The accuracy score achieved using XGBoost is: \"+str(score_of_xgb)+\" %\")"
   ]
  },
  {
   "cell_type": "markdown",
   "id": "f8de41d6",
   "metadata": {},
   "source": [
    "## Neural Network"
   ]
  },
  {
   "cell_type": "code",
   "execution_count": 38,
   "id": "00ced060",
   "metadata": {},
   "outputs": [
    {
     "name": "stderr",
     "output_type": "stream",
     "text": [
      "2022-05-19 13:09:33.943529: W tensorflow/stream_executor/platform/default/dso_loader.cc:64] Could not load dynamic library 'libcudart.so.11.0'; dlerror: libcudart.so.11.0: cannot open shared object file: No such file or directory\n",
      "2022-05-19 13:09:33.943579: I tensorflow/stream_executor/cuda/cudart_stub.cc:29] Ignore above cudart dlerror if you do not have a GPU set up on your machine.\n"
     ]
    }
   ],
   "source": [
    "from keras.models import Sequential\n",
    "from keras.layers import Dense"
   ]
  },
  {
   "cell_type": "code",
   "execution_count": 39,
   "id": "135d7424",
   "metadata": {},
   "outputs": [
    {
     "name": "stderr",
     "output_type": "stream",
     "text": [
      "2022-05-19 13:09:50.140233: W tensorflow/stream_executor/platform/default/dso_loader.cc:64] Could not load dynamic library 'libcuda.so.1'; dlerror: libcuda.so.1: cannot open shared object file: No such file or directory\n",
      "2022-05-19 13:09:50.140271: W tensorflow/stream_executor/cuda/cuda_driver.cc:269] failed call to cuInit: UNKNOWN ERROR (303)\n",
      "2022-05-19 13:09:50.140293: I tensorflow/stream_executor/cuda/cuda_diagnostics.cc:156] kernel driver does not appear to be running on this host (shreyansh-VirtualBox): /proc/driver/nvidia/version does not exist\n",
      "2022-05-19 13:09:50.160795: I tensorflow/core/platform/cpu_feature_guard.cc:151] This TensorFlow binary is optimized with oneAPI Deep Neural Network Library (oneDNN) to use the following CPU instructions in performance-critical operations:  AVX2\n",
      "To enable them in other operations, rebuild TensorFlow with the appropriate compiler flags.\n"
     ]
    }
   ],
   "source": [
    "# https://stats.stackexchange.com/a/136542 helped a lot in avoiding overfitting\n",
    "\n",
    "sequential_model = Sequential()\n",
    "sequential_model.add(Dense(11,activation='relu',input_dim=13))\n",
    "sequential_model.add(Dense(1,activation='sigmoid'))\n",
    "\n",
    "sequential_model.compile(loss='binary_crossentropy',optimizer='adam',metrics=['accuracy'])"
   ]
  },
  {
   "cell_type": "code",
   "execution_count": 40,
   "id": "3a19f2eb",
   "metadata": {},
   "outputs": [
    {
     "name": "stdout",
     "output_type": "stream",
     "text": [
      "Epoch 1/300\n",
      "8/8 [==============================] - 2s 7ms/step - loss: 52.8289 - accuracy: 0.4587\n",
      "Epoch 2/300\n",
      "8/8 [==============================] - 0s 8ms/step - loss: 44.7879 - accuracy: 0.4587\n",
      "Epoch 3/300\n",
      "8/8 [==============================] - 0s 7ms/step - loss: 36.5537 - accuracy: 0.4587\n",
      "Epoch 4/300\n",
      "8/8 [==============================] - 0s 9ms/step - loss: 26.4499 - accuracy: 0.4587\n",
      "Epoch 5/300\n",
      "8/8 [==============================] - 0s 6ms/step - loss: 15.7375 - accuracy: 0.4421\n",
      "Epoch 6/300\n",
      "8/8 [==============================] - 0s 7ms/step - loss: 7.2293 - accuracy: 0.3471\n",
      "Epoch 7/300\n",
      "8/8 [==============================] - 0s 6ms/step - loss: 6.7505 - accuracy: 0.3926\n",
      "Epoch 8/300\n",
      "8/8 [==============================] - 0s 6ms/step - loss: 6.3942 - accuracy: 0.4091\n",
      "Epoch 9/300\n",
      "8/8 [==============================] - 0s 6ms/step - loss: 5.2479 - accuracy: 0.3554\n",
      "Epoch 10/300\n",
      "8/8 [==============================] - 0s 6ms/step - loss: 5.1584 - accuracy: 0.3223\n",
      "Epoch 11/300\n",
      "8/8 [==============================] - 0s 7ms/step - loss: 4.8118 - accuracy: 0.3264\n",
      "Epoch 12/300\n",
      "8/8 [==============================] - 0s 5ms/step - loss: 4.5666 - accuracy: 0.3471\n",
      "Epoch 13/300\n",
      "8/8 [==============================] - 0s 5ms/step - loss: 4.2933 - accuracy: 0.3636\n",
      "Epoch 14/300\n",
      "8/8 [==============================] - 0s 5ms/step - loss: 4.0938 - accuracy: 0.3388\n",
      "Epoch 15/300\n",
      "8/8 [==============================] - 0s 5ms/step - loss: 3.8742 - accuracy: 0.3636\n",
      "Epoch 16/300\n",
      "8/8 [==============================] - 0s 5ms/step - loss: 3.6527 - accuracy: 0.3719\n",
      "Epoch 17/300\n",
      "8/8 [==============================] - 0s 4ms/step - loss: 3.4038 - accuracy: 0.3636\n",
      "Epoch 18/300\n",
      "8/8 [==============================] - 0s 5ms/step - loss: 3.1809 - accuracy: 0.3760\n",
      "Epoch 19/300\n",
      "8/8 [==============================] - 0s 5ms/step - loss: 2.9615 - accuracy: 0.3926\n",
      "Epoch 20/300\n",
      "8/8 [==============================] - 0s 5ms/step - loss: 2.7863 - accuracy: 0.3926\n",
      "Epoch 21/300\n",
      "8/8 [==============================] - 0s 3ms/step - loss: 2.5448 - accuracy: 0.4008\n",
      "Epoch 22/300\n",
      "8/8 [==============================] - 0s 5ms/step - loss: 2.3618 - accuracy: 0.4091\n",
      "Epoch 23/300\n",
      "8/8 [==============================] - 0s 5ms/step - loss: 2.1588 - accuracy: 0.4215\n",
      "Epoch 24/300\n",
      "8/8 [==============================] - 0s 8ms/step - loss: 1.9621 - accuracy: 0.4215\n",
      "Epoch 25/300\n",
      "8/8 [==============================] - 0s 5ms/step - loss: 1.7898 - accuracy: 0.4504\n",
      "Epoch 26/300\n",
      "8/8 [==============================] - 0s 6ms/step - loss: 1.6165 - accuracy: 0.4504\n",
      "Epoch 27/300\n",
      "8/8 [==============================] - 0s 11ms/step - loss: 1.4659 - accuracy: 0.4752\n",
      "Epoch 28/300\n",
      "8/8 [==============================] - 0s 9ms/step - loss: 1.3345 - accuracy: 0.4959\n",
      "Epoch 29/300\n",
      "8/8 [==============================] - 0s 8ms/step - loss: 1.2440 - accuracy: 0.5413\n",
      "Epoch 30/300\n",
      "8/8 [==============================] - 0s 8ms/step - loss: 1.0826 - accuracy: 0.5661\n",
      "Epoch 31/300\n",
      "8/8 [==============================] - 0s 7ms/step - loss: 0.9971 - accuracy: 0.5785\n",
      "Epoch 32/300\n",
      "8/8 [==============================] - 0s 5ms/step - loss: 0.9862 - accuracy: 0.5950\n",
      "Epoch 33/300\n",
      "8/8 [==============================] - 0s 9ms/step - loss: 0.8726 - accuracy: 0.6322\n",
      "Epoch 34/300\n",
      "8/8 [==============================] - 0s 7ms/step - loss: 0.7897 - accuracy: 0.6405\n",
      "Epoch 35/300\n",
      "8/8 [==============================] - 0s 7ms/step - loss: 0.7491 - accuracy: 0.6777\n",
      "Epoch 36/300\n",
      "8/8 [==============================] - 0s 7ms/step - loss: 0.7143 - accuracy: 0.6570\n",
      "Epoch 37/300\n",
      "8/8 [==============================] - 0s 8ms/step - loss: 0.6833 - accuracy: 0.6983\n",
      "Epoch 38/300\n",
      "8/8 [==============================] - 0s 7ms/step - loss: 0.6494 - accuracy: 0.6818\n",
      "Epoch 39/300\n",
      "8/8 [==============================] - 0s 7ms/step - loss: 0.6356 - accuracy: 0.7273\n",
      "Epoch 40/300\n",
      "8/8 [==============================] - 0s 7ms/step - loss: 0.5920 - accuracy: 0.7149\n",
      "Epoch 41/300\n",
      "8/8 [==============================] - 0s 10ms/step - loss: 0.5807 - accuracy: 0.7190\n",
      "Epoch 42/300\n",
      "8/8 [==============================] - 0s 9ms/step - loss: 0.5648 - accuracy: 0.7190\n",
      "Epoch 43/300\n",
      "8/8 [==============================] - 0s 9ms/step - loss: 0.5630 - accuracy: 0.7273\n",
      "Epoch 44/300\n",
      "8/8 [==============================] - 0s 7ms/step - loss: 0.5374 - accuracy: 0.7438\n",
      "Epoch 45/300\n",
      "8/8 [==============================] - 0s 7ms/step - loss: 0.5396 - accuracy: 0.7397\n",
      "Epoch 46/300\n",
      "8/8 [==============================] - 0s 5ms/step - loss: 0.5186 - accuracy: 0.7562\n",
      "Epoch 47/300\n",
      "8/8 [==============================] - 0s 5ms/step - loss: 0.5100 - accuracy: 0.7686\n",
      "Epoch 48/300\n",
      "8/8 [==============================] - 0s 5ms/step - loss: 0.5007 - accuracy: 0.7521\n",
      "Epoch 49/300\n",
      "8/8 [==============================] - 0s 8ms/step - loss: 0.4936 - accuracy: 0.7810\n",
      "Epoch 50/300\n",
      "8/8 [==============================] - 0s 5ms/step - loss: 0.5004 - accuracy: 0.7727\n",
      "Epoch 51/300\n",
      "8/8 [==============================] - 0s 7ms/step - loss: 0.4840 - accuracy: 0.7810\n",
      "Epoch 52/300\n",
      "8/8 [==============================] - 0s 5ms/step - loss: 0.4890 - accuracy: 0.7686\n",
      "Epoch 53/300\n",
      "8/8 [==============================] - 0s 7ms/step - loss: 0.4879 - accuracy: 0.7769\n",
      "Epoch 54/300\n",
      "8/8 [==============================] - 0s 6ms/step - loss: 0.4680 - accuracy: 0.7810\n",
      "Epoch 55/300\n",
      "8/8 [==============================] - 0s 6ms/step - loss: 0.4842 - accuracy: 0.7810\n",
      "Epoch 56/300\n",
      "8/8 [==============================] - 0s 7ms/step - loss: 0.4919 - accuracy: 0.7810\n",
      "Epoch 57/300\n",
      "8/8 [==============================] - 0s 7ms/step - loss: 0.4974 - accuracy: 0.7438\n",
      "Epoch 58/300\n",
      "8/8 [==============================] - 0s 6ms/step - loss: 0.5188 - accuracy: 0.7686\n",
      "Epoch 59/300\n",
      "8/8 [==============================] - 0s 6ms/step - loss: 0.4781 - accuracy: 0.7645\n",
      "Epoch 60/300\n",
      "8/8 [==============================] - 0s 6ms/step - loss: 0.4666 - accuracy: 0.7975\n",
      "Epoch 61/300\n",
      "8/8 [==============================] - 0s 7ms/step - loss: 0.4558 - accuracy: 0.7975\n",
      "Epoch 62/300\n",
      "8/8 [==============================] - 0s 7ms/step - loss: 0.4693 - accuracy: 0.7893\n",
      "Epoch 63/300\n",
      "8/8 [==============================] - 0s 5ms/step - loss: 0.4689 - accuracy: 0.7893\n",
      "Epoch 64/300\n",
      "8/8 [==============================] - 0s 7ms/step - loss: 0.4488 - accuracy: 0.8017\n",
      "Epoch 65/300\n",
      "8/8 [==============================] - 0s 6ms/step - loss: 0.4426 - accuracy: 0.8017\n",
      "Epoch 66/300\n",
      "8/8 [==============================] - 0s 5ms/step - loss: 0.4388 - accuracy: 0.7975\n",
      "Epoch 67/300\n",
      "8/8 [==============================] - 0s 4ms/step - loss: 0.4474 - accuracy: 0.7893\n",
      "Epoch 68/300\n",
      "8/8 [==============================] - 0s 6ms/step - loss: 0.4958 - accuracy: 0.7893\n",
      "Epoch 69/300\n",
      "8/8 [==============================] - 0s 5ms/step - loss: 0.4533 - accuracy: 0.7810\n",
      "Epoch 70/300\n",
      "8/8 [==============================] - 0s 7ms/step - loss: 0.4924 - accuracy: 0.7521\n",
      "Epoch 71/300\n",
      "8/8 [==============================] - 0s 9ms/step - loss: 0.4885 - accuracy: 0.7727\n",
      "Epoch 72/300\n",
      "8/8 [==============================] - 0s 6ms/step - loss: 0.4399 - accuracy: 0.7851\n",
      "Epoch 73/300\n",
      "8/8 [==============================] - 0s 6ms/step - loss: 0.4430 - accuracy: 0.8099\n",
      "Epoch 74/300\n",
      "8/8 [==============================] - 0s 6ms/step - loss: 0.4268 - accuracy: 0.7975\n",
      "Epoch 75/300\n",
      "8/8 [==============================] - 0s 5ms/step - loss: 0.4281 - accuracy: 0.8140\n",
      "Epoch 76/300\n",
      "8/8 [==============================] - 0s 6ms/step - loss: 0.4265 - accuracy: 0.8099\n",
      "Epoch 77/300\n",
      "8/8 [==============================] - 0s 5ms/step - loss: 0.4245 - accuracy: 0.8099\n",
      "Epoch 78/300\n",
      "8/8 [==============================] - 0s 5ms/step - loss: 0.4285 - accuracy: 0.8058\n",
      "Epoch 79/300\n",
      "8/8 [==============================] - 0s 4ms/step - loss: 0.4208 - accuracy: 0.8182\n",
      "Epoch 80/300\n",
      "8/8 [==============================] - 0s 5ms/step - loss: 0.4366 - accuracy: 0.7851\n",
      "Epoch 81/300\n",
      "8/8 [==============================] - 0s 5ms/step - loss: 0.4195 - accuracy: 0.8099\n",
      "Epoch 82/300\n",
      "8/8 [==============================] - 0s 4ms/step - loss: 0.4261 - accuracy: 0.8182\n",
      "Epoch 83/300\n",
      "8/8 [==============================] - 0s 2ms/step - loss: 0.4177 - accuracy: 0.7975\n",
      "Epoch 84/300\n"
     ]
    },
    {
     "name": "stdout",
     "output_type": "stream",
     "text": [
      "8/8 [==============================] - 0s 4ms/step - loss: 0.4128 - accuracy: 0.8140\n",
      "Epoch 85/300\n",
      "8/8 [==============================] - 0s 6ms/step - loss: 0.4269 - accuracy: 0.7893\n",
      "Epoch 86/300\n",
      "8/8 [==============================] - 0s 6ms/step - loss: 0.4242 - accuracy: 0.8099\n",
      "Epoch 87/300\n",
      "8/8 [==============================] - 0s 5ms/step - loss: 0.4124 - accuracy: 0.8182\n",
      "Epoch 88/300\n",
      "8/8 [==============================] - 0s 5ms/step - loss: 0.4141 - accuracy: 0.8264\n",
      "Epoch 89/300\n",
      "8/8 [==============================] - 0s 5ms/step - loss: 0.4127 - accuracy: 0.8264\n",
      "Epoch 90/300\n",
      "8/8 [==============================] - 0s 9ms/step - loss: 0.4188 - accuracy: 0.8058\n",
      "Epoch 91/300\n",
      "8/8 [==============================] - 0s 6ms/step - loss: 0.4191 - accuracy: 0.7934\n",
      "Epoch 92/300\n",
      "8/8 [==============================] - 0s 4ms/step - loss: 0.4189 - accuracy: 0.8058\n",
      "Epoch 93/300\n",
      "8/8 [==============================] - 0s 6ms/step - loss: 0.4147 - accuracy: 0.8182\n",
      "Epoch 94/300\n",
      "8/8 [==============================] - 0s 5ms/step - loss: 0.4235 - accuracy: 0.8099\n",
      "Epoch 95/300\n",
      "8/8 [==============================] - 0s 9ms/step - loss: 0.4153 - accuracy: 0.8140\n",
      "Epoch 96/300\n",
      "8/8 [==============================] - 0s 6ms/step - loss: 0.4104 - accuracy: 0.8223\n",
      "Epoch 97/300\n",
      "8/8 [==============================] - 0s 5ms/step - loss: 0.4160 - accuracy: 0.7975\n",
      "Epoch 98/300\n",
      "8/8 [==============================] - 0s 6ms/step - loss: 0.4354 - accuracy: 0.7934\n",
      "Epoch 99/300\n",
      "8/8 [==============================] - 0s 5ms/step - loss: 0.4095 - accuracy: 0.8058\n",
      "Epoch 100/300\n",
      "8/8 [==============================] - 0s 4ms/step - loss: 0.4108 - accuracy: 0.8182\n",
      "Epoch 101/300\n",
      "8/8 [==============================] - 0s 4ms/step - loss: 0.4099 - accuracy: 0.8182\n",
      "Epoch 102/300\n",
      "8/8 [==============================] - 0s 6ms/step - loss: 0.4088 - accuracy: 0.8140\n",
      "Epoch 103/300\n",
      "8/8 [==============================] - 0s 5ms/step - loss: 0.4032 - accuracy: 0.8264\n",
      "Epoch 104/300\n",
      "8/8 [==============================] - 0s 7ms/step - loss: 0.4033 - accuracy: 0.8223\n",
      "Epoch 105/300\n",
      "8/8 [==============================] - 0s 5ms/step - loss: 0.4361 - accuracy: 0.7975\n",
      "Epoch 106/300\n",
      "8/8 [==============================] - 0s 5ms/step - loss: 0.4272 - accuracy: 0.7975\n",
      "Epoch 107/300\n",
      "8/8 [==============================] - 0s 5ms/step - loss: 0.4377 - accuracy: 0.7769\n",
      "Epoch 108/300\n",
      "8/8 [==============================] - 0s 4ms/step - loss: 0.4007 - accuracy: 0.8223\n",
      "Epoch 109/300\n",
      "8/8 [==============================] - 0s 5ms/step - loss: 0.4163 - accuracy: 0.7893\n",
      "Epoch 110/300\n",
      "8/8 [==============================] - 0s 5ms/step - loss: 0.4096 - accuracy: 0.8182\n",
      "Epoch 111/300\n",
      "8/8 [==============================] - 0s 4ms/step - loss: 0.4009 - accuracy: 0.8223\n",
      "Epoch 112/300\n",
      "8/8 [==============================] - 0s 5ms/step - loss: 0.4048 - accuracy: 0.8099\n",
      "Epoch 113/300\n",
      "8/8 [==============================] - 0s 8ms/step - loss: 0.4134 - accuracy: 0.8140\n",
      "Epoch 114/300\n",
      "8/8 [==============================] - 0s 6ms/step - loss: 0.4128 - accuracy: 0.8058\n",
      "Epoch 115/300\n",
      "8/8 [==============================] - 0s 4ms/step - loss: 0.4361 - accuracy: 0.7934\n",
      "Epoch 116/300\n",
      "8/8 [==============================] - 0s 4ms/step - loss: 0.3951 - accuracy: 0.8223\n",
      "Epoch 117/300\n",
      "8/8 [==============================] - 0s 5ms/step - loss: 0.4147 - accuracy: 0.8099\n",
      "Epoch 118/300\n",
      "8/8 [==============================] - 0s 5ms/step - loss: 0.4187 - accuracy: 0.8099\n",
      "Epoch 119/300\n",
      "8/8 [==============================] - 0s 5ms/step - loss: 0.4630 - accuracy: 0.7603\n",
      "Epoch 120/300\n",
      "8/8 [==============================] - 0s 5ms/step - loss: 0.5449 - accuracy: 0.7851\n",
      "Epoch 121/300\n",
      "8/8 [==============================] - 0s 6ms/step - loss: 0.4999 - accuracy: 0.7645\n",
      "Epoch 122/300\n",
      "8/8 [==============================] - 0s 5ms/step - loss: 0.4159 - accuracy: 0.8099\n",
      "Epoch 123/300\n",
      "8/8 [==============================] - 0s 5ms/step - loss: 0.4408 - accuracy: 0.8099\n",
      "Epoch 124/300\n",
      "8/8 [==============================] - 0s 6ms/step - loss: 0.4503 - accuracy: 0.7893\n",
      "Epoch 125/300\n",
      "8/8 [==============================] - 0s 6ms/step - loss: 0.3998 - accuracy: 0.8264\n",
      "Epoch 126/300\n",
      "8/8 [==============================] - 0s 8ms/step - loss: 0.4019 - accuracy: 0.8264\n",
      "Epoch 127/300\n",
      "8/8 [==============================] - 0s 6ms/step - loss: 0.3936 - accuracy: 0.8306\n",
      "Epoch 128/300\n",
      "8/8 [==============================] - 0s 6ms/step - loss: 0.3968 - accuracy: 0.8140\n",
      "Epoch 129/300\n",
      "8/8 [==============================] - 0s 6ms/step - loss: 0.3933 - accuracy: 0.8182\n",
      "Epoch 130/300\n",
      "8/8 [==============================] - 0s 5ms/step - loss: 0.4257 - accuracy: 0.7934\n",
      "Epoch 131/300\n",
      "8/8 [==============================] - 0s 6ms/step - loss: 0.3964 - accuracy: 0.8264\n",
      "Epoch 132/300\n",
      "8/8 [==============================] - 0s 5ms/step - loss: 0.4073 - accuracy: 0.8264\n",
      "Epoch 133/300\n",
      "8/8 [==============================] - 0s 6ms/step - loss: 0.3916 - accuracy: 0.8182\n",
      "Epoch 134/300\n",
      "8/8 [==============================] - 0s 5ms/step - loss: 0.4160 - accuracy: 0.7975\n",
      "Epoch 135/300\n",
      "8/8 [==============================] - 0s 7ms/step - loss: 0.4029 - accuracy: 0.8223\n",
      "Epoch 136/300\n",
      "8/8 [==============================] - 0s 6ms/step - loss: 0.3966 - accuracy: 0.8306\n",
      "Epoch 137/300\n",
      "8/8 [==============================] - 0s 7ms/step - loss: 0.3958 - accuracy: 0.8223\n",
      "Epoch 138/300\n",
      "8/8 [==============================] - 0s 6ms/step - loss: 0.3911 - accuracy: 0.8182\n",
      "Epoch 139/300\n",
      "8/8 [==============================] - 0s 6ms/step - loss: 0.4084 - accuracy: 0.8264\n",
      "Epoch 140/300\n",
      "8/8 [==============================] - 0s 6ms/step - loss: 0.3861 - accuracy: 0.8306\n",
      "Epoch 141/300\n",
      "8/8 [==============================] - 0s 5ms/step - loss: 0.3841 - accuracy: 0.8347\n",
      "Epoch 142/300\n",
      "8/8 [==============================] - 0s 5ms/step - loss: 0.3846 - accuracy: 0.8347\n",
      "Epoch 143/300\n",
      "8/8 [==============================] - 0s 6ms/step - loss: 0.3882 - accuracy: 0.8430\n",
      "Epoch 144/300\n",
      "8/8 [==============================] - 0s 6ms/step - loss: 0.3940 - accuracy: 0.8182\n",
      "Epoch 145/300\n",
      "8/8 [==============================] - 0s 5ms/step - loss: 0.4013 - accuracy: 0.8099\n",
      "Epoch 146/300\n",
      "8/8 [==============================] - 0s 6ms/step - loss: 0.3998 - accuracy: 0.8058\n",
      "Epoch 147/300\n",
      "8/8 [==============================] - 0s 5ms/step - loss: 0.4293 - accuracy: 0.7810\n",
      "Epoch 148/300\n",
      "8/8 [==============================] - 0s 5ms/step - loss: 0.4047 - accuracy: 0.7893\n",
      "Epoch 149/300\n",
      "8/8 [==============================] - 0s 5ms/step - loss: 0.4167 - accuracy: 0.8099\n",
      "Epoch 150/300\n",
      "8/8 [==============================] - 0s 6ms/step - loss: 0.4053 - accuracy: 0.8099\n",
      "Epoch 151/300\n",
      "8/8 [==============================] - 0s 5ms/step - loss: 0.3987 - accuracy: 0.8306\n",
      "Epoch 152/300\n",
      "8/8 [==============================] - 0s 4ms/step - loss: 0.4122 - accuracy: 0.8017\n",
      "Epoch 153/300\n",
      "8/8 [==============================] - 0s 5ms/step - loss: 0.3837 - accuracy: 0.8388\n",
      "Epoch 154/300\n",
      "8/8 [==============================] - 0s 2ms/step - loss: 0.3841 - accuracy: 0.8388\n",
      "Epoch 155/300\n",
      "8/8 [==============================] - 0s 4ms/step - loss: 0.3858 - accuracy: 0.8388\n",
      "Epoch 156/300\n",
      "8/8 [==============================] - 0s 5ms/step - loss: 0.3831 - accuracy: 0.8306\n",
      "Epoch 157/300\n",
      "8/8 [==============================] - 0s 5ms/step - loss: 0.4017 - accuracy: 0.8347\n",
      "Epoch 158/300\n",
      "8/8 [==============================] - 0s 5ms/step - loss: 0.3883 - accuracy: 0.8140\n",
      "Epoch 159/300\n",
      "8/8 [==============================] - 0s 5ms/step - loss: 0.3992 - accuracy: 0.8182\n",
      "Epoch 160/300\n",
      "8/8 [==============================] - 0s 5ms/step - loss: 0.4011 - accuracy: 0.8099\n",
      "Epoch 161/300\n",
      "8/8 [==============================] - 0s 6ms/step - loss: 0.3982 - accuracy: 0.8140\n",
      "Epoch 162/300\n",
      "8/8 [==============================] - 0s 6ms/step - loss: 0.3841 - accuracy: 0.8388\n",
      "Epoch 163/300\n",
      "8/8 [==============================] - 0s 5ms/step - loss: 0.4097 - accuracy: 0.7934\n",
      "Epoch 164/300\n",
      "8/8 [==============================] - 0s 6ms/step - loss: 0.3797 - accuracy: 0.8306\n",
      "Epoch 165/300\n",
      "8/8 [==============================] - 0s 11ms/step - loss: 0.3861 - accuracy: 0.8347\n",
      "Epoch 166/300\n",
      "8/8 [==============================] - 0s 12ms/step - loss: 0.3820 - accuracy: 0.8347\n",
      "Epoch 167/300\n"
     ]
    },
    {
     "name": "stdout",
     "output_type": "stream",
     "text": [
      "8/8 [==============================] - 0s 6ms/step - loss: 0.3841 - accuracy: 0.8512\n",
      "Epoch 168/300\n",
      "8/8 [==============================] - 0s 5ms/step - loss: 0.3873 - accuracy: 0.8306\n",
      "Epoch 169/300\n",
      "8/8 [==============================] - 0s 6ms/step - loss: 0.3812 - accuracy: 0.8264\n",
      "Epoch 170/300\n",
      "8/8 [==============================] - 0s 6ms/step - loss: 0.3887 - accuracy: 0.8223\n",
      "Epoch 171/300\n",
      "8/8 [==============================] - 0s 5ms/step - loss: 0.3920 - accuracy: 0.8223\n",
      "Epoch 172/300\n",
      "8/8 [==============================] - 0s 6ms/step - loss: 0.3852 - accuracy: 0.8471\n",
      "Epoch 173/300\n",
      "8/8 [==============================] - 0s 5ms/step - loss: 0.3766 - accuracy: 0.8430\n",
      "Epoch 174/300\n",
      "8/8 [==============================] - 0s 5ms/step - loss: 0.3978 - accuracy: 0.8182\n",
      "Epoch 175/300\n",
      "8/8 [==============================] - 0s 5ms/step - loss: 0.4095 - accuracy: 0.8140\n",
      "Epoch 176/300\n",
      "8/8 [==============================] - 0s 4ms/step - loss: 0.3945 - accuracy: 0.8306\n",
      "Epoch 177/300\n",
      "8/8 [==============================] - 0s 6ms/step - loss: 0.4337 - accuracy: 0.8140\n",
      "Epoch 178/300\n",
      "8/8 [==============================] - 0s 8ms/step - loss: 0.4118 - accuracy: 0.8058\n",
      "Epoch 179/300\n",
      "8/8 [==============================] - 0s 7ms/step - loss: 0.4700 - accuracy: 0.7769\n",
      "Epoch 180/300\n",
      "8/8 [==============================] - 0s 8ms/step - loss: 0.3786 - accuracy: 0.8347\n",
      "Epoch 181/300\n",
      "8/8 [==============================] - 0s 5ms/step - loss: 0.3782 - accuracy: 0.8306\n",
      "Epoch 182/300\n",
      "8/8 [==============================] - 0s 6ms/step - loss: 0.4083 - accuracy: 0.7975\n",
      "Epoch 183/300\n",
      "8/8 [==============================] - 0s 8ms/step - loss: 0.3856 - accuracy: 0.8182\n",
      "Epoch 184/300\n",
      "8/8 [==============================] - 0s 8ms/step - loss: 0.3737 - accuracy: 0.8347\n",
      "Epoch 185/300\n",
      "8/8 [==============================] - 0s 8ms/step - loss: 0.3790 - accuracy: 0.8347\n",
      "Epoch 186/300\n",
      "8/8 [==============================] - 0s 4ms/step - loss: 0.3848 - accuracy: 0.8306\n",
      "Epoch 187/300\n",
      "8/8 [==============================] - 0s 6ms/step - loss: 0.3893 - accuracy: 0.8347\n",
      "Epoch 188/300\n",
      "8/8 [==============================] - 0s 5ms/step - loss: 0.3852 - accuracy: 0.8388\n",
      "Epoch 189/300\n",
      "8/8 [==============================] - 0s 5ms/step - loss: 0.3878 - accuracy: 0.8306\n",
      "Epoch 190/300\n",
      "8/8 [==============================] - 0s 4ms/step - loss: 0.3720 - accuracy: 0.8512\n",
      "Epoch 191/300\n",
      "8/8 [==============================] - 0s 6ms/step - loss: 0.3714 - accuracy: 0.8512\n",
      "Epoch 192/300\n",
      "8/8 [==============================] - 0s 6ms/step - loss: 0.3721 - accuracy: 0.8554\n",
      "Epoch 193/300\n",
      "8/8 [==============================] - 0s 5ms/step - loss: 0.4188 - accuracy: 0.8182\n",
      "Epoch 194/300\n",
      "8/8 [==============================] - 0s 5ms/step - loss: 0.4299 - accuracy: 0.8017\n",
      "Epoch 195/300\n",
      "8/8 [==============================] - 0s 6ms/step - loss: 0.4447 - accuracy: 0.7810\n",
      "Epoch 196/300\n",
      "8/8 [==============================] - 0s 5ms/step - loss: 0.4045 - accuracy: 0.8347\n",
      "Epoch 197/300\n",
      "8/8 [==============================] - 0s 8ms/step - loss: 0.3830 - accuracy: 0.8264\n",
      "Epoch 198/300\n",
      "8/8 [==============================] - 0s 7ms/step - loss: 0.3737 - accuracy: 0.8512\n",
      "Epoch 199/300\n",
      "8/8 [==============================] - 0s 6ms/step - loss: 0.3923 - accuracy: 0.8264\n",
      "Epoch 200/300\n",
      "8/8 [==============================] - 0s 8ms/step - loss: 0.3698 - accuracy: 0.8388\n",
      "Epoch 201/300\n",
      "8/8 [==============================] - 0s 8ms/step - loss: 0.3969 - accuracy: 0.8264\n",
      "Epoch 202/300\n",
      "8/8 [==============================] - 0s 7ms/step - loss: 0.4023 - accuracy: 0.8140\n",
      "Epoch 203/300\n",
      "8/8 [==============================] - 0s 7ms/step - loss: 0.3843 - accuracy: 0.8182\n",
      "Epoch 204/300\n",
      "8/8 [==============================] - 0s 6ms/step - loss: 0.3787 - accuracy: 0.8182\n",
      "Epoch 205/300\n",
      "8/8 [==============================] - 0s 6ms/step - loss: 0.3730 - accuracy: 0.8471\n",
      "Epoch 206/300\n",
      "8/8 [==============================] - 0s 6ms/step - loss: 0.3772 - accuracy: 0.8554\n",
      "Epoch 207/300\n",
      "8/8 [==============================] - 0s 6ms/step - loss: 0.3831 - accuracy: 0.8306\n",
      "Epoch 208/300\n",
      "8/8 [==============================] - 0s 9ms/step - loss: 0.3870 - accuracy: 0.8388\n",
      "Epoch 209/300\n",
      "8/8 [==============================] - 0s 8ms/step - loss: 0.3759 - accuracy: 0.8471\n",
      "Epoch 210/300\n",
      "8/8 [==============================] - 0s 6ms/step - loss: 0.3759 - accuracy: 0.8264\n",
      "Epoch 211/300\n",
      "8/8 [==============================] - 0s 8ms/step - loss: 0.3895 - accuracy: 0.8347\n",
      "Epoch 212/300\n",
      "8/8 [==============================] - 0s 6ms/step - loss: 0.3656 - accuracy: 0.8388\n",
      "Epoch 213/300\n",
      "8/8 [==============================] - 0s 9ms/step - loss: 0.3946 - accuracy: 0.8140\n",
      "Epoch 214/300\n",
      "8/8 [==============================] - 0s 6ms/step - loss: 0.3883 - accuracy: 0.8017\n",
      "Epoch 215/300\n",
      "8/8 [==============================] - 0s 6ms/step - loss: 0.3775 - accuracy: 0.8306\n",
      "Epoch 216/300\n",
      "8/8 [==============================] - 0s 6ms/step - loss: 0.3713 - accuracy: 0.8595\n",
      "Epoch 217/300\n",
      "8/8 [==============================] - 0s 5ms/step - loss: 0.3761 - accuracy: 0.8347\n",
      "Epoch 218/300\n",
      "8/8 [==============================] - 0s 4ms/step - loss: 0.3675 - accuracy: 0.8512\n",
      "Epoch 219/300\n",
      "8/8 [==============================] - 0s 3ms/step - loss: 0.3811 - accuracy: 0.8264\n",
      "Epoch 220/300\n",
      "8/8 [==============================] - 0s 4ms/step - loss: 0.3684 - accuracy: 0.8388\n",
      "Epoch 221/300\n",
      "8/8 [==============================] - 0s 2ms/step - loss: 0.3867 - accuracy: 0.8264\n",
      "Epoch 222/300\n",
      "8/8 [==============================] - 0s 4ms/step - loss: 0.3743 - accuracy: 0.8306\n",
      "Epoch 223/300\n",
      "8/8 [==============================] - 0s 7ms/step - loss: 0.3925 - accuracy: 0.8347\n",
      "Epoch 224/300\n",
      "8/8 [==============================] - 0s 9ms/step - loss: 0.4059 - accuracy: 0.8099\n",
      "Epoch 225/300\n",
      "8/8 [==============================] - 0s 7ms/step - loss: 0.3829 - accuracy: 0.8388\n",
      "Epoch 226/300\n",
      "8/8 [==============================] - 0s 5ms/step - loss: 0.3769 - accuracy: 0.8306\n",
      "Epoch 227/300\n",
      "8/8 [==============================] - 0s 6ms/step - loss: 0.3956 - accuracy: 0.8140\n",
      "Epoch 228/300\n",
      "8/8 [==============================] - 0s 6ms/step - loss: 0.3786 - accuracy: 0.8182\n",
      "Epoch 229/300\n",
      "8/8 [==============================] - 0s 7ms/step - loss: 0.3759 - accuracy: 0.8430\n",
      "Epoch 230/300\n",
      "8/8 [==============================] - 0s 5ms/step - loss: 0.3730 - accuracy: 0.8058\n",
      "Epoch 231/300\n",
      "8/8 [==============================] - 0s 6ms/step - loss: 0.3932 - accuracy: 0.8099\n",
      "Epoch 232/300\n",
      "8/8 [==============================] - 0s 5ms/step - loss: 0.3718 - accuracy: 0.8388\n",
      "Epoch 233/300\n",
      "8/8 [==============================] - 0s 5ms/step - loss: 0.3719 - accuracy: 0.8512\n",
      "Epoch 234/300\n",
      "8/8 [==============================] - 0s 6ms/step - loss: 0.3966 - accuracy: 0.8140\n",
      "Epoch 235/300\n",
      "8/8 [==============================] - 0s 10ms/step - loss: 0.3816 - accuracy: 0.8306\n",
      "Epoch 236/300\n",
      "8/8 [==============================] - 0s 10ms/step - loss: 0.3684 - accuracy: 0.8595\n",
      "Epoch 237/300\n",
      "8/8 [==============================] - 0s 8ms/step - loss: 0.3736 - accuracy: 0.8388\n",
      "Epoch 238/300\n",
      "8/8 [==============================] - 0s 7ms/step - loss: 0.3833 - accuracy: 0.8512\n",
      "Epoch 239/300\n",
      "8/8 [==============================] - 0s 6ms/step - loss: 0.3861 - accuracy: 0.8223\n",
      "Epoch 240/300\n",
      "8/8 [==============================] - 0s 8ms/step - loss: 0.3735 - accuracy: 0.8223\n",
      "Epoch 241/300\n",
      "8/8 [==============================] - 0s 6ms/step - loss: 0.3993 - accuracy: 0.8182\n",
      "Epoch 242/300\n",
      "8/8 [==============================] - 0s 11ms/step - loss: 0.3944 - accuracy: 0.8182\n",
      "Epoch 243/300\n",
      "8/8 [==============================] - 0s 6ms/step - loss: 0.3920 - accuracy: 0.8223\n",
      "Epoch 244/300\n",
      "8/8 [==============================] - 0s 6ms/step - loss: 0.3675 - accuracy: 0.8347\n",
      "Epoch 245/300\n",
      "8/8 [==============================] - 0s 6ms/step - loss: 0.3846 - accuracy: 0.8264\n",
      "Epoch 246/300\n",
      "8/8 [==============================] - 0s 8ms/step - loss: 0.3742 - accuracy: 0.8388\n",
      "Epoch 247/300\n",
      "8/8 [==============================] - 0s 4ms/step - loss: 0.3941 - accuracy: 0.8140\n",
      "Epoch 248/300\n",
      "8/8 [==============================] - 0s 6ms/step - loss: 0.3875 - accuracy: 0.8264\n",
      "Epoch 249/300\n"
     ]
    },
    {
     "name": "stdout",
     "output_type": "stream",
     "text": [
      "8/8 [==============================] - 0s 5ms/step - loss: 0.4343 - accuracy: 0.8099\n",
      "Epoch 250/300\n",
      "8/8 [==============================] - 0s 6ms/step - loss: 0.4372 - accuracy: 0.8099\n",
      "Epoch 251/300\n",
      "8/8 [==============================] - 0s 6ms/step - loss: 0.4398 - accuracy: 0.8058\n",
      "Epoch 252/300\n",
      "8/8 [==============================] - 0s 6ms/step - loss: 0.3968 - accuracy: 0.8182\n",
      "Epoch 253/300\n",
      "8/8 [==============================] - 0s 6ms/step - loss: 0.4143 - accuracy: 0.8182\n",
      "Epoch 254/300\n",
      "8/8 [==============================] - 0s 6ms/step - loss: 0.3830 - accuracy: 0.8306\n",
      "Epoch 255/300\n",
      "8/8 [==============================] - 0s 5ms/step - loss: 0.4022 - accuracy: 0.7975\n",
      "Epoch 256/300\n",
      "8/8 [==============================] - 0s 8ms/step - loss: 0.3733 - accuracy: 0.8223\n",
      "Epoch 257/300\n",
      "8/8 [==============================] - 0s 5ms/step - loss: 0.3698 - accuracy: 0.8223\n",
      "Epoch 258/300\n",
      "8/8 [==============================] - 0s 7ms/step - loss: 0.3699 - accuracy: 0.8388\n",
      "Epoch 259/300\n",
      "8/8 [==============================] - 0s 5ms/step - loss: 0.3723 - accuracy: 0.8264\n",
      "Epoch 260/300\n",
      "8/8 [==============================] - 0s 6ms/step - loss: 0.4057 - accuracy: 0.8058\n",
      "Epoch 261/300\n",
      "8/8 [==============================] - 0s 8ms/step - loss: 0.3684 - accuracy: 0.8388\n",
      "Epoch 262/300\n",
      "8/8 [==============================] - 0s 6ms/step - loss: 0.3695 - accuracy: 0.8430\n",
      "Epoch 263/300\n",
      "8/8 [==============================] - 0s 6ms/step - loss: 0.3794 - accuracy: 0.8099\n",
      "Epoch 264/300\n",
      "8/8 [==============================] - 0s 8ms/step - loss: 0.3657 - accuracy: 0.8430\n",
      "Epoch 265/300\n",
      "8/8 [==============================] - 0s 6ms/step - loss: 0.3684 - accuracy: 0.8471\n",
      "Epoch 266/300\n",
      "8/8 [==============================] - 0s 6ms/step - loss: 0.3676 - accuracy: 0.8471\n",
      "Epoch 267/300\n",
      "8/8 [==============================] - 0s 6ms/step - loss: 0.3614 - accuracy: 0.8471\n",
      "Epoch 268/300\n",
      "8/8 [==============================] - 0s 7ms/step - loss: 0.3649 - accuracy: 0.8554\n",
      "Epoch 269/300\n",
      "8/8 [==============================] - 0s 6ms/step - loss: 0.3766 - accuracy: 0.8223\n",
      "Epoch 270/300\n",
      "8/8 [==============================] - 0s 8ms/step - loss: 0.4156 - accuracy: 0.8058\n",
      "Epoch 271/300\n",
      "8/8 [==============================] - 0s 8ms/step - loss: 0.4128 - accuracy: 0.8099\n",
      "Epoch 272/300\n",
      "8/8 [==============================] - 0s 10ms/step - loss: 0.3894 - accuracy: 0.8264\n",
      "Epoch 273/300\n",
      "8/8 [==============================] - 0s 6ms/step - loss: 0.3662 - accuracy: 0.8347\n",
      "Epoch 274/300\n",
      "8/8 [==============================] - 0s 5ms/step - loss: 0.3844 - accuracy: 0.8223\n",
      "Epoch 275/300\n",
      "8/8 [==============================] - 0s 7ms/step - loss: 0.3552 - accuracy: 0.8512\n",
      "Epoch 276/300\n",
      "8/8 [==============================] - 0s 6ms/step - loss: 0.3945 - accuracy: 0.8058\n",
      "Epoch 277/300\n",
      "8/8 [==============================] - 0s 7ms/step - loss: 0.3980 - accuracy: 0.8099\n",
      "Epoch 278/300\n",
      "8/8 [==============================] - 0s 6ms/step - loss: 0.3905 - accuracy: 0.8223\n",
      "Epoch 279/300\n",
      "8/8 [==============================] - 0s 7ms/step - loss: 0.3660 - accuracy: 0.8512\n",
      "Epoch 280/300\n",
      "8/8 [==============================] - 0s 5ms/step - loss: 0.3618 - accuracy: 0.8554\n",
      "Epoch 281/300\n",
      "8/8 [==============================] - 0s 6ms/step - loss: 0.3657 - accuracy: 0.8471\n",
      "Epoch 282/300\n",
      "8/8 [==============================] - 0s 4ms/step - loss: 0.3644 - accuracy: 0.8512\n",
      "Epoch 283/300\n",
      "8/8 [==============================] - 0s 4ms/step - loss: 0.3733 - accuracy: 0.8347\n",
      "Epoch 284/300\n",
      "8/8 [==============================] - 0s 5ms/step - loss: 0.3900 - accuracy: 0.8306\n",
      "Epoch 285/300\n",
      "8/8 [==============================] - 0s 3ms/step - loss: 0.3987 - accuracy: 0.8140\n",
      "Epoch 286/300\n",
      "8/8 [==============================] - 0s 5ms/step - loss: 0.3578 - accuracy: 0.8223\n",
      "Epoch 287/300\n",
      "8/8 [==============================] - 0s 9ms/step - loss: 0.3687 - accuracy: 0.8471\n",
      "Epoch 288/300\n",
      "8/8 [==============================] - 0s 7ms/step - loss: 0.3631 - accuracy: 0.8471\n",
      "Epoch 289/300\n",
      "8/8 [==============================] - 0s 6ms/step - loss: 0.3727 - accuracy: 0.8306\n",
      "Epoch 290/300\n",
      "8/8 [==============================] - 0s 6ms/step - loss: 0.4058 - accuracy: 0.8223\n",
      "Epoch 291/300\n",
      "8/8 [==============================] - 0s 7ms/step - loss: 0.4071 - accuracy: 0.8140\n",
      "Epoch 292/300\n",
      "8/8 [==============================] - 0s 6ms/step - loss: 0.4250 - accuracy: 0.8099\n",
      "Epoch 293/300\n",
      "8/8 [==============================] - 0s 5ms/step - loss: 0.3951 - accuracy: 0.8182\n",
      "Epoch 294/300\n",
      "8/8 [==============================] - 0s 6ms/step - loss: 0.3733 - accuracy: 0.8347\n",
      "Epoch 295/300\n",
      "8/8 [==============================] - 0s 6ms/step - loss: 0.3972 - accuracy: 0.8182\n",
      "Epoch 296/300\n",
      "8/8 [==============================] - 0s 6ms/step - loss: 0.3866 - accuracy: 0.8430\n",
      "Epoch 297/300\n",
      "8/8 [==============================] - 0s 5ms/step - loss: 0.3656 - accuracy: 0.8388\n",
      "Epoch 298/300\n",
      "8/8 [==============================] - 0s 6ms/step - loss: 0.3722 - accuracy: 0.8388\n",
      "Epoch 299/300\n",
      "8/8 [==============================] - 0s 5ms/step - loss: 0.3723 - accuracy: 0.8388\n",
      "Epoch 300/300\n",
      "8/8 [==============================] - 0s 4ms/step - loss: 0.3836 - accuracy: 0.8388\n"
     ]
    },
    {
     "data": {
      "text/plain": [
       "<keras.callbacks.History at 0x7f1be9657d50>"
      ]
     },
     "execution_count": 40,
     "metadata": {},
     "output_type": "execute_result"
    }
   ],
   "source": [
    "sequential_model.fit(X_train,Y_train,epochs=300)"
   ]
  },
  {
   "cell_type": "code",
   "execution_count": 48,
   "id": "ad3098dd",
   "metadata": {},
   "outputs": [],
   "source": [
    "Y_prediction_neural_network = sequential_model.predict(X_test)"
   ]
  },
  {
   "cell_type": "code",
   "execution_count": 49,
   "id": "e1ae5f11",
   "metadata": {},
   "outputs": [
    {
     "data": {
      "text/plain": [
       "(61, 1)"
      ]
     },
     "execution_count": 49,
     "metadata": {},
     "output_type": "execute_result"
    }
   ],
   "source": [
    "Y_prediction_neural_network.shape"
   ]
  },
  {
   "cell_type": "code",
   "execution_count": 50,
   "id": "8a78233a",
   "metadata": {},
   "outputs": [],
   "source": [
    "rounded = [round(x[0]) for x in Y_prediction_neural_network]\n",
    "\n",
    "Y_prediction_neural_network = rounded"
   ]
  },
  {
   "cell_type": "code",
   "execution_count": 51,
   "id": "969da5fa",
   "metadata": {},
   "outputs": [
    {
     "name": "stdout",
     "output_type": "stream",
     "text": [
      "The accuracy score achieved using Neural Network is: 80.33 %\n"
     ]
    }
   ],
   "source": [
    "score_of_neural_network = round(accuracy_score(Y_prediction_neural_network,Y_test)*100,2)\n",
    "\n",
    "print(\"The accuracy score achieved using Neural Network is: \"+str(score_of_neural_network)+\" %\")\n",
    "\n",
    "#Note: Accuracy of 85% can be achieved on the test set, by setting epochs=2000, and number of nodes = 11. "
   ]
  },
  {
   "cell_type": "markdown",
   "id": "d28827da",
   "metadata": {},
   "source": [
    "## VI. Output final score"
   ]
  },
  {
   "cell_type": "code",
   "execution_count": 52,
   "id": "491afdf9",
   "metadata": {},
   "outputs": [
    {
     "name": "stdout",
     "output_type": "stream",
     "text": [
      "The accuracy score achieved using Logistic Regression is: 85.25 %\n",
      "The accuracy score achieved using Naive Bayes is: 85.25 %\n",
      "The accuracy score achieved using Support Vector Machine is: 81.97 %\n",
      "The accuracy score achieved using K-Nearest Neighbors is: 67.21 %\n",
      "The accuracy score achieved using Decision Tree is: 81.97 %\n",
      "The accuracy score achieved using Random Forest is: 90.16 %\n",
      "The accuracy score achieved using XGBoost is: 85.25 %\n",
      "The accuracy score achieved using Neural Network is: 80.33 %\n"
     ]
    }
   ],
   "source": [
    "\n",
    "final_scores = [score_of_logis,score_of_gaussianb,score_of_svm,score_of_kneighborsclassifier,score_of_decisiontree,score_of_random_forest,score_of_xgb,score_of_neural_network]\n",
    "all_algorithms = [\"Logistic Regression\",\"Naive Bayes\",\"Support Vector Machine\",\"K-Nearest Neighbors\",\"Decision Tree\",\"Random Forest\",\"XGBoost\",\"Neural Network\"]    \n",
    "\n",
    "for i in range(len(all_algorithms)):\n",
    "    print(\"The accuracy score achieved using \"+all_algorithms[i]+\" is: \"+str(final_scores[i])+\" %\")"
   ]
  },
  {
   "cell_type": "code",
   "execution_count": 54,
   "id": "882cff58",
   "metadata": {},
   "outputs": [
    {
     "data": {
      "text/plain": [
       "<AxesSubplot:xlabel='Algorithms', ylabel='Accuracy score'>"
      ]
     },
     "execution_count": 54,
     "metadata": {},
     "output_type": "execute_result"
    },
    {
     "data": {
      "image/png": "[encoded data removed]",
      "text/plain": [
       "<Figure size 1080x576 with 1 Axes>"
      ]
     },
     "metadata": {},
     "output_type": "display_data"
    }
   ],
   "source": [
    "sea.set(rc={'figure.figsize':(15,8)})\n",
    "pltp.xlabel(\"Algorithms\")\n",
    "pltp.ylabel(\"Accuracy score\")\n",
    "\n",
    "sea.barplot(all_algorithms,final_scores)"
   ]
  },
  {
   "cell_type": "markdown",
   "id": "613a0cfa",
   "metadata": {},
   "source": [
    "# Random Forest has good result as compare to other algorithms"
   ]
  }
 ],
 "metadata": {
  "kernelspec": {
   "display_name": "Python 3 (ipykernel)",
   "language": "python",
   "name": "python3"
  },
  "language_info": {
   "codemirror_mode": {
    "name": "ipython",
    "version": 3
   },
   "file_extension": ".py",
   "mimetype": "text/x-python",
   "name": "python",
   "nbconvert_exporter": "python",
   "pygments_lexer": "ipython3",
   "version": "3.7.11"
  }
 },
 "nbformat": 4,
 "nbformat_minor": 5
}
