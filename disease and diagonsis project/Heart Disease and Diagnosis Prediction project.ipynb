{
 "cells": [
  {
   "cell_type": "markdown",
   "id": "d2011c82",
   "metadata": {},
   "source": [
    "# HEART DISEASE PREDICTION BY SHREYANSH TYAGI"
   ]
  },
  {
   "cell_type": "markdown",
   "id": "2fe507a9",
   "metadata": {},
   "source": [
    "## Importing libraries and modules"
   ]
  },
  {
   "cell_type": "code",
   "execution_count": 2,
   "id": "bac42a76",
   "metadata": {},
   "outputs": [
    {
     "name": "stdout",
     "output_type": "stream",
     "text": [
      "['.ipynb_checkpoints', 'README.md', 'heart.csv', 'Heart Disease and Diagnosis Prediction project.ipynb', 'Heart-Disease-Prediction-using-Machine-Learning']\n"
     ]
    }
   ],
   "source": [
    "import numpy as np\n",
    "import pandas as pd\n",
    "import matplotlib.pyplot as plt\n",
    "import seaborn as sns\n",
    "\n",
    "%matplotlib inline\n",
    "\n",
    "import os\n",
    "print(os.listdir())\n",
    "\n",
    "import warnings\n",
    "warnings.filterwarnings('ignore') "
   ]
  },
  {
   "cell_type": "markdown",
   "id": "6e16051d",
   "metadata": {},
   "source": [
    "## Importing and Understanding the dataset"
   ]
  },
  {
   "cell_type": "code",
   "execution_count": null,
   "id": "0a9efe28",
   "metadata": {},
   "outputs": [],
   "source": [
    "dataset = pd.read_csv(\"heart.csv\")"
   ]
  }
 ],
 "metadata": {
  "kernelspec": {
   "display_name": "Python 3 (ipykernel)",
   "language": "python",
   "name": "python3"
  },
  "language_info": {
   "codemirror_mode": {
    "name": "ipython",
    "version": 3
   },
   "file_extension": ".py",
   "mimetype": "text/x-python",
   "name": "python",
   "nbconvert_exporter": "python",
   "pygments_lexer": "ipython3",
   "version": "3.7.11"
  }
 },
 "nbformat": 4,
 "nbformat_minor": 5
}
