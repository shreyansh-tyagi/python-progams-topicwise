{
 "cells": [
  {
   "cell_type": "markdown",
   "id": "d2011c82",
   "metadata": {},
   "source": [
    "# HEART DISEASE PREDICTION BY SHREYANSH TYAGI"
   ]
  },
  {
   "cell_type": "markdown",
   "id": "2fe507a9",
   "metadata": {},
   "source": [
    "## Importing libraries and modules for prediction to be done"
   ]
  },
  {
   "cell_type": "code",
   "execution_count": 1,
   "id": "bac42a76",
   "metadata": {},
   "outputs": [
    {
     "name": "stdout",
     "output_type": "stream",
     "text": [
      "['.ipynb_checkpoints', 'README.md', 'heart.csv', 'Heart Disease and Diagnosis Prediction project.ipynb']\n"
     ]
    }
   ],
   "source": [
    "import numpy as npy\n",
    "import pandas as pda\n",
    "import matplotlib.pyplot as pltp\n",
    "from matplotlib import rcParams\n",
    "import seaborn as sea\n",
    "\n",
    "%matplotlib inline\n",
    "\n",
    "import os\n",
    "print(os.listdir())\n",
    "\n",
    "import warnings\n",
    "warnings.filterwarnings('ignore') "
   ]
  },
  {
   "cell_type": "markdown",
   "id": "6e16051d",
   "metadata": {},
   "source": [
    "## Importing and Understanding the dataset in CSV format"
   ]
  },
  {
   "cell_type": "code",
   "execution_count": 2,
   "id": "0a9efe28",
   "metadata": {},
   "outputs": [],
   "source": [
    "dataset = pda.read_csv(\"heart.csv\")"
   ]
  },
  {
   "cell_type": "markdown",
   "id": "a782315b",
   "metadata": {},
   "source": [
    "### verifying it as dataframe object in pandas"
   ]
  },
  {
   "cell_type": "code",
   "execution_count": 3,
   "id": "31847aad",
   "metadata": {},
   "outputs": [
    {
     "data": {
      "text/plain": [
       "pandas.core.frame.DataFrame"
      ]
     },
     "execution_count": 3,
     "metadata": {},
     "output_type": "execute_result"
    }
   ],
   "source": [
    "type(dataset)"
   ]
  },
  {
   "cell_type": "markdown",
   "id": "88d7a031",
   "metadata": {},
   "source": [
    "### shape of data"
   ]
  },
  {
   "cell_type": "code",
   "execution_count": 4,
   "id": "d560a15e",
   "metadata": {},
   "outputs": [
    {
     "data": {
      "text/plain": [
       "(303, 14)"
      ]
     },
     "execution_count": 4,
     "metadata": {},
     "output_type": "execute_result"
    }
   ],
   "source": [
    "dataset.shape"
   ]
  },
  {
   "cell_type": "markdown",
   "id": "eab06229",
   "metadata": {},
   "source": [
    "### Printing out few columns of top "
   ]
  },
  {
   "cell_type": "code",
   "execution_count": 6,
   "id": "0d65836e",
   "metadata": {},
   "outputs": [
    {
     "data": {
      "text/html": [
       "<div>\n",
       "<style scoped>\n",
       "    .dataframe tbody tr th:only-of-type {\n",
       "        vertical-align: middle;\n",
       "    }\n",
       "\n",
       "    .dataframe tbody tr th {\n",
       "        vertical-align: top;\n",
       "    }\n",
       "\n",
       "    .dataframe thead th {\n",
       "        text-align: right;\n",
       "    }\n",
       "</style>\n",
       "<table border=\"1\" class=\"dataframe\">\n",
       "  <thead>\n",
       "    <tr style=\"text-align: right;\">\n",
       "      <th></th>\n",
       "      <th>age</th>\n",
       "      <th>sex</th>\n",
       "      <th>cp</th>\n",
       "      <th>trestbps</th>\n",
       "      <th>chol</th>\n",
       "      <th>fbs</th>\n",
       "      <th>restecg</th>\n",
       "      <th>thalach</th>\n",
       "      <th>exang</th>\n",
       "      <th>oldpeak</th>\n",
       "      <th>slope</th>\n",
       "      <th>ca</th>\n",
       "      <th>thal</th>\n",
       "      <th>target</th>\n",
       "    </tr>\n",
       "  </thead>\n",
       "  <tbody>\n",
       "    <tr>\n",
       "      <th>0</th>\n",
       "      <td>63</td>\n",
       "      <td>1</td>\n",
       "      <td>3</td>\n",
       "      <td>145</td>\n",
       "      <td>233</td>\n",
       "      <td>1</td>\n",
       "      <td>0</td>\n",
       "      <td>150</td>\n",
       "      <td>0</td>\n",
       "      <td>2.3</td>\n",
       "      <td>0</td>\n",
       "      <td>0</td>\n",
       "      <td>1</td>\n",
       "      <td>1</td>\n",
       "    </tr>\n",
       "    <tr>\n",
       "      <th>1</th>\n",
       "      <td>37</td>\n",
       "      <td>1</td>\n",
       "      <td>2</td>\n",
       "      <td>130</td>\n",
       "      <td>250</td>\n",
       "      <td>0</td>\n",
       "      <td>1</td>\n",
       "      <td>187</td>\n",
       "      <td>0</td>\n",
       "      <td>3.5</td>\n",
       "      <td>0</td>\n",
       "      <td>0</td>\n",
       "      <td>2</td>\n",
       "      <td>1</td>\n",
       "    </tr>\n",
       "    <tr>\n",
       "      <th>2</th>\n",
       "      <td>41</td>\n",
       "      <td>0</td>\n",
       "      <td>1</td>\n",
       "      <td>130</td>\n",
       "      <td>204</td>\n",
       "      <td>0</td>\n",
       "      <td>0</td>\n",
       "      <td>172</td>\n",
       "      <td>0</td>\n",
       "      <td>1.4</td>\n",
       "      <td>2</td>\n",
       "      <td>0</td>\n",
       "      <td>2</td>\n",
       "      <td>1</td>\n",
       "    </tr>\n",
       "    <tr>\n",
       "      <th>3</th>\n",
       "      <td>56</td>\n",
       "      <td>1</td>\n",
       "      <td>1</td>\n",
       "      <td>120</td>\n",
       "      <td>236</td>\n",
       "      <td>0</td>\n",
       "      <td>1</td>\n",
       "      <td>178</td>\n",
       "      <td>0</td>\n",
       "      <td>0.8</td>\n",
       "      <td>2</td>\n",
       "      <td>0</td>\n",
       "      <td>2</td>\n",
       "      <td>1</td>\n",
       "    </tr>\n",
       "    <tr>\n",
       "      <th>4</th>\n",
       "      <td>57</td>\n",
       "      <td>0</td>\n",
       "      <td>0</td>\n",
       "      <td>120</td>\n",
       "      <td>354</td>\n",
       "      <td>0</td>\n",
       "      <td>1</td>\n",
       "      <td>163</td>\n",
       "      <td>1</td>\n",
       "      <td>0.6</td>\n",
       "      <td>2</td>\n",
       "      <td>0</td>\n",
       "      <td>2</td>\n",
       "      <td>1</td>\n",
       "    </tr>\n",
       "    <tr>\n",
       "      <th>5</th>\n",
       "      <td>57</td>\n",
       "      <td>1</td>\n",
       "      <td>0</td>\n",
       "      <td>140</td>\n",
       "      <td>192</td>\n",
       "      <td>0</td>\n",
       "      <td>1</td>\n",
       "      <td>148</td>\n",
       "      <td>0</td>\n",
       "      <td>0.4</td>\n",
       "      <td>1</td>\n",
       "      <td>0</td>\n",
       "      <td>1</td>\n",
       "      <td>1</td>\n",
       "    </tr>\n",
       "  </tbody>\n",
       "</table>\n",
       "</div>"
      ],
      "text/plain": [
       "   age  sex  cp  trestbps  chol  fbs  restecg  thalach  exang  oldpeak  slope  \\\n",
       "0   63    1   3       145   233    1        0      150      0      2.3      0   \n",
       "1   37    1   2       130   250    0        1      187      0      3.5      0   \n",
       "2   41    0   1       130   204    0        0      172      0      1.4      2   \n",
       "3   56    1   1       120   236    0        1      178      0      0.8      2   \n",
       "4   57    0   0       120   354    0        1      163      1      0.6      2   \n",
       "5   57    1   0       140   192    0        1      148      0      0.4      1   \n",
       "\n",
       "   ca  thal  target  \n",
       "0   0     1       1  \n",
       "1   0     2       1  \n",
       "2   0     2       1  \n",
       "3   0     2       1  \n",
       "4   0     2       1  \n",
       "5   0     1       1  "
      ]
     },
     "execution_count": 6,
     "metadata": {},
     "output_type": "execute_result"
    }
   ],
   "source": [
    "dataset.head(6)"
   ]
  },
  {
   "cell_type": "code",
   "execution_count": 7,
   "id": "fcb18958",
   "metadata": {},
   "outputs": [
    {
     "data": {
      "text/html": [
       "<div>\n",
       "<style scoped>\n",
       "    .dataframe tbody tr th:only-of-type {\n",
       "        vertical-align: middle;\n",
       "    }\n",
       "\n",
       "    .dataframe tbody tr th {\n",
       "        vertical-align: top;\n",
       "    }\n",
       "\n",
       "    .dataframe thead th {\n",
       "        text-align: right;\n",
       "    }\n",
       "</style>\n",
       "<table border=\"1\" class=\"dataframe\">\n",
       "  <thead>\n",
       "    <tr style=\"text-align: right;\">\n",
       "      <th></th>\n",
       "      <th>age</th>\n",
       "      <th>sex</th>\n",
       "      <th>cp</th>\n",
       "      <th>trestbps</th>\n",
       "      <th>chol</th>\n",
       "      <th>fbs</th>\n",
       "      <th>restecg</th>\n",
       "      <th>thalach</th>\n",
       "      <th>exang</th>\n",
       "      <th>oldpeak</th>\n",
       "      <th>slope</th>\n",
       "      <th>ca</th>\n",
       "      <th>thal</th>\n",
       "      <th>target</th>\n",
       "    </tr>\n",
       "  </thead>\n",
       "  <tbody>\n",
       "    <tr>\n",
       "      <th>8</th>\n",
       "      <td>52</td>\n",
       "      <td>1</td>\n",
       "      <td>2</td>\n",
       "      <td>172</td>\n",
       "      <td>199</td>\n",
       "      <td>1</td>\n",
       "      <td>1</td>\n",
       "      <td>162</td>\n",
       "      <td>0</td>\n",
       "      <td>0.5</td>\n",
       "      <td>2</td>\n",
       "      <td>0</td>\n",
       "      <td>3</td>\n",
       "      <td>1</td>\n",
       "    </tr>\n",
       "    <tr>\n",
       "      <th>110</th>\n",
       "      <td>64</td>\n",
       "      <td>0</td>\n",
       "      <td>0</td>\n",
       "      <td>180</td>\n",
       "      <td>325</td>\n",
       "      <td>0</td>\n",
       "      <td>1</td>\n",
       "      <td>154</td>\n",
       "      <td>1</td>\n",
       "      <td>0.0</td>\n",
       "      <td>2</td>\n",
       "      <td>0</td>\n",
       "      <td>2</td>\n",
       "      <td>1</td>\n",
       "    </tr>\n",
       "    <tr>\n",
       "      <th>18</th>\n",
       "      <td>43</td>\n",
       "      <td>1</td>\n",
       "      <td>0</td>\n",
       "      <td>150</td>\n",
       "      <td>247</td>\n",
       "      <td>0</td>\n",
       "      <td>1</td>\n",
       "      <td>171</td>\n",
       "      <td>0</td>\n",
       "      <td>1.5</td>\n",
       "      <td>2</td>\n",
       "      <td>0</td>\n",
       "      <td>2</td>\n",
       "      <td>1</td>\n",
       "    </tr>\n",
       "    <tr>\n",
       "      <th>99</th>\n",
       "      <td>53</td>\n",
       "      <td>1</td>\n",
       "      <td>2</td>\n",
       "      <td>130</td>\n",
       "      <td>246</td>\n",
       "      <td>1</td>\n",
       "      <td>0</td>\n",
       "      <td>173</td>\n",
       "      <td>0</td>\n",
       "      <td>0.0</td>\n",
       "      <td>2</td>\n",
       "      <td>3</td>\n",
       "      <td>2</td>\n",
       "      <td>1</td>\n",
       "    </tr>\n",
       "    <tr>\n",
       "      <th>225</th>\n",
       "      <td>70</td>\n",
       "      <td>1</td>\n",
       "      <td>0</td>\n",
       "      <td>145</td>\n",
       "      <td>174</td>\n",
       "      <td>0</td>\n",
       "      <td>1</td>\n",
       "      <td>125</td>\n",
       "      <td>1</td>\n",
       "      <td>2.6</td>\n",
       "      <td>0</td>\n",
       "      <td>0</td>\n",
       "      <td>3</td>\n",
       "      <td>0</td>\n",
       "    </tr>\n",
       "    <tr>\n",
       "      <th>193</th>\n",
       "      <td>60</td>\n",
       "      <td>1</td>\n",
       "      <td>0</td>\n",
       "      <td>145</td>\n",
       "      <td>282</td>\n",
       "      <td>0</td>\n",
       "      <td>0</td>\n",
       "      <td>142</td>\n",
       "      <td>1</td>\n",
       "      <td>2.8</td>\n",
       "      <td>1</td>\n",
       "      <td>2</td>\n",
       "      <td>3</td>\n",
       "      <td>0</td>\n",
       "    </tr>\n",
       "  </tbody>\n",
       "</table>\n",
       "</div>"
      ],
      "text/plain": [
       "     age  sex  cp  trestbps  chol  fbs  restecg  thalach  exang  oldpeak  \\\n",
       "8     52    1   2       172   199    1        1      162      0      0.5   \n",
       "110   64    0   0       180   325    0        1      154      1      0.0   \n",
       "18    43    1   0       150   247    0        1      171      0      1.5   \n",
       "99    53    1   2       130   246    1        0      173      0      0.0   \n",
       "225   70    1   0       145   174    0        1      125      1      2.6   \n",
       "193   60    1   0       145   282    0        0      142      1      2.8   \n",
       "\n",
       "     slope  ca  thal  target  \n",
       "8        2   0     3       1  \n",
       "110      2   0     2       1  \n",
       "18       2   0     2       1  \n",
       "99       2   3     2       1  \n",
       "225      0   0     3       0  \n",
       "193      1   2     3       0  "
      ]
     },
     "execution_count": 7,
     "metadata": {},
     "output_type": "execute_result"
    }
   ],
   "source": [
    "dataset.sample(6)"
   ]
  },
  {
   "cell_type": "markdown",
   "id": "3f86e4b4",
   "metadata": {},
   "source": [
    "### Description of data"
   ]
  },
  {
   "cell_type": "code",
   "execution_count": 8,
   "id": "413822dd",
   "metadata": {},
   "outputs": [
    {
     "data": {
      "text/html": [
       "<div>\n",
       "<style scoped>\n",
       "    .dataframe tbody tr th:only-of-type {\n",
       "        vertical-align: middle;\n",
       "    }\n",
       "\n",
       "    .dataframe tbody tr th {\n",
       "        vertical-align: top;\n",
       "    }\n",
       "\n",
       "    .dataframe thead th {\n",
       "        text-align: right;\n",
       "    }\n",
       "</style>\n",
       "<table border=\"1\" class=\"dataframe\">\n",
       "  <thead>\n",
       "    <tr style=\"text-align: right;\">\n",
       "      <th></th>\n",
       "      <th>age</th>\n",
       "      <th>sex</th>\n",
       "      <th>cp</th>\n",
       "      <th>trestbps</th>\n",
       "      <th>chol</th>\n",
       "      <th>fbs</th>\n",
       "      <th>restecg</th>\n",
       "      <th>thalach</th>\n",
       "      <th>exang</th>\n",
       "      <th>oldpeak</th>\n",
       "      <th>slope</th>\n",
       "      <th>ca</th>\n",
       "      <th>thal</th>\n",
       "      <th>target</th>\n",
       "    </tr>\n",
       "  </thead>\n",
       "  <tbody>\n",
       "    <tr>\n",
       "      <th>count</th>\n",
       "      <td>303.000000</td>\n",
       "      <td>303.000000</td>\n",
       "      <td>303.000000</td>\n",
       "      <td>303.000000</td>\n",
       "      <td>303.000000</td>\n",
       "      <td>303.000000</td>\n",
       "      <td>303.000000</td>\n",
       "      <td>303.000000</td>\n",
       "      <td>303.000000</td>\n",
       "      <td>303.000000</td>\n",
       "      <td>303.000000</td>\n",
       "      <td>303.000000</td>\n",
       "      <td>303.000000</td>\n",
       "      <td>303.000000</td>\n",
       "    </tr>\n",
       "    <tr>\n",
       "      <th>mean</th>\n",
       "      <td>54.366337</td>\n",
       "      <td>0.683168</td>\n",
       "      <td>0.966997</td>\n",
       "      <td>131.623762</td>\n",
       "      <td>246.264026</td>\n",
       "      <td>0.148515</td>\n",
       "      <td>0.528053</td>\n",
       "      <td>149.646865</td>\n",
       "      <td>0.326733</td>\n",
       "      <td>1.039604</td>\n",
       "      <td>1.399340</td>\n",
       "      <td>0.729373</td>\n",
       "      <td>2.313531</td>\n",
       "      <td>0.544554</td>\n",
       "    </tr>\n",
       "    <tr>\n",
       "      <th>std</th>\n",
       "      <td>9.082101</td>\n",
       "      <td>0.466011</td>\n",
       "      <td>1.032052</td>\n",
       "      <td>17.538143</td>\n",
       "      <td>51.830751</td>\n",
       "      <td>0.356198</td>\n",
       "      <td>0.525860</td>\n",
       "      <td>22.905161</td>\n",
       "      <td>0.469794</td>\n",
       "      <td>1.161075</td>\n",
       "      <td>0.616226</td>\n",
       "      <td>1.022606</td>\n",
       "      <td>0.612277</td>\n",
       "      <td>0.498835</td>\n",
       "    </tr>\n",
       "    <tr>\n",
       "      <th>min</th>\n",
       "      <td>29.000000</td>\n",
       "      <td>0.000000</td>\n",
       "      <td>0.000000</td>\n",
       "      <td>94.000000</td>\n",
       "      <td>126.000000</td>\n",
       "      <td>0.000000</td>\n",
       "      <td>0.000000</td>\n",
       "      <td>71.000000</td>\n",
       "      <td>0.000000</td>\n",
       "      <td>0.000000</td>\n",
       "      <td>0.000000</td>\n",
       "      <td>0.000000</td>\n",
       "      <td>0.000000</td>\n",
       "      <td>0.000000</td>\n",
       "    </tr>\n",
       "    <tr>\n",
       "      <th>25%</th>\n",
       "      <td>47.500000</td>\n",
       "      <td>0.000000</td>\n",
       "      <td>0.000000</td>\n",
       "      <td>120.000000</td>\n",
       "      <td>211.000000</td>\n",
       "      <td>0.000000</td>\n",
       "      <td>0.000000</td>\n",
       "      <td>133.500000</td>\n",
       "      <td>0.000000</td>\n",
       "      <td>0.000000</td>\n",
       "      <td>1.000000</td>\n",
       "      <td>0.000000</td>\n",
       "      <td>2.000000</td>\n",
       "      <td>0.000000</td>\n",
       "    </tr>\n",
       "    <tr>\n",
       "      <th>50%</th>\n",
       "      <td>55.000000</td>\n",
       "      <td>1.000000</td>\n",
       "      <td>1.000000</td>\n",
       "      <td>130.000000</td>\n",
       "      <td>240.000000</td>\n",
       "      <td>0.000000</td>\n",
       "      <td>1.000000</td>\n",
       "      <td>153.000000</td>\n",
       "      <td>0.000000</td>\n",
       "      <td>0.800000</td>\n",
       "      <td>1.000000</td>\n",
       "      <td>0.000000</td>\n",
       "      <td>2.000000</td>\n",
       "      <td>1.000000</td>\n",
       "    </tr>\n",
       "    <tr>\n",
       "      <th>75%</th>\n",
       "      <td>61.000000</td>\n",
       "      <td>1.000000</td>\n",
       "      <td>2.000000</td>\n",
       "      <td>140.000000</td>\n",
       "      <td>274.500000</td>\n",
       "      <td>0.000000</td>\n",
       "      <td>1.000000</td>\n",
       "      <td>166.000000</td>\n",
       "      <td>1.000000</td>\n",
       "      <td>1.600000</td>\n",
       "      <td>2.000000</td>\n",
       "      <td>1.000000</td>\n",
       "      <td>3.000000</td>\n",
       "      <td>1.000000</td>\n",
       "    </tr>\n",
       "    <tr>\n",
       "      <th>max</th>\n",
       "      <td>77.000000</td>\n",
       "      <td>1.000000</td>\n",
       "      <td>3.000000</td>\n",
       "      <td>200.000000</td>\n",
       "      <td>564.000000</td>\n",
       "      <td>1.000000</td>\n",
       "      <td>2.000000</td>\n",
       "      <td>202.000000</td>\n",
       "      <td>1.000000</td>\n",
       "      <td>6.200000</td>\n",
       "      <td>2.000000</td>\n",
       "      <td>4.000000</td>\n",
       "      <td>3.000000</td>\n",
       "      <td>1.000000</td>\n",
       "    </tr>\n",
       "  </tbody>\n",
       "</table>\n",
       "</div>"
      ],
      "text/plain": [
       "              age         sex          cp    trestbps        chol         fbs  \\\n",
       "count  303.000000  303.000000  303.000000  303.000000  303.000000  303.000000   \n",
       "mean    54.366337    0.683168    0.966997  131.623762  246.264026    0.148515   \n",
       "std      9.082101    0.466011    1.032052   17.538143   51.830751    0.356198   \n",
       "min     29.000000    0.000000    0.000000   94.000000  126.000000    0.000000   \n",
       "25%     47.500000    0.000000    0.000000  120.000000  211.000000    0.000000   \n",
       "50%     55.000000    1.000000    1.000000  130.000000  240.000000    0.000000   \n",
       "75%     61.000000    1.000000    2.000000  140.000000  274.500000    0.000000   \n",
       "max     77.000000    1.000000    3.000000  200.000000  564.000000    1.000000   \n",
       "\n",
       "          restecg     thalach       exang     oldpeak       slope          ca  \\\n",
       "count  303.000000  303.000000  303.000000  303.000000  303.000000  303.000000   \n",
       "mean     0.528053  149.646865    0.326733    1.039604    1.399340    0.729373   \n",
       "std      0.525860   22.905161    0.469794    1.161075    0.616226    1.022606   \n",
       "min      0.000000   71.000000    0.000000    0.000000    0.000000    0.000000   \n",
       "25%      0.000000  133.500000    0.000000    0.000000    1.000000    0.000000   \n",
       "50%      1.000000  153.000000    0.000000    0.800000    1.000000    0.000000   \n",
       "75%      1.000000  166.000000    1.000000    1.600000    2.000000    1.000000   \n",
       "max      2.000000  202.000000    1.000000    6.200000    2.000000    4.000000   \n",
       "\n",
       "             thal      target  \n",
       "count  303.000000  303.000000  \n",
       "mean     2.313531    0.544554  \n",
       "std      0.612277    0.498835  \n",
       "min      0.000000    0.000000  \n",
       "25%      2.000000    0.000000  \n",
       "50%      2.000000    1.000000  \n",
       "75%      3.000000    1.000000  \n",
       "max      3.000000    1.000000  "
      ]
     },
     "execution_count": 8,
     "metadata": {},
     "output_type": "execute_result"
    }
   ],
   "source": [
    "dataset.describe()"
   ]
  },
  {
   "cell_type": "code",
   "execution_count": 9,
   "id": "92e79f8e",
   "metadata": {},
   "outputs": [
    {
     "name": "stdout",
     "output_type": "stream",
     "text": [
      "<class 'pandas.core.frame.DataFrame'>\n",
      "RangeIndex: 303 entries, 0 to 302\n",
      "Data columns (total 14 columns):\n",
      " #   Column    Non-Null Count  Dtype  \n",
      "---  ------    --------------  -----  \n",
      " 0   age       303 non-null    int64  \n",
      " 1   sex       303 non-null    int64  \n",
      " 2   cp        303 non-null    int64  \n",
      " 3   trestbps  303 non-null    int64  \n",
      " 4   chol      303 non-null    int64  \n",
      " 5   fbs       303 non-null    int64  \n",
      " 6   restecg   303 non-null    int64  \n",
      " 7   thalach   303 non-null    int64  \n",
      " 8   exang     303 non-null    int64  \n",
      " 9   oldpeak   303 non-null    float64\n",
      " 10  slope     303 non-null    int64  \n",
      " 11  ca        303 non-null    int64  \n",
      " 12  thal      303 non-null    int64  \n",
      " 13  target    303 non-null    int64  \n",
      "dtypes: float64(1), int64(13)\n",
      "memory usage: 33.3 KB\n"
     ]
    }
   ],
   "source": [
    "dataset.info()"
   ]
  },
  {
   "cell_type": "markdown",
   "id": "6b9d95b9",
   "metadata": {},
   "source": [
    "#### there is no missing values in data"
   ]
  },
  {
   "cell_type": "markdown",
   "id": "32c90a91",
   "metadata": {},
   "source": [
    "### Understanding the dataset"
   ]
  },
  {
   "cell_type": "code",
   "execution_count": 10,
   "id": "220b7120",
   "metadata": {
    "scrolled": true
   },
   "outputs": [
    {
     "data": {
      "text/plain": [
       "<matplotlib.colorbar.Colorbar at 0x7fb8fa0910d0>"
      ]
     },
     "execution_count": 10,
     "metadata": {},
     "output_type": "execute_result"
    },
    {
     "data": {
      "image/png": "[encoded data removed]",
      "text/plain": [
       "<Figure size 1008x1008 with 2 Axes>"
      ]
     },
     "metadata": {
      "needs_background": "light"
     },
     "output_type": "display_data"
    }
   ],
   "source": [
    "rcParams['figure.figsize'] = 20, 14\n",
    "pltp.matshow(dataset.corr())\n",
    "pltp.yticks(npy.arange(dataset.shape[1]), dataset.columns)\n",
    "pltp.xticks(npy.arange(dataset.shape[1]), dataset.columns)\n",
    "pltp.colorbar()"
   ]
  },
  {
   "cell_type": "code",
   "execution_count": 9,
   "id": "ac092e33",
   "metadata": {},
   "outputs": [
    {
     "data": {
      "text/plain": [
       "array([[<AxesSubplot:title={'center':'age'}>,\n",
       "        <AxesSubplot:title={'center':'sex'}>,\n",
       "        <AxesSubplot:title={'center':'cp'}>,\n",
       "        <AxesSubplot:title={'center':'trestbps'}>],\n",
       "       [<AxesSubplot:title={'center':'chol'}>,\n",
       "        <AxesSubplot:title={'center':'fbs'}>,\n",
       "        <AxesSubplot:title={'center':'restecg'}>,\n",
       "        <AxesSubplot:title={'center':'thalach'}>],\n",
       "       [<AxesSubplot:title={'center':'exang'}>,\n",
       "        <AxesSubplot:title={'center':'oldpeak'}>,\n",
       "        <AxesSubplot:title={'center':'slope'}>,\n",
       "        <AxesSubplot:title={'center':'ca'}>],\n",
       "       [<AxesSubplot:title={'center':'thal'}>,\n",
       "        <AxesSubplot:title={'center':'target'}>, <AxesSubplot:>,\n",
       "        <AxesSubplot:>]], dtype=object)"
      ]
     },
     "execution_count": 9,
     "metadata": {},
     "output_type": "execute_result"
    },
    {
     "data": {
      "image/png": "[encoded data removed]",
      "text/plain": [
       "<Figure size 1440x1008 with 16 Axes>"
      ]
     },
     "metadata": {
      "needs_background": "light"
     },
     "output_type": "display_data"
    }
   ],
   "source": [
    "dataset.hist()"
   ]
  },
  {
   "cell_type": "markdown",
   "id": "b08140e2",
   "metadata": {},
   "source": [
    "### Printing the data of each coloumn separately"
   ]
  },
  {
   "cell_type": "code",
   "execution_count": 10,
   "id": "c94c012d",
   "metadata": {},
   "outputs": [
    {
     "data": {
      "text/plain": [
       "Text(0.5, 1.0, 'Count of each Target Class')"
      ]
     },
     "execution_count": 10,
     "metadata": {},
     "output_type": "execute_result"
    },
    {
     "data": {
      "image/png": "[encoded data removed]",
      "text/plain": [
       "<Figure size 576x432 with 1 Axes>"
      ]
     },
     "metadata": {
      "needs_background": "light"
     },
     "output_type": "display_data"
    }
   ],
   "source": [
    "rcParams['figure.figsize'] = 8,6\n",
    "plt.bar(dataset['target'].unique(), dataset['target'].value_counts(), color = ['red', 'green'])\n",
    "plt.xticks([0, 1])\n",
    "plt.xlabel('Target Classes')\n",
    "plt.ylabel('Count')\n",
    "plt.title('Count of each Target Class')"
   ]
  },
  {
   "cell_type": "code",
   "execution_count": 5,
   "id": "0cf834b9",
   "metadata": {},
   "outputs": [
    {
     "name": "stdout",
     "output_type": "stream",
     "text": [
      "age:\t\t\tage\n",
      "sex:\t\t\t1: male, 0: female\n",
      "cp:\t\t\tchest pain type, 1: typical angina, 2: atypical angina, 3: non-anginal pain, 4: asymptomatic\n",
      "trestbps:\t\t\tresting blood pressure\n",
      "chol:\t\t\t serum cholestoral in mg/dl\n",
      "fbs:\t\t\tfasting blood sugar > 120 mg/dl\n",
      "restecg:\t\t\tresting electrocardiographic results (values 0,1,2)\n",
      "thalach:\t\t\t maximum heart rate achieved\n",
      "exang:\t\t\texercise induced angina\n",
      "oldpeak:\t\t\toldpeak = ST depression induced by exercise relative to rest\n",
      "slope:\t\t\tthe slope of the peak exercise ST segment\n",
      "ca:\t\t\tnumber of major vessels (0-3) colored by flourosopy\n",
      "thal:\t\t\tthal: 3 = normal; 6 = fixed defect; 7 = reversable defect\n"
     ]
    }
   ],
   "source": [
    "info = [\"age\",\"1: male, 0: female\",\"chest pain type, 1: typical angina, 2: atypical angina, 3: non-anginal pain, 4: asymptomatic\",\"resting blood pressure\",\" serum cholestoral in mg/dl\",\"fasting blood sugar > 120 mg/dl\",\"resting electrocardiographic results (values 0,1,2)\",\" maximum heart rate achieved\",\"exercise induced angina\",\"oldpeak = ST depression induced by exercise relative to rest\",\"the slope of the peak exercise ST segment\",\"number of major vessels (0-3) colored by flourosopy\",\"thal: 3 = normal; 6 = fixed defect; 7 = reversable defect\"]\n",
    "\n",
    "\n",
    "\n",
    "for i in range(len(info)):\n",
    "    print(dataset.columns[i]+\":\\t\\t\\t\"+info[i])"
   ]
  },
  {
   "cell_type": "markdown",
   "id": "2579d5d5",
   "metadata": {},
   "source": [
    "### Analysing the 'target' value "
   ]
  },
  {
   "cell_type": "code",
   "execution_count": 12,
   "id": "9ac7d423",
   "metadata": {},
   "outputs": [
    {
     "data": {
      "text/plain": [
       "count    303.000000\n",
       "mean       0.544554\n",
       "std        0.498835\n",
       "min        0.000000\n",
       "25%        0.000000\n",
       "50%        1.000000\n",
       "75%        1.000000\n",
       "max        1.000000\n",
       "Name: target, dtype: float64"
      ]
     },
     "execution_count": 12,
     "metadata": {},
     "output_type": "execute_result"
    }
   ],
   "source": [
    "dataset['target'].describe()"
   ]
  },
  {
   "cell_type": "code",
   "execution_count": 13,
   "id": "95c4b512",
   "metadata": {},
   "outputs": [
    {
     "data": {
      "text/plain": [
       "array([1, 0])"
      ]
     },
     "execution_count": 13,
     "metadata": {},
     "output_type": "execute_result"
    }
   ],
   "source": [
    "dataset['target'].unique()"
   ]
  },
  {
   "cell_type": "markdown",
   "id": "62d43af4",
   "metadata": {},
   "source": [
    "### Checking the correlation between the columns "
   ]
  },
  {
   "cell_type": "code",
   "execution_count": 16,
   "id": "91b9fda4",
   "metadata": {},
   "outputs": [
    {
     "name": "stdout",
     "output_type": "stream",
     "text": [
      "target      1.000000\n",
      "exang       0.436757\n",
      "cp          0.433798\n",
      "oldpeak     0.430696\n",
      "thalach     0.421741\n",
      "ca          0.391724\n",
      "slope       0.345877\n",
      "thal        0.344029\n",
      "sex         0.280937\n",
      "age         0.225439\n",
      "trestbps    0.144931\n",
      "restecg     0.137230\n",
      "chol        0.085239\n",
      "fbs         0.028046\n",
      "Name: target, dtype: float64\n"
     ]
    }
   ],
   "source": [
    "print(dataset.corr()['target'].abs().sort_values(ascending=False))"
   ]
  },
  {
   "cell_type": "markdown",
   "id": "105892b3",
   "metadata": {},
   "source": [
    "### this show that most columns are closely correlated with 'target' but fbs is weakly correlated "
   ]
  },
  {
   "cell_type": "markdown",
   "id": "0e76896b",
   "metadata": {},
   "source": [
    "## Exploratory data analysis"
   ]
  },
  {
   "cell_type": "markdown",
   "id": "395d4c1d",
   "metadata": {},
   "source": [
    "### First, analysing the target value "
   ]
  },
  {
   "cell_type": "code",
   "execution_count": 17,
   "id": "c2da82f0",
   "metadata": {},
   "outputs": [
    {
     "name": "stdout",
     "output_type": "stream",
     "text": [
      "1    165\n",
      "0    138\n",
      "Name: target, dtype: int64\n"
     ]
    },
    {
     "data": {
      "image/png": "[encoded data removed]",
      "text/plain": [
       "<Figure size 576x432 with 1 Axes>"
      ]
     },
     "metadata": {
      "needs_background": "light"
     },
     "output_type": "display_data"
    }
   ],
   "source": [
    "y = dataset[\"target\"]\n",
    "\n",
    "sns.countplot(y)\n",
    "\n",
    "\n",
    "target_temp = dataset.target.value_counts()\n",
    "\n",
    "print(target_temp)"
   ]
  },
  {
   "cell_type": "code",
   "execution_count": 20,
   "id": "d327c4b6",
   "metadata": {},
   "outputs": [
    {
     "name": "stdout",
     "output_type": "stream",
     "text": [
      "Percentage of patience without heart problems: 45.54\n",
      "Percentage of patience with heart problems: 54.46\n",
      "Percentage of patience with heart problems: 54.45544554455446\n",
      "Percentage of patience with heart problems: 45.54455445544554\n"
     ]
    }
   ],
   "source": [
    "print(\"Percentage of patience without heart problems: \"+str(round(target_temp[0]*100/303,2)))\n",
    "print(\"Percentage of patience with heart problems: \"+str(round(target_temp[1]*100/303,2)))\n",
    "\n",
    "#Alternatively,\n",
    "print(\"Percentage of patience with heart problems: \"+str(y.where(y==1).count()*100/303))\n",
    "print(\"Percentage of patience with heart problems: \"+str(y.where(y==0).count()*100/303))\n",
    "\n",
    "# #Or,\n",
    "#countNoDisease = len(df[df.target == 0])\n",
    "#countHaveDisease = len(df[df.target == 1])"
   ]
  },
  {
   "cell_type": "markdown",
   "id": "bdd631fd",
   "metadata": {},
   "source": [
    "### Analysing 'sex', 'cp', 'fbs', 'restecg', 'exang', 'slope', 'ca' and 'thal' features\n"
   ]
  },
  {
   "cell_type": "markdown",
   "id": "a7b2ba63",
   "metadata": {},
   "source": [
    "### Analysing the 'Sex' feature"
   ]
  },
  {
   "cell_type": "code",
   "execution_count": 33,
   "id": "82268462",
   "metadata": {},
   "outputs": [
    {
     "data": {
      "text/plain": [
       "<bound method Series.unique of 0      1\n",
       "1      1\n",
       "2      0\n",
       "3      1\n",
       "4      0\n",
       "      ..\n",
       "298    0\n",
       "299    1\n",
       "300    1\n",
       "301    1\n",
       "302    0\n",
       "Name: sex, Length: 303, dtype: int64>"
      ]
     },
     "execution_count": 33,
     "metadata": {},
     "output_type": "execute_result"
    }
   ],
   "source": [
    "dataset['sex'].unique"
   ]
  },
  {
   "cell_type": "markdown",
   "id": "0f0872a7",
   "metadata": {},
   "source": [
    "##### (We notice, that as expected, the 'sex' feature has 2 unique features)"
   ]
  },
  {
   "cell_type": "code",
   "execution_count": 22,
   "id": "4840563d",
   "metadata": {},
   "outputs": [
    {
     "data": {
      "text/plain": [
       "<AxesSubplot:xlabel='sex', ylabel='target'>"
      ]
     },
     "execution_count": 22,
     "metadata": {},
     "output_type": "execute_result"
    },
    {
     "data": {
      "image/png": "[encoded data removed]",
      "text/plain": [
       "<Figure size 576x432 with 1 Axes>"
      ]
     },
     "metadata": {
      "needs_background": "light"
     },
     "output_type": "display_data"
    }
   ],
   "source": [
    "sns.barplot(dataset[\"sex\"],y)"
   ]
  },
  {
   "cell_type": "markdown",
   "id": "c54df9c5",
   "metadata": {},
   "source": [
    "##### We notice, that females are more likely to have heart problems than males"
   ]
  },
  {
   "cell_type": "markdown",
   "id": "5097c9e5",
   "metadata": {},
   "source": [
    "### Analysing the  'Chest pain type'  feature"
   ]
  },
  {
   "cell_type": "code",
   "execution_count": 23,
   "id": "f386270d",
   "metadata": {},
   "outputs": [
    {
     "data": {
      "text/plain": [
       "array([3, 2, 1, 0])"
      ]
     },
     "execution_count": 23,
     "metadata": {},
     "output_type": "execute_result"
    }
   ],
   "source": [
    "dataset['cp'].unique()"
   ]
  },
  {
   "cell_type": "code",
   "execution_count": 24,
   "id": "71e6dd53",
   "metadata": {},
   "outputs": [
    {
     "data": {
      "text/plain": [
       "<AxesSubplot:xlabel='cp', ylabel='target'>"
      ]
     },
     "execution_count": 24,
     "metadata": {},
     "output_type": "execute_result"
    },
    {
     "data": {
      "image/png": "[encoded data removed]",
      "text/plain": [
       "<Figure size 576x432 with 1 Axes>"
      ]
     },
     "metadata": {
      "needs_background": "light"
     },
     "output_type": "display_data"
    }
   ],
   "source": [
    "sns.barplot(dataset['cp'],y)"
   ]
  },
  {
   "cell_type": "markdown",
   "id": "000dd531",
   "metadata": {},
   "source": [
    "##### We notice, that chest pain of '0', i.e. the ones with typical angina are much less likely to have heart problems"
   ]
  },
  {
   "cell_type": "markdown",
   "id": "2b6709c8",
   "metadata": {},
   "source": [
    "### Analysing the FBS feature"
   ]
  },
  {
   "cell_type": "code",
   "execution_count": 25,
   "id": "3c236c83",
   "metadata": {},
   "outputs": [
    {
     "data": {
      "text/plain": [
       "count    303.000000\n",
       "mean       0.148515\n",
       "std        0.356198\n",
       "min        0.000000\n",
       "25%        0.000000\n",
       "50%        0.000000\n",
       "75%        0.000000\n",
       "max        1.000000\n",
       "Name: fbs, dtype: float64"
      ]
     },
     "execution_count": 25,
     "metadata": {},
     "output_type": "execute_result"
    }
   ],
   "source": [
    "\n",
    "dataset[\"fbs\"].describe()\n"
   ]
  },
  {
   "cell_type": "code",
   "execution_count": 26,
   "id": "b5033257",
   "metadata": {},
   "outputs": [
    {
     "data": {
      "text/plain": [
       "array([1, 0])"
      ]
     },
     "execution_count": 26,
     "metadata": {},
     "output_type": "execute_result"
    }
   ],
   "source": [
    "dataset[\"fbs\"].unique()\n"
   ]
  },
  {
   "cell_type": "code",
   "execution_count": 27,
   "id": "206bbd47",
   "metadata": {},
   "outputs": [
    {
     "data": {
      "text/plain": [
       "<AxesSubplot:xlabel='fbs', ylabel='target'>"
      ]
     },
     "execution_count": 27,
     "metadata": {},
     "output_type": "execute_result"
    },
    {
     "data": {
      "image/png": "[encoded data removed]",
      "text/plain": [
       "<Figure size 576x432 with 1 Axes>"
      ]
     },
     "metadata": {
      "needs_background": "light"
     },
     "output_type": "display_data"
    }
   ],
   "source": [
    "sns.barplot(dataset[\"fbs\"],y)"
   ]
  },
  {
   "cell_type": "markdown",
   "id": "37c4be15",
   "metadata": {},
   "source": [
    "##### Nothing extraordinary here"
   ]
  },
  {
   "cell_type": "markdown",
   "id": "cdc895dd",
   "metadata": {},
   "source": [
    "### Analysing the restecg feature"
   ]
  },
  {
   "cell_type": "code",
   "execution_count": 28,
   "id": "573de128",
   "metadata": {},
   "outputs": [
    {
     "data": {
      "text/plain": [
       "array([0, 1, 2])"
      ]
     },
     "execution_count": 28,
     "metadata": {},
     "output_type": "execute_result"
    }
   ],
   "source": [
    "\n",
    "dataset[\"restecg\"].unique()\n"
   ]
  },
  {
   "cell_type": "code",
   "execution_count": 29,
   "id": "87529b0c",
   "metadata": {},
   "outputs": [
    {
     "data": {
      "text/plain": [
       "<AxesSubplot:xlabel='restecg', ylabel='target'>"
      ]
     },
     "execution_count": 29,
     "metadata": {},
     "output_type": "execute_result"
    },
    {
     "data": {
      "image/png": "[encoded data removed]",
      "text/plain": [
       "<Figure size 576x432 with 1 Axes>"
      ]
     },
     "metadata": {
      "needs_background": "light"
     },
     "output_type": "display_data"
    }
   ],
   "source": [
    "sns.barplot(dataset[\"restecg\"],y)"
   ]
  },
  {
   "cell_type": "markdown",
   "id": "ec90dcbb",
   "metadata": {},
   "source": [
    "##### We realize that people with restecg '1' and '0' are much more likely to have a heart disease than with restecg '2'"
   ]
  },
  {
   "cell_type": "markdown",
   "id": "2571b8bb",
   "metadata": {},
   "source": [
    "### Analysing the 'exang' feature"
   ]
  },
  {
   "cell_type": "code",
   "execution_count": 32,
   "id": "a5856781",
   "metadata": {},
   "outputs": [
    {
     "data": {
      "text/plain": [
       "array([0, 1])"
      ]
     },
     "execution_count": 32,
     "metadata": {},
     "output_type": "execute_result"
    }
   ],
   "source": [
    "dataset[\"exang\"].unique()\n"
   ]
  },
  {
   "cell_type": "code",
   "execution_count": 31,
   "id": "fd669396",
   "metadata": {},
   "outputs": [
    {
     "data": {
      "text/plain": [
       "<AxesSubplot:xlabel='exang', ylabel='target'>"
      ]
     },
     "execution_count": 31,
     "metadata": {},
     "output_type": "execute_result"
    },
    {
     "data": {
      "image/png": "[encoded data removed]",
      "text/plain": [
       "<Figure size 576x432 with 1 Axes>"
      ]
     },
     "metadata": {
      "needs_background": "light"
     },
     "output_type": "display_data"
    }
   ],
   "source": [
    "sns.barplot(dataset[\"exang\"],y)"
   ]
  },
  {
   "cell_type": "markdown",
   "id": "59ff4566",
   "metadata": {},
   "source": [
    "##### People with exang=1 i.e. Exercise induced angina are much less likely to have heart problems"
   ]
  },
  {
   "cell_type": "markdown",
   "id": "3ea8e99c",
   "metadata": {},
   "source": [
    "### Analysing the Slope feature"
   ]
  },
  {
   "cell_type": "code",
   "execution_count": 34,
   "id": "e71fce60",
   "metadata": {},
   "outputs": [
    {
     "data": {
      "text/plain": [
       "array([0, 2, 1])"
      ]
     },
     "execution_count": 34,
     "metadata": {},
     "output_type": "execute_result"
    }
   ],
   "source": [
    "\n",
    "dataset[\"slope\"].unique()\n"
   ]
  },
  {
   "cell_type": "code",
   "execution_count": 35,
   "id": "3c471f06",
   "metadata": {},
   "outputs": [
    {
     "data": {
      "text/plain": [
       "<AxesSubplot:xlabel='slope', ylabel='target'>"
      ]
     },
     "execution_count": 35,
     "metadata": {},
     "output_type": "execute_result"
    },
    {
     "data": {
      "image/png": "[encoded data removed]",
      "text/plain": [
       "<Figure size 576x432 with 1 Axes>"
      ]
     },
     "metadata": {
      "needs_background": "light"
     },
     "output_type": "display_data"
    }
   ],
   "source": [
    "sns.barplot(dataset[\"slope\"],y)"
   ]
  },
  {
   "cell_type": "markdown",
   "id": "72ed0a36",
   "metadata": {},
   "source": [
    "##### We observe, that Slope '2' causes heart pain much more than Slope '0' and '1'"
   ]
  },
  {
   "cell_type": "markdown",
   "id": "a6531d27",
   "metadata": {},
   "source": [
    "### Analysing the 'ca' feature"
   ]
  },
  {
   "cell_type": "code",
   "execution_count": 36,
   "id": "42cf028c",
   "metadata": {},
   "outputs": [
    {
     "data": {
      "text/plain": [
       "array([0, 2, 1, 3, 4])"
      ]
     },
     "execution_count": 36,
     "metadata": {},
     "output_type": "execute_result"
    }
   ],
   "source": [
    "\n",
    "#number of major vessels (0-3) colored by flourosopy\n",
    "dataset[\"ca\"].unique()\n"
   ]
  },
  {
   "cell_type": "code",
   "execution_count": 37,
   "id": "6cb86858",
   "metadata": {},
   "outputs": [
    {
     "data": {
      "text/plain": [
       "<AxesSubplot:xlabel='ca', ylabel='count'>"
      ]
     },
     "execution_count": 37,
     "metadata": {},
     "output_type": "execute_result"
    },
    {
     "data": {
      "image/png": "[encoded data removed]",
      "text/plain": [
       "<Figure size 576x432 with 1 Axes>"
      ]
     },
     "metadata": {
      "needs_background": "light"
     },
     "output_type": "display_data"
    }
   ],
   "source": [
    "sns.countplot(dataset[\"ca\"])"
   ]
  },
  {
   "cell_type": "code",
   "execution_count": 38,
   "id": "8cf42b9d",
   "metadata": {},
   "outputs": [
    {
     "data": {
      "text/plain": [
       "<AxesSubplot:xlabel='ca', ylabel='target'>"
      ]
     },
     "execution_count": 38,
     "metadata": {},
     "output_type": "execute_result"
    },
    {
     "data": {
      "image/png": "[encoded data removed]",
      "text/plain": [
       "<Figure size 576x432 with 1 Axes>"
      ]
     },
     "metadata": {
      "needs_background": "light"
     },
     "output_type": "display_data"
    }
   ],
   "source": [
    "sns.barplot(dataset[\"ca\"],y)"
   ]
  },
  {
   "cell_type": "markdown",
   "id": "479f460d",
   "metadata": {},
   "source": [
    "##### ca=4 has astonishingly large number of heart patients"
   ]
  },
  {
   "cell_type": "markdown",
   "id": "8e919faa",
   "metadata": {},
   "source": [
    "### Analysing the 'thal' feature"
   ]
  },
  {
   "cell_type": "code",
   "execution_count": 39,
   "id": "c6cd67cd",
   "metadata": {},
   "outputs": [
    {
     "data": {
      "text/plain": [
       "array([1, 2, 3, 0])"
      ]
     },
     "execution_count": 39,
     "metadata": {},
     "output_type": "execute_result"
    }
   ],
   "source": [
    "\n",
    "dataset[\"thal\"].unique()\n"
   ]
  },
  {
   "cell_type": "code",
   "execution_count": 40,
   "id": "fa1da8c1",
   "metadata": {},
   "outputs": [
    {
     "data": {
      "text/plain": [
       "<AxesSubplot:xlabel='thal', ylabel='target'>"
      ]
     },
     "execution_count": 40,
     "metadata": {},
     "output_type": "execute_result"
    },
    {
     "data": {
      "image/png": "[encoded data removed]",
      "text/plain": [
       "<Figure size 576x432 with 1 Axes>"
      ]
     },
     "metadata": {
      "needs_background": "light"
     },
     "output_type": "display_data"
    }
   ],
   "source": [
    "sns.barplot(dataset[\"thal\"],y)"
   ]
  },
  {
   "cell_type": "code",
   "execution_count": 41,
   "id": "840c2661",
   "metadata": {},
   "outputs": [
    {
     "data": {
      "text/plain": [
       "<AxesSubplot:xlabel='thal', ylabel='Density'>"
      ]
     },
     "execution_count": 41,
     "metadata": {},
     "output_type": "execute_result"
    },
    {
     "data": {
      "image/png": "[encoded data removed]",
      "text/plain": [
       "<Figure size 576x432 with 1 Axes>"
      ]
     },
     "metadata": {
      "needs_background": "light"
     },
     "output_type": "display_data"
    }
   ],
   "source": [
    "sns.distplot(dataset[\"thal\"])"
   ]
  },
  {
   "cell_type": "markdown",
   "id": "18b29fe9",
   "metadata": {},
   "source": [
    "## IV. Train Test split "
   ]
  },
  {
   "cell_type": "code",
   "execution_count": 37,
   "id": "5eaea461",
   "metadata": {},
   "outputs": [],
   "source": [
    "from sklearn.model_selection import train_test_split\n",
    "\n",
    "predictors = dataset.drop(\"target\",axis=1)\n",
    "target = dataset[\"target\"]\n",
    "\n",
    "X_train,X_test,Y_train,Y_test = train_test_split(predictors,target,test_size=0.20,random_state=0)"
   ]
  },
  {
   "cell_type": "code",
   "execution_count": 38,
   "id": "8d0790d4",
   "metadata": {},
   "outputs": [
    {
     "data": {
      "text/plain": [
       "(242, 13)"
      ]
     },
     "execution_count": 38,
     "metadata": {},
     "output_type": "execute_result"
    }
   ],
   "source": [
    "X_train.shape"
   ]
  },
  {
   "cell_type": "code",
   "execution_count": 9,
   "id": "d7cf6179",
   "metadata": {},
   "outputs": [
    {
     "data": {
      "text/plain": [
       "(242,)"
      ]
     },
     "execution_count": 9,
     "metadata": {},
     "output_type": "execute_result"
    }
   ],
   "source": [
    "Y_train.shape"
   ]
  },
  {
   "cell_type": "code",
   "execution_count": 10,
   "id": "2c818f07",
   "metadata": {},
   "outputs": [
    {
     "data": {
      "text/plain": [
       "(61, 13)"
      ]
     },
     "execution_count": 10,
     "metadata": {},
     "output_type": "execute_result"
    }
   ],
   "source": [
    "X_test.shape"
   ]
  },
  {
   "cell_type": "code",
   "execution_count": 11,
   "id": "158d3b2a",
   "metadata": {},
   "outputs": [
    {
     "data": {
      "text/plain": [
       "(61,)"
      ]
     },
     "execution_count": 11,
     "metadata": {},
     "output_type": "execute_result"
    }
   ],
   "source": [
    "Y_test.shape"
   ]
  },
  {
   "cell_type": "markdown",
   "id": "f2241811",
   "metadata": {},
   "source": [
    "### Model fitting"
   ]
  },
  {
   "cell_type": "code",
   "execution_count": 9,
   "id": "13ba3dd9",
   "metadata": {},
   "outputs": [],
   "source": [
    "from sklearn.metrics import accuracy_score"
   ]
  },
  {
   "cell_type": "markdown",
   "id": "51dc987d",
   "metadata": {},
   "source": [
    "### Logistic Regression"
   ]
  },
  {
   "cell_type": "code",
   "execution_count": 39,
   "id": "83830828",
   "metadata": {},
   "outputs": [],
   "source": [
    "from sklearn.linear_model import LogisticRegression\n",
    "\n",
    "lr = LogisticRegression()\n",
    "\n",
    "lr.fit(X_train,Y_train)\n",
    "\n",
    "Y_pred_lr = lr.predict(X_test)"
   ]
  },
  {
   "cell_type": "code",
   "execution_count": 40,
   "id": "2b3fa340",
   "metadata": {},
   "outputs": [
    {
     "data": {
      "text/plain": [
       "(61,)"
      ]
     },
     "execution_count": 40,
     "metadata": {},
     "output_type": "execute_result"
    }
   ],
   "source": [
    "Y_pred_lr.shape"
   ]
  },
  {
   "cell_type": "code",
   "execution_count": 41,
   "id": "7c9e3a81",
   "metadata": {},
   "outputs": [
    {
     "name": "stdout",
     "output_type": "stream",
     "text": [
      "The accuracy score achieved using Logistic Regression is: 85.25 %\n"
     ]
    }
   ],
   "source": [
    "score_lr = round(accuracy_score(Y_pred_lr,Y_test)*100,2)\n",
    "\n",
    "print(\"The accuracy score achieved using Logistic Regression is: \"+str(score_lr)+\" %\")"
   ]
  },
  {
   "cell_type": "markdown",
   "id": "b6572712",
   "metadata": {},
   "source": [
    "### Naive Bayes"
   ]
  },
  {
   "cell_type": "code",
   "execution_count": 42,
   "id": "e1cb9c95",
   "metadata": {},
   "outputs": [],
   "source": [
    "from sklearn.naive_bayes import GaussianNB\n",
    "\n",
    "nb = GaussianNB()\n",
    "\n",
    "nb.fit(X_train,Y_train)\n",
    "\n",
    "Y_pred_nb = nb.predict(X_test)"
   ]
  },
  {
   "cell_type": "code",
   "execution_count": 43,
   "id": "72492f92",
   "metadata": {},
   "outputs": [
    {
     "name": "stdout",
     "output_type": "stream",
     "text": [
      "The accuracy score achieved using Naive Bayes is: 85.25 %\n"
     ]
    }
   ],
   "source": [
    "score_nb = round(accuracy_score(Y_pred_nb,Y_test)*100,2)\n",
    "\n",
    "print(\"The accuracy score achieved using Naive Bayes is: \"+str(score_nb)+\" %\")"
   ]
  },
  {
   "cell_type": "markdown",
   "id": "fdc0bb9b",
   "metadata": {},
   "source": [
    "## SVM"
   ]
  },
  {
   "cell_type": "code",
   "execution_count": 44,
   "id": "d3b89d11",
   "metadata": {},
   "outputs": [],
   "source": [
    "from sklearn import svm\n",
    "\n",
    "sv = svm.SVC(kernel='linear')\n",
    "\n",
    "sv.fit(X_train, Y_train)\n",
    "\n",
    "Y_pred_svm = sv.predict(X_test) "
   ]
  },
  {
   "cell_type": "code",
   "execution_count": 45,
   "id": "8c11cfaa",
   "metadata": {},
   "outputs": [
    {
     "data": {
      "text/plain": [
       "(61,)"
      ]
     },
     "execution_count": 45,
     "metadata": {},
     "output_type": "execute_result"
    }
   ],
   "source": [
    "Y_pred_svm.shape"
   ]
  },
  {
   "cell_type": "code",
   "execution_count": 46,
   "id": "7de346c2",
   "metadata": {},
   "outputs": [
    {
     "name": "stdout",
     "output_type": "stream",
     "text": [
      "The accuracy score achieved using Linear SVM is: 81.97 %\n"
     ]
    }
   ],
   "source": [
    "score_svm = round(accuracy_score(Y_pred_svm,Y_test)*100,2)\n",
    "\n",
    "print(\"The accuracy score achieved using Linear SVM is: \"+str(score_svm)+\" %\")"
   ]
  },
  {
   "cell_type": "markdown",
   "id": "8a59578d",
   "metadata": {},
   "source": [
    "## K Nearest Neighbors "
   ]
  },
  {
   "cell_type": "code",
   "execution_count": 47,
   "id": "2c6d36e9",
   "metadata": {},
   "outputs": [],
   "source": [
    "from sklearn.neighbors import KNeighborsClassifier\n",
    "\n",
    "knn = KNeighborsClassifier(n_neighbors=7)\n",
    "knn.fit(X_train,Y_train)\n",
    "Y_pred_knn=knn.predict(X_test)"
   ]
  },
  {
   "cell_type": "code",
   "execution_count": 48,
   "id": "e4aeee0f",
   "metadata": {},
   "outputs": [
    {
     "data": {
      "text/plain": [
       "(61,)"
      ]
     },
     "execution_count": 48,
     "metadata": {},
     "output_type": "execute_result"
    }
   ],
   "source": [
    "Y_pred_knn.shape"
   ]
  },
  {
   "cell_type": "code",
   "execution_count": 50,
   "id": "ab8fa95f",
   "metadata": {},
   "outputs": [
    {
     "name": "stdout",
     "output_type": "stream",
     "text": [
      "The accuracy score achieved using KNN is: 67.21 %\n"
     ]
    }
   ],
   "source": [
    "score_knn = round(accuracy_score(Y_pred_knn,Y_test)*100,2)\n",
    "\n",
    "print(\"The accuracy score achieved using KNN is: \"+str(score_knn)+\" %\")"
   ]
  },
  {
   "cell_type": "markdown",
   "id": "9293b138",
   "metadata": {},
   "source": [
    "## Decision Tree"
   ]
  },
  {
   "cell_type": "code",
   "execution_count": 51,
   "id": "ee3eede8",
   "metadata": {},
   "outputs": [],
   "source": [
    "from sklearn.tree import DecisionTreeClassifier\n",
    "\n",
    "max_accuracy = 0\n",
    "\n",
    "\n",
    "for x in range(200):\n",
    "    dt = DecisionTreeClassifier(random_state=x)\n",
    "    dt.fit(X_train,Y_train)\n",
    "    Y_pred_dt = dt.predict(X_test)\n",
    "    current_accuracy = round(accuracy_score(Y_pred_dt,Y_test)*100,2)\n",
    "    if(current_accuracy>max_accuracy):\n",
    "        max_accuracy = current_accuracy\n",
    "        best_x = x\n",
    "        \n",
    "#print(max_accuracy)\n",
    "#print(best_x)\n",
    "\n",
    "\n",
    "dt = DecisionTreeClassifier(random_state=best_x)\n",
    "dt.fit(X_train,Y_train)\n",
    "Y_pred_dt = dt.predict(X_test)"
   ]
  },
  {
   "cell_type": "code",
   "execution_count": 52,
   "id": "f0f658a7",
   "metadata": {},
   "outputs": [
    {
     "name": "stdout",
     "output_type": "stream",
     "text": [
      "(61,)\n"
     ]
    }
   ],
   "source": [
    "print(Y_pred_dt.shape)"
   ]
  },
  {
   "cell_type": "code",
   "execution_count": 53,
   "id": "ff08e677",
   "metadata": {},
   "outputs": [
    {
     "name": "stdout",
     "output_type": "stream",
     "text": [
      "The accuracy score achieved using Decision Tree is: 81.97 %\n"
     ]
    }
   ],
   "source": [
    "score_dt = round(accuracy_score(Y_pred_dt,Y_test)*100,2)\n",
    "\n",
    "print(\"The accuracy score achieved using Decision Tree is: \"+str(score_dt)+\" %\")"
   ]
  },
  {
   "cell_type": "markdown",
   "id": "872050d9",
   "metadata": {},
   "source": [
    "## Random Forest"
   ]
  },
  {
   "cell_type": "code",
   "execution_count": 16,
   "id": "f24f1fa8",
   "metadata": {},
   "outputs": [],
   "source": [
    "from sklearn.ensemble import RandomForestClassifier\n",
    "\n",
    "max_accuracy = 0\n",
    "\n",
    "\n",
    "for x in range(2000):\n",
    "    rf = RandomForestClassifier(random_state=x)\n",
    "    rf.fit(X_train,Y_train)\n",
    "    Y_pred_rf = rf.predict(X_test)\n",
    "    current_accuracy = round(accuracy_score(Y_pred_rf,Y_test)*100,2)\n",
    "    if(current_accuracy>max_accuracy):\n",
    "        max_accuracy = current_accuracy\n",
    "        best_x = x\n",
    "        \n",
    "#print(max_accuracy)\n",
    "#print(best_x)\n",
    "\n",
    "rf = RandomForestClassifier(random_state=best_x)\n",
    "rf.fit(X_train,Y_train)\n",
    "Y_pred_rf = rf.predict(X_test)"
   ]
  },
  {
   "cell_type": "code",
   "execution_count": 17,
   "id": "9d86c754",
   "metadata": {},
   "outputs": [
    {
     "data": {
      "text/plain": [
       "(61,)"
      ]
     },
     "execution_count": 17,
     "metadata": {},
     "output_type": "execute_result"
    }
   ],
   "source": [
    "Y_pred_rf.shape"
   ]
  },
  {
   "cell_type": "code",
   "execution_count": 19,
   "id": "54cb1880",
   "metadata": {},
   "outputs": [
    {
     "name": "stdout",
     "output_type": "stream",
     "text": [
      "The accuracy score achieved using Decision Tree is: 90.16 %\n"
     ]
    }
   ],
   "source": [
    "score_rf = round(accuracy_score(Y_pred_rf,Y_test)*100,2)\n",
    "\n",
    "print(\"The accuracy score achieved using Decision Tree is: \"+str(score_rf)+\" %\")"
   ]
  },
  {
   "cell_type": "markdown",
   "id": "f70f2f46",
   "metadata": {},
   "source": [
    "## XGBoost"
   ]
  },
  {
   "cell_type": "code",
   "execution_count": 22,
   "id": "94edf984",
   "metadata": {},
   "outputs": [],
   "source": [
    "import xgboost as xgb\n",
    "\n",
    "xgb_model = xgb.XGBClassifier(objective=\"binary:logistic\", random_state=42)\n",
    "xgb_model.fit(X_train, Y_train)\n",
    "\n",
    "Y_pred_xgb = xgb_model.predict(X_test)"
   ]
  },
  {
   "cell_type": "code",
   "execution_count": 23,
   "id": "9a2b13c8",
   "metadata": {},
   "outputs": [
    {
     "data": {
      "text/plain": [
       "(61,)"
      ]
     },
     "execution_count": 23,
     "metadata": {},
     "output_type": "execute_result"
    }
   ],
   "source": [
    "Y_pred_xgb.shape"
   ]
  },
  {
   "cell_type": "code",
   "execution_count": 24,
   "id": "8e582ece",
   "metadata": {},
   "outputs": [
    {
     "name": "stdout",
     "output_type": "stream",
     "text": [
      "The accuracy score achieved using XGBoost is: 85.25 %\n"
     ]
    }
   ],
   "source": [
    "score_xgb = round(accuracy_score(Y_pred_xgb,Y_test)*100,2)\n",
    "\n",
    "print(\"The accuracy score achieved using XGBoost is: \"+str(score_xgb)+\" %\")"
   ]
  },
  {
   "cell_type": "markdown",
   "id": "f8de41d6",
   "metadata": {},
   "source": [
    "## Neural Network"
   ]
  },
  {
   "cell_type": "code",
   "execution_count": 29,
   "id": "00ced060",
   "metadata": {},
   "outputs": [],
   "source": [
    "from keras.models import Sequential\n",
    "from keras.layers import Dense"
   ]
  },
  {
   "cell_type": "code",
   "execution_count": 30,
   "id": "135d7424",
   "metadata": {},
   "outputs": [
    {
     "name": "stderr",
     "output_type": "stream",
     "text": [
      "2022-04-22 00:22:35.669757: W tensorflow/stream_executor/platform/default/dso_loader.cc:64] Could not load dynamic library 'libcuda.so.1'; dlerror: libcuda.so.1: cannot open shared object file: No such file or directory\n",
      "2022-04-22 00:22:35.669826: W tensorflow/stream_executor/cuda/cuda_driver.cc:269] failed call to cuInit: UNKNOWN ERROR (303)\n",
      "2022-04-22 00:22:35.669859: I tensorflow/stream_executor/cuda/cuda_diagnostics.cc:156] kernel driver does not appear to be running on this host (shreyansh-VirtualBox): /proc/driver/nvidia/version does not exist\n",
      "2022-04-22 00:22:35.670210: I tensorflow/core/platform/cpu_feature_guard.cc:151] This TensorFlow binary is optimized with oneAPI Deep Neural Network Library (oneDNN) to use the following CPU instructions in performance-critical operations:  AVX2\n",
      "To enable them in other operations, rebuild TensorFlow with the appropriate compiler flags.\n"
     ]
    }
   ],
   "source": [
    "# https://stats.stackexchange.com/a/136542 helped a lot in avoiding overfitting\n",
    "\n",
    "model = Sequential()\n",
    "model.add(Dense(11,activation='relu',input_dim=13))\n",
    "model.add(Dense(1,activation='sigmoid'))\n",
    "\n",
    "model.compile(loss='binary_crossentropy',optimizer='adam',metrics=['accuracy'])"
   ]
  },
  {
   "cell_type": "code",
   "execution_count": 31,
   "id": "3a19f2eb",
   "metadata": {},
   "outputs": [
    {
     "name": "stdout",
     "output_type": "stream",
     "text": [
      "Epoch 1/300\n",
      "8/8 [==============================] - 1s 7ms/step - loss: 21.2891 - accuracy: 0.5413\n",
      "Epoch 2/300\n",
      "8/8 [==============================] - 0s 8ms/step - loss: 16.0090 - accuracy: 0.5413\n",
      "Epoch 3/300\n",
      "8/8 [==============================] - 0s 9ms/step - loss: 11.0095 - accuracy: 0.5124\n",
      "Epoch 4/300\n",
      "8/8 [==============================] - 0s 7ms/step - loss: 7.5481 - accuracy: 0.3843\n",
      "Epoch 5/300\n",
      "8/8 [==============================] - 0s 8ms/step - loss: 6.1504 - accuracy: 0.3182\n",
      "Epoch 6/300\n",
      "8/8 [==============================] - 0s 8ms/step - loss: 6.0013 - accuracy: 0.3388\n",
      "Epoch 7/300\n",
      "8/8 [==============================] - 0s 7ms/step - loss: 5.4648 - accuracy: 0.3430\n",
      "Epoch 8/300\n",
      "8/8 [==============================] - 0s 6ms/step - loss: 4.9408 - accuracy: 0.3223\n",
      "Epoch 9/300\n",
      "8/8 [==============================] - 0s 7ms/step - loss: 4.4269 - accuracy: 0.3719\n",
      "Epoch 10/300\n",
      "8/8 [==============================] - 0s 9ms/step - loss: 3.9187 - accuracy: 0.3512\n",
      "Epoch 11/300\n",
      "8/8 [==============================] - 0s 10ms/step - loss: 3.5359 - accuracy: 0.3388\n",
      "Epoch 12/300\n",
      "8/8 [==============================] - 0s 11ms/step - loss: 3.2488 - accuracy: 0.3554\n",
      "Epoch 13/300\n",
      "8/8 [==============================] - 0s 9ms/step - loss: 2.9696 - accuracy: 0.3512\n",
      "Epoch 14/300\n",
      "8/8 [==============================] - 0s 7ms/step - loss: 2.7510 - accuracy: 0.3512\n",
      "Epoch 15/300\n",
      "8/8 [==============================] - 0s 10ms/step - loss: 2.5366 - accuracy: 0.3595\n",
      "Epoch 16/300\n",
      "8/8 [==============================] - 0s 12ms/step - loss: 2.3558 - accuracy: 0.3802\n",
      "Epoch 17/300\n",
      "8/8 [==============================] - 0s 8ms/step - loss: 2.2197 - accuracy: 0.3471\n",
      "Epoch 18/300\n",
      "8/8 [==============================] - 0s 10ms/step - loss: 2.0864 - accuracy: 0.3760\n",
      "Epoch 19/300\n",
      "8/8 [==============================] - 0s 10ms/step - loss: 1.8428 - accuracy: 0.3636\n",
      "Epoch 20/300\n",
      "8/8 [==============================] - 0s 6ms/step - loss: 1.6713 - accuracy: 0.4050\n",
      "Epoch 21/300\n",
      "8/8 [==============================] - 0s 8ms/step - loss: 1.5149 - accuracy: 0.4091\n",
      "Epoch 22/300\n",
      "8/8 [==============================] - 0s 9ms/step - loss: 1.3746 - accuracy: 0.4091\n",
      "Epoch 23/300\n",
      "8/8 [==============================] - 0s 11ms/step - loss: 1.2675 - accuracy: 0.4256\n",
      "Epoch 24/300\n",
      "8/8 [==============================] - 0s 7ms/step - loss: 1.1124 - accuracy: 0.4421\n",
      "Epoch 25/300\n",
      "8/8 [==============================] - 0s 9ms/step - loss: 1.0239 - accuracy: 0.4711\n",
      "Epoch 26/300\n",
      "8/8 [==============================] - 0s 9ms/step - loss: 0.9296 - accuracy: 0.5331\n",
      "Epoch 27/300\n",
      "8/8 [==============================] - 0s 10ms/step - loss: 0.8456 - accuracy: 0.5702\n",
      "Epoch 28/300\n",
      "8/8 [==============================] - 0s 7ms/step - loss: 0.7905 - accuracy: 0.5992\n",
      "Epoch 29/300\n",
      "8/8 [==============================] - 0s 7ms/step - loss: 0.7565 - accuracy: 0.6033\n",
      "Epoch 30/300\n",
      "8/8 [==============================] - 0s 4ms/step - loss: 0.7026 - accuracy: 0.6198\n",
      "Epoch 31/300\n",
      "8/8 [==============================] - 0s 5ms/step - loss: 0.6722 - accuracy: 0.6488\n",
      "Epoch 32/300\n",
      "8/8 [==============================] - 0s 7ms/step - loss: 0.6394 - accuracy: 0.6612\n",
      "Epoch 33/300\n",
      "8/8 [==============================] - 0s 6ms/step - loss: 0.6231 - accuracy: 0.6777\n",
      "Epoch 34/300\n",
      "8/8 [==============================] - 0s 7ms/step - loss: 0.6080 - accuracy: 0.6818\n",
      "Epoch 35/300\n",
      "8/8 [==============================] - 0s 10ms/step - loss: 0.5986 - accuracy: 0.6901\n",
      "Epoch 36/300\n",
      "8/8 [==============================] - 0s 11ms/step - loss: 0.5834 - accuracy: 0.7190\n",
      "Epoch 37/300\n",
      "8/8 [==============================] - 0s 7ms/step - loss: 0.5755 - accuracy: 0.7149\n",
      "Epoch 38/300\n",
      "8/8 [==============================] - 0s 7ms/step - loss: 0.5667 - accuracy: 0.7314\n",
      "Epoch 39/300\n",
      "8/8 [==============================] - 0s 10ms/step - loss: 0.5613 - accuracy: 0.7107\n",
      "Epoch 40/300\n",
      "8/8 [==============================] - 0s 10ms/step - loss: 0.5492 - accuracy: 0.7397\n",
      "Epoch 41/300\n",
      "8/8 [==============================] - 0s 9ms/step - loss: 0.5479 - accuracy: 0.7355\n",
      "Epoch 42/300\n",
      "8/8 [==============================] - 0s 10ms/step - loss: 0.5369 - accuracy: 0.7355\n",
      "Epoch 43/300\n",
      "8/8 [==============================] - 0s 10ms/step - loss: 0.5364 - accuracy: 0.7438\n",
      "Epoch 44/300\n",
      "8/8 [==============================] - 0s 9ms/step - loss: 0.5441 - accuracy: 0.7231\n",
      "Epoch 45/300\n",
      "8/8 [==============================] - 0s 7ms/step - loss: 0.5287 - accuracy: 0.7355\n",
      "Epoch 46/300\n",
      "8/8 [==============================] - 0s 9ms/step - loss: 0.5162 - accuracy: 0.7438\n",
      "Epoch 47/300\n",
      "8/8 [==============================] - 0s 11ms/step - loss: 0.5227 - accuracy: 0.7562\n",
      "Epoch 48/300\n",
      "8/8 [==============================] - 0s 12ms/step - loss: 0.5118 - accuracy: 0.7645\n",
      "Epoch 49/300\n",
      "8/8 [==============================] - 0s 8ms/step - loss: 0.5040 - accuracy: 0.7521\n",
      "Epoch 50/300\n",
      "8/8 [==============================] - 0s 7ms/step - loss: 0.5025 - accuracy: 0.7603\n",
      "Epoch 51/300\n",
      "8/8 [==============================] - 0s 10ms/step - loss: 0.5037 - accuracy: 0.7603\n",
      "Epoch 52/300\n",
      "8/8 [==============================] - 0s 10ms/step - loss: 0.5029 - accuracy: 0.7810\n",
      "Epoch 53/300\n",
      "8/8 [==============================] - 0s 9ms/step - loss: 0.4964 - accuracy: 0.7645\n",
      "Epoch 54/300\n",
      "8/8 [==============================] - 0s 7ms/step - loss: 0.4900 - accuracy: 0.7727\n",
      "Epoch 55/300\n",
      "8/8 [==============================] - 0s 7ms/step - loss: 0.4871 - accuracy: 0.7810\n",
      "Epoch 56/300\n",
      "8/8 [==============================] - 0s 9ms/step - loss: 0.4847 - accuracy: 0.7851\n",
      "Epoch 57/300\n",
      "8/8 [==============================] - 0s 9ms/step - loss: 0.4915 - accuracy: 0.7727\n",
      "Epoch 58/300\n",
      "8/8 [==============================] - 0s 7ms/step - loss: 0.4838 - accuracy: 0.7769\n",
      "Epoch 59/300\n",
      "8/8 [==============================] - 0s 12ms/step - loss: 0.4838 - accuracy: 0.7851\n",
      "Epoch 60/300\n",
      "8/8 [==============================] - 0s 14ms/step - loss: 0.4761 - accuracy: 0.7851\n",
      "Epoch 61/300\n",
      "8/8 [==============================] - 0s 14ms/step - loss: 0.4713 - accuracy: 0.7934\n",
      "Epoch 62/300\n",
      "8/8 [==============================] - 0s 10ms/step - loss: 0.4714 - accuracy: 0.7934\n",
      "Epoch 63/300\n",
      "8/8 [==============================] - 0s 9ms/step - loss: 0.4651 - accuracy: 0.7893\n",
      "Epoch 64/300\n",
      "8/8 [==============================] - 0s 12ms/step - loss: 0.4688 - accuracy: 0.7893\n",
      "Epoch 65/300\n",
      "8/8 [==============================] - 0s 14ms/step - loss: 0.4685 - accuracy: 0.7686\n",
      "Epoch 66/300\n",
      "8/8 [==============================] - 0s 11ms/step - loss: 0.4650 - accuracy: 0.7934\n",
      "Epoch 67/300\n",
      "8/8 [==============================] - 0s 14ms/step - loss: 0.4646 - accuracy: 0.7851\n",
      "Epoch 68/300\n",
      "8/8 [==============================] - 0s 6ms/step - loss: 0.4555 - accuracy: 0.7810\n",
      "Epoch 69/300\n",
      "8/8 [==============================] - 0s 11ms/step - loss: 0.4591 - accuracy: 0.7893\n",
      "Epoch 70/300\n",
      "8/8 [==============================] - 0s 10ms/step - loss: 0.4537 - accuracy: 0.7893\n",
      "Epoch 71/300\n",
      "8/8 [==============================] - 0s 14ms/step - loss: 0.4572 - accuracy: 0.7810\n",
      "Epoch 72/300\n",
      "8/8 [==============================] - 0s 7ms/step - loss: 0.4548 - accuracy: 0.8017\n",
      "Epoch 73/300\n",
      "8/8 [==============================] - 0s 5ms/step - loss: 0.4527 - accuracy: 0.7810\n",
      "Epoch 74/300\n",
      "8/8 [==============================] - 0s 5ms/step - loss: 0.4479 - accuracy: 0.7975\n",
      "Epoch 75/300\n",
      "8/8 [==============================] - 0s 6ms/step - loss: 0.4427 - accuracy: 0.8017\n",
      "Epoch 76/300\n",
      "8/8 [==============================] - 0s 7ms/step - loss: 0.4412 - accuracy: 0.8017\n",
      "Epoch 77/300\n",
      "8/8 [==============================] - 0s 5ms/step - loss: 0.4398 - accuracy: 0.7975\n",
      "Epoch 78/300\n",
      "8/8 [==============================] - 0s 10ms/step - loss: 0.4427 - accuracy: 0.7810\n",
      "Epoch 79/300\n",
      "8/8 [==============================] - 0s 11ms/step - loss: 0.4428 - accuracy: 0.7851\n",
      "Epoch 80/300\n",
      "8/8 [==============================] - 0s 13ms/step - loss: 0.4369 - accuracy: 0.8017\n",
      "Epoch 81/300\n",
      "8/8 [==============================] - 0s 12ms/step - loss: 0.4358 - accuracy: 0.8058\n",
      "Epoch 82/300\n",
      "8/8 [==============================] - 0s 11ms/step - loss: 0.4366 - accuracy: 0.8058\n",
      "Epoch 83/300\n",
      "8/8 [==============================] - 0s 13ms/step - loss: 0.4292 - accuracy: 0.8017\n",
      "Epoch 84/300\n",
      "8/8 [==============================] - 0s 9ms/step - loss: 0.4272 - accuracy: 0.8017\n",
      "Epoch 85/300\n",
      "8/8 [==============================] - 0s 9ms/step - loss: 0.4309 - accuracy: 0.7975\n",
      "Epoch 86/300\n",
      "8/8 [==============================] - 0s 8ms/step - loss: 0.4273 - accuracy: 0.8099\n",
      "Epoch 87/300\n",
      "8/8 [==============================] - 0s 10ms/step - loss: 0.4281 - accuracy: 0.8017\n",
      "Epoch 88/300\n",
      "8/8 [==============================] - 0s 9ms/step - loss: 0.4219 - accuracy: 0.8099\n",
      "Epoch 89/300\n",
      "8/8 [==============================] - 0s 13ms/step - loss: 0.4205 - accuracy: 0.8099\n",
      "Epoch 90/300\n",
      "8/8 [==============================] - 0s 11ms/step - loss: 0.4211 - accuracy: 0.8182\n",
      "Epoch 91/300\n",
      "8/8 [==============================] - 0s 7ms/step - loss: 0.4237 - accuracy: 0.7975\n",
      "Epoch 92/300\n",
      "8/8 [==============================] - 0s 11ms/step - loss: 0.4281 - accuracy: 0.8099\n",
      "Epoch 93/300\n",
      "8/8 [==============================] - 0s 10ms/step - loss: 0.4222 - accuracy: 0.8058\n",
      "Epoch 94/300\n",
      "8/8 [==============================] - 0s 10ms/step - loss: 0.4251 - accuracy: 0.7975\n",
      "Epoch 95/300\n",
      "8/8 [==============================] - 0s 14ms/step - loss: 0.4248 - accuracy: 0.8182\n",
      "Epoch 96/300\n",
      "8/8 [==============================] - 0s 10ms/step - loss: 0.4185 - accuracy: 0.8058\n",
      "Epoch 97/300\n",
      "8/8 [==============================] - 0s 9ms/step - loss: 0.4168 - accuracy: 0.8140\n",
      "Epoch 98/300\n",
      "8/8 [==============================] - 0s 9ms/step - loss: 0.4112 - accuracy: 0.8264\n",
      "Epoch 99/300\n",
      "8/8 [==============================] - 0s 10ms/step - loss: 0.4188 - accuracy: 0.8099\n",
      "Epoch 100/300\n",
      "8/8 [==============================] - 0s 11ms/step - loss: 0.4313 - accuracy: 0.7769\n",
      "Epoch 101/300\n",
      "8/8 [==============================] - 0s 10ms/step - loss: 0.4230 - accuracy: 0.8140\n",
      "Epoch 102/300\n",
      "8/8 [==============================] - 0s 17ms/step - loss: 0.4148 - accuracy: 0.8099\n",
      "Epoch 103/300\n",
      "8/8 [==============================] - 0s 11ms/step - loss: 0.4129 - accuracy: 0.8182\n",
      "Epoch 104/300\n",
      "8/8 [==============================] - 0s 18ms/step - loss: 0.4177 - accuracy: 0.7851\n",
      "Epoch 105/300\n",
      "8/8 [==============================] - 0s 17ms/step - loss: 0.4130 - accuracy: 0.8140\n",
      "Epoch 106/300\n",
      "8/8 [==============================] - 0s 7ms/step - loss: 0.4193 - accuracy: 0.8017\n",
      "Epoch 107/300\n",
      "8/8 [==============================] - 0s 11ms/step - loss: 0.4412 - accuracy: 0.8058\n",
      "Epoch 108/300\n",
      "8/8 [==============================] - 0s 14ms/step - loss: 0.4232 - accuracy: 0.8017\n",
      "Epoch 109/300\n",
      "8/8 [==============================] - 0s 11ms/step - loss: 0.4175 - accuracy: 0.7769\n",
      "Epoch 110/300\n",
      "8/8 [==============================] - 0s 12ms/step - loss: 0.4392 - accuracy: 0.7975\n",
      "Epoch 111/300\n",
      "8/8 [==============================] - 0s 10ms/step - loss: 0.4180 - accuracy: 0.7851\n",
      "Epoch 112/300\n",
      "8/8 [==============================] - 0s 12ms/step - loss: 0.4108 - accuracy: 0.8306\n",
      "Epoch 113/300\n",
      "8/8 [==============================] - 0s 11ms/step - loss: 0.3994 - accuracy: 0.8223\n",
      "Epoch 114/300\n",
      "8/8 [==============================] - 0s 4ms/step - loss: 0.4037 - accuracy: 0.8264\n",
      "Epoch 115/300\n",
      "8/8 [==============================] - 0s 8ms/step - loss: 0.3981 - accuracy: 0.8430\n",
      "Epoch 116/300\n",
      "8/8 [==============================] - 0s 5ms/step - loss: 0.4025 - accuracy: 0.8223\n",
      "Epoch 117/300\n",
      "8/8 [==============================] - 0s 4ms/step - loss: 0.4276 - accuracy: 0.7975\n",
      "Epoch 118/300\n",
      "8/8 [==============================] - 0s 4ms/step - loss: 0.4369 - accuracy: 0.8099\n",
      "Epoch 119/300\n",
      "8/8 [==============================] - 0s 9ms/step - loss: 0.4243 - accuracy: 0.8058\n",
      "Epoch 120/300\n",
      "8/8 [==============================] - 0s 7ms/step - loss: 0.4027 - accuracy: 0.8264\n",
      "Epoch 121/300\n",
      "8/8 [==============================] - 0s 8ms/step - loss: 0.4119 - accuracy: 0.8223\n",
      "Epoch 122/300\n",
      "8/8 [==============================] - 0s 11ms/step - loss: 0.4026 - accuracy: 0.8099\n",
      "Epoch 123/300\n",
      "8/8 [==============================] - 0s 9ms/step - loss: 0.4038 - accuracy: 0.8347\n",
      "Epoch 124/300\n",
      "8/8 [==============================] - 0s 10ms/step - loss: 0.3921 - accuracy: 0.8471\n",
      "Epoch 125/300\n",
      "8/8 [==============================] - 0s 9ms/step - loss: 0.3969 - accuracy: 0.8306\n",
      "Epoch 126/300\n",
      "8/8 [==============================] - 0s 9ms/step - loss: 0.4062 - accuracy: 0.8017\n",
      "Epoch 127/300\n",
      "8/8 [==============================] - 0s 7ms/step - loss: 0.3911 - accuracy: 0.8306\n",
      "Epoch 128/300\n",
      "8/8 [==============================] - 0s 9ms/step - loss: 0.3955 - accuracy: 0.8347\n",
      "Epoch 129/300\n",
      "8/8 [==============================] - 0s 13ms/step - loss: 0.3924 - accuracy: 0.8388\n",
      "Epoch 130/300\n",
      "8/8 [==============================] - 0s 13ms/step - loss: 0.3980 - accuracy: 0.8471\n",
      "Epoch 131/300\n",
      "8/8 [==============================] - 0s 11ms/step - loss: 0.4044 - accuracy: 0.8099\n",
      "Epoch 132/300\n",
      "8/8 [==============================] - 0s 9ms/step - loss: 0.4103 - accuracy: 0.8347\n",
      "Epoch 133/300\n",
      "8/8 [==============================] - 0s 10ms/step - loss: 0.3876 - accuracy: 0.8554\n",
      "Epoch 134/300\n",
      "8/8 [==============================] - 0s 11ms/step - loss: 0.3943 - accuracy: 0.8430\n",
      "Epoch 135/300\n",
      "8/8 [==============================] - 0s 9ms/step - loss: 0.3884 - accuracy: 0.8388\n",
      "Epoch 136/300\n",
      "8/8 [==============================] - 0s 7ms/step - loss: 0.3891 - accuracy: 0.8306\n",
      "Epoch 137/300\n",
      "8/8 [==============================] - 0s 8ms/step - loss: 0.3923 - accuracy: 0.8347\n",
      "Epoch 138/300\n",
      "8/8 [==============================] - 0s 8ms/step - loss: 0.3906 - accuracy: 0.8471\n",
      "Epoch 139/300\n",
      "8/8 [==============================] - 0s 5ms/step - loss: 0.3949 - accuracy: 0.8264\n",
      "Epoch 140/300\n",
      "8/8 [==============================] - 0s 5ms/step - loss: 0.3936 - accuracy: 0.8471\n",
      "Epoch 141/300\n",
      "8/8 [==============================] - 0s 5ms/step - loss: 0.4016 - accuracy: 0.8223\n",
      "Epoch 142/300\n",
      "8/8 [==============================] - 0s 7ms/step - loss: 0.4005 - accuracy: 0.8140\n",
      "Epoch 143/300\n",
      "8/8 [==============================] - 0s 10ms/step - loss: 0.3851 - accuracy: 0.8595\n",
      "Epoch 144/300\n",
      "8/8 [==============================] - 0s 8ms/step - loss: 0.3997 - accuracy: 0.8388\n",
      "Epoch 145/300\n",
      "8/8 [==============================] - 0s 13ms/step - loss: 0.3878 - accuracy: 0.8223\n",
      "Epoch 146/300\n",
      "8/8 [==============================] - 0s 7ms/step - loss: 0.3837 - accuracy: 0.8430\n",
      "Epoch 147/300\n",
      "8/8 [==============================] - 0s 7ms/step - loss: 0.3817 - accuracy: 0.8554\n",
      "Epoch 148/300\n",
      "8/8 [==============================] - 0s 6ms/step - loss: 0.3792 - accuracy: 0.8554\n",
      "Epoch 149/300\n",
      "8/8 [==============================] - 0s 7ms/step - loss: 0.3881 - accuracy: 0.8347\n",
      "Epoch 150/300\n",
      "8/8 [==============================] - 0s 11ms/step - loss: 0.3930 - accuracy: 0.8182\n",
      "Epoch 151/300\n",
      "8/8 [==============================] - 0s 10ms/step - loss: 0.3931 - accuracy: 0.8388\n",
      "Epoch 152/300\n",
      "8/8 [==============================] - 0s 8ms/step - loss: 0.4074 - accuracy: 0.8099\n",
      "Epoch 153/300\n",
      "8/8 [==============================] - 0s 9ms/step - loss: 0.3806 - accuracy: 0.8430\n",
      "Epoch 154/300\n",
      "8/8 [==============================] - 0s 8ms/step - loss: 0.3890 - accuracy: 0.8306\n",
      "Epoch 155/300\n",
      "8/8 [==============================] - 0s 11ms/step - loss: 0.4012 - accuracy: 0.8306\n",
      "Epoch 156/300\n",
      "8/8 [==============================] - 0s 7ms/step - loss: 0.3972 - accuracy: 0.8264\n",
      "Epoch 157/300\n",
      "8/8 [==============================] - 0s 12ms/step - loss: 0.3935 - accuracy: 0.8347\n",
      "Epoch 158/300\n",
      "8/8 [==============================] - 0s 16ms/step - loss: 0.3757 - accuracy: 0.8471\n",
      "Epoch 159/300\n",
      "8/8 [==============================] - 0s 12ms/step - loss: 0.3781 - accuracy: 0.8388\n",
      "Epoch 160/300\n",
      "8/8 [==============================] - 0s 10ms/step - loss: 0.3902 - accuracy: 0.8471\n",
      "Epoch 161/300\n",
      "8/8 [==============================] - 0s 7ms/step - loss: 0.3806 - accuracy: 0.8430\n",
      "Epoch 162/300\n",
      "8/8 [==============================] - 0s 6ms/step - loss: 0.3905 - accuracy: 0.8430\n",
      "Epoch 163/300\n",
      "8/8 [==============================] - 0s 3ms/step - loss: 0.3892 - accuracy: 0.8140\n",
      "Epoch 164/300\n",
      "8/8 [==============================] - 0s 5ms/step - loss: 0.3828 - accuracy: 0.8306\n",
      "Epoch 165/300\n",
      "8/8 [==============================] - 0s 6ms/step - loss: 0.3751 - accuracy: 0.8471\n",
      "Epoch 166/300\n"
     ]
    },
    {
     "name": "stdout",
     "output_type": "stream",
     "text": [
      "8/8 [==============================] - 0s 8ms/step - loss: 0.3933 - accuracy: 0.8306\n",
      "Epoch 167/300\n",
      "8/8 [==============================] - 0s 9ms/step - loss: 0.3752 - accuracy: 0.8347\n",
      "Epoch 168/300\n",
      "8/8 [==============================] - 0s 13ms/step - loss: 0.3876 - accuracy: 0.8388\n",
      "Epoch 169/300\n",
      "8/8 [==============================] - 0s 12ms/step - loss: 0.3818 - accuracy: 0.8388\n",
      "Epoch 170/300\n",
      "8/8 [==============================] - 0s 13ms/step - loss: 0.3767 - accuracy: 0.8554\n",
      "Epoch 171/300\n",
      "8/8 [==============================] - 0s 14ms/step - loss: 0.3826 - accuracy: 0.8347\n",
      "Epoch 172/300\n",
      "8/8 [==============================] - 0s 12ms/step - loss: 0.4012 - accuracy: 0.8182\n",
      "Epoch 173/300\n",
      "8/8 [==============================] - 0s 8ms/step - loss: 0.4031 - accuracy: 0.8471\n",
      "Epoch 174/300\n",
      "8/8 [==============================] - 0s 11ms/step - loss: 0.3883 - accuracy: 0.8471\n",
      "Epoch 175/300\n",
      "8/8 [==============================] - 0s 9ms/step - loss: 0.3826 - accuracy: 0.8471\n",
      "Epoch 176/300\n",
      "8/8 [==============================] - 0s 8ms/step - loss: 0.3735 - accuracy: 0.8595\n",
      "Epoch 177/300\n",
      "8/8 [==============================] - 0s 9ms/step - loss: 0.3766 - accuracy: 0.8264\n",
      "Epoch 178/300\n",
      "8/8 [==============================] - 0s 12ms/step - loss: 0.3935 - accuracy: 0.8388\n",
      "Epoch 179/300\n",
      "8/8 [==============================] - 0s 8ms/step - loss: 0.3827 - accuracy: 0.8099\n",
      "Epoch 180/300\n",
      "8/8 [==============================] - 0s 7ms/step - loss: 0.3729 - accuracy: 0.8471\n",
      "Epoch 181/300\n",
      "8/8 [==============================] - 0s 8ms/step - loss: 0.3731 - accuracy: 0.8512\n",
      "Epoch 182/300\n",
      "8/8 [==============================] - 0s 11ms/step - loss: 0.3778 - accuracy: 0.8388\n",
      "Epoch 183/300\n",
      "8/8 [==============================] - 0s 10ms/step - loss: 0.3713 - accuracy: 0.8512\n",
      "Epoch 184/300\n",
      "8/8 [==============================] - 0s 9ms/step - loss: 0.3717 - accuracy: 0.8554\n",
      "Epoch 185/300\n",
      "8/8 [==============================] - 0s 5ms/step - loss: 0.3795 - accuracy: 0.8512\n",
      "Epoch 186/300\n",
      "8/8 [==============================] - 0s 7ms/step - loss: 0.3788 - accuracy: 0.8347\n",
      "Epoch 187/300\n",
      "8/8 [==============================] - 0s 9ms/step - loss: 0.3723 - accuracy: 0.8471\n",
      "Epoch 188/300\n",
      "8/8 [==============================] - 0s 13ms/step - loss: 0.3761 - accuracy: 0.8347\n",
      "Epoch 189/300\n",
      "8/8 [==============================] - 0s 10ms/step - loss: 0.3774 - accuracy: 0.8430\n",
      "Epoch 190/300\n",
      "8/8 [==============================] - 0s 8ms/step - loss: 0.3972 - accuracy: 0.8099\n",
      "Epoch 191/300\n",
      "8/8 [==============================] - 0s 10ms/step - loss: 0.3703 - accuracy: 0.8512\n",
      "Epoch 192/300\n",
      "8/8 [==============================] - 0s 7ms/step - loss: 0.3685 - accuracy: 0.8554\n",
      "Epoch 193/300\n",
      "8/8 [==============================] - 0s 10ms/step - loss: 0.3706 - accuracy: 0.8347\n",
      "Epoch 194/300\n",
      "8/8 [==============================] - 0s 10ms/step - loss: 0.3887 - accuracy: 0.8388\n",
      "Epoch 195/300\n",
      "8/8 [==============================] - 0s 8ms/step - loss: 0.3767 - accuracy: 0.8306\n",
      "Epoch 196/300\n",
      "8/8 [==============================] - 0s 10ms/step - loss: 0.3672 - accuracy: 0.8554\n",
      "Epoch 197/300\n",
      "8/8 [==============================] - 0s 11ms/step - loss: 0.3693 - accuracy: 0.8471\n",
      "Epoch 198/300\n",
      "8/8 [==============================] - 0s 10ms/step - loss: 0.3740 - accuracy: 0.8430\n",
      "Epoch 199/300\n",
      "8/8 [==============================] - 0s 7ms/step - loss: 0.3707 - accuracy: 0.8512\n",
      "Epoch 200/300\n",
      "8/8 [==============================] - 0s 10ms/step - loss: 0.3678 - accuracy: 0.8719\n",
      "Epoch 201/300\n",
      "8/8 [==============================] - 0s 10ms/step - loss: 0.3681 - accuracy: 0.8471\n",
      "Epoch 202/300\n",
      "8/8 [==============================] - 0s 9ms/step - loss: 0.3683 - accuracy: 0.8554\n",
      "Epoch 203/300\n",
      "8/8 [==============================] - 0s 8ms/step - loss: 0.3681 - accuracy: 0.8471\n",
      "Epoch 204/300\n",
      "8/8 [==============================] - 0s 8ms/step - loss: 0.3756 - accuracy: 0.8471\n",
      "Epoch 205/300\n",
      "8/8 [==============================] - 0s 7ms/step - loss: 0.3804 - accuracy: 0.8140\n",
      "Epoch 206/300\n",
      "8/8 [==============================] - 0s 6ms/step - loss: 0.3795 - accuracy: 0.8554\n",
      "Epoch 207/300\n",
      "8/8 [==============================] - 0s 5ms/step - loss: 0.3772 - accuracy: 0.8264\n",
      "Epoch 208/300\n",
      "8/8 [==============================] - 0s 6ms/step - loss: 0.4077 - accuracy: 0.8223\n",
      "Epoch 209/300\n",
      "8/8 [==============================] - 0s 8ms/step - loss: 0.3791 - accuracy: 0.8471\n",
      "Epoch 210/300\n",
      "8/8 [==============================] - 0s 6ms/step - loss: 0.3646 - accuracy: 0.8554\n",
      "Epoch 211/300\n",
      "8/8 [==============================] - 0s 5ms/step - loss: 0.3728 - accuracy: 0.8595\n",
      "Epoch 212/300\n",
      "8/8 [==============================] - 0s 12ms/step - loss: 0.3739 - accuracy: 0.8471\n",
      "Epoch 213/300\n",
      "8/8 [==============================] - 0s 10ms/step - loss: 0.3757 - accuracy: 0.8430\n",
      "Epoch 214/300\n",
      "8/8 [==============================] - 0s 9ms/step - loss: 0.3652 - accuracy: 0.8554\n",
      "Epoch 215/300\n",
      "8/8 [==============================] - 0s 13ms/step - loss: 0.3651 - accuracy: 0.8471\n",
      "Epoch 216/300\n",
      "8/8 [==============================] - 0s 12ms/step - loss: 0.3714 - accuracy: 0.8512\n",
      "Epoch 217/300\n",
      "8/8 [==============================] - 0s 10ms/step - loss: 0.3761 - accuracy: 0.8347\n",
      "Epoch 218/300\n",
      "8/8 [==============================] - 0s 11ms/step - loss: 0.3739 - accuracy: 0.8430\n",
      "Epoch 219/300\n",
      "8/8 [==============================] - 0s 9ms/step - loss: 0.3804 - accuracy: 0.8264\n",
      "Epoch 220/300\n",
      "8/8 [==============================] - 0s 11ms/step - loss: 0.3718 - accuracy: 0.8430\n",
      "Epoch 221/300\n",
      "8/8 [==============================] - 0s 11ms/step - loss: 0.3732 - accuracy: 0.8264\n",
      "Epoch 222/300\n",
      "8/8 [==============================] - 0s 11ms/step - loss: 0.3847 - accuracy: 0.8347\n",
      "Epoch 223/300\n",
      "8/8 [==============================] - 0s 14ms/step - loss: 0.3957 - accuracy: 0.8182\n",
      "Epoch 224/300\n",
      "8/8 [==============================] - 0s 10ms/step - loss: 0.3697 - accuracy: 0.8264\n",
      "Epoch 225/300\n",
      "8/8 [==============================] - 0s 12ms/step - loss: 0.3769 - accuracy: 0.8554\n",
      "Epoch 226/300\n",
      "8/8 [==============================] - 0s 8ms/step - loss: 0.3677 - accuracy: 0.8430\n",
      "Epoch 227/300\n",
      "8/8 [==============================] - 0s 10ms/step - loss: 0.3708 - accuracy: 0.8388\n",
      "Epoch 228/300\n",
      "8/8 [==============================] - 0s 6ms/step - loss: 0.3755 - accuracy: 0.8388\n",
      "Epoch 229/300\n",
      "8/8 [==============================] - 0s 5ms/step - loss: 0.3611 - accuracy: 0.8223\n",
      "Epoch 230/300\n",
      "8/8 [==============================] - 0s 5ms/step - loss: 0.3843 - accuracy: 0.8471\n",
      "Epoch 231/300\n",
      "8/8 [==============================] - 0s 6ms/step - loss: 0.4095 - accuracy: 0.8058\n",
      "Epoch 232/300\n",
      "8/8 [==============================] - 0s 8ms/step - loss: 0.3742 - accuracy: 0.8347\n",
      "Epoch 233/300\n",
      "8/8 [==============================] - 0s 8ms/step - loss: 0.3672 - accuracy: 0.8512\n",
      "Epoch 234/300\n",
      "8/8 [==============================] - 0s 7ms/step - loss: 0.3629 - accuracy: 0.8554\n",
      "Epoch 235/300\n",
      "8/8 [==============================] - 0s 8ms/step - loss: 0.3728 - accuracy: 0.8388\n",
      "Epoch 236/300\n",
      "8/8 [==============================] - 0s 9ms/step - loss: 0.3834 - accuracy: 0.8182\n",
      "Epoch 237/300\n",
      "8/8 [==============================] - 0s 12ms/step - loss: 0.4039 - accuracy: 0.8264\n",
      "Epoch 238/300\n",
      "8/8 [==============================] - 0s 9ms/step - loss: 0.3632 - accuracy: 0.8512\n",
      "Epoch 239/300\n",
      "8/8 [==============================] - 0s 9ms/step - loss: 0.3644 - accuracy: 0.8430\n",
      "Epoch 240/300\n",
      "8/8 [==============================] - 0s 8ms/step - loss: 0.3646 - accuracy: 0.8512\n",
      "Epoch 241/300\n",
      "8/8 [==============================] - 0s 5ms/step - loss: 0.3758 - accuracy: 0.8512\n",
      "Epoch 242/300\n",
      "8/8 [==============================] - 0s 9ms/step - loss: 0.3613 - accuracy: 0.8471\n",
      "Epoch 243/300\n",
      "8/8 [==============================] - 0s 9ms/step - loss: 0.3669 - accuracy: 0.8430\n",
      "Epoch 244/300\n",
      "8/8 [==============================] - 0s 8ms/step - loss: 0.3596 - accuracy: 0.8512\n",
      "Epoch 245/300\n",
      "8/8 [==============================] - 0s 10ms/step - loss: 0.3633 - accuracy: 0.8512\n",
      "Epoch 246/300\n",
      "8/8 [==============================] - 0s 10ms/step - loss: 0.3636 - accuracy: 0.8471\n",
      "Epoch 247/300\n",
      "8/8 [==============================] - 0s 10ms/step - loss: 0.3646 - accuracy: 0.8512\n",
      "Epoch 248/300\n",
      "8/8 [==============================] - 0s 8ms/step - loss: 0.3611 - accuracy: 0.8554\n",
      "Epoch 249/300\n",
      "8/8 [==============================] - 0s 7ms/step - loss: 0.3835 - accuracy: 0.8306\n",
      "Epoch 250/300\n",
      "8/8 [==============================] - 0s 5ms/step - loss: 0.3794 - accuracy: 0.8306\n",
      "Epoch 251/300\n",
      "8/8 [==============================] - 0s 2ms/step - loss: 0.3671 - accuracy: 0.8430\n",
      "Epoch 252/300\n",
      "8/8 [==============================] - 0s 2ms/step - loss: 0.3608 - accuracy: 0.8554\n",
      "Epoch 253/300\n",
      "8/8 [==============================] - 0s 2ms/step - loss: 0.3608 - accuracy: 0.8512\n",
      "Epoch 254/300\n",
      "8/8 [==============================] - 0s 2ms/step - loss: 0.3609 - accuracy: 0.8512\n",
      "Epoch 255/300\n",
      "8/8 [==============================] - 0s 2ms/step - loss: 0.3696 - accuracy: 0.8471\n",
      "Epoch 256/300\n",
      "8/8 [==============================] - 0s 2ms/step - loss: 0.3677 - accuracy: 0.8512\n",
      "Epoch 257/300\n",
      "8/8 [==============================] - 0s 3ms/step - loss: 0.3680 - accuracy: 0.8471\n",
      "Epoch 258/300\n",
      "8/8 [==============================] - 0s 3ms/step - loss: 0.3716 - accuracy: 0.8388\n",
      "Epoch 259/300\n",
      "8/8 [==============================] - 0s 3ms/step - loss: 0.3927 - accuracy: 0.8388\n",
      "Epoch 260/300\n",
      "8/8 [==============================] - 0s 3ms/step - loss: 0.3714 - accuracy: 0.8223\n",
      "Epoch 261/300\n",
      "8/8 [==============================] - 0s 2ms/step - loss: 0.3760 - accuracy: 0.8306\n",
      "Epoch 262/300\n",
      "8/8 [==============================] - 0s 2ms/step - loss: 0.4051 - accuracy: 0.8182\n",
      "Epoch 263/300\n",
      "8/8 [==============================] - 0s 2ms/step - loss: 0.3945 - accuracy: 0.8306\n",
      "Epoch 264/300\n",
      "8/8 [==============================] - 0s 3ms/step - loss: 0.3791 - accuracy: 0.8430\n",
      "Epoch 265/300\n",
      "8/8 [==============================] - 0s 3ms/step - loss: 0.3606 - accuracy: 0.8471\n",
      "Epoch 266/300\n",
      "8/8 [==============================] - 0s 4ms/step - loss: 0.3625 - accuracy: 0.8347\n",
      "Epoch 267/300\n",
      "8/8 [==============================] - 0s 3ms/step - loss: 0.3702 - accuracy: 0.8264\n",
      "Epoch 268/300\n",
      "8/8 [==============================] - 0s 3ms/step - loss: 0.3847 - accuracy: 0.8471\n",
      "Epoch 269/300\n",
      "8/8 [==============================] - 0s 2ms/step - loss: 0.3684 - accuracy: 0.8306\n",
      "Epoch 270/300\n",
      "8/8 [==============================] - 0s 2ms/step - loss: 0.3691 - accuracy: 0.8388\n",
      "Epoch 271/300\n",
      "8/8 [==============================] - 0s 2ms/step - loss: 0.3852 - accuracy: 0.8347\n",
      "Epoch 272/300\n",
      "8/8 [==============================] - 0s 2ms/step - loss: 0.3676 - accuracy: 0.8347\n",
      "Epoch 273/300\n",
      "8/8 [==============================] - 0s 2ms/step - loss: 0.3726 - accuracy: 0.8388\n",
      "Epoch 274/300\n",
      "8/8 [==============================] - 0s 2ms/step - loss: 0.3546 - accuracy: 0.8554\n",
      "Epoch 275/300\n",
      "8/8 [==============================] - 0s 2ms/step - loss: 0.3737 - accuracy: 0.8430\n",
      "Epoch 276/300\n",
      "8/8 [==============================] - 0s 2ms/step - loss: 0.3793 - accuracy: 0.8388\n",
      "Epoch 277/300\n",
      "8/8 [==============================] - 0s 3ms/step - loss: 0.3711 - accuracy: 0.8264\n",
      "Epoch 278/300\n",
      "8/8 [==============================] - 0s 2ms/step - loss: 0.3901 - accuracy: 0.8223\n",
      "Epoch 279/300\n",
      "8/8 [==============================] - 0s 2ms/step - loss: 0.3694 - accuracy: 0.8554\n",
      "Epoch 280/300\n",
      "8/8 [==============================] - 0s 2ms/step - loss: 0.3629 - accuracy: 0.8430\n",
      "Epoch 281/300\n",
      "8/8 [==============================] - 0s 2ms/step - loss: 0.3647 - accuracy: 0.8347\n",
      "Epoch 282/300\n",
      "8/8 [==============================] - 0s 3ms/step - loss: 0.3605 - accuracy: 0.8471\n",
      "Epoch 283/300\n",
      "8/8 [==============================] - 0s 2ms/step - loss: 0.3614 - accuracy: 0.8595\n",
      "Epoch 284/300\n",
      "8/8 [==============================] - 0s 2ms/step - loss: 0.3691 - accuracy: 0.8223\n",
      "Epoch 285/300\n",
      "8/8 [==============================] - 0s 2ms/step - loss: 0.3686 - accuracy: 0.8347\n",
      "Epoch 286/300\n",
      "8/8 [==============================] - 0s 2ms/step - loss: 0.3854 - accuracy: 0.8264\n",
      "Epoch 287/300\n",
      "8/8 [==============================] - 0s 2ms/step - loss: 0.3650 - accuracy: 0.8471\n",
      "Epoch 288/300\n",
      "8/8 [==============================] - 0s 2ms/step - loss: 0.3684 - accuracy: 0.8430\n",
      "Epoch 289/300\n",
      "8/8 [==============================] - 0s 3ms/step - loss: 0.3587 - accuracy: 0.8636\n",
      "Epoch 290/300\n",
      "8/8 [==============================] - 0s 4ms/step - loss: 0.3674 - accuracy: 0.8430\n",
      "Epoch 291/300\n",
      "8/8 [==============================] - 0s 5ms/step - loss: 0.3556 - accuracy: 0.8554\n",
      "Epoch 292/300\n",
      "8/8 [==============================] - 0s 4ms/step - loss: 0.3679 - accuracy: 0.8430\n",
      "Epoch 293/300\n",
      "8/8 [==============================] - 0s 4ms/step - loss: 0.3719 - accuracy: 0.8430\n",
      "Epoch 294/300\n",
      "8/8 [==============================] - 0s 3ms/step - loss: 0.3639 - accuracy: 0.8347\n",
      "Epoch 295/300\n",
      "8/8 [==============================] - 0s 4ms/step - loss: 0.3639 - accuracy: 0.8388\n",
      "Epoch 296/300\n",
      "8/8 [==============================] - 0s 5ms/step - loss: 0.3650 - accuracy: 0.8430\n",
      "Epoch 297/300\n",
      "8/8 [==============================] - 0s 3ms/step - loss: 0.3618 - accuracy: 0.8347\n",
      "Epoch 298/300\n",
      "8/8 [==============================] - 0s 3ms/step - loss: 0.3562 - accuracy: 0.8512\n",
      "Epoch 299/300\n",
      "8/8 [==============================] - 0s 3ms/step - loss: 0.3626 - accuracy: 0.8430\n",
      "Epoch 300/300\n",
      "8/8 [==============================] - 0s 2ms/step - loss: 0.3876 - accuracy: 0.8182\n"
     ]
    },
    {
     "data": {
      "text/plain": [
       "<keras.callbacks.History at 0x7ff3d75f3a50>"
      ]
     },
     "execution_count": 31,
     "metadata": {},
     "output_type": "execute_result"
    }
   ],
   "source": [
    "model.fit(X_train,Y_train,epochs=300)"
   ]
  },
  {
   "cell_type": "code",
   "execution_count": 32,
   "id": "ad3098dd",
   "metadata": {},
   "outputs": [],
   "source": [
    "Y_pred_nn = model.predict(X_test)"
   ]
  },
  {
   "cell_type": "code",
   "execution_count": 33,
   "id": "e1ae5f11",
   "metadata": {},
   "outputs": [
    {
     "data": {
      "text/plain": [
       "(61, 1)"
      ]
     },
     "execution_count": 33,
     "metadata": {},
     "output_type": "execute_result"
    }
   ],
   "source": [
    "Y_pred_nn.shape"
   ]
  },
  {
   "cell_type": "code",
   "execution_count": 34,
   "id": "8a78233a",
   "metadata": {},
   "outputs": [],
   "source": [
    "rounded = [round(x[0]) for x in Y_pred_nn]\n",
    "\n",
    "Y_pred_nn = rounded"
   ]
  },
  {
   "cell_type": "code",
   "execution_count": 35,
   "id": "969da5fa",
   "metadata": {},
   "outputs": [
    {
     "name": "stdout",
     "output_type": "stream",
     "text": [
      "The accuracy score achieved using Neural Network is: 81.97 %\n"
     ]
    }
   ],
   "source": [
    "score_nn = round(accuracy_score(Y_pred_nn,Y_test)*100,2)\n",
    "\n",
    "print(\"The accuracy score achieved using Neural Network is: \"+str(score_nn)+\" %\")\n",
    "\n",
    "#Note: Accuracy of 85% can be achieved on the test set, by setting epochs=2000, and number of nodes = 11. "
   ]
  },
  {
   "cell_type": "markdown",
   "id": "d28827da",
   "metadata": {},
   "source": [
    "## VI. Output final score"
   ]
  },
  {
   "cell_type": "code",
   "execution_count": 54,
   "id": "491afdf9",
   "metadata": {},
   "outputs": [
    {
     "name": "stdout",
     "output_type": "stream",
     "text": [
      "The accuracy score achieved using Logistic Regression is: 85.25 %\n",
      "The accuracy score achieved using Naive Bayes is: 85.25 %\n",
      "The accuracy score achieved using Support Vector Machine is: 81.97 %\n",
      "The accuracy score achieved using K-Nearest Neighbors is: 67.21 %\n",
      "The accuracy score achieved using Decision Tree is: 81.97 %\n",
      "The accuracy score achieved using Random Forest is: 90.16 %\n",
      "The accuracy score achieved using XGBoost is: 85.25 %\n",
      "The accuracy score achieved using Neural Network is: 81.97 %\n"
     ]
    }
   ],
   "source": [
    "\n",
    "scores = [score_lr,score_nb,score_svm,score_knn,score_dt,score_rf,score_xgb,score_nn]\n",
    "algorithms = [\"Logistic Regression\",\"Naive Bayes\",\"Support Vector Machine\",\"K-Nearest Neighbors\",\"Decision Tree\",\"Random Forest\",\"XGBoost\",\"Neural Network\"]    \n",
    "\n",
    "for i in range(len(algorithms)):\n",
    "    print(\"The accuracy score achieved using \"+algorithms[i]+\" is: \"+str(scores[i])+\" %\")"
   ]
  },
  {
   "cell_type": "code",
   "execution_count": 55,
   "id": "882cff58",
   "metadata": {},
   "outputs": [
    {
     "data": {
      "text/plain": [
       "<AxesSubplot:xlabel='Algorithms', ylabel='Accuracy score'>"
      ]
     },
     "execution_count": 55,
     "metadata": {},
     "output_type": "execute_result"
    },
    {
     "data": {
      "image/png": "[encoded data removed]",
      "text/plain": [
       "<Figure size 1080x576 with 1 Axes>"
      ]
     },
     "metadata": {},
     "output_type": "display_data"
    }
   ],
   "source": [
    "sns.set(rc={'figure.figsize':(15,8)})\n",
    "plt.xlabel(\"Algorithms\")\n",
    "plt.ylabel(\"Accuracy score\")\n",
    "\n",
    "sns.barplot(algorithms,scores)"
   ]
  },
  {
   "cell_type": "markdown",
   "id": "613a0cfa",
   "metadata": {},
   "source": [
    "# Random Forest has good result as compare to other algorithms"
   ]
  }
 ],
 "metadata": {
  "kernelspec": {
   "display_name": "Python 3 (ipykernel)",
   "language": "python",
   "name": "python3"
  },
  "language_info": {
   "codemirror_mode": {
    "name": "ipython",
    "version": 3
   },
   "file_extension": ".py",
   "mimetype": "text/x-python",
   "name": "python",
   "nbconvert_exporter": "python",
   "pygments_lexer": "ipython3",
   "version": "3.7.11"
  }
 },
 "nbformat": 4,
 "nbformat_minor": 5
}
