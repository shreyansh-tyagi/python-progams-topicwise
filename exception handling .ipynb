{
 "cells": [
  {
   "cell_type": "code",
   "execution_count": 10,
   "id": "controversial-printer",
   "metadata": {},
   "outputs": [
    {
     "name": "stdout",
     "output_type": "stream",
     "text": [
      "division by zero\n"
     ]
    }
   ],
   "source": [
    "try:\n",
    "    a=10*(1/0)\n",
    "    print(a)\n",
    "except ZeroDivisionError as e:\n",
    "    print(e)\n",
    "    "
   ]
  },
  {
   "cell_type": "code",
   "execution_count": 11,
   "id": "removed-import",
   "metadata": {},
   "outputs": [
    {
     "name": "stdout",
     "output_type": "stream",
     "text": [
      "error message is: can only concatenate str (not \"int\") to str\n"
     ]
    }
   ],
   "source": [
    "try:\n",
    "    a='2'+2\n",
    "    print(a)\n",
    "except Exception as e:\n",
    "    print(f'error message is: {e}')"
   ]
  },
  {
   "cell_type": "code",
   "execution_count": 22,
   "id": "critical-quality",
   "metadata": {},
   "outputs": [
    {
     "name": "stdout",
     "output_type": "stream",
     "text": [
      "enter the string: shreyansh tyagi\n",
      "shreyansh tyagi\n",
      "enter the value: 10\n",
      "10\n",
      "['shreyansh', 'tyagi']\n",
      "errro message is :can only concatenate str (not \"int\") to str\n"
     ]
    }
   ],
   "source": [
    "try:\n",
    "    a=input('enter the string: ')\n",
    "    print(a)\n",
    "    c=int(input('enter the value: '))\n",
    "    print(c)\n",
    "    b=a.split()\n",
    "    print(b)\n",
    "    d=[]\n",
    "    for i in b:\n",
    "        e=i+c\n",
    "        d.append(e)\n",
    "        print(d) \n",
    "except Exception as h:\n",
    "    print(f'errro message is :{h}')"
   ]
  },
  {
   "cell_type": "code",
   "execution_count": 21,
   "id": "matched-contest",
   "metadata": {},
   "outputs": [
    {
     "name": "stdout",
     "output_type": "stream",
     "text": [
      "enter the string: shreyansh tyagi\n",
      "shreyansh tyagi\n",
      "['shreyansh', 'tyagi']\n",
      "['s', 'h', 'r', 'e', 'y', 'a', 'n', 's', 'h', ' ', 't', 'y', 'a', 'g', 'i']\n",
      "['shreyanshsunny', 'tyagisunny']\n"
     ]
    }
   ],
   "source": [
    "a=input('enter the string: ')\n",
    "print(a)\n",
    "b=a.split()\n",
    "print(b)\n",
    "c=[]\n",
    "d=[]\n",
    "for i in range(len(a)):\n",
    "    c.append(a[i])\n",
    "print(c)    \n",
    "for i in b:\n",
    "    e=i+'sunny'\n",
    "    d.append(e)\n",
    "print(d)    "
   ]
  },
  {
   "cell_type": "code",
   "execution_count": 24,
   "id": "simple-barrel",
   "metadata": {},
   "outputs": [
    {
     "name": "stdout",
     "output_type": "stream",
     "text": [
      "we are in exception block\n",
      "try and except block ended\n"
     ]
    }
   ],
   "source": [
    "try:\n",
    "    a=None\n",
    "    if a is None:\n",
    "        raise Exception\n",
    "except Exception as e:\n",
    "    print('we are in exception block')\n",
    "finally:\n",
    "    print('try and except block ended')"
   ]
  },
  {
   "cell_type": "code",
   "execution_count": null,
   "id": "stock-yacht",
   "metadata": {},
   "outputs": [],
   "source": []
  }
 ],
 "metadata": {
  "kernelspec": {
   "display_name": "Python 3 (ipykernel)",
   "language": "python",
   "name": "python3"
  },
  "language_info": {
   "codemirror_mode": {
    "name": "ipython",
    "version": 3
   },
   "file_extension": ".py",
   "mimetype": "text/x-python",
   "name": "python",
   "nbconvert_exporter": "python",
   "pygments_lexer": "ipython3",
   "version": "3.7.11"
  }
 },
 "nbformat": 4,
 "nbformat_minor": 5
}
