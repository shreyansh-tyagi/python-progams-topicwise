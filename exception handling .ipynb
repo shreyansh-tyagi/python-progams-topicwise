{
 "cells": [
  {
   "cell_type": "code",
   "execution_count": 10,
   "metadata": {},
   "outputs": [
    {
     "name": "stdout",
     "output_type": "stream",
     "text": [
      "division by zero\n"
     ]
    }
   ],
   "source": [
    "try:\n",
    "    a=10*(1/0)\n",
    "    print(a)\n",
    "except ZeroDivisionError as e:\n",
    "    print(e)\n",
    "    "
   ]
  },
  {
   "cell_type": "code",
   "execution_count": 11,
   "metadata": {},
   "outputs": [
    {
     "name": "stdout",
     "output_type": "stream",
     "text": [
      "error message is: can only concatenate str (not \"int\") to str\n"
     ]
    }
   ],
   "source": [
    "try:\n",
    "    a='2'+2\n",
    "    print(a)\n",
    "except Exception as e:\n",
    "    print(f'error message is: {e}')"
   ]
  },
  {
   "cell_type": "code",
   "execution_count": 22,
   "metadata": {},
   "outputs": [
    {
     "name": "stdout",
     "output_type": "stream",
     "text": [
      "enter the string: shreyansh tyagi\n",
      "shreyansh tyagi\n",
      "enter the value: 10\n",
      "10\n",
      "['shreyansh', 'tyagi']\n",
      "errro message is :can only concatenate str (not \"int\") to str\n"
     ]
    }
   ],
   "source": [
    "try:\n",
    "    a=input('enter the string: ')\n",
    "    print(a)\n",
    "    c=int(input('enter the value: '))\n",
    "    print(c)\n",
    "    b=a.split()\n",
    "    print(b)\n",
    "    d=[]\n",
    "    for i in b:\n",
    "        e=i+c\n",
    "        d.append(e)\n",
    "        print(d) \n",
    "except Exception as h:\n",
    "    print(f'errro message is :{h}')"
   ]
  },
  {
   "cell_type": "code",
   "execution_count": 21,
   "metadata": {},
   "outputs": [
    {
     "name": "stdout",
     "output_type": "stream",
     "text": [
      "enter the string: shreyansh tyagi\n",
      "shreyansh tyagi\n",
      "['shreyansh', 'tyagi']\n",
      "['s', 'h', 'r', 'e', 'y', 'a', 'n', 's', 'h', ' ', 't', 'y', 'a', 'g', 'i']\n",
      "['shreyanshsunny', 'tyagisunny']\n"
     ]
    }
   ],
   "source": [
    "a=input('enter the string: ')\n",
    "print(a)\n",
    "b=a.split()\n",
    "print(b)\n",
    "c=[]\n",
    "d=[]\n",
    "for i in range(len(a)):\n",
    "    c.append(a[i])\n",
    "print(c)    \n",
    "for i in b:\n",
    "    e=i+'sunny'\n",
    "    d.append(e)\n",
    "print(d)    "
   ]
  },
  {
   "cell_type": "code",
   "execution_count": 24,
   "metadata": {},
   "outputs": [
    {
     "name": "stdout",
     "output_type": "stream",
     "text": [
      "we are in exception block\n",
      "try and except block ended\n"
     ]
    }
   ],
   "source": [
    "try:\n",
    "    a=None\n",
    "    if a is None:\n",
    "        raise Exception\n",
    "except Exception as e:\n",
    "    print('we are in exception block')\n",
    "finally:\n",
    "    print('try and except block ended')"
   ]
  },
  {
   "cell_type": "code",
   "execution_count": 2,
   "metadata": {},
   "outputs": [
    {
     "name": "stdout",
     "output_type": "stream",
     "text": [
      "3\n",
      "error occured\n"
     ]
    }
   ],
   "source": [
    "a=[1,2,3,4]\n",
    "try:\n",
    "    print(a[2])\n",
    "    print(a[5])\n",
    "except:\n",
    "    print('error occured')"
   ]
  },
  {
   "cell_type": "markdown",
   "metadata": {},
   "source": [
    "### catching specific exceptions"
   ]
  },
  {
   "cell_type": "code",
   "execution_count": 8,
   "metadata": {},
   "outputs": [
    {
     "name": "stdout",
     "output_type": "stream",
     "text": [
      "namerror has been handled\n"
     ]
    }
   ],
   "source": [
    "def fun(a):\n",
    "    if a<4:\n",
    "        b=a/(a-3)\n",
    "    print('value of b: ',b) \n",
    "try:\n",
    "    #fun(3)\n",
    "    fun(5)\n",
    "except ZeroDivisionError:\n",
    "    print('zero division error has been handled')\n",
    "except NameError:\n",
    "    print('namerror has been handled')\n",
    "    "
   ]
  },
  {
   "cell_type": "markdown",
   "metadata": {},
   "source": [
    "### try with else clause "
   ]
  },
  {
   "cell_type": "code",
   "execution_count": 11,
   "metadata": {},
   "outputs": [
    {
     "name": "stdout",
     "output_type": "stream",
     "text": [
      "5.0\n",
      "-5.0\n",
      "this is zero division error\n"
     ]
    }
   ],
   "source": [
    "def fun(a,b):\n",
    "    try :\n",
    "        c=(a+b)/(a-b)\n",
    "    except ZeroDivisionError:\n",
    "        print('this is zero division error')\n",
    "    else:\n",
    "        print(c)\n",
    "fun(3,2) \n",
    "fun(2,3)\n",
    "fun(5,5)"
   ]
  },
  {
   "cell_type": "markdown",
   "metadata": {},
   "source": [
    "### finally in exceptions"
   ]
  },
  {
   "cell_type": "code",
   "execution_count": 12,
   "metadata": {},
   "outputs": [
    {
     "name": "stdout",
     "output_type": "stream",
     "text": [
      "enter the value of b: 5\n",
      "1\n",
      "1\n",
      "the value of a:  1\n"
     ]
    }
   ],
   "source": [
    "try :\n",
    "    b=int(input('enter the value of b: '))\n",
    "    a=5//b\n",
    "    print(a)\n",
    "except ZeroDivisionError:\n",
    "    print('zero error handled')\n",
    "else:\n",
    "    print(a)\n",
    "finally :\n",
    "    print('the value of a: ',a)"
   ]
  },
  {
   "cell_type": "code",
   "execution_count": null,
   "metadata": {},
   "outputs": [],
   "source": []
  }
 ],
 "metadata": {
  "kernelspec": {
   "display_name": "Python 3",
   "language": "python",
   "name": "python3"
  },
  "language_info": {
   "codemirror_mode": {
    "name": "ipython",
    "version": 3
   },
   "file_extension": ".py",
   "mimetype": "text/x-python",
   "name": "python",
   "nbconvert_exporter": "python",
   "pygments_lexer": "ipython3",
   "version": "3.8.10"
  }
 },
 "nbformat": 4,
 "nbformat_minor": 5
}
