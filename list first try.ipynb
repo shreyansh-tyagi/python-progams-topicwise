{
 "cells": [
  {
   "cell_type": "markdown",
   "metadata": {},
   "source": [
    "# list programs\n"
   ]
  },
  {
   "cell_type": "code",
   "execution_count": 1,
   "metadata": {},
   "outputs": [
    {
     "data": {
      "text/plain": [
       "10"
      ]
     },
     "execution_count": 1,
     "metadata": {},
     "output_type": "execute_result"
    }
   ],
   "source": [
    "5+5\n"
   ]
  },
  {
   "cell_type": "code",
   "execution_count": 2,
   "metadata": {},
   "outputs": [
    {
     "name": "stdout",
     "output_type": "stream",
     "text": [
      "22\n"
     ]
    }
   ],
   "source": [
    "a=12\n",
    "b=10\n",
    "c=a+b\n",
    "print(c)"
   ]
  },
  {
   "cell_type": "code",
   "execution_count": 3,
   "metadata": {},
   "outputs": [
    {
     "data": {
      "text/plain": [
       "list"
      ]
     },
     "execution_count": 3,
     "metadata": {},
     "output_type": "execute_result"
    }
   ],
   "source": [
    "a=[1,2,3]\n",
    "type(a)"
   ]
  },
  {
   "cell_type": "code",
   "execution_count": 4,
   "metadata": {},
   "outputs": [
    {
     "data": {
      "text/plain": [
       "3"
      ]
     },
     "execution_count": 4,
     "metadata": {},
     "output_type": "execute_result"
    }
   ],
   "source": [
    "len(a)"
   ]
  },
  {
   "cell_type": "code",
   "execution_count": 69,
   "metadata": {},
   "outputs": [
    {
     "name": "stdout",
     "output_type": "stream",
     "text": [
      "enter the value : d c b a\n",
      "['a', 'b', 'c', 'd']\n",
      "[97, 98, 99, 100]\n",
      "100\n",
      "200\n",
      "300\n",
      "400\n",
      "<class 'int'>\n"
     ]
    }
   ],
   "source": [
    "\n",
    "a=list(input('enter the value : ').split(' '))\n",
    "b=len(a)\n",
    "#print(b)\n",
    "c=[]\n",
    "d=[]\n",
    "for i in range(b):\n",
    "    a.sort()\n",
    "    c.append(ord(a[i]))\n",
    "print(a)\n",
    "print(c)\n",
    "e=0\n",
    "for j in range(len(c)):\n",
    "    e+=c[i]\n",
    "    d.append(e)\n",
    "    print(int(e))\n",
    "print(type(c[i]))  \n"
   ]
  },
  {
   "cell_type": "code",
   "execution_count": 72,
   "metadata": {
    "scrolled": true
   },
   "outputs": [
    {
     "name": "stdout",
     "output_type": "stream",
     "text": [
      "enter the value :1 2 3 4\n",
      "4\n"
     ]
    }
   ],
   "source": [
    "#length function\n",
    "a=list(input('enter the value :').split(' '))\n",
    "b=len(a)\n",
    "print(b)"
   ]
  },
  {
   "cell_type": "code",
   "execution_count": 77,
   "metadata": {},
   "outputs": [
    {
     "name": "stdout",
     "output_type": "stream",
     "text": [
      "enter the value: aaa\n",
      "3\n"
     ]
    }
   ],
   "source": [
    "#count function\n",
    "a=input('enter the value: ')\n",
    "b=a.count('a')\n",
    "print(b)"
   ]
  },
  {
   "cell_type": "code",
   "execution_count": 78,
   "metadata": {},
   "outputs": [
    {
     "name": "stdout",
     "output_type": "stream",
     "text": [
      "enter the value: hello i am shreyansh tyagi\n",
      "['hello', 'i', 'shreyansh', 'tyagi']\n"
     ]
    }
   ],
   "source": [
    "#pop function --> it removes the item at given index\n",
    "a=list(input('enter the value: ').split(' '))\n",
    "b=a.pop(2)\n",
    "print(a)"
   ]
  },
  {
   "cell_type": "code",
   "execution_count": 82,
   "metadata": {},
   "outputs": [
    {
     "name": "stdout",
     "output_type": "stream",
     "text": [
      "enter the value: 1 2 3 4 5 6\n",
      "['6', '5', '4', '3', '2', '1']\n"
     ]
    }
   ],
   "source": [
    "#reverse \n",
    "a=list(input('enter the value: ').split(' '))\n",
    "b=a.reverse()\n",
    "print(a)\n",
    "\n"
   ]
  },
  {
   "cell_type": "code",
   "execution_count": 84,
   "metadata": {},
   "outputs": [
    {
     "name": "stdout",
     "output_type": "stream",
     "text": [
      "enter the value: 1 2 3 4 5\n",
      "[]\n"
     ]
    }
   ],
   "source": [
    "#clear function\n",
    "a=list(input('enter the value: ').split(' '))\n",
    "c=a.clear()\n",
    "print(a)"
   ]
  },
  {
   "cell_type": "markdown",
   "metadata": {},
   "source": [
    "# list comprehension\n"
   ]
  },
  {
   "cell_type": "code",
   "execution_count": 1,
   "metadata": {},
   "outputs": [
    {
     "name": "stdout",
     "output_type": "stream",
     "text": [
      "[1, 3, 5, 7, 9]\n"
     ]
    }
   ],
   "source": [
    "# first a simple program to print the square of odd number using simple approach of python programming\n",
    "odd=[]\n",
    "for i in range(1,11):\n",
    "    if(i%2==1):\n",
    "        odd.append(i) #printing odd number\n",
    "print(odd)        "
   ]
  },
  {
   "cell_type": "code",
   "execution_count": 2,
   "metadata": {},
   "outputs": [
    {
     "name": "stdout",
     "output_type": "stream",
     "text": [
      "[2, 6, 10, 14, 18]\n"
     ]
    }
   ],
   "source": [
    "odd=[]\n",
    "for i in range(1,11):\n",
    "    if(i%2==1):\n",
    "        odd.append(i*2) #printing even number\n",
    "print(odd) "
   ]
  },
  {
   "cell_type": "code",
   "execution_count": 3,
   "metadata": {},
   "outputs": [
    {
     "name": "stdout",
     "output_type": "stream",
     "text": [
      "[1, 9, 25, 49, 81]\n"
     ]
    }
   ],
   "source": [
    "odd=[]\n",
    "for i in range(1,11):\n",
    "    if(i%2==1):\n",
    "        odd.append(i**2) #printing sqaure of odd number \n",
    "print(odd) "
   ]
  },
  {
   "cell_type": "code",
   "execution_count": 10,
   "metadata": {},
   "outputs": [
    {
     "name": "stdout",
     "output_type": "stream",
     "text": [
      "[1, 9, 25, 49, 81]\n"
     ]
    }
   ],
   "source": [
    "odd=[i**2 for i in range(1,11) if(i%2==1)]\n",
    "print(odd)"
   ]
  },
  {
   "cell_type": "code",
   "execution_count": 11,
   "metadata": {},
   "outputs": [
    {
     "name": "stdout",
     "output_type": "stream",
     "text": [
      "[2, 4, 8, 16, 32, 64, 128, 256, 512, 1024]\n"
     ]
    }
   ],
   "source": [
    "even=[2**i for i in range(1,11)]\n",
    "print(even)"
   ]
  },
  {
   "cell_type": "code",
   "execution_count": 12,
   "metadata": {},
   "outputs": [
    {
     "name": "stdout",
     "output_type": "stream",
     "text": [
      "[2, 8, 32, 128, 512]\n"
     ]
    }
   ],
   "source": [
    "even=[2**i for i in range(1,11) if(i%2==1)] #(2 power 1,3,5,7,9)\n",
    "print(even)"
   ]
  },
  {
   "cell_type": "code",
   "execution_count": 14,
   "metadata": {},
   "outputs": [
    {
     "name": "stdout",
     "output_type": "stream",
     "text": [
      "[1, 4, 27, 256, 3125, 46656, 823543, 16777216, 387420489]\n"
     ]
    }
   ],
   "source": [
    "a=[i**i for i in range(1,10)] #(1 power 1, 2 power 2 ,3 power 3)\n",
    "print(a)"
   ]
  },
  {
   "cell_type": "code",
   "execution_count": 17,
   "metadata": {},
   "outputs": [
    {
     "name": "stdout",
     "output_type": "stream",
     "text": [
      "[[5, 1, 5], [5, 2, 10], [5, 3, 15], [5, 4, 20], [5, 5, 25], [5, 6, 30], [5, 7, 35], [5, 8, 40], [5, 9, 45], [5, 10, 50]]\n"
     ]
    }
   ],
   "source": [
    "a = 5\n",
    "table = [[a, b, a * b] for b in range(1, 11)]\n",
    "print(table)"
   ]
  },
  {
   "cell_type": "code",
   "execution_count": 23,
   "metadata": {},
   "outputs": [
    {
     "name": "stdout",
     "output_type": "stream",
     "text": [
      "[[5, 1, 5], [5, 2, 10], [5, 3, 15], [5, 4, 20], [5, 5, 25], [5, 6, 30], [5, 7, 35], [5, 8, 40], [5, 9, 45], [5, 10, 50]]\n",
      "[5, 1, 5]\n",
      "[5, 2, 10]\n",
      "[5, 3, 15]\n",
      "[5, 4, 20]\n",
      "[5, 5, 25]\n",
      "[5, 6, 30]\n",
      "[5, 7, 35]\n",
      "[5, 8, 40]\n",
      "[5, 9, 45]\n",
      "[5, 10, 50]\n"
     ]
    }
   ],
   "source": [
    "a = 5\n",
    "table = [[a, b, a * b] for b in range(1, 11)]\n",
    "print(table)\n",
    "for i in table:\n",
    "    print(i)"
   ]
  },
  {
   "cell_type": "code",
   "execution_count": 1,
   "metadata": {},
   "outputs": [
    {
     "name": "stdout",
     "output_type": "stream",
     "text": [
      "enter a number: 34\n",
      "34\n"
     ]
    }
   ],
   "source": [
    "x=input('enter a number: ')\n",
    "print(x)"
   ]
  },
  {
   "cell_type": "code",
   "execution_count": 4,
   "metadata": {},
   "outputs": [
    {
     "name": "stdout",
     "output_type": "stream",
     "text": [
      "enter the value of x,y and z:1 2 3\n",
      "value of x: 1\n",
      "value of y: 2\n",
      "value of z: 3\n"
     ]
    }
   ],
   "source": [
    "x,y,z=input('enter the value of x,y and z:' ).split()\n",
    "print(f'value of x: {x}\\nvalue of y: {y}\\nvalue of z: {z}')"
   ]
  },
  {
   "cell_type": "code",
   "execution_count": 5,
   "metadata": {},
   "outputs": [
    {
     "name": "stdout",
     "output_type": "stream",
     "text": [
      "enter the multiple value : 1 2 3 4 5 \n",
      "[1, 2, 3, 4, 5]\n"
     ]
    }
   ],
   "source": [
    "x=list(map(int,input('enter the multiple value : ').split()))\n",
    "print(x)"
   ]
  },
  {
   "cell_type": "code",
   "execution_count": 14,
   "metadata": {},
   "outputs": [
    {
     "name": "stdout",
     "output_type": "stream",
     "text": [
      "enter the value of x and y: 1 2 3\n",
      "value of x: 1\n",
      "value of y: 2\n",
      "value of z: 3\n"
     ]
    }
   ],
   "source": [
    "#taking multiple value through list comprehension\n",
    "x,y,z=[int(x) for x in input('enter the value of x and y: ').split()]\n",
    "print(f'value of x: {x}\\nvalue of y: {y}\\nvalue of z: {z}')"
   ]
  },
  {
   "cell_type": "code",
   "execution_count": 15,
   "metadata": {},
   "outputs": [
    {
     "name": "stdout",
     "output_type": "stream",
     "text": [
      "enter the value: 1 2 3 4 5 6 7 8 9\n",
      "[1, 2, 3, 4, 5, 6, 7, 8, 9]\n"
     ]
    }
   ],
   "source": [
    "x=[int(i) for i in input('enter the value: ').split()]\n",
    "print(x)"
   ]
  },
  {
   "cell_type": "code",
   "execution_count": 11,
   "metadata": {},
   "outputs": [
    {
     "name": "stdout",
     "output_type": "stream",
     "text": [
      "Enter multiple value: 1 2 3 \n",
      "Number of list is:  [1, 2, 3]\n"
     ]
    }
   ],
   "source": [
    "x = [int(x) for x in input(\"Enter multiple value: \").split()]\n",
    "print(\"Number of list is: \", x) "
   ]
  },
  {
   "cell_type": "code",
   "execution_count": 2,
   "metadata": {},
   "outputs": [
    {
     "name": "stdout",
     "output_type": "stream",
     "text": [
      "enter the value : 1 2 3 4 \n",
      "[1, 2, 3, 4]\n"
     ]
    }
   ],
   "source": [
    "x=[int(i) for i in input(\"enter the value : \").split()]\n",
    "print(x)"
   ]
  },
  {
   "cell_type": "code",
   "execution_count": 4,
   "metadata": {},
   "outputs": [
    {
     "name": "stdout",
     "output_type": "stream",
     "text": [
      "enter the value : 1 2 34\n",
      "[1, 2, 34]\n"
     ]
    }
   ],
   "source": [
    "x=list(map(int,input('enter the value : ').split()))\n",
    "print(x)"
   ]
  },
  {
   "cell_type": "code",
   "execution_count": 7,
   "metadata": {},
   "outputs": [
    {
     "name": "stdout",
     "output_type": "stream",
     "text": [
      "enter the string: hello i am shreyassh tyagi\n",
      "HELLO I AM SHREYASSH TYAGI\n",
      "enter the string: my nick name sunny tyagi\n",
      "MY NICK NAME SUNNY TYAGI\n"
     ]
    }
   ],
   "source": [
    "#passing the reference of one function to another variable\n",
    "def function(a):\n",
    "    b=input('enter the string: ')\n",
    "    return b.upper()\n",
    "print(function('function call through original function'))\n",
    "variable=function #this is not a function call, this the assignment of function into another vaiable\n",
    "print(variable('calling the function through variable'))"
   ]
  },
  {
   "cell_type": "code",
   "execution_count": 14,
   "metadata": {},
   "outputs": [
    {
     "name": "stdout",
     "output_type": "stream",
     "text": [
      "enter the string: hello my name is shreyansh tyagi\n",
      "HELLO MY NAME IS SHREYANSH TYAGI\n",
      "enter the string: my nick name is shrey and sunny tygai\n",
      "my nick name is shrey and sunny tygai\n"
     ]
    }
   ],
   "source": [
    "#passing the function as argument \n",
    "def func2(text2):\n",
    "    return text2.upper()\n",
    "def func3(text3):\n",
    "    return text3.lower()\n",
    "def func1(text1):\n",
    "    a=text1(input('enter the string: '))\n",
    "    print(a)\n",
    "func1(func2)\n",
    "func1(func3)"
   ]
  },
  {
   "cell_type": "code",
   "execution_count": 1,
   "metadata": {},
   "outputs": [
    {
     "name": "stdout",
     "output_type": "stream",
     "text": [
      "num is zero\n"
     ]
    }
   ],
   "source": [
    "def func1(num):\n",
    "    if num==0:\n",
    "        print('num is zero')\n",
    "    if num==1:\n",
    "        print('num is one')\n",
    "func1(0)        \n",
    "        "
   ]
  },
  {
   "cell_type": "code",
   "execution_count": 9,
   "metadata": {},
   "outputs": [
    {
     "name": "stdout",
     "output_type": "stream",
     "text": [
      "enter the number2\n",
      "hello this is function\n"
     ]
    }
   ],
   "source": [
    "def func1(num):\n",
    "    if int(num)>0:\n",
    "        print('hello this is function')\n",
    "    else:\n",
    "        print('number is zero or less than zero')\n",
    "fun_var=func1 #passing the reference of func1 to fun_var\n",
    "del func1\n",
    "fun_var(input('enter the number'))\n"
   ]
  },
  {
   "cell_type": "code",
   "execution_count": 12,
   "metadata": {},
   "outputs": [
    {
     "ename": "TypeError",
     "evalue": "int() argument must be a string, a bytes-like object or a number, not 'function'",
     "output_type": "error",
     "traceback": [
      "\u001b[0;31m---------------------------------------------------------------------------\u001b[0m",
      "\u001b[0;31mTypeError\u001b[0m                                 Traceback (most recent call last)",
      "\u001b[0;32m<ipython-input-12-1084237deb55>\u001b[0m in \u001b[0;36m<module>\u001b[0;34m\u001b[0m\n\u001b[1;32m      6\u001b[0m     \u001b[0;32melse\u001b[0m\u001b[0;34m:\u001b[0m\u001b[0;34m\u001b[0m\u001b[0;34m\u001b[0m\u001b[0m\n\u001b[1;32m      7\u001b[0m         \u001b[0mprint\u001b[0m\u001b[0;34m(\u001b[0m\u001b[0;34m'number is less or equal to zero'\u001b[0m\u001b[0;34m)\u001b[0m\u001b[0;34m\u001b[0m\u001b[0;34m\u001b[0m\u001b[0m\n\u001b[0;32m----> 8\u001b[0;31m \u001b[0mfunc1\u001b[0m\u001b[0;34m(\u001b[0m\u001b[0mfunc2\u001b[0m\u001b[0;34m)\u001b[0m\u001b[0;34m\u001b[0m\u001b[0;34m\u001b[0m\u001b[0m\n\u001b[0m",
      "\u001b[0;32m<ipython-input-12-1084237deb55>\u001b[0m in \u001b[0;36mfunc1\u001b[0;34m(num)\u001b[0m\n\u001b[1;32m      2\u001b[0m     \u001b[0;32mreturn\u001b[0m \u001b[0ma\u001b[0m\u001b[0;34m(\u001b[0m\u001b[0minput\u001b[0m\u001b[0;34m(\u001b[0m\u001b[0;34m'enter the number: '\u001b[0m\u001b[0;34m)\u001b[0m\u001b[0;34m)\u001b[0m\u001b[0;34m\u001b[0m\u001b[0;34m\u001b[0m\u001b[0m\n\u001b[1;32m      3\u001b[0m \u001b[0;32mdef\u001b[0m \u001b[0mfunc1\u001b[0m\u001b[0;34m(\u001b[0m\u001b[0mnum\u001b[0m\u001b[0;34m)\u001b[0m\u001b[0;34m:\u001b[0m\u001b[0;34m\u001b[0m\u001b[0;34m\u001b[0m\u001b[0m\n\u001b[0;32m----> 4\u001b[0;31m     \u001b[0;32mif\u001b[0m \u001b[0mint\u001b[0m\u001b[0;34m(\u001b[0m\u001b[0mnum\u001b[0m\u001b[0;34m)\u001b[0m\u001b[0;34m>\u001b[0m\u001b[0;36m0\u001b[0m\u001b[0;34m:\u001b[0m\u001b[0;34m\u001b[0m\u001b[0;34m\u001b[0m\u001b[0m\n\u001b[0m\u001b[1;32m      5\u001b[0m         \u001b[0mprint\u001b[0m\u001b[0;34m(\u001b[0m\u001b[0;34m'number is greater than zero'\u001b[0m\u001b[0;34m)\u001b[0m\u001b[0;34m\u001b[0m\u001b[0;34m\u001b[0m\u001b[0m\n\u001b[1;32m      6\u001b[0m     \u001b[0;32melse\u001b[0m\u001b[0;34m:\u001b[0m\u001b[0;34m\u001b[0m\u001b[0;34m\u001b[0m\u001b[0m\n",
      "\u001b[0;31mTypeError\u001b[0m: int() argument must be a string, a bytes-like object or a number, not 'function'"
     ]
    }
   ],
   "source": [
    "def func2(num):\n",
    "    return a(input('enter the number: '))\n",
    "def func1(num):\n",
    "    if int(num)>0:\n",
    "        print('number is greater than zero')\n",
    "    else:\n",
    "        print('number is less or equal to zero')\n",
    "func1(func2)\n"
   ]
  },
  {
   "cell_type": "code",
   "execution_count": null,
   "metadata": {},
   "outputs": [],
   "source": []
  }
 ],
 "metadata": {
  "kernelspec": {
   "display_name": "Python 3",
   "language": "python",
   "name": "python3"
  },
  "language_info": {
   "codemirror_mode": {
    "name": "ipython",
    "version": 3
   },
   "file_extension": ".py",
   "mimetype": "text/x-python",
   "name": "python",
   "nbconvert_exporter": "python",
   "pygments_lexer": "ipython3",
   "version": "3.7.10"
  }
 },
 "nbformat": 4,
 "nbformat_minor": 4
}
