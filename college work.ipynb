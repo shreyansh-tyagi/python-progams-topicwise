{
 "cells": [
  {
   "cell_type": "markdown",
   "metadata": {},
   "source": [
    "# water log problem\n"
   ]
  },
  {
   "cell_type": "code",
   "execution_count": null,
   "metadata": {},
   "outputs": [
    {
     "name": "stdout",
     "output_type": "stream",
     "text": [
      "water jug problem\n",
      "enter x:0\n",
      "enter y:0\n",
      "Enter the rule no. : 2\n",
      "x=  0\n",
      "y=  3\n",
      "Enter the rule no. : 9\n",
      "x=  3\n",
      "y=  0\n",
      "Enter the rule no. : 6\n",
      "x=  3\n",
      "y=  0\n",
      "Enter the rule no. : 7\n",
      "x=  3\n",
      "y=  0\n",
      "Enter the rule no. : 5\n",
      "x=  0\n",
      "y=  0\n",
      "Enter the rule no. : 9\n",
      "x=  0\n",
      "y=  0\n"
     ]
    }
   ],
   "source": [
    "print(\"water jug problem\")\n",
    "x=int(input(\"enter x:\"))\n",
    "y=int(input(\"enter y:\"))\n",
    "while True:\n",
    "  rno = int(input(\"Enter the rule no. : \"))\n",
    "  if rno ==1:\n",
    "    if x<4:\n",
    "      x=4\n",
    "  if rno ==2:\n",
    "    if y<3:\n",
    "      y=3\n",
    "  if rno ==5:\n",
    "    if x>0:\n",
    "      x=0\n",
    "  if rno ==6:\n",
    "    if y>0:\n",
    "      y=0\n",
    "  if rno ==7:\n",
    "    if x+y>=4 and y>0:\n",
    "      x,y=4,y-(4-x)\n",
    "  if rno ==8:\n",
    "    if x+y>=3 and x>0:\n",
    "      x,y=x-(3-y),3\n",
    "  if rno ==9:\n",
    "    if x+y<=4 and y>0:\n",
    "      x,y=x+y,0\n",
    "  if rno ==10:\n",
    "    if x+y<=3 and x>0:\n",
    "      x,y=0,x+y\n",
    "  print(\"x= \",x)\n",
    "  print(\"y= \",y)\n",
    "  if(x==2):\n",
    "    print(\"result achieved\")\n",
    "    break"
   ]
  },
  {
   "cell_type": "code",
   "execution_count": null,
   "metadata": {},
   "outputs": [],
   "source": []
  }
 ],
 "metadata": {
  "kernelspec": {
   "display_name": "Python 3",
   "language": "python",
   "name": "python3"
  },
  "language_info": {
   "codemirror_mode": {
    "name": "ipython",
    "version": 3
   },
   "file_extension": ".py",
   "mimetype": "text/x-python",
   "name": "python",
   "nbconvert_exporter": "python",
   "pygments_lexer": "ipython3",
   "version": "3.8.10"
  }
 },
 "nbformat": 4,
 "nbformat_minor": 4
}
