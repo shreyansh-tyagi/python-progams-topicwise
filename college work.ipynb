{
 "cells": [
  {
   "cell_type": "markdown",
   "metadata": {},
   "source": [
    "# water log problem\n"
   ]
  },
  {
   "cell_type": "code",
   "execution_count": 1,
   "metadata": {},
   "outputs": [
    {
     "name": "stdout",
     "output_type": "stream",
     "text": [
      "water jug problem\n",
      "enter x:0\n",
      "enter y:0\n",
      "Enter the rule no. : 2\n",
      "x=  0\n",
      "y=  3\n",
      "Enter the rule no. : 9\n",
      "x=  3\n",
      "y=  0\n",
      "Enter the rule no. : 6\n",
      "x=  3\n",
      "y=  0\n",
      "Enter the rule no. : 7\n",
      "x=  3\n",
      "y=  0\n",
      "Enter the rule no. : 5\n",
      "x=  0\n",
      "y=  0\n",
      "Enter the rule no. : 9\n",
      "x=  0\n",
      "y=  0\n",
      "Enter the rule no. : 0\n",
      "x=  0\n",
      "y=  0\n",
      "Enter the rule no. : 100\n",
      "x=  0\n",
      "y=  0\n",
      "Enter the rule no. : -1\n",
      "x=  0\n",
      "y=  0\n",
      "Enter the rule no. : 9\n",
      "x=  0\n",
      "y=  0\n",
      "Enter the rule no. : 5\n",
      "x=  0\n",
      "y=  0\n",
      "Enter the rule no. : 3\n",
      "x=  0\n",
      "y=  0\n",
      "Enter the rule no. : 2\n",
      "x=  0\n",
      "y=  3\n",
      "Enter the rule no. : 1\n",
      "x=  4\n",
      "y=  3\n",
      "Enter the rule no. : exit\n"
     ]
    },
    {
     "ename": "ValueError",
     "evalue": "invalid literal for int() with base 10: 'exit'",
     "output_type": "error",
     "traceback": [
      "\u001b[0;31m---------------------------------------------------------------------------\u001b[0m",
      "\u001b[0;31mValueError\u001b[0m                                Traceback (most recent call last)",
      "\u001b[0;32m<ipython-input-1-28ec3641cdae>\u001b[0m in \u001b[0;36m<module>\u001b[0;34m\u001b[0m\n\u001b[1;32m      3\u001b[0m \u001b[0my\u001b[0m\u001b[0;34m=\u001b[0m\u001b[0mint\u001b[0m\u001b[0;34m(\u001b[0m\u001b[0minput\u001b[0m\u001b[0;34m(\u001b[0m\u001b[0;34m\"enter y:\"\u001b[0m\u001b[0;34m)\u001b[0m\u001b[0;34m)\u001b[0m\u001b[0;34m\u001b[0m\u001b[0;34m\u001b[0m\u001b[0m\n\u001b[1;32m      4\u001b[0m \u001b[0;32mwhile\u001b[0m \u001b[0;32mTrue\u001b[0m\u001b[0;34m:\u001b[0m\u001b[0;34m\u001b[0m\u001b[0;34m\u001b[0m\u001b[0m\n\u001b[0;32m----> 5\u001b[0;31m   \u001b[0mrno\u001b[0m \u001b[0;34m=\u001b[0m \u001b[0mint\u001b[0m\u001b[0;34m(\u001b[0m\u001b[0minput\u001b[0m\u001b[0;34m(\u001b[0m\u001b[0;34m\"Enter the rule no. : \"\u001b[0m\u001b[0;34m)\u001b[0m\u001b[0;34m)\u001b[0m\u001b[0;34m\u001b[0m\u001b[0;34m\u001b[0m\u001b[0m\n\u001b[0m\u001b[1;32m      6\u001b[0m   \u001b[0;32mif\u001b[0m \u001b[0mrno\u001b[0m \u001b[0;34m==\u001b[0m\u001b[0;36m1\u001b[0m\u001b[0;34m:\u001b[0m\u001b[0;34m\u001b[0m\u001b[0;34m\u001b[0m\u001b[0m\n\u001b[1;32m      7\u001b[0m     \u001b[0;32mif\u001b[0m \u001b[0mx\u001b[0m\u001b[0;34m<\u001b[0m\u001b[0;36m4\u001b[0m\u001b[0;34m:\u001b[0m\u001b[0;34m\u001b[0m\u001b[0;34m\u001b[0m\u001b[0m\n",
      "\u001b[0;31mValueError\u001b[0m: invalid literal for int() with base 10: 'exit'"
     ]
    }
   ],
   "source": [
    "print(\"water jug problem\")\n",
    "x=int(input(\"enter x:\"))\n",
    "y=int(input(\"enter y:\"))\n",
    "while True:\n",
    "  rno = int(input(\"Enter the rule no. : \"))\n",
    "  if rno ==1:\n",
    "    if x<4:\n",
    "      x=4\n",
    "  if rno ==2:\n",
    "    if y<3:\n",
    "      y=3\n",
    "  if rno ==5:\n",
    "    if x>0:\n",
    "      x=0\n",
    "  if rno ==6:\n",
    "    if y>0:\n",
    "      y=0\n",
    "  if rno ==7:\n",
    "    if x+y>=4 and y>0:\n",
    "      x,y=4,y-(4-x)\n",
    "  if rno ==8:\n",
    "    if x+y>=3 and x>0:\n",
    "      x,y=x-(3-y),3\n",
    "  if rno ==9:\n",
    "    if x+y<=4 and y>0:\n",
    "      x,y=x+y,0\n",
    "  if rno ==10:\n",
    "    if x+y<=3 and x>0:\n",
    "      x,y=0,x+y\n",
    "  print(\"x= \",x)\n",
    "  print(\"y= \",y)\n",
    "  if(x==2):\n",
    "    print(\"result achieved\")\n",
    "    break"
   ]
  },
  {
   "cell_type": "code",
   "execution_count": null,
   "metadata": {},
   "outputs": [],
   "source": []
  }
 ],
 "metadata": {
  "kernelspec": {
   "display_name": "Python 3",
   "language": "python",
   "name": "python3"
  }
 },
 "nbformat": 4,
 "nbformat_minor": 4
}
