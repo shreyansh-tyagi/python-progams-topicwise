{
 "cells": [
  {
   "cell_type": "markdown",
   "id": "9de7d9a3",
   "metadata": {},
   "source": [
    "# enumeration in python"
   ]
  },
  {
   "cell_type": "code",
   "execution_count": 7,
   "id": "613b23dd",
   "metadata": {},
   "outputs": [
    {
     "name": "stdout",
     "output_type": "stream",
     "text": [
      "<enumerate object at 0x7f66385d3e10>\n",
      "[(0, 'shrey'), (1, 'shreyansh'), (2, 'tyagi'), (3, 'sunny')]\n",
      "[(5, 'shrey'), (6, 'shreyansh'), (7, 'tyagi'), (8, 'sunny')]\n",
      "[(0, 'shreyansh')]\n",
      "[(3, 'shreyansh')]\n",
      "[(0, 's'), (1, 'h'), (2, 'r'), (3, 'e'), (4, 'y'), (5, 'a'), (6, 'n'), (7, 's'), (8, 'h')]\n",
      "[(4, 's'), (5, 'h'), (6, 'r'), (7, 'e'), (8, 'y'), (9, 'a'), (10, 'n'), (11, 's'), (12, 'h')]\n"
     ]
    }
   ],
   "source": [
    "a=['shrey','shreyansh','tyagi','sunny']\n",
    "b=['shreyansh']\n",
    "c='shreyansh'\n",
    "obj=enumerate(a)\n",
    "print(obj) #this will return the type of a variable which is of enumeration type \n",
    "# to print the result we must pass this into a list \n",
    "print(list(enumerate(a)))\n",
    "# we can also give the start value that from where we want to start the enumerated value \n",
    "print(list(enumerate(a,5)))\n",
    "print(list(enumerate(b)))\n",
    "print(list(enumerate(b,3)))\n",
    "print(list(enumerate(c)))\n",
    "print(list(enumerate(c,4)))"
   ]
  },
  {
   "cell_type": "markdown",
   "id": "02fcd638",
   "metadata": {},
   "source": [
    "### using enumeration in loops: "
   ]
  },
  {
   "cell_type": "code",
   "execution_count": 33,
   "id": "968bc47f",
   "metadata": {},
   "outputs": [
    {
     "name": "stdout",
     "output_type": "stream",
     "text": [
      "enter the size of list: 5\n",
      "enter the element into the list: 1 2 3 4 5\n",
      "(5, 1)\n",
      "(6, 2)\n",
      "(7, 3)\n",
      "(8, 4)\n",
      "(9, 5)\n",
      "20 1\n",
      "21 2\n",
      "22 3\n",
      "23 4\n",
      "24 5\n",
      "0 1\n",
      "1 2\n",
      "2 3\n",
      "3 4\n",
      "4 5\n"
     ]
    }
   ],
   "source": [
    "n=int(input('enter the size of list: '))\n",
    "a=list(map(int,input('enter the element into the list: ').split()))[:n]\n",
    "for i in enumerate(a,5):\n",
    "    print(i)\n",
    "for i,j in enumerate(a,20):\n",
    "    print(i,j)\n",
    "for i,j in enumerate(a):\n",
    "    print(i,j)"
   ]
  },
  {
   "cell_type": "markdown",
   "id": "23e47b06",
   "metadata": {},
   "source": [
    "# zip function in python"
   ]
  },
  {
   "cell_type": "code",
   "execution_count": 32,
   "id": "a9175352",
   "metadata": {},
   "outputs": [
    {
     "name": "stdout",
     "output_type": "stream",
     "text": [
      "<zip object at 0x7f6638546960>\n",
      "<zip object at 0x7f6638546960>\n",
      "{('shrey', 22, 80, 'ghaziabad'), ('sunny', 20, 78, 'meerut'), ('shreyansh', 23, 89, 'delhi')}\n",
      "[]\n"
     ]
    }
   ],
   "source": [
    "a=['shrey','shreyansh','sunny']\n",
    "age=[22,23,20]\n",
    "marks=[80,89,78]\n",
    "address=['ghaziabad','delhi','meerut']\n",
    "zipping=zip(a,age,marks,address)\n",
    "print(zipping) #it will simply create a object of zip type \n",
    "# it will zip the value only in one container at a time wheather it is of list type of set type\n",
    "print(str(zipping))\n",
    "print(set(zipping))\n",
    "print(list(zipping))\n"
   ]
  },
  {
   "cell_type": "markdown",
   "id": "50d904fa",
   "metadata": {},
   "source": [
    "### how to unzip the vlaues\n"
   ]
  },
  {
   "cell_type": "code",
   "execution_count": 39,
   "id": "457f224d",
   "metadata": {},
   "outputs": [
    {
     "name": "stdout",
     "output_type": "stream",
     "text": [
      "[('shrey', 22, 80, 'ghaziabad'), ('shreyansh', 23, 89, 'delhi'), ('sunny', 20, 78, 'meerut')]\n",
      "('shrey', 'shreyansh', 'sunny')\n",
      "(22, 23, 20)\n",
      "(80, 89, 78)\n",
      "('ghaziabad', 'delhi', 'meerut')\n"
     ]
    }
   ],
   "source": [
    "a=['shrey','shreyansh','sunny']\n",
    "age=[22,23,20]\n",
    "marks=[80,89,78]\n",
    "address=['ghaziabad','delhi','meerut']\n",
    "zipping=zip(a,age,marks,address)\n",
    "zipping=list(zipping)\n",
    "print(zipping)\n",
    "a1,age1,marks1,address1=zip(*zipping)\n",
    "print(a1)\n",
    "print(age1)\n",
    "print(marks1)\n",
    "print(address1)"
   ]
  },
  {
   "cell_type": "code",
   "execution_count": 52,
   "id": "a49871f7",
   "metadata": {},
   "outputs": [
    {
     "name": "stdout",
     "output_type": "stream",
     "text": [
      "student name: ['shrey', 'shreyansh', 'shreya', 'sunny']\n",
      "computer_marks: [78, 89, 80, 70]\n"
     ]
    },
    {
     "ename": "NameError",
     "evalue": "name 'maths' is not defined",
     "output_type": "error",
     "traceback": [
      "\u001b[0;31m---------------------------------------------------------------------------\u001b[0m",
      "\u001b[0;31mNameError\u001b[0m                                 Traceback (most recent call last)",
      "\u001b[0;32m<ipython-input-52-ce6bb1b6c93c>\u001b[0m in \u001b[0;36m<module>\u001b[0;34m\u001b[0m\n\u001b[1;32m      5\u001b[0m \u001b[0mprint\u001b[0m\u001b[0;34m(\u001b[0m\u001b[0;34mf'student name: {a}'\u001b[0m\u001b[0;34m)\u001b[0m\u001b[0;34m\u001b[0m\u001b[0;34m\u001b[0m\u001b[0m\n\u001b[1;32m      6\u001b[0m \u001b[0mprint\u001b[0m\u001b[0;34m(\u001b[0m\u001b[0;34mf'computer_marks: {computer_marks}'\u001b[0m\u001b[0;34m)\u001b[0m\u001b[0;34m\u001b[0m\u001b[0;34m\u001b[0m\u001b[0m\n\u001b[0;32m----> 7\u001b[0;31m \u001b[0mprint\u001b[0m\u001b[0;34m(\u001b[0m\u001b[0;34mf'math_marks: {maths.marks}'\u001b[0m\u001b[0;34m)\u001b[0m\u001b[0;34m\u001b[0m\u001b[0;34m\u001b[0m\u001b[0m\n\u001b[0m\u001b[1;32m      8\u001b[0m \u001b[0;32mfor\u001b[0m \u001b[0mi\u001b[0m\u001b[0;34m,\u001b[0m\u001b[0mj\u001b[0m \u001b[0;32min\u001b[0m \u001b[0menumerate\u001b[0m\u001b[0;34m(\u001b[0m\u001b[0mcomputer_marks\u001b[0m\u001b[0;34m)\u001b[0m\u001b[0;34m:\u001b[0m\u001b[0;34m\u001b[0m\u001b[0;34m\u001b[0m\u001b[0m\n\u001b[1;32m      9\u001b[0m     \u001b[0mtotal_marks\u001b[0m\u001b[0;34m.\u001b[0m\u001b[0mappend\u001b[0m\u001b[0;34m(\u001b[0m\u001b[0mmaths_marks\u001b[0m\u001b[0;34m[\u001b[0m\u001b[0mi\u001b[0m\u001b[0;34m]\u001b[0m\u001b[0;34m+\u001b[0m\u001b[0mj\u001b[0m\u001b[0;34m)\u001b[0m\u001b[0;34m\u001b[0m\u001b[0;34m\u001b[0m\u001b[0m\n",
      "\u001b[0;31mNameError\u001b[0m: name 'maths' is not defined"
     ]
    }
   ],
   "source": [
    "a=['shrey','shreyansh','shreya','sunny']\n",
    "computer_marks=[78,89,80,70]\n",
    "maths_marks=[67,78,89,90]\n",
    "total_marks=[]\n",
    "print(f'student name: {a}')\n",
    "print(f'computer_marks: {computer_marks}')\n",
    "print(f'math_marks: {maths.marks}')\n",
    "for i,j in enumerate(computer_marks):\n",
    "    total_marks.append(maths_marks[i]+j)\n",
    "print(total_marks) \n",
    "b=[]\n",
    "for i,j in enumerate(total_marks):\n",
    "    b.append(j//2)\n",
    "    print(j//2)\n",
    "zipping=zip(a,total_marks,b)\n",
    "zipping=list(zipping)\n",
    "print(zipping)"
   ]
  },
  {
   "cell_type": "code",
   "execution_count": null,
   "id": "6fa3a2a2",
   "metadata": {},
   "outputs": [],
   "source": []
  }
 ],
 "metadata": {
  "kernelspec": {
   "display_name": "Python 3",
   "language": "python",
   "name": "python3"
  },
  "language_info": {
   "codemirror_mode": {
    "name": "ipython",
    "version": 3
   },
   "file_extension": ".py",
   "mimetype": "text/x-python",
   "name": "python",
   "nbconvert_exporter": "python",
   "pygments_lexer": "ipython3",
   "version": "3.7.11"
  }
 },
 "nbformat": 4,
 "nbformat_minor": 5
}
