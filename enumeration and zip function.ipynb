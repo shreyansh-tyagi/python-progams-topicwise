{
 "cells": [
  {
   "cell_type": "markdown",
   "id": "8de0c68f",
   "metadata": {},
   "source": [
    "# enumeration in python"
   ]
  },
  {
   "cell_type": "code",
   "execution_count": 7,
   "id": "24008548",
   "metadata": {},
   "outputs": [
    {
     "name": "stdout",
     "output_type": "stream",
     "text": [
      "<enumerate object at 0x7f66385d3e10>\n",
      "[(0, 'shrey'), (1, 'shreyansh'), (2, 'tyagi'), (3, 'sunny')]\n",
      "[(5, 'shrey'), (6, 'shreyansh'), (7, 'tyagi'), (8, 'sunny')]\n",
      "[(0, 'shreyansh')]\n",
      "[(3, 'shreyansh')]\n",
      "[(0, 's'), (1, 'h'), (2, 'r'), (3, 'e'), (4, 'y'), (5, 'a'), (6, 'n'), (7, 's'), (8, 'h')]\n",
      "[(4, 's'), (5, 'h'), (6, 'r'), (7, 'e'), (8, 'y'), (9, 'a'), (10, 'n'), (11, 's'), (12, 'h')]\n"
     ]
    }
   ],
   "source": [
    "a=['shrey','shreyansh','tyagi','sunny']\n",
    "b=['shreyansh']\n",
    "c='shreyansh'\n",
    "obj=enumerate(a)\n",
    "print(obj) #this will return the type of a variable which is of enumeration type \n",
    "# to print the result we must pass this into a list \n",
    "print(list(enumerate(a)))\n",
    "# we can also give the start value that from where we want to start the enumerated value \n",
    "print(list(enumerate(a,5)))\n",
    "print(list(enumerate(b)))\n",
    "print(list(enumerate(b,3)))\n",
    "print(list(enumerate(c)))\n",
    "print(list(enumerate(c,4)))"
   ]
  },
  {
   "cell_type": "markdown",
   "id": "fe3d1095",
   "metadata": {},
   "source": [
    "### using enumeration in lo"
   ]
  }
 ],
 "metadata": {
  "kernelspec": {
   "display_name": "Python 3",
   "language": "python",
   "name": "python3"
  },
  "language_info": {
   "codemirror_mode": {
    "name": "ipython",
    "version": 3
   },
   "file_extension": ".py",
   "mimetype": "text/x-python",
   "name": "python",
   "nbconvert_exporter": "python",
   "pygments_lexer": "ipython3",
   "version": "3.7.11"
  }
 },
 "nbformat": 4,
 "nbformat_minor": 5
}
