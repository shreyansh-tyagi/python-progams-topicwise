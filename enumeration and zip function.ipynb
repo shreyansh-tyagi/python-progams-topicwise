{
 "cells": [
  {
   "cell_type": "markdown",
   "id": "47d3a2b7",
   "metadata": {},
   "source": [
    "# enumeration in python"
   ]
  },
  {
   "cell_type": "code",
   "execution_count": 2,
   "id": "89a13438",
   "metadata": {},
   "outputs": [
    {
     "name": "stdout",
     "output_type": "stream",
     "text": [
      "<enumerate object at 0x7f66385c5cd0>\n",
      "[(0, 'shrey'), (1, 'shreyansh'), (2, 'tyagi'), (3, 'sunny')]\n"
     ]
    }
   ],
   "source": [
    "a=['shrey','shreyansh','tyagi','sunny']\n",
    "b=['shreyansh']\n",
    "obj=enumerate(a)\n",
    "print(obj) #this will return the type of a variable which is of enumeration type \n",
    "# to print the result we must pass this into a list \n",
    "print(list(enumerate(a)))\n",
    "# we can also give the start "
   ]
  },
  {
   "cell_type": "code",
   "execution_count": null,
   "id": "bba9cb76",
   "metadata": {},
   "outputs": [],
   "source": []
  }
 ],
 "metadata": {
  "kernelspec": {
   "display_name": "Python 3",
   "language": "python",
   "name": "python3"
  },
  "language_info": {
   "codemirror_mode": {
    "name": "ipython",
    "version": 3
   },
   "file_extension": ".py",
   "mimetype": "text/x-python",
   "name": "python",
   "nbconvert_exporter": "python",
   "pygments_lexer": "ipython3",
   "version": "3.7.11"
  }
 },
 "nbformat": 4,
 "nbformat_minor": 5
}
