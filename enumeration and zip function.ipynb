{
 "cells": [
  {
   "cell_type": "markdown",
   "id": "6a7f1259",
   "metadata": {},
   "source": [
    "# enumeration in python"
   ]
  },
  {
   "cell_type": "code",
   "execution_count": 1,
   "id": "cd581660",
   "metadata": {},
   "outputs": [
    {
     "name": "stdout",
     "output_type": "stream",
     "text": [
      "<enumerate object at 0x7f66385c5320>\n"
     ]
    }
   ],
   "source": [
    "a=['shrey','shreyansh','tyagi','sunny']\n",
    "b=['shreyansh']\n",
    "obj=enumerate(a)\n",
    "print(obj)"
   ]
  },
  {
   "cell_type": "code",
   "execution_count": null,
   "id": "fb855bbf",
   "metadata": {},
   "outputs": [],
   "source": []
  }
 ],
 "metadata": {
  "kernelspec": {
   "display_name": "Python 3",
   "language": "python",
   "name": "python3"
  },
  "language_info": {
   "codemirror_mode": {
    "name": "ipython",
    "version": 3
   },
   "file_extension": ".py",
   "mimetype": "text/x-python",
   "name": "python",
   "nbconvert_exporter": "python",
   "pygments_lexer": "ipython3",
   "version": "3.7.11"
  }
 },
 "nbformat": 4,
 "nbformat_minor": 5
}
