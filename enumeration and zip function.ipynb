{
 "cells": [
  {
   "cell_type": "markdown",
   "id": "ab5a30c0",
   "metadata": {},
   "source": [
    "# enumeration in python"
   ]
  },
  {
   "cell_type": "code",
   "execution_count": 7,
   "id": "412f741c",
   "metadata": {},
   "outputs": [
    {
     "name": "stdout",
     "output_type": "stream",
     "text": [
      "<enumerate object at 0x7f66385d3e10>\n",
      "[(0, 'shrey'), (1, 'shreyansh'), (2, 'tyagi'), (3, 'sunny')]\n",
      "[(5, 'shrey'), (6, 'shreyansh'), (7, 'tyagi'), (8, 'sunny')]\n",
      "[(0, 'shreyansh')]\n",
      "[(3, 'shreyansh')]\n",
      "[(0, 's'), (1, 'h'), (2, 'r'), (3, 'e'), (4, 'y'), (5, 'a'), (6, 'n'), (7, 's'), (8, 'h')]\n",
      "[(4, 's'), (5, 'h'), (6, 'r'), (7, 'e'), (8, 'y'), (9, 'a'), (10, 'n'), (11, 's'), (12, 'h')]\n"
     ]
    }
   ],
   "source": [
    "a=['shrey','shreyansh','tyagi','sunny']\n",
    "b=['shreyansh']\n",
    "c='shreyansh'\n",
    "obj=enumerate(a)\n",
    "print(obj) #this will return the type of a variable which is of enumeration type \n",
    "# to print the result we must pass this into a list \n",
    "print(list(enumerate(a)))\n",
    "# we can also give the start value that from where we want to start the enumerated value \n",
    "print(list(enumerate(a,5)))\n",
    "print(list(enumerate(b)))\n",
    "print(list(enumerate(b,3)))\n",
    "print(list(enumerate(c)))\n",
    "print(list(enumerate(c,4)))"
   ]
  },
  {
   "cell_type": "markdown",
   "id": "48e6e661",
   "metadata": {},
   "source": [
    "### using enumeration in loops: "
   ]
  },
  {
   "cell_type": "code",
   "execution_count": 33,
   "id": "498305d1",
   "metadata": {},
   "outputs": [
    {
     "name": "stdout",
     "output_type": "stream",
     "text": [
      "enter the size of list: 5\n",
      "enter the element into the list: 1 2 3 4 5\n",
      "(5, 1)\n",
      "(6, 2)\n",
      "(7, 3)\n",
      "(8, 4)\n",
      "(9, 5)\n",
      "20 1\n",
      "21 2\n",
      "22 3\n",
      "23 4\n",
      "24 5\n",
      "0 1\n",
      "1 2\n",
      "2 3\n",
      "3 4\n",
      "4 5\n"
     ]
    }
   ],
   "source": [
    "n=int(input('enter the size of list: '))\n",
    "a=list(map(int,input('enter the element into the list: ').split()))[:n]\n",
    "for i in enumerate(a,5):\n",
    "    print(i)\n",
    "for i,j in enumerate(a,20):\n",
    "    print(i,j)\n",
    "for i,j in enumerate(a):\n",
    "    print(i,j)"
   ]
  },
  {
   "cell_type": "markdown",
   "id": "6e13bba1",
   "metadata": {},
   "source": [
    "# zip function in python"
   ]
  },
  {
   "cell_type": "code",
   "execution_count": 32,
   "id": "edd6a988",
   "metadata": {},
   "outputs": [
    {
     "name": "stdout",
     "output_type": "stream",
     "text": [
      "<zip object at 0x7f6638546960>\n",
      "<zip object at 0x7f6638546960>\n",
      "{('shrey', 22, 80, 'ghaziabad'), ('sunny', 20, 78, 'meerut'), ('shreyansh', 23, 89, 'delhi')}\n",
      "[]\n"
     ]
    }
   ],
   "source": [
    "a=['shrey','shreyansh','sunny']\n",
    "age=[22,23,20]\n",
    "marks=[80,89,78]\n",
    "address=['ghaziabad','delhi','meerut']\n",
    "zipping=zip(a,age,marks,address)\n",
    "print(zipping) #it will simply create a object of zip type \n",
    "# it will zip the value only in one container at a time wheather it is of list type of set type\n",
    "print(str(zipping))\n",
    "print(set(zipping))\n",
    "print(list(zipping))\n"
   ]
  },
  {
   "cell_type": "markdown",
   "id": "ad7ee31b",
   "metadata": {},
   "source": [
    "### how to unzip the vlaues\n"
   ]
  },
  {
   "cell_type": "code",
   "execution_count": 39,
   "id": "e7153e8f",
   "metadata": {},
   "outputs": [
    {
     "name": "stdout",
     "output_type": "stream",
     "text": [
      "[('shrey', 22, 80, 'ghaziabad'), ('shreyansh', 23, 89, 'delhi'), ('sunny', 20, 78, 'meerut')]\n",
      "('shrey', 'shreyansh', 'sunny')\n",
      "(22, 23, 20)\n",
      "(80, 89, 78)\n",
      "('ghaziabad', 'delhi', 'meerut')\n"
     ]
    }
   ],
   "source": [
    "a=['shrey','shreyansh','sunny']\n",
    "age=[22,23,20]\n",
    "marks=[80,89,78]\n",
    "address=['ghaziabad','delhi','meerut']\n",
    "zipping=zip(a,age,marks,address)\n",
    "zipping=list(zipping)\n",
    "print(zipping)\n",
    "a1,age1,marks1,address1=zip(*zipping)\n",
    "print(a1)\n",
    "print(age1)\n",
    "print(marks1)\n",
    "print(address1)"
   ]
  },
  {
   "cell_type": "code",
   "execution_count": null,
   "id": "1241ff64",
   "metadata": {},
   "outputs": [],
   "source": []
  }
 ],
 "metadata": {
  "kernelspec": {
   "display_name": "Python 3",
   "language": "python",
   "name": "python3"
  },
  "language_info": {
   "codemirror_mode": {
    "name": "ipython",
    "version": 3
   },
   "file_extension": ".py",
   "mimetype": "text/x-python",
   "name": "python",
   "nbconvert_exporter": "python",
   "pygments_lexer": "ipython3",
   "version": "3.7.11"
  }
 },
 "nbformat": 4,
 "nbformat_minor": 5
}
