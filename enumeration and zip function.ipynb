{
 "cells": [
  {
   "cell_type": "markdown",
   "id": "1bd43e5b",
   "metadata": {},
   "source": [
    "# enumeration in python"
   ]
  },
  {
   "cell_type": "code",
   "execution_count": 5,
   "id": "31b742bd",
   "metadata": {},
   "outputs": [
    {
     "name": "stdout",
     "output_type": "stream",
     "text": [
      "<enumerate object at 0x7f66385bc320>\n",
      "[(0, 'shrey'), (1, 'shreyansh'), (2, 'tyagi'), (3, 'sunny')]\n",
      "[(5, 'shrey'), (6, 'shreyansh'), (7, 'tyagi'), (8, 'sunny')]\n",
      "[(0, 'shreyansh')]\n",
      "[(3, 'shreyansh')]\n"
     ]
    }
   ],
   "source": [
    "a=['shrey','shreyansh','tyagi','sunny']\n",
    "b=['shreyansh']\n",
    "obj=enumerate(a)\n",
    "print(obj) #this will return the type of a variable which is of enumeration type \n",
    "# to print the result we must pass this into a list \n",
    "print(list(enumerate(a)))\n",
    "# we can also give the start value that from where we want to start the enumerated value \n",
    "print(list(enumerate(a,5)))\n",
    "print(list(enumerate(b)))\n",
    "print(list(enumerate(b,3)))"
   ]
  },
  {
   "cell_type": "code",
   "execution_count": null,
   "id": "618f47b5",
   "metadata": {},
   "outputs": [],
   "source": []
  }
 ],
 "metadata": {
  "kernelspec": {
   "display_name": "Python 3",
   "language": "python",
   "name": "python3"
  },
  "language_info": {
   "codemirror_mode": {
    "name": "ipython",
    "version": 3
   },
   "file_extension": ".py",
   "mimetype": "text/x-python",
   "name": "python",
   "nbconvert_exporter": "python",
   "pygments_lexer": "ipython3",
   "version": "3.7.11"
  }
 },
 "nbformat": 4,
 "nbformat_minor": 5
}
