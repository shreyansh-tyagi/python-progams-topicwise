{
 "cells": [
  {
   "cell_type": "code",
   "execution_count": 3,
   "id": "eaaebc21",
   "metadata": {},
   "outputs": [
    {
     "name": "stdout",
     "output_type": "stream",
     "text": [
      "enter the value of size of pattern: 5\n",
      "\n",
      "* \n",
      "* * \n",
      "* * * \n",
      "* * * * \n"
     ]
    }
   ],
   "source": [
    "n=int(input('enter the value of size of pattern: '))\n",
    "for i in range(n):\n",
    "    for j in range(i):\n",
    "        print('*', end=' ')\n",
    "    print()    "
   ]
  },
  {
   "cell_type": "code",
   "execution_count": 11,
   "id": "350285f8",
   "metadata": {},
   "outputs": [
    {
     "name": "stdout",
     "output_type": "stream",
     "text": [
      "enter the value of n: 5\n",
      "        * \n",
      "      * * \n",
      "    * * * \n",
      "  * * * * \n",
      "* * * * * \n"
     ]
    }
   ],
   "source": [
    "n =int(input('enter the value of n: '))\n",
    "a=n\n",
    "for i in reversed(range(n)):\n",
    "    for j in range(i):\n",
    "        print(' ',end=' ')\n",
    "    for k in range(a-i):\n",
    "        print('*',end=' ')\n",
    "    print()        \n",
    "        "
   ]
  },
  {
   "cell_type": "code",
   "execution_count": 37,
   "id": "fd5d0025",
   "metadata": {},
   "outputs": [
    {
     "name": "stdout",
     "output_type": "stream",
     "text": [
      "enter the number: 121\n",
      "it is palindrome\n"
     ]
    }
   ],
   "source": [
    "n=int(input('enter the number: '))\n",
    "a=str(n)\n",
    "if str(n)==a[::-1]:\n",
    "    print('it is palindrome')\n",
    "else:\n",
    "    print('it is not palindrome')\n",
    "    "
   ]
  },
  {
   "cell_type": "code",
   "execution_count": 39,
   "id": "647fb4df",
   "metadata": {},
   "outputs": [
    {
     "name": "stdout",
     "output_type": "stream",
     "text": [
      "enter the number: 5\n",
      "* * * * * \n",
      "* * * * \n",
      "* * * \n",
      "* * \n",
      "* \n",
      "\n"
     ]
    }
   ],
   "source": [
    "n=int(input('enter the number: '))\n",
    "for i in reversed(range(n+1)):\n",
    "    for j in range(i):\n",
    "        print('*',end=' ')\n",
    "    print()    "
   ]
  },
  {
   "cell_type": "code",
   "execution_count": 43,
   "id": "3c44e037",
   "metadata": {},
   "outputs": [
    {
     "name": "stdout",
     "output_type": "stream",
     "text": [
      "enter the number: 5\n",
      "* * * * * \n",
      "  * * * * \n",
      "    * * * \n",
      "      * * \n",
      "        * \n",
      "          \n"
     ]
    }
   ],
   "source": [
    "n=int(input('enter the number: '))\n",
    "a=n\n",
    "for i in reversed(range(n+1)):\n",
    "    for j in range(a-i):\n",
    "        print(' ',end=' ')\n",
    "    for k in range(i):\n",
    "        print('*',end=' ')\n",
    "    print()    \n",
    "        \n",
    "        "
   ]
  },
  {
   "cell_type": "code",
   "execution_count": 52,
   "id": "0b2bd30a",
   "metadata": {},
   "outputs": [
    {
     "name": "stdout",
     "output_type": "stream",
     "text": [
      "enter the valueL 5\n",
      "* * * * * * * * * * \n",
      "* * * *   * * * * \n",
      "* * *     * * * \n",
      "* *       * * \n",
      "*         * \n",
      "          \n"
     ]
    }
   ],
   "source": [
    "n=int(input('enter the valueL '))\n",
    "a=n \n",
    "for i in reversed(range(n+1)):\n",
    "    for j in range(i):\n",
    "        print('*',end=' ') \n",
    "    for x in range(a-i):\n",
    "        print(' ',end=' ')\n",
    "    for l in range(i):\n",
    "        print('*',end=' ')\n",
    "    print()     \n",
    "\n",
    "\n",
    "\n",
    "      \n",
    "        \n",
    "    "
   ]
  },
  {
   "cell_type": "code",
   "execution_count": null,
   "id": "114be32f",
   "metadata": {},
   "outputs": [],
   "source": []
  }
 ],
 "metadata": {
  "kernelspec": {
   "display_name": "Python 3 (ipykernel)",
   "language": "python",
   "name": "python3"
  },
  "language_info": {
   "codemirror_mode": {
    "name": "ipython",
    "version": 3
   },
   "file_extension": ".py",
   "mimetype": "text/x-python",
   "name": "python",
   "nbconvert_exporter": "python",
   "pygments_lexer": "ipython3",
   "version": "3.7.11"
  }
 },
 "nbformat": 4,
 "nbformat_minor": 5
}
